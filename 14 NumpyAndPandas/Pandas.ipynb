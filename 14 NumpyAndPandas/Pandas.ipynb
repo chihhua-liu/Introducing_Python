{
 "cells": [
  {
   "cell_type": "code",
   "execution_count": 8,
   "id": "a3f431f6",
   "metadata": {},
   "outputs": [
    {
     "name": "stdout",
     "output_type": "stream",
     "text": [
      "1    1\n",
      "2    2\n",
      "3    3\n",
      "4    4\n",
      "5    5\n",
      "dtype: int64\n",
      "[1 2 3 4 5]\n",
      "Int64Index([1, 2, 3, 4, 5], dtype='int64')\n",
      "****************************************\n",
      "2\n",
      "3    3\n",
      "4    4\n",
      "5    5\n",
      "dtype: int64\n"
     ]
    }
   ],
   "source": [
    "# 1 pandas Series : pd.Series(資料[,index = 索引])\n",
    "import pandas as pd\n",
    "se = pd.Series([1,2,3,4,5],index =[1,2,3,4,5])\n",
    "print(se)\n",
    "print(se.values)\n",
    "print(se.index)\n",
    "print(\"*\"*40)\n",
    "\n",
    "print(se[2])\n",
    "print(se[2:5])"
   ]
  },
  {
   "cell_type": "code",
   "execution_count": 9,
   "id": "3e2ec78b",
   "metadata": {},
   "outputs": [
    {
     "name": "stdout",
     "output_type": "stream",
     "text": [
      "a    1\n",
      "b    2\n",
      "c    3\n",
      "d    4\n",
      "e    5\n",
      "dtype: int64\n",
      "2\n",
      "c    3\n",
      "d    4\n",
      "dtype: int64\n"
     ]
    }
   ],
   "source": [
    "import pandas as pd\n",
    "se = pd.Series([1,2,3,4,5], index=['a','b','c','d','e'])\n",
    "print(se)\n",
    "print(se['b'])\n",
    "print(se['c':'d'])"
   ]
  },
  {
   "cell_type": "code",
   "execution_count": 10,
   "id": "7434f651",
   "metadata": {},
   "outputs": [
    {
     "name": "stdout",
     "output_type": "stream",
     "text": [
      "Taipei       台北\n",
      "Taichung     台中\n",
      "Kaohsiung    高雄\n",
      "dtype: object\n",
      "['台北' '台中' '高雄']\n",
      "Index(['Taipei', 'Taichung', 'Kaohsiung'], dtype='object')\n",
      "台北\n",
      "Taichung     台中\n",
      "Kaohsiung    高雄\n",
      "dtype: object\n"
     ]
    }
   ],
   "source": [
    "# 字典\n",
    "import pandas as pd\n",
    "dict1 = {'Taipei': '台北', 'Taichung': '台中', 'Kaohsiung': '高雄'}\n",
    "se = pd.Series(dict1)\n",
    "print(se)           #顯示Series\n",
    "print(se.values)    #顯示值\n",
    "print(se.index)     #顯示索引\n",
    "print(se['Taipei']) #用索引取值\n",
    "print(se['Taichung':'Kaohsiung'])"
   ]
  },
  {
   "cell_type": "code",
   "execution_count": 11,
   "id": "f0f5623f",
   "metadata": {},
   "outputs": [
    {
     "name": "stdout",
     "output_type": "stream",
     "text": [
      "    0   1   2   3   4\n",
      "0  65  92  78  83  70\n",
      "1  90  72  76  93  56\n",
      "2  81  85  91  89  77\n",
      "3  79  53  47  94  80\n"
     ]
    }
   ],
   "source": [
    "# 2.pandas DataFrame : pd.DataFrame(資料[,index =索引, columns =欄位])\n",
    "import pandas as pd\n",
    "df = pd.DataFrame([[65,92,78,83,70], \n",
    "                   [90,72,76,93,56], \n",
    "                   [81,85,91,89,77], \n",
    "                   [79,53,47,94,80]])\n",
    "print(df)"
   ]
  },
  {
   "cell_type": "code",
   "execution_count": 12,
   "id": "dea9d95b",
   "metadata": {},
   "outputs": [
    {
     "name": "stdout",
     "output_type": "stream",
     "text": [
      "     國文  英文  數學  自然  社會\n",
      "王小明  65  92  78  83  70\n",
      "李小美  90  72  76  93  56\n",
      "陳大同  81  85  91  89  77\n",
      "林小玉  79  53  47  94  80\n"
     ]
    }
   ],
   "source": [
    "import pandas as pd\n",
    "df = pd.DataFrame([[65,92,78,83,70], \n",
    "                   [90,72,76,93,56], \n",
    "                   [81,85,91,89,77], \n",
    "                   [79,53,47,94,80]],\n",
    "                   index=['王小明','李小美','陳大同','林小玉'],\n",
    "                   columns=['國文','英文','數學','自然','社會'])\n",
    "print(df)"
   ]
  },
  {
   "cell_type": "code",
   "execution_count": 13,
   "id": "cf205827",
   "metadata": {},
   "outputs": [
    {
     "name": "stdout",
     "output_type": "stream",
     "text": [
      "    王小明  李小美  陳大同  林小玉\n",
      "國文   65   90   81   79\n",
      "英文   92   72   85   53\n",
      "數學   78   76   91   47\n",
      "社會   83   93   89   94\n",
      "自然   70   56   77   80\n"
     ]
    }
   ],
   "source": [
    "# 字典\n",
    "import pandas as pd\n",
    "scores = {'王小明':{'國文':65,'英文':92,'數學':78,'社會':83,'自然':70},\n",
    "          '李小美':{'國文':90,'英文':72,'數學':76,'社會':93,'自然':56},\n",
    "          '陳大同':{'國文':81,'英文':85,'數學':91,'社會':89,'自然':77},\n",
    "          '林小玉':{'國文':79,'英文':53,'數學':47,'社會':94,'自然':80}}\n",
    "df = pd.DataFrame(scores)\n",
    "print(df) "
   ]
  },
  {
   "cell_type": "code",
   "execution_count": 14,
   "id": "8dca78f7",
   "metadata": {},
   "outputs": [
    {
     "name": "stdout",
     "output_type": "stream",
     "text": [
      "     國文  英文  數學  自然  社會\n",
      "王小明  65  92  78  83  70\n",
      "李小美  90  72  76  93  56\n",
      "陳大同  81  85  91  89  94\n",
      "林小玉  79  53  47  94  80\n"
     ]
    }
   ],
   "source": [
    "# use Series build DataFrame\n",
    "import pandas as pd\n",
    "se1 = pd.Series({'王小明':65,'李小美':90,'陳大同':81,'林小玉':79})\n",
    "se2 = pd.Series({'王小明':92,'李小美':72,'陳大同':85,'林小玉':53})\n",
    "se3 = pd.Series({'王小明':78,'李小美':76,'陳大同':91,'林小玉':47})\n",
    "se4 = pd.Series({'王小明':83,'李小美':93,'陳大同':89,'林小玉':94})\n",
    "se5 = pd.Series({'王小明':70,'李小美':56,'陳大同':94,'林小玉':80})\n",
    "df = pd.DataFrame({'國文':se1, '英文':se2, '數學':se3, '自然':se4, '社會':se5})\n",
    "print(df)"
   ]
  },
  {
   "cell_type": "code",
   "execution_count": 16,
   "id": "848574fd",
   "metadata": {},
   "outputs": [
    {
     "name": "stdout",
     "output_type": "stream",
     "text": [
      "     國文  英文  數學  自然  社會\n",
      "王小明  65  92  78  83  70\n",
      "李小美  90  72  76  93  56\n",
      "陳大同  81  85  91  89  94\n",
      "林小玉  79  53  47  94  80\n"
     ]
    }
   ],
   "source": [
    "import pandas as pd\n",
    "se1 = pd.Series({'王小明':65,'李小美':90,'陳大同':81,'林小玉':79})\n",
    "se2 = pd.Series({'王小明':92,'李小美':72,'陳大同':85,'林小玉':53})\n",
    "se3 = pd.Series({'王小明':78,'李小美':76,'陳大同':91,'林小玉':47})\n",
    "se4 = pd.Series({'王小明':83,'李小美':93,'陳大同':89,'林小玉':94})\n",
    "se5 = pd.Series({'王小明':70,'李小美':56,'陳大同':94,'林小玉':80})\n",
    "df = pd.concat([se1,se2,se3,se4,se5], axis=1)\n",
    "df.columns=['國文','英文','數學','自然','社會']\n",
    "print(df)"
   ]
  },
  {
   "cell_type": "code",
   "execution_count": 2,
   "id": "c238d4ae",
   "metadata": {},
   "outputs": [
    {
     "name": "stdout",
     "output_type": "stream",
     "text": [
      "     國文  英文  數學  自然  社會\n",
      "王小明  65  92  78  83  70\n",
      "李小美  90  72  76  93  56\n",
      "陳大同  81  85  91  89  94\n",
      "林小玉  79  53  47  94  80\n",
      "自然-----\n",
      "王小明    83\n",
      "李小美    93\n",
      "陳大同    89\n",
      "林小玉    94\n",
      "Name: 自然, dtype: int64\n",
      "國文, 數學, 自然-----\n",
      "     國文  數學  自然\n",
      "王小明  65  78  83\n",
      "李小美  90  76  93\n",
      "陳大同  81  91  89\n",
      "林小玉  79  47  94\n",
      "國文>= 80]-----\n",
      "     國文  英文  數學  自然  社會\n",
      "李小美  90  72  76  93  56\n",
      "陳大同  81  85  91  89  94\n",
      "values\n",
      "[[65 92 78 83 70]\n",
      " [90 72 76 93 56]\n",
      " [81 85 91 89 94]\n",
      " [79 53 47 94 80]]\n",
      "values\\[1\\]\n",
      "[90 72 76 93 56]\n",
      "values\\[1\\]\\[2\\]\n",
      "76\n",
      "林小玉,社會-------------\n",
      "80\n",
      "王小明,國文,社會-------------\n",
      "國文    65\n",
      "社會    70\n",
      "Name: 王小明, dtype: int64\n",
      "王小明,李小美,數學,自然-------------\n",
      "     數學  自然\n",
      "王小明  78  83\n",
      "李小美  76  93\n",
      "王小明,陳大同,數學到社會-------------\n",
      "     數學  自然  社會\n",
      "王小明  78  83  70\n",
      "李小美  76  93  56\n",
      "陳大同  91  89  94\n",
      "陳大同,all-------------\n",
      "國文    81\n",
      "英文    85\n",
      "數學    91\n",
      "自然    89\n",
      "社會    94\n",
      "Name: 陳大同, dtype: int64\n",
      "李小美+前面,數學to社會-----------\n",
      "     數學  自然  社會\n",
      "王小明  78  83  70\n",
      "李小美  76  93  56\n",
      "李小美+後面,數學to社會-----------\n",
      "     數學  自然  社會\n",
      "李小美  76  93  56\n",
      "陳大同  91  89  94\n",
      "林小玉  47  94  80\n",
      "80\n",
      "iloc[0, [0, 4]]\n",
      "iloc[[0, 1], [2, 3]]\n",
      "     國文  英文  數學  自然  社會\n",
      "王小明  65  92  78  83  70\n",
      "李小美  90  72  76  93  56\n"
     ]
    },
    {
     "data": {
      "text/html": [
       "<div>\n",
       "<style scoped>\n",
       "    .dataframe tbody tr th:only-of-type {\n",
       "        vertical-align: middle;\n",
       "    }\n",
       "\n",
       "    .dataframe tbody tr th {\n",
       "        vertical-align: top;\n",
       "    }\n",
       "\n",
       "    .dataframe thead th {\n",
       "        text-align: right;\n",
       "    }\n",
       "</style>\n",
       "<table border=\"1\" class=\"dataframe\">\n",
       "  <thead>\n",
       "    <tr style=\"text-align: right;\">\n",
       "      <th></th>\n",
       "      <th>國文</th>\n",
       "      <th>英文</th>\n",
       "      <th>數學</th>\n",
       "      <th>自然</th>\n",
       "      <th>社會</th>\n",
       "    </tr>\n",
       "  </thead>\n",
       "  <tbody>\n",
       "    <tr>\n",
       "      <th>陳大同</th>\n",
       "      <td>81</td>\n",
       "      <td>85</td>\n",
       "      <td>91</td>\n",
       "      <td>89</td>\n",
       "      <td>94</td>\n",
       "    </tr>\n",
       "    <tr>\n",
       "      <th>林小玉</th>\n",
       "      <td>79</td>\n",
       "      <td>53</td>\n",
       "      <td>47</td>\n",
       "      <td>94</td>\n",
       "      <td>80</td>\n",
       "    </tr>\n",
       "  </tbody>\n",
       "</table>\n",
       "</div>"
      ],
      "text/plain": [
       "     國文  英文  數學  自然  社會\n",
       "陳大同  81  85  91  89  94\n",
       "林小玉  79  53  47  94  80"
      ]
     },
     "execution_count": 2,
     "metadata": {},
     "output_type": "execute_result"
    }
   ],
   "source": [
    "import pandas as pd\n",
    "scores = {'國文':{'王小明':65,'李小美':90,'陳大同':81,'林小玉':79},\n",
    "          '英文':{'王小明':92,'李小美':72,'陳大同':85,'林小玉':53},\n",
    "          '數學':{'王小明':78,'李小美':76,'陳大同':91,'林小玉':47},\n",
    "          '自然':{'王小明':83,'李小美':93,'陳大同':89,'林小玉':94},\n",
    "          '社會':{'王小明':70,'李小美':56,'陳大同':94,'林小玉':80}}\n",
    "df = pd.DataFrame(scores)\n",
    "print(df)\n",
    "print(\"自然-----\")\n",
    "print(df[\"自然\"])\n",
    "print(\"國文, 數學, 自然-----\")\n",
    "print(df[[\"國文\", \"數學\", \"自然\"]])\n",
    "print(\"國文>= 80]-----\")\n",
    "print(df[df[\"國文\"] >= 80])\n",
    "print(\"values\")\n",
    "print(df.values)\n",
    "print(\"values\\[1\\]\")\n",
    "print(df.values[1])\n",
    "print(\"values\\[1\\]\\[2\\]\")\n",
    "print(df.values[1][2])\n",
    "# loc : 以索引，欄位取得資料 ----------------------\n",
    "print(\"林小玉,社會-------------\")\n",
    "print(df.loc[\"林小玉\", \"社會\"])\n",
    "print(\"王小明,國文,社會-------------\")\n",
    "print(df.loc[\"王小明\", [\"國文\",\"社會\"]])\n",
    "print(\"王小明,李小美,數學,自然-------------\")\n",
    "print(df.loc[[\"王小明\", \"李小美\"], [\"數學\", \"自然\"]])\n",
    "print(\"王小明,陳大同,數學到社會-------------\")\n",
    "print(df.loc[\"王小明\":\"陳大同\", \"數學\":\"社會\"])\n",
    "print(\"陳大同,all-------------\")\n",
    "print(df.loc[\"陳大同\", :])\n",
    "print(\"李小美+前面,數學to社會-----------\")\n",
    "print(df.loc[:\"李小美\", \"數學\":\"社會\"])\n",
    "print(\"李小美+後面,數學to社會-----------\")\n",
    "print(df.loc[\"李小美\":, \"數學\":\"社會\"])\n",
    "#iloc 以索引與欄位的編號取得資料----------------------\n",
    "# df.iloc[索引編號，欄位編號]\n",
    "print(df.iloc[3, 4])\n",
    "print(\"iloc[0, [0, 4]]\")\n",
    "df.iloc[0, [0, 4]]  # [0,4] is 1 & 4 column value\n",
    "print(\"iloc[[0, 1], [2, 3]]\") \n",
    "df.iloc[[0, 1], [2, 3]]\n",
    "\n",
    "df.iloc[0:3, 2:5]\n",
    "df.iloc[2, :]\n",
    "df.iloc[:2, 2:5]\n",
    "df.iloc[1:, 2:5]\n",
    "# head() tail()\n",
    "print(df.head(2))  # 前兩筆資料\n",
    "df.tail(2)         # 最後兩筆資料"
   ]
  },
  {
   "cell_type": "code",
   "execution_count": 3,
   "id": "86634f1b",
   "metadata": {},
   "outputs": [
    {
     "data": {
      "text/html": [
       "<div>\n",
       "<style scoped>\n",
       "    .dataframe tbody tr th:only-of-type {\n",
       "        vertical-align: middle;\n",
       "    }\n",
       "\n",
       "    .dataframe tbody tr th {\n",
       "        vertical-align: top;\n",
       "    }\n",
       "\n",
       "    .dataframe thead th {\n",
       "        text-align: right;\n",
       "    }\n",
       "</style>\n",
       "<table border=\"1\" class=\"dataframe\">\n",
       "  <thead>\n",
       "    <tr style=\"text-align: right;\">\n",
       "      <th></th>\n",
       "      <th>國文</th>\n",
       "      <th>英文</th>\n",
       "      <th>數學</th>\n",
       "      <th>自然</th>\n",
       "      <th>社會</th>\n",
       "    </tr>\n",
       "  </thead>\n",
       "  <tbody>\n",
       "    <tr>\n",
       "      <th>陳大同</th>\n",
       "      <td>81</td>\n",
       "      <td>85</td>\n",
       "      <td>91</td>\n",
       "      <td>89</td>\n",
       "      <td>94</td>\n",
       "    </tr>\n",
       "    <tr>\n",
       "      <th>王小明</th>\n",
       "      <td>65</td>\n",
       "      <td>92</td>\n",
       "      <td>78</td>\n",
       "      <td>83</td>\n",
       "      <td>70</td>\n",
       "    </tr>\n",
       "    <tr>\n",
       "      <th>李小美</th>\n",
       "      <td>90</td>\n",
       "      <td>72</td>\n",
       "      <td>76</td>\n",
       "      <td>93</td>\n",
       "      <td>56</td>\n",
       "    </tr>\n",
       "    <tr>\n",
       "      <th>林小玉</th>\n",
       "      <td>79</td>\n",
       "      <td>53</td>\n",
       "      <td>47</td>\n",
       "      <td>94</td>\n",
       "      <td>80</td>\n",
       "    </tr>\n",
       "  </tbody>\n",
       "</table>\n",
       "</div>"
      ],
      "text/plain": [
       "     國文  英文  數學  自然  社會\n",
       "陳大同  81  85  91  89  94\n",
       "王小明  65  92  78  83  70\n",
       "李小美  90  72  76  93  56\n",
       "林小玉  79  53  47  94  80"
      ]
     },
     "execution_count": 3,
     "metadata": {},
     "output_type": "execute_result"
    }
   ],
   "source": [
    "# Dataframe 資料操作\n",
    "# 1.依值排列\n",
    "# df.sort_value(by = \"欄位\", ascending =True or False)\n",
    "df.sort_values(by =\"數學\", ascending = False) # ascending default is True"
   ]
  },
  {
   "cell_type": "code",
   "execution_count": 9,
   "id": "192dabc3",
   "metadata": {},
   "outputs": [
    {
     "name": "stdout",
     "output_type": "stream",
     "text": [
      "      chinese  english  math  neture  society\n",
      "mika       65       92    78      83       70\n",
      "joe        90       72    76      93       56\n",
      "mary       81       85    91      89       94\n",
      "lin        79       53    47      94       80\n",
      "      chinese  english  math  neture  society\n",
      "joe        90       72    76      93       56\n",
      "lin        79       53    47      94       80\n",
      "mary       81       85    91      89       94\n",
      "mika       65       92    78      83       70\n"
     ]
    },
    {
     "data": {
      "text/html": [
       "<div>\n",
       "<style scoped>\n",
       "    .dataframe tbody tr th:only-of-type {\n",
       "        vertical-align: middle;\n",
       "    }\n",
       "\n",
       "    .dataframe tbody tr th {\n",
       "        vertical-align: top;\n",
       "    }\n",
       "\n",
       "    .dataframe thead th {\n",
       "        text-align: right;\n",
       "    }\n",
       "</style>\n",
       "<table border=\"1\" class=\"dataframe\">\n",
       "  <thead>\n",
       "    <tr style=\"text-align: right;\">\n",
       "      <th></th>\n",
       "      <th>chinese</th>\n",
       "      <th>english</th>\n",
       "      <th>math</th>\n",
       "      <th>neture</th>\n",
       "      <th>society</th>\n",
       "    </tr>\n",
       "  </thead>\n",
       "  <tbody>\n",
       "    <tr>\n",
       "      <th>mika</th>\n",
       "      <td>65</td>\n",
       "      <td>92</td>\n",
       "      <td>78</td>\n",
       "      <td>83</td>\n",
       "      <td>70</td>\n",
       "    </tr>\n",
       "    <tr>\n",
       "      <th>joe</th>\n",
       "      <td>90</td>\n",
       "      <td>72</td>\n",
       "      <td>76</td>\n",
       "      <td>93</td>\n",
       "      <td>56</td>\n",
       "    </tr>\n",
       "    <tr>\n",
       "      <th>mary</th>\n",
       "      <td>81</td>\n",
       "      <td>85</td>\n",
       "      <td>91</td>\n",
       "      <td>89</td>\n",
       "      <td>94</td>\n",
       "    </tr>\n",
       "    <tr>\n",
       "      <th>lin</th>\n",
       "      <td>79</td>\n",
       "      <td>53</td>\n",
       "      <td>47</td>\n",
       "      <td>94</td>\n",
       "      <td>80</td>\n",
       "    </tr>\n",
       "  </tbody>\n",
       "</table>\n",
       "</div>"
      ],
      "text/plain": [
       "      chinese  english  math  neture  society\n",
       "mika       65       92    78      83       70\n",
       "joe        90       72    76      93       56\n",
       "mary       81       85    91      89       94\n",
       "lin        79       53    47      94       80"
      ]
     },
     "execution_count": 9,
     "metadata": {},
     "output_type": "execute_result"
    }
   ],
   "source": [
    "# 2.依索引排列\n",
    "# df.sort_index(axis = 軸向編號，ascending = True ir False)\n",
    "import pandas as pd\n",
    "scores = {'chinese':{'mika':65,'joe':90,'mary':81,'lin':79},\n",
    "          'english':{'mika':92,'joe':72,'mary':85,'lin':53},\n",
    "          'math':{'mika':78,'joe':76,'mary':91,'lin':47},\n",
    "          'neture':{'mika':83,'joe':93,'mary':89,'lin':94},\n",
    "          'society':{'mika':70,'joe':56,'mary':94,'lin':80}}\n",
    "df = pd.DataFrame(scores)\n",
    "print(df)\n",
    "print(df.sort_index(axis = 0)) # axis=0 以橫列 的index name 排序 預設遞增\n",
    "       \n",
    "df.sort_index(axis = 1)   # axis = 1 以直欄 column name 排列"
   ]
  },
  {
   "cell_type": "code",
   "execution_count": 10,
   "id": "b844b69a",
   "metadata": {},
   "outputs": [
    {
     "data": {
      "text/html": [
       "<div>\n",
       "<style scoped>\n",
       "    .dataframe tbody tr th:only-of-type {\n",
       "        vertical-align: middle;\n",
       "    }\n",
       "\n",
       "    .dataframe tbody tr th {\n",
       "        vertical-align: top;\n",
       "    }\n",
       "\n",
       "    .dataframe thead th {\n",
       "        text-align: right;\n",
       "    }\n",
       "</style>\n",
       "<table border=\"1\" class=\"dataframe\">\n",
       "  <thead>\n",
       "    <tr style=\"text-align: right;\">\n",
       "      <th></th>\n",
       "      <th>chinese</th>\n",
       "      <th>english</th>\n",
       "      <th>math</th>\n",
       "      <th>neture</th>\n",
       "      <th>society</th>\n",
       "    </tr>\n",
       "  </thead>\n",
       "  <tbody>\n",
       "    <tr>\n",
       "      <th>mika</th>\n",
       "      <td>65</td>\n",
       "      <td>92</td>\n",
       "      <td>99</td>\n",
       "      <td>83</td>\n",
       "      <td>70</td>\n",
       "    </tr>\n",
       "    <tr>\n",
       "      <th>joe</th>\n",
       "      <td>90</td>\n",
       "      <td>72</td>\n",
       "      <td>76</td>\n",
       "      <td>93</td>\n",
       "      <td>56</td>\n",
       "    </tr>\n",
       "    <tr>\n",
       "      <th>mary</th>\n",
       "      <td>81</td>\n",
       "      <td>85</td>\n",
       "      <td>91</td>\n",
       "      <td>89</td>\n",
       "      <td>94</td>\n",
       "    </tr>\n",
       "    <tr>\n",
       "      <th>lin</th>\n",
       "      <td>79</td>\n",
       "      <td>53</td>\n",
       "      <td>47</td>\n",
       "      <td>94</td>\n",
       "      <td>80</td>\n",
       "    </tr>\n",
       "  </tbody>\n",
       "</table>\n",
       "</div>"
      ],
      "text/plain": [
       "      chinese  english  math  neture  society\n",
       "mika       65       92    99      83       70\n",
       "joe        90       72    76      93       56\n",
       "mary       81       85    91      89       94\n",
       "lin        79       53    47      94       80"
      ]
     },
     "execution_count": 10,
     "metadata": {},
     "output_type": "execute_result"
    }
   ],
   "source": [
    "# 3.DataFrame 資料修改\n",
    "df.loc[\"mika\"][\"math\"] = 99\n",
    "df"
   ]
  },
  {
   "cell_type": "code",
   "execution_count": 11,
   "id": "a9a1aa6a",
   "metadata": {},
   "outputs": [
    {
     "data": {
      "text/html": [
       "<div>\n",
       "<style scoped>\n",
       "    .dataframe tbody tr th:only-of-type {\n",
       "        vertical-align: middle;\n",
       "    }\n",
       "\n",
       "    .dataframe tbody tr th {\n",
       "        vertical-align: top;\n",
       "    }\n",
       "\n",
       "    .dataframe thead th {\n",
       "        text-align: right;\n",
       "    }\n",
       "</style>\n",
       "<table border=\"1\" class=\"dataframe\">\n",
       "  <thead>\n",
       "    <tr style=\"text-align: right;\">\n",
       "      <th></th>\n",
       "      <th>chinese</th>\n",
       "      <th>english</th>\n",
       "      <th>math</th>\n",
       "      <th>neture</th>\n",
       "      <th>society</th>\n",
       "    </tr>\n",
       "  </thead>\n",
       "  <tbody>\n",
       "    <tr>\n",
       "      <th>mika</th>\n",
       "      <td>65</td>\n",
       "      <td>92</td>\n",
       "      <td>100</td>\n",
       "      <td>83</td>\n",
       "      <td>70</td>\n",
       "    </tr>\n",
       "    <tr>\n",
       "      <th>joe</th>\n",
       "      <td>90</td>\n",
       "      <td>72</td>\n",
       "      <td>100</td>\n",
       "      <td>93</td>\n",
       "      <td>56</td>\n",
       "    </tr>\n",
       "    <tr>\n",
       "      <th>mary</th>\n",
       "      <td>81</td>\n",
       "      <td>85</td>\n",
       "      <td>100</td>\n",
       "      <td>89</td>\n",
       "      <td>94</td>\n",
       "    </tr>\n",
       "    <tr>\n",
       "      <th>lin</th>\n",
       "      <td>79</td>\n",
       "      <td>53</td>\n",
       "      <td>100</td>\n",
       "      <td>94</td>\n",
       "      <td>80</td>\n",
       "    </tr>\n",
       "  </tbody>\n",
       "</table>\n",
       "</div>"
      ],
      "text/plain": [
       "      chinese  english  math  neture  society\n",
       "mika       65       92   100      83       70\n",
       "joe        90       72   100      93       56\n",
       "mary       81       85   100      89       94\n",
       "lin        79       53   100      94       80"
      ]
     },
     "execution_count": 11,
     "metadata": {},
     "output_type": "execute_result"
    }
   ],
   "source": [
    "df.loc[\"mika\":\"lin\"][\"math\"] = 100\n",
    "df"
   ]
  },
  {
   "cell_type": "code",
   "execution_count": 12,
   "id": "af032cc6",
   "metadata": {},
   "outputs": [
    {
     "data": {
      "text/html": [
       "<div>\n",
       "<style scoped>\n",
       "    .dataframe tbody tr th:only-of-type {\n",
       "        vertical-align: middle;\n",
       "    }\n",
       "\n",
       "    .dataframe tbody tr th {\n",
       "        vertical-align: top;\n",
       "    }\n",
       "\n",
       "    .dataframe thead th {\n",
       "        text-align: right;\n",
       "    }\n",
       "</style>\n",
       "<table border=\"1\" class=\"dataframe\">\n",
       "  <thead>\n",
       "    <tr style=\"text-align: right;\">\n",
       "      <th></th>\n",
       "      <th>chinese</th>\n",
       "      <th>english</th>\n",
       "      <th>math</th>\n",
       "      <th>neture</th>\n",
       "      <th>society</th>\n",
       "    </tr>\n",
       "  </thead>\n",
       "  <tbody>\n",
       "    <tr>\n",
       "      <th>joe</th>\n",
       "      <td>90</td>\n",
       "      <td>72</td>\n",
       "      <td>100</td>\n",
       "      <td>93</td>\n",
       "      <td>56</td>\n",
       "    </tr>\n",
       "    <tr>\n",
       "      <th>mary</th>\n",
       "      <td>81</td>\n",
       "      <td>85</td>\n",
       "      <td>100</td>\n",
       "      <td>89</td>\n",
       "      <td>94</td>\n",
       "    </tr>\n",
       "    <tr>\n",
       "      <th>lin</th>\n",
       "      <td>79</td>\n",
       "      <td>53</td>\n",
       "      <td>100</td>\n",
       "      <td>94</td>\n",
       "      <td>80</td>\n",
       "    </tr>\n",
       "  </tbody>\n",
       "</table>\n",
       "</div>"
      ],
      "text/plain": [
       "      chinese  english  math  neture  society\n",
       "joe        90       72   100      93       56\n",
       "mary       81       85   100      89       94\n",
       "lin        79       53   100      94       80"
      ]
     },
     "execution_count": 12,
     "metadata": {},
     "output_type": "execute_result"
    }
   ],
   "source": [
    "# 4.DataFram 刪除資料\n",
    "df1 = df.drop(\"mika\")\n",
    "df1"
   ]
  },
  {
   "cell_type": "code",
   "execution_count": 13,
   "id": "0d39c0e2",
   "metadata": {},
   "outputs": [
    {
     "data": {
      "text/html": [
       "<div>\n",
       "<style scoped>\n",
       "    .dataframe tbody tr th:only-of-type {\n",
       "        vertical-align: middle;\n",
       "    }\n",
       "\n",
       "    .dataframe tbody tr th {\n",
       "        vertical-align: top;\n",
       "    }\n",
       "\n",
       "    .dataframe thead th {\n",
       "        text-align: right;\n",
       "    }\n",
       "</style>\n",
       "<table border=\"1\" class=\"dataframe\">\n",
       "  <thead>\n",
       "    <tr style=\"text-align: right;\">\n",
       "      <th></th>\n",
       "      <th>chinese</th>\n",
       "      <th>english</th>\n",
       "      <th>neture</th>\n",
       "      <th>society</th>\n",
       "    </tr>\n",
       "  </thead>\n",
       "  <tbody>\n",
       "    <tr>\n",
       "      <th>joe</th>\n",
       "      <td>90</td>\n",
       "      <td>72</td>\n",
       "      <td>93</td>\n",
       "      <td>56</td>\n",
       "    </tr>\n",
       "    <tr>\n",
       "      <th>mary</th>\n",
       "      <td>81</td>\n",
       "      <td>85</td>\n",
       "      <td>89</td>\n",
       "      <td>94</td>\n",
       "    </tr>\n",
       "    <tr>\n",
       "      <th>lin</th>\n",
       "      <td>79</td>\n",
       "      <td>53</td>\n",
       "      <td>94</td>\n",
       "      <td>80</td>\n",
       "    </tr>\n",
       "  </tbody>\n",
       "</table>\n",
       "</div>"
      ],
      "text/plain": [
       "      chinese  english  neture  society\n",
       "joe        90       72      93       56\n",
       "mary       81       85      89       94\n",
       "lin        79       53      94       80"
      ]
     },
     "execution_count": 13,
     "metadata": {},
     "output_type": "execute_result"
    }
   ],
   "source": [
    "df2 = df1.drop(\"math\", axis =1)\n",
    "df2"
   ]
  },
  {
   "cell_type": "code",
   "execution_count": 14,
   "id": "e5e40998",
   "metadata": {},
   "outputs": [
    {
     "data": {
      "text/html": [
       "<div>\n",
       "<style scoped>\n",
       "    .dataframe tbody tr th:only-of-type {\n",
       "        vertical-align: middle;\n",
       "    }\n",
       "\n",
       "    .dataframe tbody tr th {\n",
       "        vertical-align: top;\n",
       "    }\n",
       "\n",
       "    .dataframe thead th {\n",
       "        text-align: right;\n",
       "    }\n",
       "</style>\n",
       "<table border=\"1\" class=\"dataframe\">\n",
       "  <thead>\n",
       "    <tr style=\"text-align: right;\">\n",
       "      <th></th>\n",
       "      <th>chinese</th>\n",
       "      <th>english</th>\n",
       "      <th>society</th>\n",
       "    </tr>\n",
       "  </thead>\n",
       "  <tbody>\n",
       "    <tr>\n",
       "      <th>mika</th>\n",
       "      <td>65</td>\n",
       "      <td>92</td>\n",
       "      <td>70</td>\n",
       "    </tr>\n",
       "    <tr>\n",
       "      <th>joe</th>\n",
       "      <td>90</td>\n",
       "      <td>72</td>\n",
       "      <td>56</td>\n",
       "    </tr>\n",
       "    <tr>\n",
       "      <th>mary</th>\n",
       "      <td>81</td>\n",
       "      <td>85</td>\n",
       "      <td>94</td>\n",
       "    </tr>\n",
       "    <tr>\n",
       "      <th>lin</th>\n",
       "      <td>79</td>\n",
       "      <td>53</td>\n",
       "      <td>80</td>\n",
       "    </tr>\n",
       "  </tbody>\n",
       "</table>\n",
       "</div>"
      ],
      "text/plain": [
       "      chinese  english  society\n",
       "mika       65       92       70\n",
       "joe        90       72       56\n",
       "mary       81       85       94\n",
       "lin        79       53       80"
      ]
     },
     "execution_count": 14,
     "metadata": {},
     "output_type": "execute_result"
    }
   ],
   "source": [
    "df3 =df.drop([\"math\",\"neture\"], axis=1)  # ps : 如果要真正改掉 df 的值 inplace =True\n",
    "df3"
   ]
  },
  {
   "cell_type": "code",
   "execution_count": 15,
   "id": "54d2eb20",
   "metadata": {},
   "outputs": [
    {
     "data": {
      "text/html": [
       "<div>\n",
       "<style scoped>\n",
       "    .dataframe tbody tr th:only-of-type {\n",
       "        vertical-align: middle;\n",
       "    }\n",
       "\n",
       "    .dataframe tbody tr th {\n",
       "        vertical-align: top;\n",
       "    }\n",
       "\n",
       "    .dataframe thead th {\n",
       "        text-align: right;\n",
       "    }\n",
       "</style>\n",
       "<table border=\"1\" class=\"dataframe\">\n",
       "  <thead>\n",
       "    <tr style=\"text-align: right;\">\n",
       "      <th></th>\n",
       "      <th>chinese</th>\n",
       "      <th>english</th>\n",
       "      <th>math</th>\n",
       "      <th>neture</th>\n",
       "      <th>society</th>\n",
       "    </tr>\n",
       "  </thead>\n",
       "  <tbody>\n",
       "    <tr>\n",
       "      <th>mika</th>\n",
       "      <td>65</td>\n",
       "      <td>92</td>\n",
       "      <td>100</td>\n",
       "      <td>83</td>\n",
       "      <td>70</td>\n",
       "    </tr>\n",
       "  </tbody>\n",
       "</table>\n",
       "</div>"
      ],
      "text/plain": [
       "      chinese  english  math  neture  society\n",
       "mika       65       92   100      83       70"
      ]
     },
     "execution_count": 15,
     "metadata": {},
     "output_type": "execute_result"
    }
   ],
   "source": [
    "df4 = df.drop(df.index[1:4])\n",
    "df4"
   ]
  },
  {
   "cell_type": "code",
   "execution_count": 16,
   "id": "b57501b6",
   "metadata": {},
   "outputs": [
    {
     "data": {
      "text/html": [
       "<div>\n",
       "<style scoped>\n",
       "    .dataframe tbody tr th:only-of-type {\n",
       "        vertical-align: middle;\n",
       "    }\n",
       "\n",
       "    .dataframe tbody tr th {\n",
       "        vertical-align: top;\n",
       "    }\n",
       "\n",
       "    .dataframe thead th {\n",
       "        text-align: right;\n",
       "    }\n",
       "</style>\n",
       "<table border=\"1\" class=\"dataframe\">\n",
       "  <thead>\n",
       "    <tr style=\"text-align: right;\">\n",
       "      <th></th>\n",
       "      <th>chinese</th>\n",
       "      <th>society</th>\n",
       "    </tr>\n",
       "  </thead>\n",
       "  <tbody>\n",
       "    <tr>\n",
       "      <th>mika</th>\n",
       "      <td>65</td>\n",
       "      <td>70</td>\n",
       "    </tr>\n",
       "    <tr>\n",
       "      <th>joe</th>\n",
       "      <td>90</td>\n",
       "      <td>56</td>\n",
       "    </tr>\n",
       "    <tr>\n",
       "      <th>mary</th>\n",
       "      <td>81</td>\n",
       "      <td>94</td>\n",
       "    </tr>\n",
       "    <tr>\n",
       "      <th>lin</th>\n",
       "      <td>79</td>\n",
       "      <td>80</td>\n",
       "    </tr>\n",
       "  </tbody>\n",
       "</table>\n",
       "</div>"
      ],
      "text/plain": [
       "      chinese  society\n",
       "mika       65       70\n",
       "joe        90       56\n",
       "mary       81       94\n",
       "lin        79       80"
      ]
     },
     "execution_count": 16,
     "metadata": {},
     "output_type": "execute_result"
    }
   ],
   "source": [
    "df5 = df.drop(df.columns[1:4],axis =1)\n",
    "df5"
   ]
  },
  {
   "cell_type": "code",
   "execution_count": 17,
   "id": "08e2ef0b",
   "metadata": {},
   "outputs": [
    {
     "name": "stdout",
     "output_type": "stream",
     "text": [
      "     國文  英文  數學  自然  社會\n",
      "王小明  65  92  78  83  70\n",
      "李小美  90  72  76  93  56\n",
      "陳大同  81  85  91  89  94\n",
      "林小玉  79  53  47  94  80\n",
      "<class 'pandas.core.frame.DataFrame'>\n"
     ]
    }
   ],
   "source": [
    "# 5.使用 Pandas 讀取資料\n",
    "# (1)pd.read_csv(*.csv)  (2)pd.read_excel(*.xlsx) (3)pd.read.sql(&=*.sqlite): 匯入SQLite Data\n",
    "# (4)read_json(*json)  (5)read_html(*.html)\n",
    "# pd.read_csv(檔案名稱[, header = 欄位列, index_col =索引欄,encoding = 編碼, sep = 分隔符號)\n",
    "import pandas as pd\n",
    "data = pd.read_csv(\"scores2.csv\", header=0, index_col=0)\n",
    "print(data)\n",
    "print(type(data))"
   ]
  },
  {
   "cell_type": "code",
   "execution_count": 18,
   "id": "883ed385",
   "metadata": {},
   "outputs": [
    {
     "name": "stdout",
     "output_type": "stream",
     "text": [
      "    Apr 2022  Apr 2021  Change  Programming Language Programming Language.1  \\\n",
      "0          1         3     NaN                   NaN                 Python   \n",
      "1          2         1     NaN                   NaN                      C   \n",
      "2          3         2     NaN                   NaN                   Java   \n",
      "3          4         4     NaN                   NaN                    C++   \n",
      "4          5         5     NaN                   NaN                     C#   \n",
      "5          6         6     NaN                   NaN           Visual Basic   \n",
      "6          7         7     NaN                   NaN             JavaScript   \n",
      "7          8         8     NaN                   NaN      Assembly language   \n",
      "8          9        10     NaN                   NaN                    SQL   \n",
      "9         10         9     NaN                   NaN                    PHP   \n",
      "10        11        16     NaN                   NaN                      R   \n",
      "11        12        12     NaN                   NaN   Delphi/Object Pascal   \n",
      "12        13        14     NaN                   NaN                     Go   \n",
      "13        14        15     NaN                   NaN                  Swift   \n",
      "14        15        13     NaN                   NaN                   Ruby   \n",
      "15        16        11     NaN                   NaN   Classic Visual Basic   \n",
      "16        17        23     NaN                   NaN            Objective-C   \n",
      "17        18        18     NaN                   NaN                   Perl   \n",
      "18        19        37     NaN                   NaN                    Lua   \n",
      "19        20        19     NaN                   NaN                 MATLAB   \n",
      "\n",
      "   Ratings Change.1  \n",
      "0   13.92%   +2.88%  \n",
      "1   12.71%   -1.61%  \n",
      "2   10.82%   -0.41%  \n",
      "3    8.28%   +1.14%  \n",
      "4    6.82%   +1.91%  \n",
      "5    5.40%   +0.85%  \n",
      "6    2.41%   -0.03%  \n",
      "7    2.35%   +0.03%  \n",
      "8    2.28%   +0.45%  \n",
      "9    1.64%   -0.19%  \n",
      "10   1.55%   +0.44%  \n",
      "11   1.18%   -0.29%  \n",
      "12   1.09%   -0.14%  \n",
      "13   1.00%   -0.19%  \n",
      "14   0.88%   -0.35%  \n",
      "15   0.83%   -0.71%  \n",
      "16   0.82%   +0.15%  \n",
      "17   0.79%   -0.21%  \n",
      "18   0.78%   +0.45%  \n",
      "19   0.74%   -0.25%  \n"
     ]
    }
   ],
   "source": [
    "# pd.read_html(檔案名稱[, header = 欄位列, index_col =索引欄,encoding = 編碼, keep_default_na = False)\n",
    "# keep_default_na : 是否去除空白值(NaN)\n",
    "import pandas as pd\n",
    "url = 'https://www.tiobe.com/tiobe-index/'\n",
    "tables = pd.read_html(url, header=0, keep_default_na=True)\n",
    "print(tables[0])"
   ]
  },
  {
   "cell_type": "code",
   "execution_count": 19,
   "id": "bdf70da9",
   "metadata": {},
   "outputs": [],
   "source": [
    "# 6.使用 Pandas 儲存資料\n",
    "# (1)df.to_csv(*.csv) (2)to_excel()   (3)to_sql   (4)to_json   (5)to_html\n",
    "# pd.to_csv(檔案名稱[, header = 布林值, index_col =布林值,encoding = 編碼, sep = 分隔符號) \n",
    "# header,index_col : default value is True\n",
    "import pandas as pd\n",
    "scores = {'國文':{'王小明':65,'李小美':90,'陳大同':81,'林小玉':79},\n",
    "          '英文':{'王小明':92,'李小美':72,'陳大同':85,'林小玉':53},\n",
    "          '數學':{'王小明':78,'李小美':76,'陳大同':91,'林小玉':47},\n",
    "          '自然':{'王小明':83,'李小美':93,'陳大同':89,'林小玉':94},\n",
    "          '社會':{'王小明':70,'李小美':56,'陳大同':94,'林小玉':80}}\n",
    "df = pd.DataFrame(scores)\n",
    "df.to_csv('scores3.csv', encoding='utf-8-sig')"
   ]
  },
  {
   "cell_type": "code",
   "execution_count": 22,
   "id": "fde07c4f",
   "metadata": {},
   "outputs": [
    {
     "data": {
      "image/png": "[encoded data removed]",
      "text/plain": [
       "<Figure size 720x360 with 1 Axes>"
      ]
     },
     "metadata": {
      "needs_background": "light"
     },
     "output_type": "display_data"
    },
    {
     "data": {
      "image/png": "[encoded data removed]",
      "text/plain": [
       "<Figure size 720x360 with 1 Axes>"
      ]
     },
     "metadata": {
      "needs_background": "light"
     },
     "output_type": "display_data"
    },
    {
     "data": {
      "image/png": "[encoded data removed]",
      "text/plain": [
       "<Figure size 720x360 with 1 Axes>"
      ]
     },
     "metadata": {
      "needs_background": "light"
     },
     "output_type": "display_data"
    }
   ],
   "source": [
    "# 7.Pandas module : 繪圖應用\n",
    "# DataFrame.plot()\n",
    "# 參數 : (1)kind 設定繪圖模式 : 參數值: line(折線圖) ,hist,scatter,bar,bath,pie\n",
    "# (2)title (3)legend (4)grid (5)xlim (6)ylim  (7)xticks (8)yticks (9)x  (10)y (11)fontsize (12)figsize\n",
    "import pandas as pd\n",
    "# import matplotlib.pyplot as plt\n",
    "# 設定中文字型及負號正確顯示\n",
    "plt.rcParams[\"font.sans-serif\"] = \"Microsoft JhengHei\" #也可設mingliu或DFKai-SB\n",
    "plt.rcParams[\"axes.unicode_minus\"] = False \n",
    "\n",
    "df = pd.DataFrame([[250,320,300,312,280],\n",
    "                   [280,300,280,290,310],\n",
    "                   [220,280,250,305,250]],\n",
    "                   index=['北部','中部','南部'],\n",
    "                   columns=[2015,2016,2017,2018,2019])\n",
    "g1 = df.plot(kind='bar', title='長條圖',grid=True, figsize=[10,5])\n",
    "g2 = df.plot(kind='barh', title='橫條圖', figsize=[10,5])\n",
    "g3 = df.plot(kind='bar', stacked=True, title='堆疊圖', figsize=[10,5])"
   ]
  },
  {
   "cell_type": "code",
   "execution_count": 54,
   "id": "a3eb2234",
   "metadata": {},
   "outputs": [
    {
     "data": {
      "image/png": "[encoded data removed]",
      "text/plain": [
       "<Figure size 720x360 with 1 Axes>"
      ]
     },
     "metadata": {
      "needs_background": "light"
     },
     "output_type": "display_data"
    }
   ],
   "source": [
    "import pandas as pd\n",
    "import matplotlib.pyplot as plt\n",
    "# 設定中文字型及負號正確顯示\n",
    "plt.rcParams[\"font.sans-serif\"] = \"Microsoft JhengHei\" #也可設mingliu或DFKai-SB\n",
    "plt.rcParams[\"axes.unicode_minus\"] = False \n",
    "\n",
    "df = pd.DataFrame([[250,320,300,312,280],\n",
    "                   [280,300,280,290,310],\n",
    "                   [220,280,250,305,250]],\n",
    "                   index=['北部','中部','南部'],\n",
    "                   columns=[2015,2016,2017,2018,2019])\n",
    "g1 = df.iloc[0].plot(kind='line', legend=True, xticks=range(2015,2020), title='公司分區年度銷售表', figsize=[10,5])\n",
    "g1 = df.iloc[1].plot(kind='line', legend=True, xticks=range(2015,2020))\n",
    "g1 = df.iloc[2].plot(kind='line', legend=True, xticks=range(2015,2020))"
   ]
  },
  {
   "cell_type": "code",
   "execution_count": 55,
   "id": "ffd261cf",
   "metadata": {},
   "outputs": [
    {
     "data": {
      "text/plain": [
       "array([<AxesSubplot:ylabel='2015'>, <AxesSubplot:ylabel='2016'>,\n",
       "       <AxesSubplot:ylabel='2017'>, <AxesSubplot:ylabel='2018'>,\n",
       "       <AxesSubplot:ylabel='2019'>], dtype=object)"
      ]
     },
     "execution_count": 55,
     "metadata": {},
     "output_type": "execute_result"
    },
    {
     "data": {
      "image/png": "[encoded data removed]",
      "text/plain": [
       "<Figure size 1440x1440 with 5 Axes>"
      ]
     },
     "metadata": {},
     "output_type": "display_data"
    }
   ],
   "source": [
    "import pandas as pd\n",
    "import matplotlib.pyplot as plt\n",
    "# 設定中文字型及負號正確顯示\n",
    "plt.rcParams[\"font.sans-serif\"] = \"Microsoft JhengHei\"  #也可設mingliu或DFKai-SB\n",
    "plt.rcParams[\"axes.unicode_minus\"] = False \n",
    "\n",
    "df = pd.DataFrame([[250,320,300,312,280],\n",
    "                   [280,300,280,290,310],\n",
    "                   [220,280,250,305,250]],\n",
    "                   index=['北部','中部','南部'],\n",
    "                   columns=[2015,2016,2017,2018,2019])\n",
    "df.plot(kind='pie', subplots=True, figsize=[20,20])"
   ]
  },
  {
   "cell_type": "code",
   "execution_count": null,
   "id": "f5140410",
   "metadata": {},
   "outputs": [],
   "source": []
  }
 ],
 "metadata": {
  "kernelspec": {
   "display_name": "Python 3",
   "language": "python",
   "name": "python3"
  },
  "language_info": {
   "codemirror_mode": {
    "name": "ipython",
    "version": 3
   },
   "file_extension": ".py",
   "mimetype": "text/x-python",
   "name": "python",
   "nbconvert_exporter": "python",
   "pygments_lexer": "ipython3",
   "version": "3.8.8"
  }
 },
 "nbformat": 4,
 "nbformat_minor": 5
}
