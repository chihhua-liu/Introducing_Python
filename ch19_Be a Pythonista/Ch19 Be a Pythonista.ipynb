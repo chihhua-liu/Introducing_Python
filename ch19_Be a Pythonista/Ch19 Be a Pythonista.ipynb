{
 "cells": [
  {
   "cell_type": "markdown",
   "id": "1513d695-626a-4456-85e8-874f7b61d72f",
   "metadata": {},
   "source": [
    "### 1.Find Python Code\n",
    "1. The Python standard library: https://docs.python.org/3/library/\n",
    "2. The first place to look is the Python Package Index (PyPI): https://pypi.org/\n",
    "3. Another popular repository is GitHub : https://github.com/trending?l=python\n",
    "4. Popular Python recipes has more than four thousand short Python programs:http://bit.ly/popular-recipes"
   ]
  },
  {
   "cell_type": "markdown",
   "id": "fc25e7c4-6501-4bfd-8ad3-2f9f77873ff2",
   "metadata": {},
   "source": [
    "### 2. Install Packages: pip\n",
    "http://www.pip-installer.org.\n",
    "1. You can also ask pip to install a specific version: pip install flask==0.9.0  or pip install 'flask≥0.9.0'\n",
    "2. If you want to install more than one Python package, you can use a requirements file.\n",
    "* pip -r requirements.txt\n",
    "* 建立 requirements.txt : pip freeze > requirements.txt\n",
    "3. Install the latest version: pip install --upgrade package\n",
    "4. Delete a package: pip uninstall package "
   ]
  },
  {
   "cell_type": "markdown",
   "id": "49df4c16-b70a-4a97-8227-880063eb763d",
   "metadata": {},
   "source": [
    "### 3. Use virtualenv\n",
    "1. pip install virtualenv\n",
    "2. virtualenv envname\n",
    "3. in envname 目錄: Scripts\\activate\n",
    "4. deactivate\n",
    "5. delete env : rm -r venv (刪除env 目錄)"
   ]
  },
  {
   "cell_type": "markdown",
   "id": "adcafa31-c10b-4612-9f66-00dfeccda7f0",
   "metadata": {},
   "source": [
    "### 4. Use pipenv : pip install pipenv (pipenv 則是目前 Python 官方所推薦的套件管理工具)\n",
    "1. pipenv install requests numpy \n",
    "2. 安裝後加上 --dev 參數則會安裝開發階段的套件，不會影響到穩定版 :pipenv install selenium --dev \n",
    "3. 解除安裝也很簡單: pipenv uninstall selenium\n",
    "4. 虛擬環境的方法 : pipenv shell\n",
    "5. 產生舊版 requirements.txt 指令: pipenv lock --requirements > requirements.txt \n",
    "6. 列出套件相依圖 : pipenv graph\n",
    "* PS: 發生: pipenv is not recognized as an internal or external command\n",
    "<br>-> step1:  Right-click on the Command Prompt application and click \"Run as administrator\".\n",
    "<br>-> step2:  python -m pip uninstall virtualenv pipenv -y\n",
    "<br>-> step3:  python -m pip install pipenv"
   ]
  },
  {
   "cell_type": "code",
   "execution_count": 1,
   "id": "4b6b9580",
   "metadata": {},
   "outputs": [
    {
     "name": "stdout",
     "output_type": "stream",
     "text": [
      "-40.000000 F => -40.000000 C\n",
      "0.000000 F => -17.777778 C\n",
      "32.000000 F => 0.000000 C\n",
      "100.000000 F => 37.777778 C\n",
      "212.000000 F => 100.000000 C\n"
     ]
    }
   ],
   "source": [
    "def ftoc(f_temp):\n",
    "    \"Convert Fahrenheit temperature <f_temp> to Celsius and return it.\"\n",
    "    f_boil_temp = 212.0\n",
    "    f_freeze_temp = 32.0\n",
    "    c_boil_temp = 100.0\n",
    "    c_freeze_temp = 0.0\n",
    "    f_range = f_boil_temp - f_freeze_temp\n",
    "    c_range = c_boil_temp - c_freeze_temp\n",
    "    f_c_ratio = c_range / f_range\n",
    "    c_temp = (f_temp - f_freeze_temp) * f_c_ratio + c_freeze_temp\n",
    "    return c_temp\n",
    "\n",
    "if __name__ == '__main__':\n",
    "    for f_temp in [-40.0, 0.0, 32.0, 100.0, 212.0]:\n",
    "        c_temp = ftoc(f_temp)\n",
    "        print('%f F => %f C' % (f_temp, c_temp))"
   ]
  },
  {
   "cell_type": "code",
   "execution_count": 2,
   "id": "d66b2490-14d0-4c5f-8158-fb3bbd27e9af",
   "metadata": {},
   "outputs": [
    {
     "name": "stdout",
     "output_type": "stream",
     "text": [
      "-40.000000 F => -40.000000 C\n",
      "0.000000 F => -17.777778 C\n",
      "32.000000 F => 0.000000 C\n",
      "100.000000 F => 37.777778 C\n",
      "212.000000 F => 100.000000 C\n"
     ]
    }
   ],
   "source": [
    "# 5. 常數的變數命名，應該使用大寫字母與底線 : 這個例子比上個好\n",
    "F_BOIL_TEMP = 212.0\n",
    "F_FREEZE_TEMP = 32.0\n",
    "C_BOIL_TEMP = 100.0\n",
    "C_FREEZE_TEMP = 0.0\n",
    "F_RANGE = F_BOIL_TEMP - F_FREEZE_TEMP\n",
    "C_RANGE = C_BOIL_TEMP - C_FREEZE_TEMP\n",
    "F_C_RATIO = C_RANGE / F_RANGE\n",
    "\n",
    "def ftoc(f_temp):\n",
    "    \"Convert Fahrenheit temperature <f_temp> to Celsius and return it.\"\n",
    "    c_temp = (f_temp - F_FREEZE_TEMP) * F_C_RATIO + C_FREEZE_TEMP\n",
    "    return c_temp\n",
    "\n",
    "if __name__ == '__main__':\n",
    "    for f_temp in [-40.0, 0.0, 32.0, 100.0, 212.0]:\n",
    "       c_temp = ftoc(f_temp)\n",
    "       print('%f F => %f C' % (f_temp, c_temp))"
   ]
  },
  {
   "cell_type": "code",
   "execution_count": 3,
   "id": "bfd27e77-f091-404a-bb78-e79544860f49",
   "metadata": {},
   "outputs": [
    {
     "name": "stdout",
     "output_type": "stream",
     "text": [
      "10\n"
     ]
    }
   ],
   "source": [
    "# 6. 加入資料型態提示 Add Type Hints ->str\n",
    "def num_to_str(num: int) ->str:\n",
    "    return str(num)\n",
    "\n",
    "str1 = num_to_str(10)\n",
    "print(str1)"
   ]
  },
  {
   "cell_type": "markdown",
   "id": "c18e1abc-999f-4c7f-84e4-8f63326204c2",
   "metadata": {},
   "source": [
    "### 7. Test\n",
    "1. The very simplest way to test Python programs is to add print() statements\n",
    "2. Python code checker. The most popular are pylint and pyflakes : pip install pylint  & pip install pyflakes "
   ]
  },
  {
   "cell_type": "code",
   "execution_count": null,
   "id": "849f3c94-be13-46f0-95c8-2dfce2a3419a",
   "metadata": {},
   "outputs": [],
   "source": [
    "#符合標準寫法: test : pylint style3.py , pep8 style3.py\n",
    "# pip install pep8 ->  pep8 style3.py\n",
    "\"Module docstring goes here\"\n",
    "\n",
    "def func():\n",
    "    \"Function docstring goes here. Hi, Mom!\"\n",
    "    first = 1\n",
    "    second = 2\n",
    "    third = 3\n",
    "    print(first)\n",
    "    print(second)\n",
    "    print(third)\n",
    "\n",
    "func()"
   ]
  },
  {
   "cell_type": "code",
   "execution_count": null,
   "id": "d289300f-9074-4be4-a4bd-2761123d8b35",
   "metadata": {},
   "outputs": [],
   "source": [
    "# 3.Test with unittest \n",
    "# cap.py\n",
    "def just_do_it(text):\n",
    "    from string import capwords\n",
    "    return capwords(text)\n",
    "    #return text.title()\n",
    "    # return text.capitalize()\n",
    "# test_cap.py\n",
    "import unittest\n",
    "import cap\n",
    "class TestCap(unittest.TestCase):\n",
    "    def setUp(self):\n",
    "        pass\n",
    "    def tearDown(self):\n",
    "        pass\n",
    "    def test_one_word(self):\n",
    "        text = 'duck'\n",
    "        result = cap.just_do_it(text)\n",
    "        # self.assertEqual(expected, result) 來替我們比對 expected 以及實際的 result\n",
    "        self.assertEqual(result, 'Duck')\n",
    "    def test_multiple_words(self):\n",
    "        text = 'a veritable flock of ducks'\n",
    "        result = cap.just_do_it(text)\n",
    "        self.assertEqual(result, 'A Veritable Flock Of Ducks')\n",
    "        \n",
    "if __name__ == '__main__':\n",
    "    unittest.main()\n",
    "\n",
    "#run:  python test_cap.py"
   ]
  },
  {
   "cell_type": "code",
   "execution_count": 9,
   "id": "a94ba2b3-03ec-4666-bf4a-4b677da53012",
   "metadata": {},
   "outputs": [
    {
     "name": "stderr",
     "output_type": "stream",
     "text": [
      "E\n",
      "======================================================================\n",
      "ERROR: C:\\Users\\mikal\\AppData\\Roaming\\jupyter\\runtime\\kernel-12e52f2c-3d86-4312-93d6-0d999eac43ba (unittest.loader._FailedTest)\n",
      "----------------------------------------------------------------------\n",
      "AttributeError: module '__main__' has no attribute 'C:\\Users\\mikal\\AppData\\Roaming\\jupyter\\runtime\\kernel-12e52f2c-3d86-4312-93d6-0d999eac43ba'\n",
      "\n",
      "----------------------------------------------------------------------\n",
      "Ran 1 test in 0.001s\n",
      "\n",
      "FAILED (errors=1)\n"
     ]
    },
    {
     "ename": "SystemExit",
     "evalue": "True",
     "output_type": "error",
     "traceback": [
      "An exception has occurred, use %tb to see the full traceback.\n",
      "\u001b[1;31mSystemExit\u001b[0m\u001b[1;31m:\u001b[0m True\n"
     ]
    },
    {
     "name": "stderr",
     "output_type": "stream",
     "text": [
      "C:\\Users\\mikal\\anaconda3\\lib\\site-packages\\IPython\\core\\interactiveshell.py:3445: UserWarning: To exit: use 'exit', 'quit', or Ctrl-D.\n",
      "  warn(\"To exit: use 'exit', 'quit', or Ctrl-D.\", stacklevel=1)\n"
     ]
    }
   ],
   "source": [
    "# modify  test_cap.py\n",
    "import unittest\n",
    "import cap\n",
    "\n",
    "class TestCap(unittest.TestCase):\n",
    "\n",
    "    def setUp(self):\n",
    "        pass\n",
    "\n",
    "    def tearDown(self):\n",
    "        pass\n",
    "\n",
    "    def test_one_word(self):\n",
    "        text = 'duck'\n",
    "        result = cap.just_do_it(text)\n",
    "        self.assertEqual(result, 'Duck')\n",
    "\n",
    "    def test_multiple_words(self):\n",
    "        text = 'a veritable flock of ducks'\n",
    "        result = cap.just_do_it(text)\n",
    "        self.assertEqual(result, 'A Veritable Flock Of Ducks')\n",
    "        \n",
    "    def test_words_with_apostrophes(self):\n",
    "        text = \"I'm fresh out of ideas\"\n",
    "        result = cap.just_do_it(text)\n",
    "        eq_(result, \"I'm Fresh Out Of Ideas\")\n",
    "\n",
    "if __name__ == '__main__':\n",
    "    unittest.main()\n",
    "    \n",
    "# $ python test_cap.py"
   ]
  },
  {
   "cell_type": "markdown",
   "id": "fa6b7459-a27a-4f60-ae35-756a94e6134a",
   "metadata": {},
   "source": [
    "#### Test with doctest"
   ]
  },
  {
   "cell_type": "code",
   "execution_count": null,
   "id": "f2408b74-9d2a-42d1-bd1b-70219d80a87a",
   "metadata": {},
   "outputs": [],
   "source": [
    "# Example 19-12. cap2.py\n",
    "def just_do_it(text):\n",
    "    \"\"\"\n",
    "    >>> just_do_it('duck')\n",
    "    'Duck'\n",
    "    >>> just_do_it('a veritable flock of ducks')\n",
    "    'A Veritable Flock Of Ducks'\n",
    "    >>> just_do_it(\"I'm fresh out of ideas\")\n",
    "    \"I'm Fresh Out Of Ideas\"\n",
    "    \"\"\"\n",
    "    from string import capwords\n",
    "    return capwords(text)\n",
    "if __name__ == '__main__':\n",
    "    import doctest\n",
    "    doctest.testmod()\n",
    "\n",
    "# $ python cap2.py\n",
    "# $ python cap2.py -v #(Give it the verbose (-v) option to see what actually happened: )"
   ]
  },
  {
   "cell_type": "markdown",
   "id": "56c160c5-3695-4adf-a4d2-912c7643c24f",
   "metadata": {},
   "source": [
    "#### Test with nose :  $ pip install nose"
   ]
  },
  {
   "cell_type": "code",
   "execution_count": null,
   "id": "432976c7-a390-4edf-8d62-326aa72ac142",
   "metadata": {},
   "outputs": [],
   "source": [
    "# Example 19-13. test_cap_nose.py\n",
    "import cap\n",
    "from nose.tools import eq_\n",
    "def test_one_word():\n",
    "    text = 'duck'\n",
    "    result = cap.just_do_it(text)\n",
    "    eq_(result, 'Duck')\n",
    "def test_multiple_words():\n",
    "    text = 'a veritable flock of ducks'\n",
    "    result = cap.just_do_it(text)\n",
    "    eq_(result, 'A Veritable Flock Of Ducks')\n",
    "def test_words_with_apostrophes():\n",
    "    text = \"I'm fresh out of ideas\"\n",
    "    result = cap.just_do_it(text)\n",
    "    eq_(result, \"I'm Fresh Out Of Ideas\")\n",
    "def test_words_with_quotes():\n",
    "    text = \"\\\"You're despicable,\\\" said Daffy Duck\"\n",
    "    result = cap.just_do_it(text)\n",
    "    eq_(result, \"\\\"You're Despicable,\\\" Said Daffy Duck\")\n",
    "# Run the tests:\n",
    "# $ nosetests test_cap_nose.py\n"
   ]
  },
  {
   "cell_type": "markdown",
   "id": "5cb1c13e-f549-4b95-ad61-ee9d1216ba85",
   "metadata": {},
   "source": [
    "#### Continuous Integration(持續整合)\n",
    "* You can automate source control systems to run tests on all code as it’s checked in.\n",
    "1. buildbot\n",
    "Written in Python, this source control system automates building,testing, and releasing.\n",
    "2. jenkins\n",
    "This is written in Java, and seems to be the preferred CI tool of the moment.\n",
    "3. travis-ci\n",
    "This automates projects hosted at GitHub, and is free for open source projects.\n",
    "4. circleci\n",
    "This one is commercial but free for open source and private projects."
   ]
  },
  {
   "cell_type": "markdown",
   "id": "657ad54e-45b3-474b-bd5b-2387e82c2f58",
   "metadata": {},
   "source": [
    "### 8.Debug Python Code"
   ]
  },
  {
   "cell_type": "code",
   "execution_count": 11,
   "id": "2624b98b-cdac-4c09-9787-973b3faaa665",
   "metadata": {},
   "outputs": [
    {
     "name": "stdout",
     "output_type": "stream",
     "text": [
      "{'args': (1, 2, 3), 'kwargs': {}}\n",
      "{'args': (['a', 'b', 'argh'],), 'kwargs': {}}\n"
     ]
    }
   ],
   "source": [
    "# Use print() : Some useful things to print include vars(), which extracts the values of\n",
    "# your local variables, including function arguments:\n",
    "def func(*args, **kwargs):\n",
    "     print(vars())\n",
    "\n",
    "func(1, 2, 3)\n",
    "func(['a', 'b', 'argh'])"
   ]
  },
  {
   "cell_type": "markdown",
   "id": "06a53566-21fd-415d-bc90-7cd38a5d54c3",
   "metadata": {},
   "source": [
    "### 9.Use Decorators (裝飾器)"
   ]
  },
  {
   "cell_type": "code",
   "execution_count": 12,
   "id": "2968b8b8-81fa-40e9-88ab-2a3a60ad6a38",
   "metadata": {},
   "outputs": [
    {
     "name": "stdout",
     "output_type": "stream",
     "text": [
      "<generator object my_range at 0x000001D0A696AB30>\n",
      "1\n",
      "2\n",
      "3\n",
      "4\n"
     ]
    }
   ],
   "source": [
    "# ps : yield\n",
    "def my_range(first=0, last=10,step =1):\n",
    "    number=first\n",
    "    while number<last:\n",
    "        yield number\n",
    "        number+=step\n",
    "# generator object : 只執行一次\n",
    "ranger = my_range(1,5)    \n",
    "print(ranger)\n",
    "for x in ranger:\n",
    "    print(x)"
   ]
  },
  {
   "cell_type": "code",
   "execution_count": 13,
   "id": "f680794f-2605-4f06-b958-385f5cda4436",
   "metadata": {},
   "outputs": [
    {
     "name": "stdout",
     "output_type": "stream",
     "text": [
      "<generator object <genexpr> at 0x000001D0A696AEB0>\n",
      "('a', '1')\n",
      "('b', '2')\n"
     ]
    }
   ],
   "source": [
    "genobj=(pair for pair in zip(['a','b'],['1','2']))\n",
    "print(genobj)\n",
    "for thing in genobj:\n",
    "    print(thing)"
   ]
  },
  {
   "cell_type": "code",
   "execution_count": null,
   "id": "4c331b31-8d1d-49ba-955c-a37705f93dde",
   "metadata": {},
   "outputs": [],
   "source": [
    "# decorate : A decorator is a function that takes one function as input and returns another function.\n",
    "# *args and **kwargs\n",
    "# Inner functions\n",
    "# Functions as arguments\n",
    "# The function document_it() defines a decorator that will do the following:\n",
    "#  1. Print the function’s name and the values of its arguments\n",
    "#  2. Run the function with the arguments\n",
    "#  3. Print the result\n",
    "#  4. Return the modified function for use"
   ]
  },
  {
   "cell_type": "code",
   "execution_count": 17,
   "id": "7ea1ca2b-be05-4086-bdc9-fd67054ba7a2",
   "metadata": {},
   "outputs": [],
   "source": [
    "def document_it(func):\n",
    "    def new_function(*args, **kwargs):  # *args 傳所有參數， **kwargs 傳字典\n",
    "        print('Running function:', func.__name__)\n",
    "        print('Positional arguments:', args)\n",
    "        print('Keyword arguments:', kwargs)\n",
    "        result = func(*args, **kwargs)\n",
    "        print('Result:', result)\n",
    "        return result\n",
    "    return new_function"
   ]
  },
  {
   "cell_type": "code",
   "execution_count": 18,
   "id": "680c1edf-ffbe-44af-9b6e-17f79f75a402",
   "metadata": {},
   "outputs": [
    {
     "name": "stdout",
     "output_type": "stream",
     "text": [
      "8\n"
     ]
    }
   ],
   "source": [
    "def add_ints(a, b):\n",
    "    return a + b\n",
    "print(add_ints(3,5))"
   ]
  },
  {
   "cell_type": "code",
   "execution_count": 19,
   "id": "457658b5-a57e-41f8-965d-e5a3cf1bc9dc",
   "metadata": {},
   "outputs": [
    {
     "name": "stdout",
     "output_type": "stream",
     "text": [
      "Running function: add_ints\n",
      "Positional arguments: (3, 5)\n",
      "Keyword arguments: {}\n",
      "Result: 8\n"
     ]
    },
    {
     "data": {
      "text/plain": [
       "8"
      ]
     },
     "execution_count": 19,
     "metadata": {},
     "output_type": "execute_result"
    }
   ],
   "source": [
    "cooler_add_ints = document_it(add_ints)\n",
    "print(cooler_add_ints(3,5))"
   ]
  },
  {
   "cell_type": "code",
   "execution_count": 20,
   "id": "46b49b04-fab1-4917-a265-dd6de2b3898c",
   "metadata": {},
   "outputs": [
    {
     "name": "stdout",
     "output_type": "stream",
     "text": [
      "Running function: add_ints\n",
      "Positional arguments: (3, 5)\n",
      "Keyword arguments: {}\n",
      "Result: 8\n",
      "8\n"
     ]
    }
   ],
   "source": [
    "@document_it\n",
    "def add_ints(a, b):\n",
    "    return a + b\n",
    "\n",
    "print(add_ints(3,5))"
   ]
  },
  {
   "cell_type": "code",
   "execution_count": 22,
   "id": "ed5d4b6f-ca5f-456b-9e8c-b2f45625171f",
   "metadata": {},
   "outputs": [],
   "source": [
    "def square_it(func):\n",
    "    def new_function(*args, **kwargs):\n",
    "        result = func(*args, **kwargs)\n",
    "        return result * result\n",
    "    return new_function"
   ]
  },
  {
   "cell_type": "code",
   "execution_count": 24,
   "id": "c452c840-3b6a-47da-9f4e-1e98b32eed3e",
   "metadata": {},
   "outputs": [
    {
     "name": "stdout",
     "output_type": "stream",
     "text": [
      "Running function: new_function\n",
      "Positional arguments: (3, 5)\n",
      "Keyword arguments: {}\n",
      "Result: 64\n",
      "64\n"
     ]
    }
   ],
   "source": [
    "@document_it\n",
    "@square_it\n",
    "def add_ints(a, b):\n",
    "    return a + b\n",
    "print(add_ints(3,5))"
   ]
  },
  {
   "cell_type": "code",
   "execution_count": 25,
   "id": "cff02a95-2369-42c8-8cd2-167a3da1924d",
   "metadata": {},
   "outputs": [
    {
     "name": "stdout",
     "output_type": "stream",
     "text": [
      "Running function: add_ints\n",
      "Positional arguments: (3, 5)\n",
      "Keyword arguments: {}\n",
      "Result: 8\n",
      "64\n"
     ]
    }
   ],
   "source": [
    "@square_it\n",
    "@document_it\n",
    "def add_ints(a, b):\n",
    "    return a + b\n",
    "print(add_ints(3,5))"
   ]
  },
  {
   "cell_type": "code",
   "execution_count": null,
   "id": "fb3501a8-ee02-4db5-9c1b-6033f42a2436",
   "metadata": {},
   "outputs": [],
   "source": [
    "def dump(func):\n",
    "\"Print input arguments and output value(s)\"\n",
    "    def wrapped(*args, **kwargs):\n",
    "        print(\"Function name:\", func.__name__)\n",
    "        print(\"Input arguments:\", ' '.join(map(str, args)))\n",
    "        print(\"Input keyword arguments:\", kwargs.items())\n",
    "        output = func(*args, **kwargs)\n",
    "        print(\"Output:\", output)\n",
    "        return output\n",
    "    return wrapped"
   ]
  },
  {
   "cell_type": "code",
   "execution_count": null,
   "id": "8b4d2665-8bd7-482d-967c-dc592919268b",
   "metadata": {},
   "outputs": [],
   "source": [
    "# Example 19-15. test_dump.py\n",
    "from dump import dump\n",
    "@dump\n",
    "def double(*args, **kwargs):\n",
    "    \"Double every argument\"\n",
    "    output_list = [ 2 * arg for arg in args ]\n",
    "    output_dict = { k:2*v for k,v in kwargs.items() }\n",
    "    return output_list, output_dict\n",
    "\n",
    "if __name__ == '__main__':\n",
    "    output = double(3, 5, first=100, next=98.6, last=-40)"
   ]
  },
  {
   "cell_type": "markdown",
   "id": "0c4d9fd5-c130-48d0-b16b-f775966ef7bc",
   "metadata": {},
   "source": [
    "### 10.Use pdb : standard Python debugger, pdb. standard Python debugger, pdb.\n",
    "* https://docs.python.org/3/library/pdb.html"
   ]
  },
  {
   "cell_type": "code",
   "execution_count": null,
   "id": "be788bb2-f56f-4c30-be06-8f50dbee2c60",
   "metadata": {},
   "outputs": [],
   "source": [
    "# Example 19-16. cities.csv\n",
    "France, Paris\n",
    "venuzuela,caracas\n",
    "LithuaniA,vilnius\n",
    "quit\n",
    "\n",
    "# Example 19-18. cities2.csv \n",
    "argentina,buenos aires\n",
    "bolivia,la paz\n",
    "brazil,brasilia\n",
    "chile,santiago\n",
    "colombia,Bogotá\n",
    "ecuador,quito\n",
    "falkland islands,stanley\n",
    "french guiana,cayenne\n",
    "guyana,georgetown\n",
    "paraguay,Asunción\n",
    "peru,lima\n",
    "suriname,paramaribo\n",
    "uruguay,montevideo\n",
    "venezuela,caracas\n",
    "quit"
   ]
  },
  {
   "cell_type": "code",
   "execution_count": null,
   "id": "95f23acb-2901-41b9-b77f-84b9c8857681",
   "metadata": {},
   "outputs": [],
   "source": [
    "# Example 19-17. capitals.py\n",
    "def process_cities(filename):\n",
    "    with open(filename, 'rt') as file:\n",
    "        for line in file:\n",
    "            line = line.strip()\n",
    "            if 'quit' in line.lower():\n",
    "                return\n",
    "            country, city = line.split(',')\n",
    "            city = city.strip()\n",
    "            country = country.strip()\n",
    "            print(city.title(), country.title(), sep=',')\n",
    "if __name__ == '__main__':\n",
    "    import sys\n",
    "    process_cities(sys.argv[1])  # sys.argv[1] 自行輸入檔名\n",
    "\n",
    "# python capitals.py cities.csv\n",
    "# python capitals.py cities2.csv\n",
    "# To use the debugger, import the pdb module from the command line by typing -m pdb, like so: python -m pdb capitals.py cities2.csv"
   ]
  },
  {
   "cell_type": "code",
   "execution_count": null,
   "id": "3caba40e-bc89-42f4-a679-f7e2d60dd363",
   "metadata": {},
   "outputs": [],
   "source": [
    "# Example 19-19. capitals2.py\n",
    "def process_cities(filename):\n",
    "    with open(filename, 'rt') as file:\n",
    "        for line in file:\n",
    "        line = line.strip()\n",
    "        if 'quit' == line.lower():\n",
    "            return\n",
    "        country, city = line.split(',')\n",
    "        city = city.strip()\n",
    "        country = country.strip()\n",
    "        print(city.title(), country.title(), sep=',')\n",
    "if __name__ == '__main__':\n",
    "    import sys\n",
    "    process_cities(sys.argv[1])\n",
    "# in CMD : python capitals2.py cities2.csv"
   ]
  },
  {
   "cell_type": "markdown",
   "id": "14bd2a22-e8ac-4b13-a459-f09e4469311a",
   "metadata": {},
   "source": [
    "### Use breakpoint() : For example, you could specify use of the web-based remote debugger web-pdb:\n",
    "* $ export PYTHONBREAKPOINT='web_pdb.set_trace'\n",
    "\n",
    "### Log Error Messages\n",
    "* The message that you want to save to the log\n",
    "* Ranked priority levels and matching functions: debug(),info(), warn(), error(), and critical()\n",
    "* One or more logger objects as the main connection with the module\n",
    "* Handlers that direct the message to your terminal, a file, a database, or somewhere else\n",
    "* Formatters that create the output\n",
    "* Filters that make decisions based on the input"
   ]
  },
  {
   "cell_type": "code",
   "execution_count": null,
   "id": "59cf3083-f841-4d03-84ad-98271deb68bb",
   "metadata": {},
   "outputs": [],
   "source": [
    "# The standard Python library module is logging. https://docs.python.org/3/library/logging.html\n",
    "import logging\n",
    "    logging.debug(\"Looks like rain\")\n",
    "    logging.info(\"And hail\")\n",
    "    logging.warn(\"Did I hear thunder?\")\n",
    "\n",
    "    logging.error(\"Was that lightning?\")\n",
    "    logging.critical(\"Stop fencing and get inside!\")\n",
    "\n",
    "import logging\n",
    "    logging.basicConfig(level=logging.DEBUG)\n",
    "    logging.debug(\"It's raining again\")\n",
    "    logging.info(\"With hail the size of hailstones\")\n",
    "    \n",
    "import logging\n",
    "    logging.basicConfig(level='DEBUG')\n",
    "    logger = logging.getLogger('bunyan')\n",
    "    logger.debug('Timber!')"
   ]
  },
  {
   "cell_type": "code",
   "execution_count": 27,
   "id": "3c086c88-fda5-4e73-8d94-71e1d6b014a6",
   "metadata": {},
   "outputs": [
    {
     "name": "stdout",
     "output_type": "stream",
     "text": [
      "0.0\n"
     ]
    }
   ],
   "source": [
    "### Optimize : Measure Timing\n",
    "from time import time\n",
    "t1 = time()\n",
    "num = 5\n",
    "num *= 2\n",
    "print(time() - t1)"
   ]
  },
  {
   "cell_type": "code",
   "execution_count": 28,
   "id": "abfb7bbc-9635-49d2-9e7e-6028d1c2793b",
   "metadata": {},
   "outputs": [
    {
     "name": "stdout",
     "output_type": "stream",
     "text": [
      "1.0073065757751465\n"
     ]
    }
   ],
   "source": [
    "from time import time, sleep\n",
    "t1 = time()\n",
    "sleep(1.0)\n",
    "print(time() - t1)"
   ]
  },
  {
   "cell_type": "code",
   "execution_count": 29,
   "id": "85508daa-4b39-47b5-89fd-a4def25a741e",
   "metadata": {},
   "outputs": [
    {
     "name": "stdout",
     "output_type": "stream",
     "text": [
      "1.0999938240274787e-06\n"
     ]
    }
   ],
   "source": [
    "from timeit import timeit\n",
    "print(timeit('num = 5; num *= 2', number=1))"
   ]
  },
  {
   "cell_type": "code",
   "execution_count": 30,
   "id": "8374cfcd-4b9f-45fc-b86b-650e7fdc5f84",
   "metadata": {},
   "outputs": [
    {
     "name": "stdout",
     "output_type": "stream",
     "text": [
      "[5.999900167807937e-07, 2.00001522898674e-07, 1.00000761449337e-07]\n"
     ]
    }
   ],
   "source": [
    "from timeit import repeat\n",
    "print(repeat('num = 5; num *= 2', number=1, repeat=3))"
   ]
  },
  {
   "cell_type": "code",
   "execution_count": 31,
   "id": "53eea890-9d00-426b-8b9a-952efed3101e",
   "metadata": {},
   "outputs": [
    {
     "name": "stdout",
     "output_type": "stream",
     "text": [
      "1.0071\n"
     ]
    }
   ],
   "source": [
    "import time\n",
    "from timeit import timeit\n",
    "def snooze():\n",
    "    time.sleep(1)\n",
    "\n",
    "seconds = timeit('snooze()', globals=globals(), number=1)\n",
    "print(\"%.4f\" % seconds)"
   ]
  },
  {
   "cell_type": "code",
   "execution_count": 32,
   "id": "fd51971a-6af3-4f04-85e2-54c63e5bf4dc",
   "metadata": {},
   "outputs": [
    {
     "name": "stdout",
     "output_type": "stream",
     "text": [
      "1.0143\n"
     ]
    }
   ],
   "source": [
    "import time\n",
    "\n",
    "def snooze():\n",
    "    time.sleep(1)\n",
    "\n",
    "def time_decorator(func):\n",
    "    def inner(*args, **kwargs):\n",
    "        t1 = time.time()\n",
    "        result = func(*args, **kwargs)\n",
    "        t2 = time.time()\n",
    "        print(f\"{(t2-t1):.4f}\")\n",
    "        return result\n",
    "    return inner\n",
    "\n",
    "@time_decorator\n",
    "def naptime():\n",
    "    snooze()\n",
    "\n",
    "naptime()"
   ]
  },
  {
   "cell_type": "code",
   "execution_count": 33,
   "id": "127eb5e5-dc2e-42aa-b349-20d23f907586",
   "metadata": {},
   "outputs": [
    {
     "name": "stdout",
     "output_type": "stream",
     "text": [
      "make_list_1 takes 0.11522119998699054 seconds\n",
      "make_list_2 takes 0.056280600008904 seconds\n"
     ]
    }
   ],
   "source": [
    "# Example 19-24. time_lists.py\n",
    "from timeit import timeit\n",
    "def make_list_1():\n",
    "    result = []\n",
    "    for value in range(1000):\n",
    "        result.append(value)\n",
    "    return result\n",
    "def make_list_2():\n",
    "    result = [value for value in range(1000)]\n",
    "    return result\n",
    "\n",
    "print('make_list_1 takes', timeit(make_list_1, number=1000), 'seconds')\n",
    "print('make_list_2 takes', timeit(make_list_2, number=1000), 'seconds')"
   ]
  },
  {
   "cell_type": "markdown",
   "id": "111be690-13f1-4c92-b521-2c9959454380",
   "metadata": {},
   "source": [
    "### Cython, NumPy, and C Extensions : Cython https://cython.org/\n",
    "### PyPy :https://www.pypy.org/\n",
    "### Numba\n",
    "# $ pip install numba"
   ]
  },
  {
   "cell_type": "code",
   "execution_count": null,
   "id": "7da65357-b07b-4930-b494-fcd31b7bc03a",
   "metadata": {},
   "outputs": [],
   "source": [
    "import math\n",
    "from timeit import timeit\n",
    "from numba import jit\n",
    "\n",
    "def hypot(a, b):\n",
    "    return math.sqrt(a**2 + b**2)\n",
    "\n",
    "timeit('hypot(5, 6)', globals=globals())\n",
    "\n",
    "timeit('hypot(5, 6)', globals=globals())"
   ]
  },
  {
   "cell_type": "code",
   "execution_count": null,
   "id": "414561f3-ccce-41c0-bbd8-8129c77fae42",
   "metadata": {},
   "outputs": [],
   "source": [
    "@jit\n",
    "def hypot_jit(a, b):\n",
    "    return math.sqrt(a**2 + b**2)\n",
    "\n",
    "timeit('hypot_jit(5, 6)', globals=globals())\n",
    "\n",
    "timeit('hypot_jit(5, 6)', globals=globals())"
   ]
  },
  {
   "cell_type": "code",
   "execution_count": null,
   "id": "3f978510-56e8-44ea-a08e-ba018c685562",
   "metadata": {},
   "outputs": [],
   "source": [
    "@jit(nopython=True)\n",
    "def hypot_jit_nopy(a, b):\n",
    "    return math.sqrt(a**2 + b**2)\n",
    "\n",
    "timeit('hypot_jit_nopy(5, 6)', globals=globals())\n",
    "\n",
    "timeit('hypot_jit_nopy(5, 6)', globals=globals())"
   ]
  },
  {
   "cell_type": "markdown",
   "id": "1e26d328-0aec-4c9e-afd7-27ed7343995e",
   "metadata": {},
   "source": [
    "### Source Control\n",
    "#### Mercurial : https://www.mercurial-scm.org/\n",
    "#### GitHub : http://github.com\n",
    "* $下載程式碼 git clone https://github.com/madscheme/introducing-python\n",
    "* You can also download the code from the GitHub page: Click “Clone in Desktop” to open your computer’s version of\n",
    "git, if installed. Click “Download ZIP” to get a zipped archive of the programs.\n",
    "* Make a new directory and change to it: mkdir newdir ->cd newdir\n",
    "* Create a local Git repository in your current directory newdir: git init\n",
    "* Create a Python file called test.py, shown in Example 19-25,\n",
    "Example 19-25. test.py :print('Oops')\n",
    "* Add the file to the Git repository: git add test.py\n",
    "* git status\n",
    "* git commit -m \"simple print program\"\n",
    "* git status\n",
    "* git diff\n",
    "* git commit -m \"change the print string\"\n",
    "* git add test.py\n",
    "* git commit -m \"my first change\"\n",
    "* git log test.py\n"
   ]
  },
  {
   "cell_type": "code",
   "execution_count": null,
   "id": "730697b8-da40-490e-93d4-2e71800487b2",
   "metadata": {},
   "outputs": [],
   "source": []
  }
 ],
 "metadata": {
  "kernelspec": {
   "display_name": "Python 3",
   "language": "python",
   "name": "python3"
  },
  "language_info": {
   "codemirror_mode": {
    "name": "ipython",
    "version": 3
   },
   "file_extension": ".py",
   "mimetype": "text/x-python",
   "name": "python",
   "nbconvert_exporter": "python",
   "pygments_lexer": "ipython3",
   "version": "3.8.8"
  }
 },
 "nbformat": 4,
 "nbformat_minor": 5
}
