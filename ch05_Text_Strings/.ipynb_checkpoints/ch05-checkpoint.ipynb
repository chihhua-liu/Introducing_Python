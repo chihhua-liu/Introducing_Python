{
 "cells": [
  {
   "cell_type": "markdown",
   "id": "69c51ef9",
   "metadata": {},
   "source": [
    "# Chapter 5. Text Strings"
   ]
  },
  {
   "cell_type": "code",
   "execution_count": 1,
   "id": "e801f7a9",
   "metadata": {},
   "outputs": [
    {
     "data": {
      "text/plain": [
       "'Crackle'"
      ]
     },
     "execution_count": 1,
     "metadata": {},
     "output_type": "execute_result"
    }
   ],
   "source": [
    "# ps: Python :  單引號 ''  與雙引號 \" \" 是一樣的 \n",
    "'Snap'\n",
    "\"Crackle\"      # string"
   ]
  },
  {
   "cell_type": "code",
   "execution_count": 8,
   "id": "04f77f27",
   "metadata": {},
   "outputs": [
    {
     "data": {
      "text/plain": [
       "\"'Nay!' said the naysayer. 'Neigh?' said the horse.\""
      ]
     },
     "execution_count": 8,
     "metadata": {},
     "output_type": "execute_result"
    }
   ],
   "source": [
    "#單引號 ''  與雙引號  並用 : 建立包含引號字元的字串: 單引號內放雙引號，雙引號內放雙引號\n",
    "a = \"'Nay!' said the naysayer. 'Neigh?' said the horse.\"\n",
    "a"
   ]
  },
  {
   "cell_type": "code",
   "execution_count": 5,
   "id": "fa8434f3",
   "metadata": {},
   "outputs": [
    {
     "data": {
      "text/plain": [
       "'A \"two by four\" is actually 1 1⁄2\" × 3 1⁄2\".'"
      ]
     },
     "execution_count": 5,
     "metadata": {},
     "output_type": "execute_result"
    }
   ],
   "source": [
    "'A \"two by four\" is actually 1 1⁄2\" × 3 1⁄2\".'"
   ]
  },
  {
   "cell_type": "code",
   "execution_count": 9,
   "id": "8fbc4a4f",
   "metadata": {},
   "outputs": [
    {
     "name": "stdout",
     "output_type": "stream",
     "text": [
      "There was a Young Lady of Norway,\n",
      "Who casually sat in a doorway;\n",
      "When the door squeezed her flat,\n",
      "She exclaimed, \"What of that?\"\n",
      "... This courageous Young Lady of Norway.\n",
      "===========================\n"
     ]
    },
    {
     "data": {
      "text/plain": [
       "'There was a Young Lady of Norway,\\nWho casually sat in a doorway;\\nWhen the door squeezed her flat,\\nShe exclaimed, \"What of that?\"\\n... This courageous Young Lady of Norway.'"
      ]
     },
     "execution_count": 9,
     "metadata": {},
     "output_type": "execute_result"
    }
   ],
   "source": [
    "# used 三個單引號或是三個雙引號 for 長字串   '''     '''    or  \"\"\"   \"\"\"\n",
    "poem = '''There was a Young Lady of Norway,\n",
    "Who casually sat in a doorway;\n",
    "When the door squeezed her flat,\n",
    "She exclaimed, \"What of that?\"\n",
    "... This courageous Young Lady of Norway.'''\n",
    "print(poem)\n",
    "print(\"===========================\")\n",
    "poem"
   ]
  },
  {
   "cell_type": "markdown",
   "id": "cba2f760",
   "metadata": {},
   "source": [
    "# Create with str()"
   ]
  },
  {
   "cell_type": "code",
   "execution_count": 15,
   "id": "4c7dc5b0",
   "metadata": {},
   "outputs": [
    {
     "name": "stdout",
     "output_type": "stream",
     "text": [
      "a = 98.6 , a type = <class 'str'>\n"
     ]
    }
   ],
   "source": [
    "a = str(98.6)   # '98.6' is string\n",
    "print(\"a = %s , a type = %s\" % (a , type(a)))"
   ]
  },
  {
   "cell_type": "code",
   "execution_count": 17,
   "id": "9df28001",
   "metadata": {},
   "outputs": [
    {
     "name": "stdout",
     "output_type": "stream",
     "text": [
      "palindrome = \n",
      " A man,\n",
      " A plan,\n",
      " A canal:\n",
      " Panama.\n"
     ]
    }
   ],
   "source": [
    "# Escape with \\\n",
    "#(1)  \\n 換行\n",
    "\n",
    "palindrome = 'A man,\\n A plan,\\n A canal:\\n Panama.'\n",
    "print(\"palindrome = \\n %s\" %(palindrome ))"
   ]
  },
  {
   "cell_type": "code",
   "execution_count": 19,
   "id": "f31bfcd5",
   "metadata": {},
   "outputs": [
    {
     "name": "stdout",
     "output_type": "stream",
     "text": [
      "abcdefghijk\n",
      "a\tbc\n",
      "ab\tc\n"
     ]
    }
   ],
   "source": [
    "#(2)  \\t  跳8格\n",
    "print(\"abcdefghijk\")     # /t 間隔一個tab 鍵，後移8個char\n",
    "print(\"a\\tbc\")\n",
    "print(\"ab\\tc\")"
   ]
  },
  {
   "cell_type": "code",
   "execution_count": 21,
   "id": "17594693",
   "metadata": {},
   "outputs": [
    {
     "name": "stdout",
     "output_type": "stream",
     "text": [
      "\"I did nothing!\" he said. \"Or that other thing.\"\n"
     ]
    },
    {
     "data": {
      "text/plain": [
       "'\"I did nothing!\" he said. \"Or that other thing.\"'"
      ]
     },
     "execution_count": 21,
     "metadata": {},
     "output_type": "execute_result"
    }
   ],
   "source": [
    "#(3)  \\\" : 在字串中使用 \"\n",
    "\n",
    "testimony = \"\\\"I did nothing!\\\" he said. \\\"Or that other thing.\\\"\"     \n",
    "print(testimony)\n",
    "testimony"
   ]
  },
  {
   "cell_type": "code",
   "execution_count": 22,
   "id": "4a704055",
   "metadata": {},
   "outputs": [
    {
     "name": "stdout",
     "output_type": "stream",
     "text": [
      "The backslash (\\) bends over backwards to please you.\n"
     ]
    }
   ],
   "source": [
    "#(4) \\\\ : 在字串中使用 \\  (first \\ is Escope , second \\ is \\)\n",
    "speech = 'The backslash (\\\\) bends over backwards to please you.'\n",
    "print(speech)"
   ]
  },
  {
   "cell_type": "code",
   "execution_count": 23,
   "id": "fe434c02",
   "metadata": {},
   "outputs": [
    {
     "name": "stdout",
     "output_type": "stream",
     "text": [
      "info = Type a \\n to get a new line in a normal string\n"
     ]
    },
    {
     "data": {
      "text/plain": [
       "'Type a \\\\n to get a new line in a normal string'"
      ]
     },
     "execution_count": 23,
     "metadata": {},
     "output_type": "execute_result"
    }
   ],
   "source": [
    "# r'string'  加一個 r使用原字串，字串內寫什麼就是什麼 ， r is important  for AI \n",
    "info = r'Type a \\n to get a new line in a normal string'\n",
    "print(\"info = %s\" % info)\n",
    "info"
   ]
  },
  {
   "cell_type": "code",
   "execution_count": 26,
   "id": "2b831426",
   "metadata": {},
   "outputs": [
    {
     "name": "stdout",
     "output_type": "stream",
     "text": [
      "Boys and girls, come out to play.\n",
      "The moon doth shine as bright as day.\n"
     ]
    },
    {
     "data": {
      "text/plain": [
       "'Boys and girls, come out to play.\\nThe moon doth shine as bright as day.'"
      ]
     },
     "execution_count": 26,
     "metadata": {},
     "output_type": "execute_result"
    }
   ],
   "source": [
    " poem = r'''Boys and girls, come out to play.\n",
    "... The moon doth shine as bright as day.'''\n",
    "\n",
    "print(poem)\n",
    "poem"
   ]
  },
  {
   "cell_type": "markdown",
   "id": "1d216128",
   "metadata": {},
   "source": [
    "# Combine by Using +"
   ]
  },
  {
   "cell_type": "code",
   "execution_count": 28,
   "id": "755b0a1a",
   "metadata": {},
   "outputs": [
    {
     "name": "stdout",
     "output_type": "stream",
     "text": [
      "Release the kraken! No, wait!\n"
     ]
    },
    {
     "data": {
      "text/plain": [
       "'Release the kraken! No, wait!'"
      ]
     },
     "execution_count": 28,
     "metadata": {},
     "output_type": "execute_result"
    }
   ],
   "source": [
    "teststring = 'Release the kraken! ' + 'No, wait!'\n",
    "print(teststring)\n",
    "teststring"
   ]
  },
  {
   "cell_type": "code",
   "execution_count": 31,
   "id": "261f4187",
   "metadata": {},
   "outputs": [
    {
     "name": "stdout",
     "output_type": "stream",
     "text": [
      "My word!A gentleman caller!\n",
      "Alas! The kraken!\n"
     ]
    },
    {
     "data": {
      "text/plain": [
       "'Alas! The kraken!'"
      ]
     },
     "execution_count": 31,
     "metadata": {},
     "output_type": "execute_result"
    }
   ],
   "source": [
    "teststr = \"My word!\"  \"A gentleman caller!\"\n",
    "print(teststr)\n",
    "teststr1 = \"Alas! \"\"The kraken!\"\n",
    "print(teststr1)\n",
    "teststr1"
   ]
  },
  {
   "cell_type": "code",
   "execution_count": 32,
   "id": "af9a0c8d",
   "metadata": {},
   "outputs": [
    {
     "data": {
      "text/plain": [
       "'aeiou'"
      ]
     },
     "execution_count": 32,
     "metadata": {},
     "output_type": "execute_result"
    }
   ],
   "source": [
    "vowels = ( 'a'\n",
    "    \"e\" '''i'''\n",
    "    'o' \"\"\"u\"\"\"\n",
    " )\n",
    "vowels"
   ]
  },
  {
   "cell_type": "code",
   "execution_count": 34,
   "id": "b01b7f83",
   "metadata": {},
   "outputs": [
    {
     "name": "stdout",
     "output_type": "stream",
     "text": [
      "NA NA NA NA \n",
      "Hey Hey Hey \n",
      "Goodbye\n"
     ]
    }
   ],
   "source": [
    "start = 'NA ' * 4 + '\\n' \n",
    "middle = 'Hey ' * 3 + '\\n' \n",
    "end =\"Goodbye\"\n",
    "print(start + middle + end)"
   ]
  },
  {
   "cell_type": "code",
   "execution_count": 37,
   "id": "28082e13",
   "metadata": {},
   "outputs": [
    {
     "name": "stdout",
     "output_type": "stream",
     "text": [
      "a\n",
      "b\n",
      "-------------------\n",
      "letters[-1] =  z\n",
      "letters[-2] =  y\n",
      "letters[25] =  z\n",
      "letters[5] =  f\n"
     ]
    }
   ],
   "source": [
    "# Get a Character with []\n",
    "letters = 'abcdefghijklmnopqrstuvwxyz'   # string 有 Index form 0 ~len(letters)-1\n",
    "print(letters[0])\n",
    "print(letters[1])\n",
    "print(\"-------------------\")\n",
    "print(\"letters[-1] = \",letters[-1] )     #[-1] is last Char\n",
    "print(\"letters[-2] = \",letters[-2] ) \n",
    "   \n",
    "print(\"letters[25] = \",letters[25] ) \n",
    "print(\"letters[5] = \",letters[5] ) "
   ]
  },
  {
   "cell_type": "code",
   "execution_count": 38,
   "id": "03349deb",
   "metadata": {},
   "outputs": [
    {
     "ename": "TypeError",
     "evalue": "'str' object does not support item assignment",
     "output_type": "error",
     "traceback": [
      "\u001b[1;31m---------------------------------------------------------------------------\u001b[0m",
      "\u001b[1;31mTypeError\u001b[0m                                 Traceback (most recent call last)",
      "\u001b[1;32m<ipython-input-38-503d95763099>\u001b[0m in \u001b[0;36m<module>\u001b[1;34m\u001b[0m\n\u001b[0;32m      1\u001b[0m \u001b[0mname\u001b[0m \u001b[1;33m=\u001b[0m \u001b[1;34m'Henny'\u001b[0m\u001b[1;33m\u001b[0m\u001b[1;33m\u001b[0m\u001b[0m\n\u001b[1;32m----> 2\u001b[1;33m \u001b[0mname\u001b[0m\u001b[1;33m[\u001b[0m\u001b[1;36m0\u001b[0m\u001b[1;33m]\u001b[0m \u001b[1;33m=\u001b[0m \u001b[1;34m'P'\u001b[0m     \u001b[1;31m# is error: string Because strings are immutable\u001b[0m\u001b[1;33m\u001b[0m\u001b[1;33m\u001b[0m\u001b[0m\n\u001b[0m",
      "\u001b[1;31mTypeError\u001b[0m: 'str' object does not support item assignment"
     ]
    }
   ],
   "source": [
    "name = 'Henny'\n",
    "name[0] = 'P'     # is error: string Because strings are immutable"
   ]
  },
  {
   "attachments": {
    "image.png": {
     "image/png": "[encoded data removed]"
    }
   },
   "cell_type": "markdown",
   "id": "872050d7",
   "metadata": {},
   "source": [
    "# Slice \n",
    "![image.png](attachment:image.png)"
   ]
  },
  {
   "cell_type": "code",
   "execution_count": 44,
   "id": "75562101",
   "metadata": {},
   "outputs": [
    {
     "name": "stdout",
     "output_type": "stream",
     "text": [
      "name = Henny \n",
      "name1 =Penn \n"
     ]
    }
   ],
   "source": [
    "name = 'Henny'\n",
    "name.replace('H', 'P')\n",
    "print(\"name = %s \" % name)\n",
    "\n",
    "name1 = 'Henny'\n",
    "name1 ='P' + name1[1:4]          # p + index[ 1 to 4-1 ] : enny\n",
    "print(\"name1 =%s \" % name1)\n"
   ]
  },
  {
   "cell_type": "code",
   "execution_count": 60,
   "id": "1d671314",
   "metadata": {},
   "outputs": [
    {
     "name": "stdout",
     "output_type": "stream",
     "text": [
      "abcdefghijklmnopqrstuvwxyz\n",
      "uvwxyz\n",
      "klmnopqrstuvwxyz\n",
      "mno\n",
      "xyz\n",
      "uvwx\n",
      "letters[18:-3]=stuvw\n",
      "ahov\n",
      "ehknqt\n",
      "tx\n",
      "zyxwvutsrqponmlkjihgfedcba\n",
      "zyxwvutsrqponmlkjihgfedcba\n"
     ]
    }
   ],
   "source": [
    "letters = 'abcdefghijklmnopqrstuvwxyz'\n",
    "print(letters[:])\n",
    "print(letters[20:])\n",
    "print(letters[10:])\n",
    "print(letters[12:15])\n",
    "print(letters[-3:])\n",
    "print(letters[-6:-2])     # we extract from 6 before the end to 3 before the end:\n",
    "print(\"letters[18:-3]=%s\" % letters[18:-3])     # h starting at –3 gets the x, but ending at –3 actually stops at –4, the w:\n",
    "print(letters[::7])       #From the start to the end, in steps of 7 characters:\n",
    "print(letters[4:20:3])    # From offset 4 to 19, by 3\n",
    "print(letters[19::4])     #From offset 19 to the end, by 4\n",
    "print(letters[-1::-1])    # from end to start\n",
    "print(letters[::-1])      # from end to start "
   ]
  },
  {
   "cell_type": "markdown",
   "id": "206713ac",
   "metadata": {},
   "source": [
    "# Get Length with len()  : Get String length"
   ]
  },
  {
   "cell_type": "code",
   "execution_count": 62,
   "id": "9836919d",
   "metadata": {},
   "outputs": [
    {
     "data": {
      "text/plain": [
       "26"
      ]
     },
     "execution_count": 62,
     "metadata": {},
     "output_type": "execute_result"
    }
   ],
   "source": [
    "a = len(letters)\n",
    "a"
   ]
  },
  {
   "cell_type": "code",
   "execution_count": 63,
   "id": "eb7fd382",
   "metadata": {},
   "outputs": [
    {
     "data": {
      "text/plain": [
       "0"
      ]
     },
     "execution_count": 63,
     "metadata": {},
     "output_type": "execute_result"
    }
   ],
   "source": [
    "empty = \"\"\n",
    "len(empty)"
   ]
  },
  {
   "cell_type": "markdown",
   "id": "9c33f6f9",
   "metadata": {},
   "source": [
    "# Split with split()   return is list (like [a,b,c])"
   ]
  },
  {
   "cell_type": "code",
   "execution_count": 64,
   "id": "71aea8ec",
   "metadata": {},
   "outputs": [
    {
     "data": {
      "text/plain": [
       "['get gloves', 'get mask', 'give cat vitamins', 'call ambulance']"
      ]
     },
     "execution_count": 64,
     "metadata": {},
     "output_type": "execute_result"
    }
   ],
   "source": [
    "tasks = 'get gloves,get mask,give cat vitamins,call ambulance' \n",
    "tasks.split(',')              # NLP used"
   ]
  },
  {
   "cell_type": "code",
   "execution_count": 65,
   "id": "8b67c016",
   "metadata": {},
   "outputs": [
    {
     "data": {
      "text/plain": [
       "['get', 'gloves,get', 'mask,give', 'cat', 'vitamins,call', 'ambulance']"
      ]
     },
     "execution_count": 65,
     "metadata": {},
     "output_type": "execute_result"
    }
   ],
   "source": [
    "tasks = 'get gloves,get mask,give cat vitamins,call ambulance' \n",
    "tasks.split()              # 不輸入符號，一樣可以自動分(必須是空白，換行，空格，tab)"
   ]
  },
  {
   "cell_type": "markdown",
   "id": "8aa493c6",
   "metadata": {},
   "source": [
    "# Combine by Using join()"
   ]
  },
  {
   "cell_type": "code",
   "execution_count": 69,
   "id": "b2fbc623",
   "metadata": {},
   "outputs": [
    {
     "name": "stdout",
     "output_type": "stream",
     "text": [
      "Found and signing book deals: Yeti, Bigfoot, Loch Ness Monster\n"
     ]
    }
   ],
   "source": [
    "crypto_list = ['Yeti', 'Bigfoot', 'Loch Ness Monster']\n",
    "crypto_string = ', '.join(crypto_list)\n",
    "print('Found and signing book deals:', crypto_string)"
   ]
  },
  {
   "cell_type": "markdown",
   "id": "a9958629",
   "metadata": {},
   "source": [
    "# Substitute by Using replace()"
   ]
  },
  {
   "cell_type": "code",
   "execution_count": 91,
   "id": "b51c2ef8",
   "metadata": {},
   "outputs": [
    {
     "data": {
      "text/plain": [
       "'a marmoset goes into a bar...'"
      ]
     },
     "execution_count": 91,
     "metadata": {},
     "output_type": "execute_result"
    }
   ],
   "source": [
    "setup = \"a duck goes into a bar...\"\n",
    "setuptest = setup.replace('duck', 'marmoset',100)\n",
    "# setuptest = setup.replace('a ', 'a famous ', 100)\n",
    "setuptest"
   ]
  },
  {
   "cell_type": "markdown",
   "id": "40c7dd99",
   "metadata": {},
   "source": [
    "# Strip with strip() : strip , lstrip , rstrip"
   ]
  },
  {
   "cell_type": "code",
   "execution_count": 99,
   "id": "5a415256",
   "metadata": {},
   "outputs": [
    {
     "name": "stdout",
     "output_type": "stream",
     "text": [
      "1111111earth111111\n",
      "earth\n",
      "earth111111\n",
      "1111111earth\n"
     ]
    }
   ],
   "source": [
    "world = '1111111earth111111'\n",
    "\n",
    "worldStrip=world.strip(\"1\")    #strip\n",
    "print(world)\n",
    "print(worldStrip)\n",
    "\n",
    "worldLStrip=world.lstrip(\"1\")\n",
    "print(worldLStrip)\n",
    "\n",
    "worldRStrip=world.rstrip(\"1\")\n",
    "print(worldRStrip)"
   ]
  },
  {
   "cell_type": "code",
   "execution_count": 100,
   "id": "3f4af847",
   "metadata": {},
   "outputs": [
    {
     "data": {
      "text/plain": [
       "'What the'"
      ]
     },
     "execution_count": 100,
     "metadata": {},
     "output_type": "execute_result"
    }
   ],
   "source": [
    "blurt = \"What the...!!?\"\n",
    "blurt.strip('.?!')"
   ]
  },
  {
   "cell_type": "code",
   "execution_count": 104,
   "id": "4c91f5f5",
   "metadata": {},
   "outputs": [
    {
     "data": {
      "text/plain": [
       "' \\t\\n\\r\\x0b\\x0c'"
      ]
     },
     "execution_count": 104,
     "metadata": {},
     "output_type": "execute_result"
    }
   ],
   "source": [
    "import string\n",
    "string.whitespace   # 空白"
   ]
  },
  {
   "cell_type": "code",
   "execution_count": 105,
   "id": "37cffca6",
   "metadata": {},
   "outputs": [
    {
     "name": "stdout",
     "output_type": "stream",
     "text": [
      "!\"#$%&'()*+,-./:;<=>?@[\\]^_`{|}~\n",
      "===================\n",
      "blurtResult= What the\n",
      "prospectorResult= What in tarnation\n"
     ]
    }
   ],
   "source": [
    "string.punctuation          #標點符號 : !\"#$%&'()*+,-./:;<=>?@[\\]^_`{|}~\n",
    "print(string.punctuation)\n",
    "print(\"===================\")\n",
    "\n",
    "blurt = \"What the...!!?\"\n",
    "blurtResult = blurt.strip(string.punctuation)    # 去除標點符號 \n",
    "print(\"blurtResult= %s\" % blurtResult)\n",
    "\n",
    "prospector = \"What in tarnation ...??!!\"\n",
    "prospectorResult = prospector.strip(string.whitespace + string.punctuation) # 去除: 標點符號 + 空白\n",
    "print(\"prospectorResult= %s\" % prospectorResult)"
   ]
  },
  {
   "cell_type": "markdown",
   "id": "8376f2c4",
   "metadata": {},
   "source": [
    "# Search and Select"
   ]
  },
  {
   "cell_type": "code",
   "execution_count": 119,
   "id": "8e8f3496",
   "metadata": {},
   "outputs": [
    {
     "name": "stdout",
     "output_type": "stream",
     "text": [
      "All that doth flow we cannot liquid name \n",
      " Or else would fire and water be the same;\n",
      " But that is liquid which is moist and wet:\n",
      " Fire that property can never get.\n",
      " Then 'tis not cold that doth the fire put out.\n",
      " But 'tis the wet that makes it die, no doubt.\n"
     ]
    },
    {
     "data": {
      "text/plain": [
       "\"All that doth flow we cannot liquid name \\n Or else would fire and water be the same;\\n But that is liquid which is moist and wet:\\n Fire that property can never get.\\n Then 'tis not cold that doth the fire put out.\\n But 'tis the wet that makes it die, no doubt.\""
      ]
     },
     "execution_count": 119,
     "metadata": {},
     "output_type": "execute_result"
    }
   ],
   "source": [
    "poem = '''All that doth flow we cannot liquid name \n",
    " Or else would fire and water be the same;\n",
    " But that is liquid which is moist and wet:\n",
    " Fire that property can never get.\n",
    " Then 'tis not cold that doth the fire put out.\n",
    " But 'tis the wet that makes it die, no doubt.'''\n",
    "print(poem)\n",
    "poem"
   ]
  },
  {
   "cell_type": "code",
   "execution_count": 120,
   "id": "14e1d07c",
   "metadata": {},
   "outputs": [
    {
     "name": "stdout",
     "output_type": "stream",
     "text": [
      "All that doth flow we cannot liquid name  Or else would fire and water be the same; But that is liquid which is moist and wet: Fire that property can never get. Then 'tis not cold that doth the fire put out. But 'tis the wet that makes it die, no doubt.\n"
     ]
    },
    {
     "data": {
      "text/plain": [
       "\"All that doth flow we cannot liquid name  Or else would fire and water be the same; But that is liquid which is moist and wet: Fire that property can never get. Then 'tis not cold that doth the fire put out. But 'tis the wet that makes it die, no doubt.\""
      ]
     },
     "execution_count": 120,
     "metadata": {},
     "output_type": "execute_result"
    }
   ],
   "source": [
    "poemResult = poem.replace('\\n', '')          # 將換行符號取代掉\n",
    "print(poemResult)\n",
    "poemResult"
   ]
  },
  {
   "cell_type": "code",
   "execution_count": 125,
   "id": "b3213f91",
   "metadata": {},
   "outputs": [],
   "source": [
    "poem = '''All that doth flow we cannot liquid name\n",
    "Or else would fire and water be the same;\n",
    "But that is liquid which is moist and wet:\n",
    "Fire that property can never get.\n",
    "Then 'tis not cold that doth the fire put out.\n",
    "But 'tis the wet that makes it die, no doubt.'''"
   ]
  },
  {
   "cell_type": "code",
   "execution_count": 126,
   "id": "3bce32ab",
   "metadata": {},
   "outputs": [
    {
     "data": {
      "text/plain": [
       "'All that doth'"
      ]
     },
     "execution_count": 126,
     "metadata": {},
     "output_type": "execute_result"
    }
   ],
   "source": [
    "poem[:13]  #(offsets 0 to 12):"
   ]
  },
  {
   "cell_type": "code",
   "execution_count": 128,
   "id": "49495d63",
   "metadata": {},
   "outputs": [
    {
     "data": {
      "text/plain": [
       "253"
      ]
     },
     "execution_count": 128,
     "metadata": {},
     "output_type": "execute_result"
    }
   ],
   "source": [
    "len(poem)    #(Spaces and newlines are included)"
   ]
  },
  {
   "cell_type": "code",
   "execution_count": 129,
   "id": "076d1e0d",
   "metadata": {},
   "outputs": [
    {
     "data": {
      "text/plain": [
       "True"
      ]
     },
     "execution_count": 129,
     "metadata": {},
     "output_type": "execute_result"
    }
   ],
   "source": [
    "poem.startswith('All') # Does it start with the letters All?"
   ]
  },
  {
   "cell_type": "code",
   "execution_count": 130,
   "id": "f8c6f5d0",
   "metadata": {},
   "outputs": [
    {
     "data": {
      "text/plain": [
       "False"
      ]
     },
     "execution_count": 130,
     "metadata": {},
     "output_type": "execute_result"
    }
   ],
   "source": [
    " poem.endswith('That\\'s all, folks!')  # Does it end with That's all, folks!?"
   ]
  },
  {
   "cell_type": "code",
   "execution_count": 131,
   "id": "3d1d4dfe",
   "metadata": {},
   "outputs": [
    {
     "name": "stdout",
     "output_type": "stream",
     "text": [
      "poem.find(word) = 74\n",
      "74\n",
      "======================\n",
      "217\n",
      "217\n"
     ]
    }
   ],
   "source": [
    "word = 'the'\n",
    "findword = poem.find(word)\n",
    "print(\"poem.find(word) = %s\" % findword)\n",
    "print(poem.index(word))\n",
    "print(\"======================\")\n",
    "print(poem.rfind(word))\n",
    "print(poem.rindex(word))"
   ]
  },
  {
   "cell_type": "code",
   "execution_count": 135,
   "id": "d26bcda3",
   "metadata": {},
   "outputs": [
    {
     "data": {
      "text/plain": [
       "3"
      ]
     },
     "execution_count": 135,
     "metadata": {},
     "output_type": "execute_result"
    }
   ],
   "source": [
    "thecount = poem.count(word)   # the 在句子出現幾次\n",
    "thecount"
   ]
  },
  {
   "cell_type": "code",
   "execution_count": 136,
   "id": "dbdaac50",
   "metadata": {},
   "outputs": [
    {
     "data": {
      "text/plain": [
       "False"
      ]
     },
     "execution_count": 136,
     "metadata": {},
     "output_type": "execute_result"
    }
   ],
   "source": [
    " poem.isalnum()   # Are all of the characters in the poem either letters or numbers? "
   ]
  },
  {
   "cell_type": "markdown",
   "id": "e909fc55",
   "metadata": {},
   "source": [
    "# Case"
   ]
  },
  {
   "cell_type": "code",
   "execution_count": 138,
   "id": "6b2334ef",
   "metadata": {},
   "outputs": [
    {
     "data": {
      "text/plain": [
       "'a duck goes into a bar'"
      ]
     },
     "execution_count": 138,
     "metadata": {},
     "output_type": "execute_result"
    }
   ],
   "source": [
    "setup = 'a duck goes into a bar...'\n",
    "setup1 = setup.strip('.')\n",
    "setup1"
   ]
  },
  {
   "cell_type": "code",
   "execution_count": 141,
   "id": "38f6c110",
   "metadata": {},
   "outputs": [
    {
     "data": {
      "text/plain": [
       "'A duck goes into a bar'"
      ]
     },
     "execution_count": 141,
     "metadata": {},
     "output_type": "execute_result"
    }
   ],
   "source": [
    "setup2 = setup1.capitalize()  # Capitalize the first word:\n",
    "setup2"
   ]
  },
  {
   "cell_type": "code",
   "execution_count": 142,
   "id": "c45109c3",
   "metadata": {},
   "outputs": [
    {
     "data": {
      "text/plain": [
       "'A Duck Goes Into A Bar'"
      ]
     },
     "execution_count": 142,
     "metadata": {},
     "output_type": "execute_result"
    }
   ],
   "source": [
    "setup3 = setup1.title()   # Capitalize all the words(每個字第一個字大寫)\n",
    "setup3"
   ]
  },
  {
   "cell_type": "code",
   "execution_count": 143,
   "id": "d1223f79",
   "metadata": {},
   "outputs": [
    {
     "data": {
      "text/plain": [
       "'A DUCK GOES INTO A BAR'"
      ]
     },
     "execution_count": 143,
     "metadata": {},
     "output_type": "execute_result"
    }
   ],
   "source": [
    "setup4 = setup1.upper()  #Convert all characters to uppercase\n",
    "setup4"
   ]
  },
  {
   "cell_type": "code",
   "execution_count": 144,
   "id": "9b8e1fab",
   "metadata": {},
   "outputs": [
    {
     "data": {
      "text/plain": [
       "'a duck goes into a bar'"
      ]
     },
     "execution_count": 144,
     "metadata": {},
     "output_type": "execute_result"
    }
   ],
   "source": [
    "setup5 =setup4.lower()   # Convert all characters to lowercase:\n",
    "setup5 "
   ]
  },
  {
   "cell_type": "code",
   "execution_count": 146,
   "id": "d01b0cfd",
   "metadata": {},
   "outputs": [
    {
     "data": {
      "text/plain": [
       "'a dUCK gOES iNTO a bAR'"
      ]
     },
     "execution_count": 146,
     "metadata": {},
     "output_type": "execute_result"
    }
   ],
   "source": [
    "setup6 = setup3.swapcase() # Swap uppercase and lowercase:\n",
    "setup6"
   ]
  },
  {
   "cell_type": "markdown",
   "id": "87d1023d",
   "metadata": {},
   "source": [
    "# Alignment"
   ]
  },
  {
   "cell_type": "code",
   "execution_count": 147,
   "id": "44f21ec7",
   "metadata": {},
   "outputs": [
    {
     "data": {
      "text/plain": [
       "'  a duck goes into a bar...   '"
      ]
     },
     "execution_count": 147,
     "metadata": {},
     "output_type": "execute_result"
    }
   ],
   "source": [
    "setup = 'a duck goes into a bar...'\n",
    "setup.center(30)"
   ]
  },
  {
   "cell_type": "code",
   "execution_count": 148,
   "id": "0b34318a",
   "metadata": {},
   "outputs": [
    {
     "data": {
      "text/plain": [
       "'a duck goes into a bar...     '"
      ]
     },
     "execution_count": 148,
     "metadata": {},
     "output_type": "execute_result"
    }
   ],
   "source": [
    "# Left justify:\n",
    "setup.ljust(30)"
   ]
  },
  {
   "cell_type": "code",
   "execution_count": 149,
   "id": "d501f17f",
   "metadata": {},
   "outputs": [
    {
     "data": {
      "text/plain": [
       "'     a duck goes into a bar...'"
      ]
     },
     "execution_count": 149,
     "metadata": {},
     "output_type": "execute_result"
    }
   ],
   "source": [
    "#Right justify:\n",
    "setup.rjust(30)"
   ]
  },
  {
   "cell_type": "markdown",
   "id": "4d22e67d",
   "metadata": {},
   "source": [
    "# Formatting"
   ]
  },
  {
   "attachments": {
    "image.png": {
     "image/png": "[encoded data removed]"
    }
   },
   "cell_type": "markdown",
   "id": "cbb1db66",
   "metadata": {},
   "source": [
    "Old style: %\n",
    "![image.png](attachment:image.png)"
   ]
  },
  {
   "cell_type": "code",
   "execution_count": 150,
   "id": "34056d32",
   "metadata": {},
   "outputs": [
    {
     "name": "stdout",
     "output_type": "stream",
     "text": [
      "a is 42\n",
      "a is 42\n",
      "a is 2a\n",
      "a is 52\n"
     ]
    }
   ],
   "source": [
    "# integer:\n",
    "print('a is %s' % 42)\n",
    "\n",
    "print('a is %d' % 42)\n",
    "\n",
    "print('a is %x' % 42)    # 16 進位:2*16 + 10 = 42 (a=10)\n",
    "\n",
    "print('a is %o' % 42)    # 8 進位 : 5*8 +2 = 42"
   ]
  },
  {
   "cell_type": "code",
   "execution_count": 154,
   "id": "24f15e54",
   "metadata": {},
   "outputs": [
    {
     "name": "stdout",
     "output_type": "stream",
     "text": [
      "a is 7.03\n",
      "a is 7.030000\n",
      "a is 7.030\n",
      "a is 7.03e+02\n",
      "a is 7.03\n"
     ]
    }
   ],
   "source": [
    "#  float:\n",
    "print('a is %s' % 7.03)\n",
    "\n",
    "print('a is %f' % 7.03)\n",
    "\n",
    "print('a is %.3f' % 7.03)\n",
    "\n",
    "print('a is %.2e' % 703)\n",
    "\n",
    "print('a is %g' % 7.03)"
   ]
  },
  {
   "cell_type": "code",
   "execution_count": 157,
   "id": "1df389f1",
   "metadata": {},
   "outputs": [
    {
     "name": "stdout",
     "output_type": "stream",
     "text": [
      "a is 90%\n"
     ]
    }
   ],
   "source": [
    "# An integer and a literal %:\n",
    "\n",
    "print('a is %d%%' % 90)"
   ]
  },
  {
   "cell_type": "code",
   "execution_count": 161,
   "id": "1541df0e",
   "metadata": {},
   "outputs": [
    {
     "name": "stdout",
     "output_type": "stream",
     "text": [
      "My wife's favorite actor is Richard Gere\n",
      "Our cat Chester weighs 28 pounds\n"
     ]
    }
   ],
   "source": [
    "#Let’s try some string and integer interpolation:\n",
    "actor = 'Richard Gere'\n",
    "cat = 'Chester'\n",
    "weight = 28\n",
    "print(\"My wife's favorite actor is %s\" % actor)\n",
    "print(\"Our cat %s weighs %s pounds\" % (cat, weight))"
   ]
  },
  {
   "cell_type": "code",
   "execution_count": 162,
   "id": "965601e5",
   "metadata": {},
   "outputs": [
    {
     "name": "stdout",
     "output_type": "stream",
     "text": [
      "thing = woodchuck\n",
      "thing =    woodchuck\n",
      "thing =    woodchuck\n",
      "thing = woodchuck   \n",
      "thing = woo\n",
      "thing =          woo\n",
      "thing = woo         \n"
     ]
    }
   ],
   "source": [
    "thing = 'woodchuck'\n",
    "print('thing = %s' % thing)\n",
    "\n",
    "print('thing = %12s' % thing)     # +值:空左邊\n",
    "\n",
    "print('thing = %+12s' % thing)    # +值:空左邊\n",
    "\n",
    "print('thing = %-12s' % thing)    # -值:空右邊\n",
    "\n",
    "print('thing = %.3s' % thing)     # 取3個字\n",
    "\n",
    "print('thing = %12.3s' % thing)   # +值:空左邊取3個字\n",
    "\n",
    "print('thing = %-12.3s' % thing)  # +值:空右邊取3個字"
   ]
  },
  {
   "cell_type": "code",
   "execution_count": 163,
   "id": "3ef6d5b9",
   "metadata": {},
   "outputs": [
    {
     "name": "stdout",
     "output_type": "stream",
     "text": [
      "thing = 98.600000\n",
      "thing =    98.600000\n",
      "thing =   +98.600000\n",
      "thing = 98.600000   \n",
      "thing = 98.600\n",
      "thing =       98.600\n",
      "thing = 98.600      \n"
     ]
    }
   ],
   "source": [
    "# Once more with feeling, and a float with %f variants:\n",
    "thing = 98.6\n",
    "\n",
    "print('thing = %f' % thing)       # default is 小數點6位\n",
    "\n",
    "print('thing = %12f' % thing)     # +值:空左邊 共12格(含小數點) \n",
    "\n",
    "print('thing = %+12f' % thing)    # +值:空左邊 共12格(含小數點) \n",
    "\n",
    "print('thing = %-12f' % thing)    # -值:空右邊 共12格(含小數點) \n",
    "\n",
    "print('thing = %.3f' % thing)     # 小數點後3位\n",
    "\n",
    "print('thing = %12.3f' % thing)   # 小數點後3位 +值:空左邊 共12格(含小數點)\n",
    "\n",
    "print('thing = %-12.3f' % thing)  # 小數點後3位 +值:空右邊 共12格(含小數點)"
   ]
  },
  {
   "cell_type": "code",
   "execution_count": 164,
   "id": "8f3e5e72",
   "metadata": {},
   "outputs": [
    {
     "name": "stdout",
     "output_type": "stream",
     "text": [
      "thing = 9876\n",
      "thing =         9876\n",
      "thing =        +9876\n",
      "thing = 9876        \n",
      "thing = 9876\n",
      "thing =         9876\n",
      "thing = 9876        \n"
     ]
    }
   ],
   "source": [
    "# And an integer with %\n",
    "thing = 9876\n",
    "\n",
    "print('thing = %d' % thing)\n",
    "\n",
    "print('thing = %12d' % thing)\n",
    "\n",
    "print('thing = %+12d' % thing)\n",
    "\n",
    "print('thing = %-12d' % thing)\n",
    "\n",
    "print('thing = %.3d' % thing)\n",
    "\n",
    "print('thing = %12.3d' % thing)\n",
    "\n",
    "print('thing = %-12.3d' % thing)"
   ]
  },
  {
   "cell_type": "markdown",
   "id": "914773ee",
   "metadata": {},
   "source": [
    "# New style: {} and format() ：\n",
    "“New style” formatting has the form format_string.format(data)."
   ]
  },
  {
   "cell_type": "code",
   "execution_count": 165,
   "id": "97865789",
   "metadata": {},
   "outputs": [
    {
     "name": "stdout",
     "output_type": "stream",
     "text": [
      "thing = woodchuck\n",
      "The woodchuck is in the lake.\n",
      "The woodchuck is in the lake.\n",
      "The duck is in the bathtub\n",
      "The duck is in the bathtub.\n"
     ]
    }
   ],
   "source": [
    "thing = 'woodchuck'\n",
    "print('thing = {}'.format(thing))\n",
    "\n",
    "# The arguments to the format() function need to be in the order as the {} placeholders in the format string:\n",
    "thing = 'woodchuck'\n",
    "place = 'lake'\n",
    "print('The {} is in the {}.'.format(thing, place))\n",
    "\n",
    "print('The {1} is in the {0}.'.format(place, thing))\n",
    "\n",
    "print('The {thing} is in the {place}'.format(thing='duck', place='bathtub'))\n",
    "\n",
    "# or a dictionary: ========================================\n",
    "d = {'thing': 'duck', 'place': 'bathtub'}\n",
    "print('The {0[thing]} is in the {0[place]}.'.format(d))\n"
   ]
  },
  {
   "cell_type": "code",
   "execution_count": 168,
   "id": "3fd582f5",
   "metadata": {},
   "outputs": [
    {
     "name": "stdout",
     "output_type": "stream",
     "text": [
      "The wraith is at the window\n",
      "The wraith     is at the window    \n",
      "The   wraith   is at the   window  \n",
      "The     wraith is at the     window\n",
      "The !!wraith!! is at the !!window!!\n"
     ]
    }
   ],
   "source": [
    "thing = 'wraith'\n",
    "place = 'window'\n",
    "\n",
    "print('The {} is at the {}'.format(thing, place))\n",
    "print('The {:10s} is at the {:10s}'.format(thing, place))         # 10 個空格，向左對齊\n",
    "print('The {:^10s} is at the {:^10s}'.format(thing, place))       # 10 個空格，置中對齊\n",
    "print('The {:>10s} is at the {:>10s}'.format(thing, place))       # 10 個空格，向右對齊\n",
    "print('The {:!^10s} is at the {:!^10s}'.format(thing, place))     # 10 個空格 ,置中對齊,空格補!"
   ]
  },
  {
   "cell_type": "markdown",
   "id": "0cb485c1",
   "metadata": {},
   "source": [
    "# Newest Style: f-strings  : Python 3.6 加入，用這個簡單易讀\n",
    "To make an f-string:\n",
    "(1) Type the letter f or F directly before the initial quote.\n",
    "(2) Include variable names or expressions within curly brackets ({}) to get their values into the string."
   ]
  },
  {
   "cell_type": "code",
   "execution_count": 170,
   "id": "7828fcb1",
   "metadata": {},
   "outputs": [
    {
     "data": {
      "text/plain": [
       "'The wereduck is in the werepond'"
      ]
     },
     "execution_count": 170,
     "metadata": {},
     "output_type": "execute_result"
    }
   ],
   "source": [
    "thing = 'wereduck'\n",
    "place = 'werepond'\n",
    "f'The {thing} is in the {place}'"
   ]
  },
  {
   "cell_type": "code",
   "execution_count": 172,
   "id": "761cf837",
   "metadata": {},
   "outputs": [
    {
     "data": {
      "text/plain": [
       "'The Wereduck is in the             werepond'"
      ]
     },
     "execution_count": 172,
     "metadata": {},
     "output_type": "execute_result"
    }
   ],
   "source": [
    "f'The {thing.capitalize()} is in the {place.rjust(20)}'  # 向右20"
   ]
  },
  {
   "cell_type": "code",
   "execution_count": 174,
   "id": "a8abf483",
   "metadata": {},
   "outputs": [
    {
     "data": {
      "text/plain": [
       "'The             wereduck is in the ......werepond......'"
      ]
     },
     "execution_count": 174,
     "metadata": {},
     "output_type": "execute_result"
    }
   ],
   "source": [
    "f'The {thing:>20} is in the {place:.^20}'     # thing向右20,place 置中20 ，空格 . 代替"
   ]
  },
  {
   "cell_type": "code",
   "execution_count": 175,
   "id": "1fd299c2",
   "metadata": {},
   "outputs": [
    {
     "data": {
      "text/plain": [
       "\"thing ='wereduck', place ='werepond'\""
      ]
     },
     "execution_count": 175,
     "metadata": {},
     "output_type": "execute_result"
    }
   ],
   "source": [
    "f'{thing =}, {place =}'"
   ]
  },
  {
   "cell_type": "code",
   "execution_count": 176,
   "id": "efeffbfc",
   "metadata": {},
   "outputs": [
    {
     "data": {
      "text/plain": [
       "\"thing[-4:] ='duck', place.title() ='Werepond'\""
      ]
     },
     "execution_count": 176,
     "metadata": {},
     "output_type": "execute_result"
    }
   ],
   "source": [
    "f'{thing[-4:] =}, {place.title() =}'   # thing form index[-4]=d to end ，title is 每個 place的字，'第一個字大寫"
   ]
  },
  {
   "cell_type": "code",
   "execution_count": 177,
   "id": "8952b674",
   "metadata": {},
   "outputs": [
    {
     "data": {
      "text/plain": [
       "'thing = were'"
      ]
     },
     "execution_count": 177,
     "metadata": {},
     "output_type": "execute_result"
    }
   ],
   "source": [
    "f'{thing = :>4.4}'"
   ]
  },
  {
   "cell_type": "code",
   "execution_count": null,
   "id": "027863c3",
   "metadata": {},
   "outputs": [],
   "source": []
  }
 ],
 "metadata": {
  "kernelspec": {
   "display_name": "Python 3",
   "language": "python",
   "name": "python3"
  },
  "language_info": {
   "codemirror_mode": {
    "name": "ipython",
    "version": 3
   },
   "file_extension": ".py",
   "mimetype": "text/x-python",
   "name": "python",
   "nbconvert_exporter": "python",
   "pygments_lexer": "ipython3",
   "version": "3.8.10"
  }
 },
 "nbformat": 4,
 "nbformat_minor": 5
}
