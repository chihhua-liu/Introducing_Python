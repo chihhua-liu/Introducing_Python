{
 "cells": [
  {
   "cell_type": "markdown",
   "metadata": {},
   "source": [
    "# Chapter 9. Functions_ExceptError\n",
    "You can do two things with a function:\n",
    " (1) Define it, with zero or more parameters\n",
    " (2) Call it, and get zero or more results"
   ]
  },
  {
   "cell_type": "markdown",
   "metadata": {},
   "source": [
    "## 5個必知的Python Function觀念整理"
   ]
  },
  {
   "cell_type": "markdown",
   "metadata": {},
   "source": [
    "### 1. 函式(Function)結構"
   ]
  },
  {
   "cell_type": "code",
   "execution_count": null,
   "metadata": {},
   "outputs": [],
   "source": [
    "# (1) 函數名稱 :calculate_number , 參數: first\n",
    "def calculate_number(first):\n",
    "    #(2) 實作內容\n",
    "    total = 10\n",
    "    if first % 2 == 0:\n",
    "        total +=first\n",
    "    print(total)\n",
    "#(3) 呼叫 function\n",
    "calculate_number(10)"
   ]
  },
  {
   "cell_type": "markdown",
   "metadata": {},
   "source": [
    "### 2.函式(Function)參數"
   ]
  },
  {
   "cell_type": "code",
   "execution_count": null,
   "metadata": {},
   "outputs": [],
   "source": [
    "def app_log(name, func_id):\n",
    "    print(f'{name} use the {func_id}')\n",
    "    \n",
    "app_log(\"mike\",\"func_A01\")"
   ]
  },
  {
   "cell_type": "code",
   "execution_count": null,
   "metadata": {},
   "outputs": [],
   "source": [
    "# 2-1.關鍵字參數(Keyword Argument)：呼叫函式時，在傳入參數值的前面加上函式\n",
    "# 所定義的參數名稱，如下範例。除了提高可讀性外，也可將此種參數打包成字典(Dictionary)資料型態\n",
    "def app_log(name, func_id):\n",
    "    print(f'{name} use the {func_id}')\n",
    "    \n",
    "app_log(name=\"mike\", func_id=\"func_A01\")"
   ]
  },
  {
   "cell_type": "code",
   "execution_count": null,
   "metadata": {},
   "outputs": [],
   "source": [
    "# 2-2 預設值參數(Default Argument)：在函式定義的參數中，將可以選擇性傳入的參數\n",
    "# 設定一個預設值，當來源端有傳入該資料時，使用來源端的資料，沒有傳入時，\n",
    "# 則依照設定的預設值來進行運算，\n",
    "def app_log(name, func_id, date = '2019/12/21'):\n",
    "    print(f'{name} use the {func_id} on {date}')\n",
    "    \n",
    "app_log(name = \"mike\", func_id=\"func_A01\")"
   ]
  },
  {
   "cell_type": "code",
   "execution_count": null,
   "metadata": {},
   "outputs": [],
   "source": [
    "def app_log(name, func_id, date = '2019/12/21'):\n",
    "    print(f'{name} use the {func_id} on {date}')\n",
    "# 當來源端有傳入日期參數資料(2019/10/10)，函式就會使用其值來進行運算。    \n",
    "app_log(name = \"mike\", func_id=\"func_A01\",date = '2019/10/10')"
   ]
  },
  {
   "cell_type": "markdown",
   "metadata": {},
   "source": [
    "### 3.函式(Function) *args、**kwargs運算子"
   ]
  },
  {
   "cell_type": "code",
   "execution_count": null,
   "metadata": {},
   "outputs": [],
   "source": [
    "# 大量的參數時，在函式上定義過多的參數名稱會讓程式碼的可讀性降低，\n",
    "# 這時候就可以使用 * 符號來將傳入參數進行打包 \n",
    "def app_log(*info):\n",
    "    print(info)\n",
    "\n",
    "app_log(\"mike\", \"func_A01\", \"student\" , \"2019/10/10\") #參數資料打包成元組(Tuple)資料型態"
   ]
  },
  {
   "cell_type": "code",
   "execution_count": null,
   "metadata": {},
   "outputs": [],
   "source": [
    "# 打包成字典(Dictionary)資料型態，則可以使用 ** 符號\n",
    "def app_log(**info):\n",
    "    print(info)\n",
    "\n",
    "app_log(name = \"mike\", func_id = \"func_A01\", date = \"2019/10/10\") "
   ]
  },
  {
   "cell_type": "markdown",
   "metadata": {},
   "source": [
    "### 4.函式(Function)種類"
   ]
  },
  {
   "cell_type": "code",
   "execution_count": null,
   "metadata": {},
   "outputs": [],
   "source": [
    "# 4-1 回傳值：在函式完成運算後，會在最後加上 return 關鍵字將結果回傳給來源端 \n",
    "def calculate_number(*values):\n",
    "    total = 10\n",
    "    for value in values :\n",
    "        if value % 2 ==0:\n",
    "            total += value\n",
    "    return total\n",
    "\n",
    "result = calculate_number(10,20,35,40)\n",
    "print(f'result = {result}')"
   ]
  },
  {
   "cell_type": "code",
   "execution_count": null,
   "metadata": {},
   "outputs": [],
   "source": [
    "# 4-2 無回傳值：在函式運算的最後，沒有加上 return 關鍵字\n",
    "def calculate_number(*values):\n",
    "    total = 10\n",
    "    for value in values :\n",
    "        if value % 2 ==0:\n",
    "            total += value\n",
    "    print(f'in function:{total}')\n",
    "\n",
    "calculate_number(10,20,35,40)\n",
    "# 基本上，Python的函式都有回傳值，沒有return ，回傳None\n",
    "result = calculate_number(10,20,35,40)\n",
    "print(f'return:{result}')"
   ]
  },
  {
   "cell_type": "markdown",
   "metadata": {},
   "source": [
    "### 5.函式(Function)變數範圍(Scope)"
   ]
  },
  {
   "cell_type": "code",
   "execution_count": null,
   "metadata": {},
   "outputs": [],
   "source": [
    "# 5-1 區域變數(Local Variable)：在函式中所定義的變數就是區域變數。只有在函式的範圍中都可以進行存取，\n",
    "# 而函式以外的其它地方，則無法進行存取\n",
    "def calculate_number():\n",
    "    # Local Variable\n",
    "    x=100\n",
    "print(x)     # NameError: name 'x' is not defined "
   ]
  },
  {
   "cell_type": "code",
   "execution_count": null,
   "metadata": {},
   "outputs": [],
   "source": [
    "# 5-2 全域變數(Global Variable)：只要在同一個Python檔案中，皆可進行存取\n",
    "x = 100\n",
    "def calculate_number():\n",
    "    # Local Variable\n",
    "    x=20\n",
    "\n",
    "print(x)  \n",
    "\n",
    "# 如果想要透過函式來修改全域變數的值，則可以使用 global 關鍵字\n",
    "def calculate_number():\n",
    "    global x\n",
    "    x=20\n",
    "\n",
    "calculate_number()\n",
    "print(x)"
   ]
  },
  {
   "cell_type": "code",
   "execution_count": null,
   "metadata": {},
   "outputs": [],
   "source": [
    "# Define a Function with  : def\n",
    "def do_nothing():     \n",
    "    pass              # python 程式，某段不做任何事，用: pass (for look)\n",
    "# Call a Function with Parentheses\n",
    "do_nothing()"
   ]
  },
  {
   "cell_type": "code",
   "execution_count": null,
   "metadata": {},
   "outputs": [],
   "source": [
    "def make_a_sound():     # function 定義\n",
    "     print('quack')\n",
    "\n",
    "make_a_sound()          # 必須呼叫才能執行"
   ]
  },
  {
   "cell_type": "code",
   "execution_count": null,
   "metadata": {},
   "outputs": [],
   "source": [
    "def agree():\n",
    "    return True             # 有 return 值 \n",
    "\n",
    "if agree():                 # call agree() function -> return True\n",
    "    print('Splendid!')\n",
    "else:\n",
    "    print('That was unexpected.')"
   ]
  },
  {
   "cell_type": "code",
   "execution_count": null,
   "metadata": {},
   "outputs": [],
   "source": [
    "# Arguments(引數) and Parameters\n",
    "def echo(anything):                   #anything is Parameter  \n",
    "    return anything + ' ' + anything\n",
    "\n",
    "# Now let’s call echo() with the string 'Rumplestiltskin':\n",
    "echo('Rumplestiltskin')                            # 'Rumplestiltskin' is parameter\n"
   ]
  },
  {
   "cell_type": "code",
   "execution_count": null,
   "metadata": {},
   "outputs": [],
   "source": [
    "def commentary(color):\n",
    "    if color == 'red':\n",
    "        return \"It's a tomato.\"\n",
    "    elif color == \"green\":\n",
    "        return \"It's a green pepper.\"\n",
    "    elif color == 'bee purple':\n",
    "        return \"I don't know what it is, but only bees can see it.\"\n",
    "    else:\n",
    "        return \"I've never heard of the color \" + color + \".\"      \n",
    "\n",
    "# Call the function commentary() with the string argument 'blue'.\n",
    "comment = commentary('blue')\n",
    "print(\"comment={}\".format(comment))"
   ]
  },
  {
   "cell_type": "code",
   "execution_count": null,
   "metadata": {},
   "outputs": [],
   "source": [
    "# None :  None is a special Python value that holds a place when there is nothing to say\n",
    "thing = None\n",
    "if thing:\n",
    "     print(\"It's some thing\")\n",
    "else:\n",
    "     print(\"It's no thing\")\n",
    "\n",
    "thing = None\n",
    "if thing is None:\n",
    "    print(\"It's nothing\")\n",
    "else:\n",
    "    print(\"It's something\")\n"
   ]
  },
  {
   "cell_type": "code",
   "execution_count": null,
   "metadata": {},
   "outputs": [],
   "source": [
    "# Remember : that zero-valued integers or floats, empty strings (''), lists ([]), tuples\n",
    "# ((,)), dictionaries ({}), and sets (set()) are all False, but are not the same as None."
   ]
  },
  {
   "cell_type": "code",
   "execution_count": null,
   "metadata": {},
   "outputs": [],
   "source": [
    "def whatis(thing):\n",
    "    if thing is None:\n",
    "        print(thing, \"is None\")\n",
    "    elif thing:\n",
    "        print(thing, \"is True\")\n",
    "    else:\n",
    "        print(thing, \"is False\")\n",
    "\n",
    "whatis(None)\n",
    "\n",
    "whatis(True)\n",
    "\n",
    "whatis(False)"
   ]
  },
  {
   "cell_type": "code",
   "execution_count": null,
   "metadata": {},
   "outputs": [],
   "source": [
    "print (whatis(0))\n",
    "\n",
    "print(whatis(0.0))\n",
    "\n",
    "print(whatis(''))\n",
    "\n",
    "print(whatis(\"\"))\n",
    "\n",
    "print(whatis(''''''))\n",
    "\n",
    "print(whatis(()))\n",
    "\n",
    "print( whatis([]))\n",
    "\n",
    "print(whatis({}))\n",
    "\n",
    "print(whatis(set()))\n",
    "\n",
    "print(whatis(0.00001))\n",
    "\n",
    "print(whatis([0]))\n",
    "\n",
    "print(whatis(['']))\n",
    "\n",
    "print(whatis(' '))"
   ]
  },
  {
   "cell_type": "code",
   "execution_count": null,
   "metadata": {},
   "outputs": [],
   "source": [
    "# Positional Arguments\n",
    "def menu(wine, entree, dessert):\n",
    "     return {'wine': wine, 'entree': entree, 'dessert': dessert}\n",
    "\n",
    "result = menu('chardonnay', 'chicken', 'cake')\n",
    "print(f'result = {result}')\n",
    "\n",
    "result1 = menu('beef', 'bagel', 'bordeaux')\n",
    "print(f'result1 = {result1}')"
   ]
  },
  {
   "cell_type": "code",
   "execution_count": null,
   "metadata": {},
   "outputs": [],
   "source": [
    "# Keyword Arguments\n",
    "menu(entree='beef', dessert='bagel', wine='bordeaux')"
   ]
  },
  {
   "cell_type": "code",
   "execution_count": null,
   "metadata": {},
   "outputs": [],
   "source": [
    "menu('frontenac', dessert='flan', entree='fish')"
   ]
  },
  {
   "cell_type": "code",
   "execution_count": null,
   "metadata": {},
   "outputs": [],
   "source": [
    "def menu(wine, entree, dessert='pudding'):\n",
    "    return {'wine': wine, 'entree': entree, 'dessert': dessert}\n",
    "menu('chardonnay', 'chicken')"
   ]
  },
  {
   "cell_type": "code",
   "execution_count": null,
   "metadata": {},
   "outputs": [],
   "source": [
    "menu('dunkelfelder', 'duck', 'doughnut')"
   ]
  },
  {
   "cell_type": "code",
   "execution_count": null,
   "metadata": {},
   "outputs": [],
   "source": [
    "def buggy(arg, result=[]):    # 一起傳result 值會一直存在\n",
    "    result.append(arg)\n",
    "    print(result)\n",
    "\n",
    "buggy('a')\n",
    "\n",
    "buggy('b')    # expect ['b']\n"
   ]
  },
  {
   "cell_type": "code",
   "execution_count": null,
   "metadata": {},
   "outputs": [],
   "source": [
    "def works(arg):              # 正確寫法: 每次更新result\n",
    "    result = []\n",
    "    result.append(arg)\n",
    "    return result\n",
    "\n",
    "print(works('a'))\n",
    "\n",
    "works('b')"
   ]
  },
  {
   "cell_type": "code",
   "execution_count": null,
   "metadata": {},
   "outputs": [],
   "source": [
    "def nonbuggy(arg, result=None):\n",
    "    if result is None:\n",
    "        result = []\n",
    "    result.append(arg)\n",
    "    print(result)\n",
    "\n",
    "nonbuggy('a')\n",
    "\n",
    "nonbuggy('b')"
   ]
  },
  {
   "cell_type": "code",
   "execution_count": null,
   "metadata": {},
   "outputs": [],
   "source": [
    "def print_args(*args):      # * return tuple 可以傳多值\n",
    "    print('Positional tuple:', args)\n",
    "print_args()      # 沒傳值進去: 不會有任何值\n",
    "\n",
    "print_args(3, 2, 1, 'wait!', 'uh...')  #傳多值"
   ]
  },
  {
   "cell_type": "code",
   "execution_count": null,
   "metadata": {},
   "outputs": [],
   "source": [
    "def print_more(required1, required2, *args):\n",
    "    print('Need this one:', required1)\n",
    "    print('Need this one too:', required2)\n",
    "    print('All the rest:', args)\n",
    "\n",
    "print_more('cap', 'gloves', 'scarf', 'monocle', 'mustache wax') #依順序給值 required1 ='cap',required2 ='gloves'，其他是*args"
   ]
  },
  {
   "cell_type": "code",
   "execution_count": null,
   "metadata": {},
   "outputs": [],
   "source": [
    "print_args(2, 5, 7, 'x')\n",
    "\n",
    "args = (2,5,7,'x')\n",
    "print_args(args)            # 2 個tuple\n",
    "\n",
    "print_args(*args)\n"
   ]
  },
  {
   "cell_type": "code",
   "execution_count": null,
   "metadata": {},
   "outputs": [],
   "source": [
    "def print_kwargs(**kwargs):   \n",
    "    print('Keyword arguments:', kwargs)"
   ]
  },
  {
   "cell_type": "code",
   "execution_count": null,
   "metadata": {},
   "outputs": [],
   "source": [
    "# (**) to group keyword arguments into a  dictionary, where the argument names are the keys, and their values are the\n",
    "# corresponding dictionary values\n",
    "print_kwargs()\n",
    "\n",
    "print_kwargs(wine='merlot', entree='mutton', dessert='macaroon')"
   ]
  },
  {
   "cell_type": "code",
   "execution_count": null,
   "metadata": {},
   "outputs": [],
   "source": [
    "# The single * in the function definition means that the following parameters start and end\n",
    "# must be provided as named arguments if we don’t want their default values:\n",
    "\n",
    "def print_data(data, *, start=0, end=6):  # start to end-1 (0,1,2,3,4,5 print 6個)\n",
    "    for value in (data[start:end]):\n",
    "        print(value)\n",
    "        \n",
    "data = ['a', 'b', 'c', 'd', 'e', 'f']\n",
    "print_data(data)"
   ]
  },
  {
   "cell_type": "code",
   "execution_count": null,
   "metadata": {},
   "outputs": [],
   "source": [
    "print_data(data, start=4)    # 4 & 5 \n",
    "print(\"========================\")\n",
    "print_data(data, end=2)     # 只有兩個"
   ]
  },
  {
   "cell_type": "code",
   "execution_count": null,
   "metadata": {},
   "outputs": [],
   "source": [
    "outside = ['one', 'fine', 'day']\n",
    "def mangle(arg):\n",
    "    arg[1] = 'terrible!'         # outside 值會跟著變\n",
    "print(outside)\n",
    "\n",
    "\n",
    "mangle(outside)\n",
    "print(outside)\n"
   ]
  },
  {
   "cell_type": "code",
   "execution_count": null,
   "metadata": {},
   "outputs": [],
   "source": [
    "def echo(anything):\n",
    "    'echo returns its input argument'       # function 一開始可以加一段文字，說明function 的功能\n",
    "    return anything"
   ]
  },
  {
   "cell_type": "code",
   "execution_count": null,
   "metadata": {},
   "outputs": [],
   "source": [
    "help(echo)              # 看function 的doc\n",
    "print(echo.__doc__)"
   ]
  },
  {
   "cell_type": "code",
   "execution_count": null,
   "metadata": {},
   "outputs": [],
   "source": [
    "def print_if_true(thing, check):\n",
    "    '''\n",
    "        Prints the first argument if a second argument is true.\n",
    "        The operation is:\n",
    "        1. Check whether the *second* argument is true.\n",
    "        2. If it is, print the *first* argument.\n",
    "    '''\n",
    "    if check:\n",
    "        print(thing)\n",
    "\n",
    "print(print_if_true.__doc__)"
   ]
  },
  {
   "cell_type": "code",
   "execution_count": null,
   "metadata": {},
   "outputs": [],
   "source": [
    "# Functions Are First-Class Citizens\n",
    "def answer():\n",
    "    print(42)\n",
    "\n",
    "answer()"
   ]
  },
  {
   "cell_type": "code",
   "execution_count": null,
   "metadata": {},
   "outputs": [],
   "source": [
    "def run_something(func):\n",
    "    func()\n",
    "    \n",
    "run_something(answer)"
   ]
  },
  {
   "cell_type": "code",
   "execution_count": null,
   "metadata": {},
   "outputs": [],
   "source": [
    "def add_args(arg1, arg2):\n",
    "    print(arg1 + arg2)\n",
    "\n",
    "def run_something_with_args(func, arg1, arg2):\n",
    "    func(arg1, arg2)\n",
    "    \n",
    "run_something_with_args(add_args, 5, 9)"
   ]
  },
  {
   "cell_type": "code",
   "execution_count": null,
   "metadata": {},
   "outputs": [],
   "source": [
    "def sum_args(*args):\n",
    "    return sum(args)\n",
    "\n",
    "def run_with_positional_args(func, *args):\n",
    "    return func(*args)\n",
    "\n",
    "run_with_positional_args(sum_args, 1, 2, 3, 4)"
   ]
  },
  {
   "cell_type": "code",
   "execution_count": null,
   "metadata": {},
   "outputs": [],
   "source": [
    "# inner Functions\n",
    "def outer(a, b):\n",
    "    def inner(c, d):\n",
    "        return c + d\n",
    "    return inner(a, b)\n",
    "outer(4, 7)"
   ]
  },
  {
   "cell_type": "code",
   "execution_count": null,
   "metadata": {},
   "outputs": [],
   "source": [
    "def knights(saying):\n",
    "    def inner(quote):\n",
    "        return \"We are the knights who say: '%s'\" % quote\n",
    "    return inner(saying)\n",
    "\n",
    "knights('Ni!')"
   ]
  },
  {
   "cell_type": "code",
   "execution_count": null,
   "metadata": {},
   "outputs": [],
   "source": [
    "# Closures\n",
    "\n",
    "def knights2(saying):\n",
    "    def inner2():\n",
    "        return \"We are the knights who say: '%s'\" % saying\n",
    "    return inner2\n",
    "\n",
    "a = knights2('Duck')\n",
    "b = knights2('Hasenpfeffer')\n",
    "\n",
    "print(type(a))\n",
    "print(type(b))\n",
    "\n",
    "print(\"=======================\")\n",
    "print(a)\n",
    "print(b)\n",
    "print(\"=======================\")\n",
    "print(a())\n",
    "print(b())"
   ]
  },
  {
   "cell_type": "code",
   "execution_count": null,
   "metadata": {},
   "outputs": [],
   "source": [
    "# Anonymous Functions: lambda\n",
    "def edit_story(words, func):\n",
    "    for word in words:\n",
    "        print(func(word))\n",
    "        \n",
    "stairs = ['thud', 'meow', 'thud', 'hiss']        \n",
    "def enliven(word):                      # give that prose more punch\n",
    "    return word.capitalize() + '!'      # capitalize() 第一個字大寫\n",
    "\n",
    "edit_story(stairs, enliven)"
   ]
  },
  {
   "cell_type": "code",
   "execution_count": null,
   "metadata": {},
   "outputs": [],
   "source": [
    "edit_story(stairs, lambda word: word.capitalize() + '!')"
   ]
  },
  {
   "cell_type": "code",
   "execution_count": null,
   "metadata": {},
   "outputs": [],
   "source": [
    "# Generators\n",
    "sum(range(1, 101))"
   ]
  },
  {
   "cell_type": "code",
   "execution_count": null,
   "metadata": {},
   "outputs": [],
   "source": [
    "def my_range(first=0, last=10, step=1):\n",
    "    number = first\n",
    "    while number < last:\n",
    "        yield number        # yield 需用next\n",
    "        number += step\n",
    "       \n",
    "\n",
    "testg = my_range()\n",
    "for i in range(0,10):\n",
    "    print(next(testg))"
   ]
  },
  {
   "cell_type": "code",
   "execution_count": null,
   "metadata": {},
   "outputs": [],
   "source": [
    "ranger = my_range(1, 10)\n",
    "ranger\n"
   ]
  },
  {
   "cell_type": "code",
   "execution_count": null,
   "metadata": {},
   "outputs": [],
   "source": [
    "genobj = (pair for pair in zip(['a', 'b'], ['1', '2']))   # zip 將list 鍊在一起\n",
    "# genobjlist = list(genobj)\n",
    "# print(genobjlist)\n",
    "# print(genobj)\n",
    "for thing in genobj:\n",
    "    print(thing)"
   ]
  },
  {
   "cell_type": "code",
   "execution_count": null,
   "metadata": {},
   "outputs": [],
   "source": [
    "friends= [\"芸芸\", \"萱萱\", \"琳琳\", \"娜娜\"]\n",
    "stars = [\"天秤\", \"金牛\", \"雙魚\",\"雙子\"]\n",
    "likes = [\"餅乾\", \"巧克力\", \"草莓\", \"蛋糕\"]\n",
    "zipped = zip(friends, stars, likes)\n",
    "list(zipped)\n",
    "#print(\"=====================================\")\n",
    "#zippedback = zip(*zipped)\n",
    "#print(list(zippedback))\n"
   ]
  },
  {
   "cell_type": "code",
   "execution_count": null,
   "metadata": {},
   "outputs": [],
   "source": [
    "datas = [('芸芸', '天秤', '餅乾'), ('萱萱', '金牛', '巧克力'), ('琳琳', '雙魚', '草莓'), ('娜娜', '雙子', '蛋糕')]\n",
    "zippedback = zip(*datas)\n",
    "print(list(zippedback))"
   ]
  },
  {
   "cell_type": "code",
   "execution_count": null,
   "metadata": {},
   "outputs": [],
   "source": [
    "# decorator\n",
    "def document_it(func):\n",
    "    def new_function(*args, **kwargs):           # *args 輸入一串資料  **kwargs is dictionary\n",
    "        print('Running function:', func.__name__)\n",
    "        print('Positional arguments:', args)\n",
    "        print('Keyword arguments:', kwargs)\n",
    "        result = func(*args, **kwargs)\n",
    "        print('Result:', result)\n",
    "        return result\n",
    "    return new_function"
   ]
  },
  {
   "cell_type": "code",
   "execution_count": null,
   "metadata": {},
   "outputs": [],
   "source": [
    "def add_ints(a, b):\n",
    "     return a + b\n",
    "    \n",
    "print(add_ints(3, 5))\n",
    "\n",
    "cooler_add_ints = document_it(add_ints) # manual decorator assignment\n",
    "cooler_add_ints(3, 5)\n"
   ]
  },
  {
   "cell_type": "code",
   "execution_count": null,
   "metadata": {},
   "outputs": [],
   "source": [
    "@document_it\n",
    "def add_ints(a, b):\n",
    "    return a + b\n",
    "\n",
    "add_ints(3, 5)"
   ]
  },
  {
   "cell_type": "code",
   "execution_count": null,
   "metadata": {},
   "outputs": [],
   "source": [
    "def square_it(func):\n",
    "    def new_function(*args, **kwargs):\n",
    "        result = func(*args, **kwargs)\n",
    "        return result * result\n",
    "    return new_function\n",
    "\n",
    "@document_it\n",
    "@square_it               # 這個先執行\n",
    "def add_ints(a, b):\n",
    "    return a + b\n",
    "\n",
    "add_ints(3, 5)"
   ]
  },
  {
   "cell_type": "code",
   "execution_count": null,
   "metadata": {},
   "outputs": [],
   "source": [
    "@square_it  \n",
    "@document_it    # 這個先執行\n",
    "def add_ints(a, b):\n",
    "    return a + b\n",
    "\n",
    "add_ints(3, 5)"
   ]
  },
  {
   "cell_type": "markdown",
   "metadata": {},
   "source": [
    "# Namespaces and Scope"
   ]
  },
  {
   "cell_type": "code",
   "execution_count": null,
   "metadata": {},
   "outputs": [],
   "source": [
    "# You can get the value of a global variable from within a function:\n",
    "animal = 'fruitbat'      # global variable \n",
    "def print_global():\n",
    "    print('inside print_global:', animal)\n",
    "\n",
    "print('at the top level:', animal)\n",
    "\n",
    "print_global()"
   ]
  },
  {
   "cell_type": "code",
   "execution_count": null,
   "metadata": {},
   "outputs": [],
   "source": [
    "def change_and_print_global():\n",
    "    print('inside change_and_print_global:', animal)  # global 在Function 中不能改值\n",
    "    animal = 'wombat'                          # function 中取一個 animal name is OK\n",
    "    print('after the change:', animal)\n",
    "\n",
    "change_and_print_global()"
   ]
  },
  {
   "cell_type": "code",
   "execution_count": null,
   "metadata": {},
   "outputs": [],
   "source": [
    "def change_local():\n",
    "    animal = 'wombat'\n",
    "    print('inside change_local:', animal, id(animal))\n",
    "\n",
    "change_local()\n",
    "\n",
    "animal\n",
    "\n",
    "id(animal)"
   ]
  },
  {
   "cell_type": "code",
   "execution_count": null,
   "metadata": {},
   "outputs": [],
   "source": [
    "# global : 用在Function 中 for 全域變數\n",
    "animal = 'fruitbat'\n",
    "def change_and_print_global():\n",
    "    global animal                      # function 中用global\n",
    "    animal = 'wombat'\n",
    "    print('inside change_and_print_global:', animal)\n",
    "\n",
    "print(animal)  \n",
    "\n",
    "change_and_print_global()\n",
    "\n",
    "print(animal)"
   ]
  },
  {
   "cell_type": "code",
   "execution_count": null,
   "metadata": {},
   "outputs": [],
   "source": [
    "animal = 'fruitbat'\n",
    "def change_local():\n",
    "    animal = 'wombat' # local variable\n",
    "    print('locals:', locals())     # return dictionary\n",
    "\n",
    "print(animal)\n",
    "\n",
    "change_local()\n",
    "\n",
    "print('globals:', globals())      # # return dictionary : reformatted a little for presentation \n",
    "\n",
    "print(animal)\n"
   ]
  },
  {
   "cell_type": "code",
   "execution_count": null,
   "metadata": {},
   "outputs": [],
   "source": [
    "def amazing():\n",
    "    '''This is the amazing function.\n",
    "    Want to see it again?'''\n",
    "    print('This function is named:', amazing.__name__)\n",
    "    print('And its docstring is:', amazing.__doc__)\n",
    "\n",
    "amazing()"
   ]
  },
  {
   "cell_type": "code",
   "execution_count": null,
   "metadata": {},
   "outputs": [],
   "source": [
    "def dive():\n",
    "    return dive()\n",
    "\n",
    "# dive()"
   ]
  },
  {
   "cell_type": "code",
   "execution_count": null,
   "metadata": {},
   "outputs": [],
   "source": [
    "def flatten(lol):\n",
    "    for item in lol:\n",
    "        if isinstance(item, list):         # isinstance 判斷一個變數是否真的為某種特定的『資料型態』\n",
    "            for subitem in flatten(item):\n",
    "                yield subitem\n",
    "        else:\n",
    "            yield item\n",
    "\n",
    "lol = [1, 2, [3,4,5], [6,[7,8,9], []]]\n",
    "flatten(lol)\n",
    "\n",
    "list(flatten(lol))"
   ]
  },
  {
   "cell_type": "code",
   "execution_count": null,
   "metadata": {},
   "outputs": [],
   "source": [
    "def flatten(lol):\n",
    "    for item in lol:\n",
    "        if isinstance(item, list):\n",
    "            yield from flatten(item)\n",
    "        else:\n",
    "            yield item\n",
    "\n",
    "lol = [1, 2, [3,4,5], [6,[7,8,9], []]]\n",
    "list(flatten(lol))"
   ]
  },
  {
   "cell_type": "code",
   "execution_count": null,
   "metadata": {},
   "outputs": [],
   "source": [
    "# async def  \n",
    "# await -> 放在call function 之前"
   ]
  },
  {
   "cell_type": "code",
   "execution_count": null,
   "metadata": {},
   "outputs": [],
   "source": [
    "print('Value={:1.2f}'.format(12.34567))"
   ]
  },
  {
   "cell_type": "code",
   "execution_count": null,
   "metadata": {},
   "outputs": [],
   "source": [
    "# Test1 -------------------------------------------------\n",
    "def SayHello():\n",
    "     print(\"Welcome!\")\n",
    "\n",
    "\n",
    "SayHello()  # Ans:Welcome!!\n",
    "print(\"==========================\")\n",
    "\n",
    "# Test2 -------------------------------------------------\n",
    "def GetArea(width,height):\n",
    "    area=width*height\n",
    "    return area\n",
    "w = float(input('Please input width:'))\n",
    "h = float(input('Please input height:'))\n",
    "\n",
    "a = GetArea(w,h)\n",
    "print('Area =',a)"
   ]
  },
  {
   "cell_type": "code",
   "execution_count": null,
   "metadata": {},
   "outputs": [],
   "source": [
    "def Circle(radius):\n",
    "    area =radius*radius*3.14\n",
    "    length = 2*radius*3.14\n",
    "    return area,length\n",
    "\n",
    "area, length = Circle(5)\n",
    "print(f'radius:{5} ,area ={area},length ={length:05.2f}')\n"
   ]
  },
  {
   "cell_type": "code",
   "execution_count": null,
   "metadata": {},
   "outputs": [],
   "source": [
    "def ctof(c):  #攝氏轉華氏\n",
    "    f = c * 1.8 + 32\n",
    "    return f\n",
    "inputc = float(input(\"請輸入攝氏溫度：\"))\n",
    "print(\"華氏溫度為：%5.1f 度\" % ctof(inputc))"
   ]
  },
  {
   "cell_type": "code",
   "execution_count": null,
   "metadata": {},
   "outputs": [],
   "source": [
    "def scope():\n",
    "    global var1\n",
    "    var1 = 1\n",
    "    var2 = 2\n",
    "    print(var1, var2)\n",
    "\n",
    "var1 = 10\n",
    "var2 = 20\n",
    "scope()\n",
    "print(var1,var2)"
   ]
  },
  {
   "cell_type": "markdown",
   "metadata": {},
   "source": [
    "## Built in Function"
   ]
  },
  {
   "cell_type": "code",
   "execution_count": null,
   "metadata": {},
   "outputs": [],
   "source": [
    "#abs()\n",
    "a=-5\n",
    "b=abs(a)  #絕對值\n",
    "print(b)\n",
    "\n",
    "# chr()--------------------------------------------------\n",
    "a=65\n",
    "b=chr(a)  #取得整數a 的字元\n",
    "print('b 的type =%s , b=chr(a)=%s'% (type(b),b))\n",
    "\n",
    "#Ans: b 的type =<class 'str'> , b=chr(a)=A\n",
    "# divmod()-----------------------------------------------\n",
    "a,b =divmod(44,6) # 44/6 的商與餘數\n",
    "print(\"商=\",type(a),a)\n",
    "print(\"餘數=\",type(b),b)\n",
    "\n",
    "ret = divmod(44,6)      # ret = tuple\n",
    "print(\"商=\",type(ret[0]),ret[0])\n",
    "print(\"餘數=\",type(ret[1]),ret[1])\n",
    "print(ret,type(ret))  # (7, 2) <class 'tuple'> # tuple 不可變更的list\n",
    "\n",
    "#Ans:\n",
    "#商= <class 'int'> 7\n",
    "#餘數= <class 'int'> 2\n",
    "#商= <class 'int'> 7\n",
    "#餘數= <class 'int'> 2\n",
    "#(7, 2) <class 'tuple'>\n",
    "\n",
    "# float() & int() & str()--------------------------------\n",
    "x=20\n",
    "a = float(x)  # 轉換成float 的資料型態\n",
    "print(type(a),a)\n",
    "#\n",
    "b = str(a)    # 轉換成str 的資料型態\n",
    "print(type(b),b)\n",
    "#\n",
    "c = int(a)    # 轉換成int 的資料型態\n",
    "print(type(c),c)\n",
    "#\n",
    "# # Ans:\n",
    "#<class 'float'> 20.0\n",
    "#<class 'str'> 20.0\n",
    "#<class 'int'> 20\n",
    "\n",
    "# hex()--------------------------------------------------\n",
    "x = 2000\n",
    "a = hex(x)  #16 進位\n",
    "print(type(a),a)\n",
    "\n",
    "# Ans: <class 'str'> 0x7d0\n",
    "# oct()--------------------------------------------------\n",
    "x = 200\n",
    "a = oct(x)  #8 進位\n",
    "print(type(a),a)\n",
    "\n",
    "# Ans: <class 'str'> 0o310\n",
    "# max() & min() for list --------------------------------\n",
    "list1=[1,2,3,4,5]\n",
    "a=max(list1)    # max() for list\n",
    "print(type(a),a)\n",
    "a = min(list1)  #min()  for list\n",
    "print(type(a),a)\n",
    "\n",
    "# pow() & id()--------------------------------------------------\n",
    "x = 3\n",
    "y = 4\n",
    "z = pow(x,y)  #x 的 y 次方\n",
    "print(type(z),'記憶體位置=',id(z),z) #id():記憶體位置\n",
    "#\n",
    "x = 3\n",
    "y = 4\n",
    "z = pow(x,y,7)  #x 的 y 次方 /7 的餘數\n",
    "print(type(z),'記憶體位置=',id(z),z) #id():記憶體位置\n",
    "\n",
    "# ord()--------------------------------------------------\n",
    "a = 'A'\n",
    "b = \"Z\"\n",
    "c = ord(a)  # unicode 編碼值\n",
    "d = ord(b)\n",
    "print('c 的type =',type(c),c)\n",
    "print('d 的type =',type(d),d)\n",
    "#\n",
    "e = 'a'\n",
    "f = \"z\"\n",
    "g= ord(e)  # unicode 編碼值\n",
    "h = ord(f)\n",
    "print('c 的type =',type(g),g)\n",
    "print('d 的type =',type(h),h)\n",
    "\n",
    "# round () ----------------------------------------------\n",
    "a = 45.8234\n",
    "b = round (a,2)  #四捨五入取值到小數點幾位\n",
    "print('b 的type =',type(b),b)\n",
    "\n",
    "# sorted for list ---------------------------------------\n",
    "list1=[1,2,3,4,5]\n",
    "a = sorted(list1,reverse=True) #預設是升冪，reverse=True是降冪\n",
    "print(a)\n",
    "###------------------------------------------------------\n",
    "\n",
    "# sum() for list-----------------------------------------\n",
    "list1=[1,2,3,4,5]\n",
    "a = sum(list1)\n",
    "print(type(a),a)\n",
    "\n",
    "# Test6 : divmod ----------------------------------------\n",
    "person = int(input(\"請輸入學生人數: \"))\n",
    "apple = int(input(\"請輸入蘋果總數: \"))\n",
    "ret = divmod(apple, person)\n",
    "print(\"每個學生可分得蘋果 \" + str(ret[0]) + \" 個\")\n",
    "print(\"蘋果剩餘 \" + str(ret[1]) + \" 個\")\n",
    "#--------------------------------------------------------\n",
    "\n",
    "# Test7 ------------------------------------------------\n",
    "innum = 0\n",
    "list1 = []\n",
    "while(innum != -1):\n",
    "    innum = int(input(\"請輸入電費 (-1：結束)：\"))\n",
    "    list1.append(innum)\n",
    "list.pop()\n",
    "print(\"共輸入 %d 個數\" % len(list1))\n",
    "print(\"最多電費為：%d\" % max(list1))\n",
    "print(\"最少電費為：%d\" % min(list1))\n",
    "print(\"電費總和為：%d\" % sum(list1))\n",
    "print(\"電費：{}\".format(list1))\n",
    "print(\"電費由大到小排序為：{}\".format(sorted(list1, reverse=True)))"
   ]
  },
  {
   "cell_type": "markdown",
   "metadata": {},
   "source": [
    "## random module"
   ]
  },
  {
   "cell_type": "code",
   "execution_count": null,
   "metadata": {},
   "outputs": [],
   "source": [
    "# 1. choice(字串or 串列) 中 隨機取一個字-----------------------\n",
    "import random as r1\n",
    "str1 = 'abcdefg'\n",
    "str2 = r1.choice(str1)\n",
    "print(\"random number={}\".format(str2))  #ranmmmdom number=d (random get one letter in str1)\n",
    "\n",
    "for i in range(0,5) :\n",
    "     print(r1.choice('abdfrtq'), end=',') # q,a,f,r,d,\n",
    "print()\n",
    "\n",
    "for i in range(0,5) :\n",
    "    print(r1.choice([1,2,3,4,5,6,7]),end=\",\")"
   ]
  },
  {
   "cell_type": "code",
   "execution_count": null,
   "metadata": {},
   "outputs": [],
   "source": [
    "# 2. randint(n1,n2)-  1 to 10 random (include start and end number)-----\n",
    "for i in range(0,5) :\n",
    "       print(r1.randint(1,10), end = ',') \n",
    "\n",
    "while True:\n",
    "    inkey = input(\"按任意鍵再按[ENTER]鍵擲骰子，直接按[ENTER]鍵結束:\")\n",
    "    if len(inkey) > 0:\n",
    "        num = r1.randint(1,6)\n",
    "        print(\"你擲的骰子點數為：\" + str(num))\n",
    "    else:\n",
    "        print(\"遊戲結束！\")\n",
    "        break"
   ]
  },
  {
   "cell_type": "code",
   "execution_count": null,
   "metadata": {
    "scrolled": true
   },
   "outputs": [],
   "source": [
    "#3. random()--> 0~1 之間的float random ------------------------\n",
    "print(r1.random())  \n",
    "print()"
   ]
  },
  {
   "cell_type": "code",
   "execution_count": null,
   "metadata": {},
   "outputs": [],
   "source": [
    "# 5.randrange(1,10,2)------------------------------------------\n",
    "for i in range(0,5) :\n",
    "     print(r1.randrange(0,10,2), end = ',') # 0,2,4,6,8 random not-inculde 10\n",
    "print()"
   ]
  },
  {
   "cell_type": "code",
   "execution_count": null,
   "metadata": {},
   "outputs": [],
   "source": [
    "# 6.sample  字串轉換成串列(不重複)----------------------------------------\n",
    "for i in range(0,5) :\n",
    "    print(r1.sample('abdfrtq',3), end=',') # ['b', 'd', 't']\n",
    "print()"
   ]
  },
  {
   "cell_type": "markdown",
   "metadata": {},
   "source": [
    "## 本期大樂透中獎號碼"
   ]
  },
  {
   "cell_type": "code",
   "execution_count": 36,
   "metadata": {},
   "outputs": [
    {
     "name": "stdout",
     "output_type": "stream",
     "text": [
      "本期大樂透中獎號碼為：4,7,14,35,37,45,\n"
     ]
    }
   ],
   "source": [
    "import random as r1\n",
    "list1 = r1.sample(range(1,50), 6)\n",
    "list1.sort()\n",
    "print(\"本期大樂透中獎號碼為：\", end=\"\")\n",
    "\n",
    "for i in list1:\n",
    "  print(str(i),end=\",\")\n",
    "print()"
   ]
  },
  {
   "cell_type": "markdown",
   "metadata": {},
   "source": [
    "## 威力彩"
   ]
  },
  {
   "cell_type": "code",
   "execution_count": 6,
   "metadata": {},
   "outputs": [
    {
     "name": "stdout",
     "output_type": "stream",
     "text": [
      "本期威力彩特別號為：6\n",
      "本期威力彩中獎號碼為：1, 6, 11, 33, 34, 35\n"
     ]
    }
   ],
   "source": [
    "import random as r1\n",
    "\n",
    "list2=r1.sample(range(1,9),1)\n",
    "special = list2[0]\n",
    "print(\"本期威力彩特別號為：\" + str(special))\n",
    "\n",
    "print(\"本期威力彩中獎號碼為：\", end=\"\")\n",
    "list3 = r1.sample( range(1,39), 6)\n",
    "list3.sort()\n",
    "for i in range(0,6):\n",
    "    if i == 5:\n",
    "        print(str(list3[i]))\n",
    "    else:\n",
    "        print(str(list3[i]), end=\", \")"
   ]
  },
  {
   "attachments": {
    "image-2.png": {
     "image/png": "[encoded data removed]"
    }
   },
   "cell_type": "markdown",
   "metadata": {},
   "source": [
    "## String function\n",
    "![image-2.png](attachment:image-2.png)"
   ]
  },
  {
   "cell_type": "code",
   "execution_count": null,
   "metadata": {
    "scrolled": true
   },
   "outputs": [],
   "source": [
    "#1. capitalize() 第一個字轉大寫\n",
    "txt = \"python is FUN!\"\n",
    "x = txt.capitalize()\n",
    "print (x)"
   ]
  },
  {
   "cell_type": "code",
   "execution_count": null,
   "metadata": {},
   "outputs": [],
   "source": [
    "#2. casefold() 全部變小寫\n",
    "txt = \"Hello, And Welcome To My World!\"\n",
    "x = txt.casefold()\n",
    "print(x)"
   ]
  },
  {
   "cell_type": "code",
   "execution_count": null,
   "metadata": {},
   "outputs": [],
   "source": [
    "#3.center(20) :將字串擴充20個字元，文字置中 \n",
    "txt = \"banana\"\n",
    "x = txt.center(20)\n",
    "print(x)"
   ]
  },
  {
   "cell_type": "code",
   "execution_count": null,
   "metadata": {},
   "outputs": [],
   "source": [
    "#4. count(\"apple\") Return the number of times the value \"apple\" appears in the string:\n",
    "txt = \"I love apples, apple are my favorite fruit\"\n",
    "x = txt.count(\"apple\")\n",
    "print(x)"
   ]
  },
  {
   "cell_type": "code",
   "execution_count": null,
   "metadata": {},
   "outputs": [],
   "source": [
    "#5. Optional. A String specifying the encoding to use. Default is UTF-8\n",
    "txt = \"My name is Ståle\"\n",
    "x = txt.encode()\n",
    "print(x)"
   ]
  },
  {
   "cell_type": "code",
   "execution_count": null,
   "metadata": {},
   "outputs": [],
   "source": [
    "#6. endswith(\"d\") Check if the string ends with a (d):\n",
    "txt = \"Hello, welcome to my world\"\n",
    "x = txt.endswith(\"d\")\n",
    "print(x)"
   ]
  },
  {
   "cell_type": "code",
   "execution_count": null,
   "metadata": {},
   "outputs": [],
   "source": [
    "#7. Sets the tab size of the string\n",
    "txt = \"H\\te\\tl\\tl\\to\"\n",
    "x =  txt.expandtabs(2)\n",
    "print(x)"
   ]
  },
  {
   "cell_type": "code",
   "execution_count": null,
   "metadata": {},
   "outputs": [],
   "source": [
    "#8. Searches the string for a specified value and returns the position of where it was found\n",
    "txt = \"Hello, welcome to my world.\"\n",
    "x = txt.find(\"welcome\")\n",
    "print(x)  # x= 7 字串的第幾個字元 index from 0 ，"
   ]
  },
  {
   "cell_type": "code",
   "execution_count": null,
   "metadata": {},
   "outputs": [],
   "source": [
    "#9.format() Formats specified values in a string\n",
    "txt = \"For only {price:.2f} dollars!\"\n",
    "# print(txt.format(price = 49))"
   ]
  },
  {
   "cell_type": "code",
   "execution_count": null,
   "metadata": {},
   "outputs": [],
   "source": [
    "#10 format_map(student) : Formats specified values in a string\n",
    "# format_map仅使用于字符串格式中可变数据参数来源于字典等映射关系数据时才可以使用。\n",
    "# format_map的参数不需传入“关键字=真实值”\n",
    "student = {'name':'mika', 'class':'20190301','score':579.5}\n",
    "s1='{class}班{name}總分:{score}'.format_map(student)\n",
    "print(s1)"
   ]
  },
  {
   "cell_type": "code",
   "execution_count": null,
   "metadata": {},
   "outputs": [],
   "source": [
    "# 11 index() Searches the string for a specified value and returns the \n",
    "# position of where it was found  Where in the text is the word \"welcome\"?:\n",
    "txt = \"Hello, welcome to my world.\"\n",
    "x = txt.index(\"welcome\")\n",
    "print(x)"
   ]
  },
  {
   "cell_type": "code",
   "execution_count": null,
   "metadata": {},
   "outputs": [],
   "source": [
    "# 12 isalnum() Returns True if all characters in the string\n",
    "# are alphanumericK[͵ælfənuˋmɛrɪk]字母與數字\n",
    "# txt = \"Company12\"\n",
    "txt = \"Company&\"\n",
    "x = txt.isalnum()\n",
    "print(x)"
   ]
  },
  {
   "cell_type": "code",
   "execution_count": null,
   "metadata": {},
   "outputs": [],
   "source": [
    "# 13 isalpha()Check if all the characters in the text are letters:\n",
    "txt = \"CompanyX\"\n",
    "x = txt.isalpha()\n",
    "print(x)"
   ]
  },
  {
   "cell_type": "code",
   "execution_count": null,
   "metadata": {},
   "outputs": [],
   "source": [
    "# 14 isdecimal(): Check if all the characters in the unicode object are decimals:\n",
    "# Returns True if all characters in the string are decimals\n",
    "txt = \"\\u0033\" #unicode for 3\n",
    "x = txt.isdecimal()\n",
    "print(x)\n"
   ]
  },
  {
   "cell_type": "code",
   "execution_count": null,
   "metadata": {},
   "outputs": [],
   "source": [
    "# 15 isascii() : Check if all the characters in the text are ascii characters:\n",
    "txt = \"Company123\"\n",
    "x = txt.isascii()\n",
    "print(x)"
   ]
  },
  {
   "cell_type": "code",
   "execution_count": null,
   "metadata": {},
   "outputs": [],
   "source": [
    "# 16 isdigit() Returns True if all characters in the string are digits\n",
    "txt = \"50800\"\n",
    "x = txt.isdigit()\n",
    "print(x)"
   ]
  },
  {
   "cell_type": "code",
   "execution_count": null,
   "metadata": {},
   "outputs": [],
   "source": [
    "# 17 isidentifier() Returns True if the string is an identifier[aɪˋdɛntə͵faɪɚ]識別符\n",
    "txt = \"Demo\"\n",
    "x = txt.isidentifier()\n",
    "print(x)"
   ]
  },
  {
   "cell_type": "code",
   "execution_count": null,
   "metadata": {},
   "outputs": [],
   "source": [
    "# 18 islower()Returns True if all characters in the string are lower case\n",
    "txt = \"hello world!\"\n",
    "x = txt.islower()\n",
    "print(x)"
   ]
  },
  {
   "cell_type": "code",
   "execution_count": null,
   "metadata": {},
   "outputs": [],
   "source": [
    "# 19 isnumeric() Check if all the characters in the text are numeric[njuˋmɛrɪk]:\n",
    "txt = \"565543\"\n",
    "x = txt.isnumeric()\n",
    "print(x)"
   ]
  },
  {
   "cell_type": "code",
   "execution_count": null,
   "metadata": {},
   "outputs": [],
   "source": [
    "# 20 isprintable() Returns True if all characters in the string are printable\n",
    "txt = \"Hello! Are you #1?\"\n",
    "x = txt.isprintable()\n",
    "print(x)"
   ]
  },
  {
   "cell_type": "code",
   "execution_count": null,
   "metadata": {},
   "outputs": [],
   "source": [
    "# 21 isspace() Returns True if all characters in the string are whitespaces\n",
    "txt = \" \"\n",
    "x = txt.isspace()\n",
    "print(x)"
   ]
  },
  {
   "cell_type": "code",
   "execution_count": null,
   "metadata": {},
   "outputs": [],
   "source": [
    "# 22 istitle() Returns True if the string follows the rules of a title\n",
    "txt = \"Hello, And Welcome To My World!\"\n",
    "x = txt.istitle()\n",
    "print(x)"
   ]
  },
  {
   "cell_type": "code",
   "execution_count": null,
   "metadata": {},
   "outputs": [],
   "source": [
    "# 23 isupper()Returns True if all characters in the string are upper case\n",
    "txt = \"THIS IS NOW!\"\n",
    "x = txt.isupper()\n",
    "print(x)"
   ]
  },
  {
   "cell_type": "code",
   "execution_count": null,
   "metadata": {},
   "outputs": [],
   "source": [
    "# 24 \"#\".join(myTuple) Joins the elements of an iterable to the end of the string\n",
    "myTuple = (\"John\", \"Peter\", \"Vicky\")  # tuple\n",
    "x = \"#\".join(myTuple)                 # John#Peter#Vicky\n",
    "print(x)"
   ]
  },
  {
   "cell_type": "code",
   "execution_count": null,
   "metadata": {},
   "outputs": [],
   "source": [
    "list1 = ['this', 'is', 'a', 'book']\n",
    "x = \" \".join(list1)         # this is a book \n",
    "print(x)\n",
    "print('###'.join(list1))    # this###is###a###book "
   ]
  },
  {
   "cell_type": "code",
   "execution_count": null,
   "metadata": {},
   "outputs": [],
   "source": [
    "# 25 ljust(20) Returns a left justified version of the string \n",
    "# 擴充20 字元，靠左\n",
    "txt = \"banana\"\n",
    "x = txt.ljust(20)\n",
    "print(x, \"is my favorite fruit.\")"
   ]
  },
  {
   "cell_type": "code",
   "execution_count": null,
   "metadata": {},
   "outputs": [],
   "source": [
    "listname = [\"林大明\", \"陳阿中\", \"張小英\"]\n",
    "listchinese = [100, 74, 82]\n",
    "listmath = [87, 88, 65]\n",
    "listenglish = [79, 100, 8]\n",
    "print(\"姓名     座號  國文  數學  英文\")\n",
    "for i in range(0,3):\n",
    "    print(listname[i].ljust(5), str(i+1).rjust(3),str(listchinese[i]).rjust(5),\n",
    "          str(listmath[i]).rjust(5), str(listenglish[i]).rjust(5))\n"
   ]
  },
  {
   "cell_type": "code",
   "execution_count": null,
   "metadata": {},
   "outputs": [],
   "source": [
    "# 26 lower()Converts a string into lower case\n",
    "txt = \"Hello my FRIENDS\"\n",
    "x = txt.lower()\n",
    "print(x)"
   ]
  },
  {
   "cell_type": "code",
   "execution_count": null,
   "metadata": {},
   "outputs": [],
   "source": [
    "# 27 lstrip()Returns a left trim version of the string(移除左邊的空白字元)\n",
    "txt = \"     banana     \"\n",
    "x = txt.lstrip()\n",
    "print(\"of all fruits\", x, \"is my favorite\")"
   ]
  },
  {
   "cell_type": "code",
   "execution_count": null,
   "metadata": {},
   "outputs": [],
   "source": [
    "# 28 maketrans(\"S\", \"P\") Returns a translation table to be used in translations : \n",
    "# Create a mapping table, and use it in the translate() method to replace \n",
    "# any \"S\" characters with a \"P\" character:\n",
    "txt = \"Hello Sam!\"\n",
    "mytable = txt.maketrans(\"S\", \"P\")\n",
    "print(txt.translate(mytable))"
   ]
  },
  {
   "cell_type": "code",
   "execution_count": null,
   "metadata": {},
   "outputs": [],
   "source": [
    "# 29 partition(\"bananas\") Returns a tuple where the string is parted into three parts\n",
    "# 以 bananas 劃分 3 部分\n",
    "txt = \"I could eat bananas all day\"\n",
    "x = txt.partition(\"bananas\")\n",
    "print(x)"
   ]
  },
  {
   "cell_type": "code",
   "execution_count": null,
   "metadata": {},
   "outputs": [],
   "source": [
    "# 30 replace(\"bananas\", \"apples\")Replace the word \"bananas\":\n",
    "txt = \"I like bananas\"\n",
    "x = txt.replace(\"bananas\", \"apples\")\n",
    "print(x)"
   ]
  },
  {
   "cell_type": "code",
   "execution_count": null,
   "metadata": {},
   "outputs": [],
   "source": [
    "date1 = \"2017-8-23\"\n",
    "date1 = \"西元 \" + date1\n",
    "date1 = date1.replace(\"-\", \" 年 \", 1)\n",
    "date1 = date1.replace(\"-\", \" 月 \", 1)\n",
    "date1 += \" 日\"\n",
    "print(date1)"
   ]
  },
  {
   "cell_type": "code",
   "execution_count": null,
   "metadata": {},
   "outputs": [],
   "source": [
    "# 31 .rfind(\"casa\") Searches the string for a specified value and returns the last position of where it was found\n",
    "txt = \"Mi casa, su casa.\"\n",
    "x = txt.rfind(\"casa\")\n",
    "print(x)"
   ]
  },
  {
   "cell_type": "code",
   "execution_count": null,
   "metadata": {},
   "outputs": [],
   "source": [
    "# 32 rindex(\"casa\") Searches the string for a specified value and returns the last position of where it was found\n",
    "txt = \"Mi casa, su casa.\"\n",
    "x = txt.rindex(\"casa\")\n",
    "print(x)"
   ]
  },
  {
   "cell_type": "code",
   "execution_count": null,
   "metadata": {},
   "outputs": [],
   "source": [
    "# 33 rjust(20) Return a 20 characters long, right justified version of the word \"banana\":\n",
    "txt = \"banana\"\n",
    "x = txt.rjust(20)\n",
    "print(x, \"is my favorite fruit.\")"
   ]
  },
  {
   "cell_type": "code",
   "execution_count": null,
   "metadata": {},
   "outputs": [],
   "source": [
    "# 34 rpartition(\"bananas\") Returns a tuple where the string is parted into three parts\n",
    "txt = \"I could eat bananas all day, bananas are my favorite fruit\"\n",
    "x = txt.rpartition(\"bananas\")\n",
    "print(x)"
   ]
  },
  {
   "cell_type": "code",
   "execution_count": null,
   "metadata": {},
   "outputs": [],
   "source": [
    "# 35 rsplit(\", \") Splits the string at the specified separator, and returns a list\n",
    "# split a string into a list, using comma, followed by a space (, ) as the separator:\n",
    "txt = \"apple, banana, cherry\"\n",
    "# x = txt.rsplit(\", \")\n",
    "x = txt.split(\", \")\n",
    "print(x)"
   ]
  },
  {
   "cell_type": "code",
   "execution_count": null,
   "metadata": {},
   "outputs": [],
   "source": [
    "# 36 rstrip()Returns a right trim version of the string\n",
    "txt = \"     banana     \"\n",
    "x = txt.rstrip()\n",
    "print(\"of all fruits\", x, \"is my favorite\")"
   ]
  },
  {
   "cell_type": "code",
   "execution_count": null,
   "metadata": {},
   "outputs": [],
   "source": [
    "# 37 split() Splits the string at the specified separator, and returns a list\n",
    "txt = \"welcome to the jungle\"\n",
    "x = txt.split()\n",
    "print(x)"
   ]
  },
  {
   "cell_type": "code",
   "execution_count": null,
   "metadata": {},
   "outputs": [],
   "source": [
    "# 38 splitlines()Splits the string at line breaks and returns a list\n",
    "txt = \"Thank you for the music\\nWelcome to the jungle\"\n",
    "x = txt.splitlines()\n",
    "print(x)"
   ]
  },
  {
   "cell_type": "code",
   "execution_count": null,
   "metadata": {},
   "outputs": [],
   "source": [
    "# 39 txt.startswith(\"Hello\") Returns true if the string starts with the specified value\n",
    "txt = \"Hello, welcome to my world.\"\n",
    "x = txt.startswith(\"Hello\")\n",
    "print(x)"
   ]
  },
  {
   "cell_type": "code",
   "execution_count": null,
   "metadata": {},
   "outputs": [],
   "source": [
    "web = input(\"請輸入網址：\")\n",
    "if web.startswith(\"http://\") or web.startswith(\"https://\"):\n",
    "    print(\"輸入的網址格式正確！\")\n",
    "else:\n",
    "    print(\"輸入的網址格式錯誤！\")"
   ]
  },
  {
   "cell_type": "code",
   "execution_count": null,
   "metadata": {},
   "outputs": [],
   "source": [
    "# 40 strip() Returns a trimmed version of the string\n",
    "txt = \"     banana     \"\n",
    "x = txt.strip()\n",
    "print(\"of all fruits\", x, \"is my favorite\")"
   ]
  },
  {
   "cell_type": "code",
   "execution_count": null,
   "metadata": {},
   "outputs": [],
   "source": [
    "# 41 swapcase() Swaps cases, lower case becomes upper case and vice versa\n",
    "txt = \"Hello My Name Is PETER\"\n",
    "x = txt.swapcase()\n",
    "print(x)"
   ]
  },
  {
   "cell_type": "code",
   "execution_count": null,
   "metadata": {},
   "outputs": [],
   "source": [
    "# 42 title()Converts the first character of each word to upper case\n",
    "txt = \"Welcome to my world\"\n",
    "x = txt.title()\n",
    "print(x)"
   ]
  },
  {
   "cell_type": "code",
   "execution_count": null,
   "metadata": {},
   "outputs": [],
   "source": [
    "# 43 translate(mydict) Returns a translated string\n",
    "#use a dictionary with ascii codes to replace 83 (S) with 80 (P):\n",
    "mydict = {83:  80}\n",
    "txt = \"Hello Sam!\"\n",
    "print(txt.translate(mydict))"
   ]
  },
  {
   "cell_type": "code",
   "execution_count": null,
   "metadata": {},
   "outputs": [],
   "source": [
    "# 44 upper() Converts a string into upper case\n",
    "txt = \"Hello my friends\"\n",
    "x = txt.upper()\n",
    "print(x)"
   ]
  },
  {
   "cell_type": "code",
   "execution_count": null,
   "metadata": {},
   "outputs": [],
   "source": [
    "# 45 zfill(10) Fills the string with a specified number of 0 values at the beginning\n",
    "txt = \"50\"\n",
    "x = txt.zfill(10)\n",
    "print(x)"
   ]
  },
  {
   "cell_type": "markdown",
   "metadata": {},
   "source": [
    "## Exceptions"
   ]
  },
  {
   "cell_type": "code",
   "execution_count": null,
   "metadata": {},
   "outputs": [],
   "source": [
    "short_list = [1, 2, 3]\n",
    "position = 5\n",
    "short_list[position]"
   ]
  },
  {
   "cell_type": "code",
   "execution_count": null,
   "metadata": {},
   "outputs": [],
   "source": [
    "short_list = [1, 2, 3]\n",
    "position = 5\n",
    "try:\n",
    "    short_list[position]\n",
    "except:\n",
    "    print('Need a position between 0 and', len(short_list)-1, ' but got',position)"
   ]
  },
  {
   "cell_type": "code",
   "execution_count": null,
   "metadata": {},
   "outputs": [],
   "source": [
    "short_list = [1, 2, 3]\n",
    "while True:\n",
    "    value = input('Position [q to quit]? ')\n",
    "    if value == 'q':\n",
    "        break\n",
    "    try:\n",
    "        position = int(value)\n",
    "        print(short_list[position])\n",
    "    except IndexError as err:\n",
    "        print('Bad index:', position)\n",
    "    except Exception as other:\n",
    "        print('Something else broke:', other)\n",
    "\n"
   ]
  },
  {
   "attachments": {
    "image.png": {
     "image/png": "[encoded data removed]"
    }
   },
   "cell_type": "markdown",
   "metadata": {},
   "source": [
    "### raise \n",
    "![image.png](attachment:image.png)"
   ]
  },
  {
   "cell_type": "code",
   "execution_count": null,
   "metadata": {
    "scrolled": true
   },
   "outputs": [],
   "source": [
    "x = 10\n",
    "if x > 5:\n",
    "    raise Exception('x should not exceed 5. The value of x was: {}'.format(x))"
   ]
  },
  {
   "cell_type": "code",
   "execution_count": null,
   "metadata": {
    "scrolled": true
   },
   "outputs": [],
   "source": [
    "class UppercaseException(Exception):\n",
    "    pass\n",
    "\n",
    "words = ['eenie', 'meenie', 'miny', 'MO']\n",
    "for word in words:\n",
    "    if word.isupper():\n",
    "        raise UppercaseException(word)\n"
   ]
  },
  {
   "cell_type": "code",
   "execution_count": null,
   "metadata": {},
   "outputs": [],
   "source": [
    "try:\n",
    "    raise OopsException('panic')\n",
    "except OopsException as exc:\n",
    "    print(exc)"
   ]
  },
  {
   "attachments": {
    "image.png": {
     "image/png": "[encoded data removed]"
    }
   },
   "cell_type": "markdown",
   "metadata": {},
   "source": [
    "### assert\n",
    "![image.png](attachment:image.png)"
   ]
  },
  {
   "cell_type": "code",
   "execution_count": null,
   "metadata": {},
   "outputs": [],
   "source": [
    "import sys\n",
    "assert ('linux' in sys.platform), \"This code runs on Linux only.\""
   ]
  },
  {
   "cell_type": "code",
   "execution_count": null,
   "metadata": {
    "scrolled": true
   },
   "outputs": [],
   "source": []
  },
  {
   "attachments": {
    "image.png": {
     "image/png": "[encoded data removed]"
    }
   },
   "cell_type": "markdown",
   "metadata": {},
   "source": [
    "![image.png](attachment:image.png) \n",
    "   "
   ]
  },
  {
   "cell_type": "markdown",
   "metadata": {},
   "source": [
    "## try...except...else...finally\n",
    "\n",
    "語法架構:\n",
    "1.  try: \n",
    "        可能引發例外的程式區塊\n",
    "2.  except 例外情形1 [as 參數]:\n",
    "         處理例外的程式區塊1\n",
    "3.  except 例外情形2 [as 參數]:\n",
    "         處理例外的程式區塊2\n",
    "4.  except Exception[as 參數]:       \n",
    "         處理所有其他可能發生的例外\n",
    "5.  except:\n",
    "         處理所有其他可能發生的例外，包括所有的系統例外\n",
    "6.  else:\n",
    "         try 指令正確執行的程式區塊\n",
    "7.  finally: \n",
    "         一定會執行的程式區塊\n"
   ]
  },
  {
   "cell_type": "code",
   "execution_count": null,
   "metadata": {},
   "outputs": [],
   "source": [
    "try:\n",
    "    print(n)\n",
    "except:\n",
    "    print(\"變數 n 不存在!\")  "
   ]
  },
  {
   "cell_type": "code",
   "execution_count": null,
   "metadata": {},
   "outputs": [],
   "source": [
    "n=2\n",
    "try:\n",
    "    n+=1\n",
    "except:\n",
    "    print(\"變數 n 不存在!\")\n",
    "else:\n",
    "    print(\"n=\",n) # n=3"
   ]
  },
  {
   "cell_type": "code",
   "execution_count": null,
   "metadata": {},
   "outputs": [],
   "source": [
    "# # except Exception 可以捕捉除系統例外以外的其他所有例外\n",
    "try:\n",
    "    print(n)\n",
    "except Exception as e:  \n",
    "    print(e) "
   ]
  },
  {
   "cell_type": "code",
   "execution_count": null,
   "metadata": {},
   "outputs": [],
   "source": [
    "try:\n",
    "    print(n)\n",
    "except:\n",
    "    print(\"變數 n 不存在!\")\n",
    "finally:\n",
    "    print(\"一定會執行的程式區塊\")    "
   ]
  },
  {
   "cell_type": "code",
   "execution_count": null,
   "metadata": {},
   "outputs": [],
   "source": [
    "try:\n",
    "    a=int(input(\"請輸入第一個整數：\"))\n",
    "    b=int(input(\"請輸入第二個整數：\"))\n",
    "    r = a + b\n",
    "    print(\"r=\",r)\n",
    "except:\n",
    "    print(\"發生輸入非數值的錯誤!\") "
   ]
  },
  {
   "attachments": {
    "image.png": {
     "image/png": "[encoded data removed]"
    }
   },
   "cell_type": "markdown",
   "metadata": {},
   "source": [
    "## 常見例外錯誤表\n",
    "![image.png](attachment:image.png)\n",
    "https://docs.python.org/3/library/exceptions.html"
   ]
  },
  {
   "cell_type": "code",
   "execution_count": null,
   "metadata": {},
   "outputs": [],
   "source": [
    "def div(a,b):\n",
    "    try:\n",
    "        return a/b\n",
    "    except ZeroDivisionError as error:\n",
    "        return error\n",
    "    \n",
    "print(div(6,2))\n",
    "print(div(3,0))\n",
    "print(div(5,3))"
   ]
  },
  {
   "cell_type": "code",
   "execution_count": null,
   "metadata": {},
   "outputs": [],
   "source": [
    "try:\n",
    "    a=int(input(\"請輸入第一個整數：\"))\n",
    "    b=int(input(\"請輸入第二個整數：\"))\n",
    "    r = a % b    \n",
    "except ValueError:\n",
    "    print(\"發生輸入非數值的錯誤!\")   \n",
    "except Exception as e:\n",
    "    print(\"發生\",e,\"的錯誤，包括分母為 0 的錯誤!\")\n",
    "else:\n",
    "    print(\"r=\",r)\n",
    "finally:\n",
    "    print(\"一定會執行的程式區塊\")    "
   ]
  },
  {
   "cell_type": "code",
   "execution_count": null,
   "metadata": {},
   "outputs": [],
   "source": [
    "### 捕捉多個例外\n",
    "try:\n",
    "    a=int(input(\"請輸入第一個整數：\"))\n",
    "    b=int(input(\"請輸入第二個整數：\"))\n",
    "    r = a % b    \n",
    "except(ValueError,ZeroDivisionError):\n",
    "    print(\"發生輸入非數值的錯誤或分母為 0 的錯誤!\")   \n",
    "else:\n",
    "    print(\"r=\",r)"
   ]
  },
  {
   "cell_type": "code",
   "execution_count": null,
   "metadata": {},
   "outputs": [],
   "source": [
    "try:\n",
    "    a=int(input(\"請輸入第一個整數：\"))\n",
    "    b=int(input(\"請輸入第二個整數：\"))\n",
    "    r = a % b    \n",
    "except(ValueError,ZeroDivisionError) as e:\n",
    "    print(\"發生{} 0 的錯誤!\" .format(e))   \n",
    "else:\n",
    "    print(\"r=\",r)"
   ]
  },
  {
   "cell_type": "code",
   "execution_count": null,
   "metadata": {},
   "outputs": [],
   "source": [
    "def CheckSpeed(speed): #檢查速度\n",
    "    if speed < 70:\n",
    "        raise Exception(\"速度太慢了!\") # 拋出 Exception 型別例外\n",
    "    if speed > 110:\n",
    "        raise Exception(\"已經超速了!\") # 拋出 Exception 型別例外 \n",
    "\n",
    "for speed in (60,100,150):       \n",
    "    try:\n",
    "        CheckSpeed(speed) #檢查速度\n",
    "    except Exception as e: #接收 Exception的例外\n",
    "        print(\"現在速度：{}，{}\" .format(speed,e))\n",
    "    else:\n",
    "        print(\"目前時速：{}\" .format(speed))"
   ]
  },
  {
   "cell_type": "code",
   "execution_count": null,
   "metadata": {},
   "outputs": [],
   "source": [
    "class MyException(RuntimeError):\n",
    "    def __init__(self, arg):\n",
    "        self.args = arg\n",
    "\n",
    "def CheckSpeed(speed): #檢查速度\n",
    "    if speed < 70:\n",
    "        raise Exception(\"速度太慢了!\") # 拋出 Exception 型別例外\n",
    "    if speed > 110:\n",
    "        raise Exception(\"已經超速了!\") # 拋出 Exception 型別例外\n",
    "    else:\n",
    "        raise MyException(\"快樂駕駛，平安返家!\") # 拋出 MyException 型別例外 \n",
    "        \n",
    "def convertTuple(tup):  # tuple 轉換為字串\n",
    "    str =  ''.join(tup) \n",
    "    return str        \n",
    " \n",
    "for speed in (60,100,150):      \n",
    "    try:\n",
    "        CheckSpeed(speed) #檢查速度\n",
    "    except MyException as e: #接收 MyException 的例外\n",
    "        err= convertTuple(e.args) # tuple 轉換為串字\n",
    "        print(\"目前時速：{}，{}\" .format(speed,err))    \n",
    "    except Exception as e: #接收 Exception 的例外\n",
    "        print(\"現在速度：{}，{}\" .format(speed,e)) "
   ]
  },
  {
   "cell_type": "markdown",
   "metadata": {},
   "source": [
    "#### traceback : format_exe() 記錄錯誤字串"
   ]
  },
  {
   "cell_type": "code",
   "execution_count": null,
   "metadata": {},
   "outputs": [],
   "source": [
    "\n",
    "import traceback \n",
    "\n",
    "def CheckSpeed(speed):\n",
    "    if speed < 70:\n",
    "        raise Exception(\"速度太慢!\")\n",
    "    if speed >110:\n",
    "        raise Exception(\"已經超速!\")\n",
    "\n",
    "for speed in (60,100,150):\n",
    "    try:\n",
    "        CheckSpeed(speed)\n",
    "    except Exception as e:\n",
    "        with open(\"err.txt\",\"a\") as f:\n",
    "            f.write(traceback.format_exc())\n",
    "        print(\"Error Data is record\")\n",
    "    else:\n",
    "        print(f\"current speed = {speed}\")"
   ]
  },
  {
   "cell_type": "markdown",
   "metadata": {},
   "source": [
    "#### assert 斷言 \n",
    "1. assert 條件式,參數\n",
    "2. 停用斷言 : python -O 程式,py"
   ]
  },
  {
   "cell_type": "code",
   "execution_count": null,
   "metadata": {},
   "outputs": [],
   "source": [
    "class Car(): \n",
    "    def __init__(self, speed):\n",
    "        self.speed = speed\n",
    "        \n",
    "    def Turbo(self,n):  #增加速度 n      \n",
    "        assert speed >= 0, '速度不可能為負!'\n",
    "        self.speed += n\n",
    "\n",
    "for speed in (60,-20):         \n",
    "    bus=Car(speed)\n",
    "    print(\"初速=\",bus.speed,end=\" \")\n",
    "    bus.Turbo(50) \n",
    "    print(\"加速後，速度=\",bus.speed) "
   ]
  },
  {
   "cell_type": "code",
   "execution_count": null,
   "metadata": {},
   "outputs": [],
   "source": []
  }
 ],
 "metadata": {
  "kernelspec": {
   "display_name": "Python 3 (ipykernel)",
   "language": "python",
   "name": "python3"
  },
  "language_info": {
   "codemirror_mode": {
    "name": "ipython",
    "version": 3
   },
   "file_extension": ".py",
   "mimetype": "text/x-python",
   "name": "python",
   "nbconvert_exporter": "python",
   "pygments_lexer": "ipython3",
   "version": "3.8.13"
  }
 },
 "nbformat": 4,
 "nbformat_minor": 4
}
