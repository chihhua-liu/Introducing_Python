{
 "cells": [
  {
   "cell_type": "markdown",
   "metadata": {},
   "source": [
    "# Python 資料型態\n",
    "(1) bool  :    True,False               # 不可變\n",
    "(2) int   :    47,25000                 # 不可變 \n",
    "(3) float :    3.14, 2.7e5              # 2.7*100000   不可變\n",
    "(4) complex :  5+9j, 3j                 # 不可變\n",
    "(5) str   :   'alas','alack'            # string       不可變\n",
    "(6) list  :   ['Winken' ,'Blinken']     # 可變\n",
    "(7) tuple :   (2,4,8)                   # 不可變\n",
    "(8) bytes :   b'ab\\xff                  # 不可變\n",
    "(9) set   :   set([3,5,7])  # {3,5,7}   # 可變\n",
    "(10) dict :   {'game':'bingo' , 'dog':'dingo' , 'drummer':'Ringo'}   # 可變"
   ]
  },
  {
   "cell_type": "code",
   "execution_count": 1,
   "metadata": {},
   "outputs": [
    {
     "data": {
      "text/plain": [
       "100"
      ]
     },
     "execution_count": 1,
     "metadata": {},
     "output_type": "execute_result"
    }
   ],
   "source": [
    "a = 2.7e5\n",
    "a =100\n",
    "a"
   ]
  },
  {
   "cell_type": "code",
   "execution_count": null,
   "metadata": {},
   "outputs": [],
   "source": [
    "b = 5+9j\n",
    "b"
   ]
  },
  {
   "cell_type": "code",
   "execution_count": 1,
   "metadata": {},
   "outputs": [
    {
     "data": {
      "text/plain": [
       "b'ab\\xff'"
      ]
     },
     "execution_count": 1,
     "metadata": {},
     "output_type": "execute_result"
    }
   ],
   "source": [
    "c = b'ab\\xff'\n",
    "c"
   ]
  },
  {
   "cell_type": "code",
   "execution_count": null,
   "metadata": {},
   "outputs": [],
   "source": [
    "d = set([3,5,7])  # {3,5,7}\n",
    "d"
   ]
  },
  {
   "cell_type": "markdown",
   "metadata": {},
   "source": [
    "# Python 變數的命名規則 \n",
    "(1)\n",
    "<br>小寫字母\n",
    "<br>大寫字母\n",
    "<br>數字(0~9)\n",
    "<br>底線(_)\n",
    "<br>(2) 有區分大小寫\n",
    "<br>(3) 開頭不可使用數字\n",
    "<br>(4) 底線開頭的名稱會被特殊對待\n",
    "<br>(5)不可使用保留字(關鍵字)  :# https://docs.python.org/3/reference/index.html\n",
    "<br>The following identifiers are used as reserved words, or keywords of the language, and cannot be used as ordinary identifiers. They must be spelled exactly as written here:\n",
    "<br>False      await      else       import     pass\n",
    "<br>None       break      except     in         raise\n",
    "<br>True       class      finally    is         return\n",
    "<br>and        continue   for        lambda     try\n",
    "<br>as         def        from       nonlocal   while\n",
    "<br>assert     del        global     not        with\n",
    "<br>async      elif       if         or         yield"
   ]
  },
  {
   "cell_type": "code",
   "execution_count": null,
   "metadata": {},
   "outputs": [],
   "source": [
    "# show reserved words\n",
    "help(\"keywords\")"
   ]
  },
  {
   "cell_type": "code",
   "execution_count": null,
   "metadata": {},
   "outputs": [],
   "source": [
    "import keyword\n",
    "keyword.kwlist"
   ]
  },
  {
   "cell_type": "code",
   "execution_count": null,
   "metadata": {},
   "outputs": [],
   "source": [
    "# print(item1,item2,...,sep=分隔字元 , end= 結束字元\n",
    "print(60,100,sep='&',end='')  # end='' is 不換行\n",
    "print('end')"
   ]
  },
  {
   "cell_type": "code",
   "execution_count": null,
   "metadata": {},
   "outputs": [],
   "source": [
    "name = \"mika\"\n",
    "score = 80.453\n",
    "print('%5s score is %5.1f'%(name,score))  # 四捨五入\n",
    "print('{} score is {}'.format(name,score))\n",
    "print(f'{name} score is {score}')"
   ]
  },
  {
   "cell_type": "code",
   "execution_count": null,
   "metadata": {},
   "outputs": [],
   "source": [
    "print(\"姓名   座號  國文  數學  英文\")\n",
    "print(\"%3s  %2d   %3d   %3d  %3d\" % (\"林大明\", 1, 100, 87, 79))\n",
    "print(\"%3s  %2d   %3d   %3d  %3d\" % (\"陳阿中\", 2, 74, 88, 100))\n",
    "print(\"%3s  %2d   %3d   %3d  %3d\" % (\"張小英\", 11, 82, 65, 8))\n"
   ]
  },
  {
   "cell_type": "code",
   "execution_count": null,
   "metadata": {},
   "outputs": [],
   "source": [
    "# Automatic conversion of data types\n",
    "num1 = 5 +7.8\n",
    "print(f'num1(float) = {num1}')\n",
    "num2 = 5 + True   # True = 1\n",
    "print(num2)\n",
    "num3 = 5 + False  # False = 0\n",
    "print(num3)\n",
    "num4 = bool(False+1) \n",
    "print(num4)\n",
    "num5 = int(num1)\n",
    "print(num5)\n",
    "num6 = float(num2)\n",
    "print(num6)\n",
    "str1 = str(num1)\n",
    "print(f'str1(string) ={str1}')"
   ]
  },
  {
   "cell_type": "code",
   "execution_count": null,
   "metadata": {},
   "outputs": [],
   "source": [
    "# input : 變數 = input(\"提示字串\")\n",
    "score = input('Please input math. score')  # input : score is str\n",
    "scoreStr = float(score)\n",
    "print(\"math. score is %5.2f\" %(scoreStr))"
   ]
  },
  {
   "cell_type": "code",
   "execution_count": null,
   "metadata": {},
   "outputs": [],
   "source": [
    "# 簡單python 運算\n",
    "x = 5\n",
    "y = x+6\n",
    "print(y)\n",
    "type(y)     # type is get 資料的型別 :  ex: y 的資料型別是 int"
   ]
  },
  {
   "cell_type": "code",
   "execution_count": null,
   "metadata": {},
   "outputs": [],
   "source": [
    "a = [2,4,6]\n",
    "print(a)\n",
    "a[0] =99\n",
    "print(a) b"
   ]
  },
  {
   "cell_type": "code",
   "execution_count": null,
   "metadata": {},
   "outputs": [],
   "source": [
    "a = 3\n",
    "b = 16\n",
    "c = b//a    # get 商\n",
    "print(c)\n",
    "d = b%a     # get 餘數\n",
    "d"
   ]
  },
  {
   "cell_type": "code",
   "execution_count": null,
   "metadata": {},
   "outputs": [],
   "source": [
    "nat = input(\"請輸入國文成績：\")\n",
    "math = input(\"請輸入數學成績：\")\n",
    "eng = input(\"請輸入英文成績：\")\n",
    "sum = int(nat) + int(math) + int(eng)  #輸入值需轉換為整數\n",
    "average = sum / 3\n",
    "print(\"成績總分：%d，平均成績：%5.2f\" % (sum, average))"
   ]
  },
  {
   "cell_type": "code",
   "execution_count": null,
   "metadata": {},
   "outputs": [],
   "source": [
    "# 初始化\n",
    "string01 = \"1,2,3,4\"\n",
    "print(string01)\n",
    "type(string01)"
   ]
  },
  {
   "cell_type": "code",
   "execution_count": null,
   "metadata": {},
   "outputs": [],
   "source": [
    "# 字串分割\n",
    "'''\n",
    "用法\n",
    "string.split()\n",
    "說明\n",
    "默認以空格、換行字元分割字串s，返回 list\n",
    "'''\n",
    "list01 = string01.split(',')\n",
    "print(list01)"
   ]
  },
  {
   "cell_type": "code",
   "execution_count": null,
   "metadata": {},
   "outputs": [],
   "source": [
    "# 將 list 元素合併成字串\n",
    "'''\n",
    "用法\n",
    "string.join(seq)\n",
    "說明\n",
    "以string為分隔符，將seq中的元素串起來成為一個新的字串\n",
    "'''\n",
    "string02 = '-'.join(list01)\n",
    "print(\"將 list 元素合併成字串的結果: {}\".format(string02))\n",
    "\n",
    "string02 = ''.join(list01)\n",
    "print(\"將 list 元素合併成字串的結果: {}\".format(string02))"
   ]
  },
  {
   "cell_type": "code",
   "execution_count": null,
   "metadata": {},
   "outputs": [],
   "source": [
    "# 搜尋字串\n",
    "string03 = 'believe'\n",
    "result03 = string03.find('lie')\n",
    "'''\n",
    "用法\n",
    "string.find(str)\n",
    "說明\n",
    "返回s第一次在字串s中出現的index，若找不到則返回-1\n",
    "'''\n",
    "print(result03)"
   ]
  },
  {
   "cell_type": "code",
   "execution_count": null,
   "metadata": {},
   "outputs": [],
   "source": [
    "# 替換字串\n",
    "'''\n",
    "用法\n",
    "string.replace(str1, str2)\n",
    "說明\n",
    "將s中的str1替換成str2\n",
    "'''\n",
    "string04 = \"Alex\"\n",
    "string04 = string04.replace('lex', 'llen')\n",
    "print(string04)"
   ]
  },
  {
   "cell_type": "code",
   "execution_count": null,
   "metadata": {},
   "outputs": [],
   "source": [
    "# 字串變成小寫\n",
    "'''\n",
    "用法\n",
    "string.lower()\n",
    "說明\n",
    "將字串s裡的字母全部改成小寫\n",
    "'''\n",
    "print(\"CAR\".lower())"
   ]
  },
  {
   "cell_type": "code",
   "execution_count": null,
   "metadata": {},
   "outputs": [],
   "source": [
    "# 字串變成大寫\n",
    "'''\n",
    "用法\n",
    "string.upper()\n",
    "說明\n",
    "將字串s裡的字母全部改成大寫\n",
    "'''\n",
    "print(\"good\".upper())"
   ]
  },
  {
   "cell_type": "code",
   "execution_count": null,
   "metadata": {},
   "outputs": [],
   "source": [
    "# 去除字串左邊空格\n",
    "'''\n",
    "用法\n",
    "string.lstrip()\n",
    "說明\n",
    "去除字串s左邊的空格\n",
    "'''\n",
    "string05 = \"         ___ccc___\"\n",
    "print(\"原先的字串: {}\".format(string05))\n",
    "print(\"去除左邊空格後: {}\".format( string05.lstrip() ))"
   ]
  },
  {
   "cell_type": "code",
   "execution_count": null,
   "metadata": {},
   "outputs": [],
   "source": [
    "# 去除字串右邊空格\n",
    "'''\n",
    "用法\n",
    "string.rstrip()\n",
    "說明\n",
    "去除字串s右邊的空格\n",
    "'''\n",
    "string06 = \"___ccc___         \"\n",
    "print(\"原先的字串: {}\".format(string06))\n",
    "print(\"去除左邊空格後: {}\".format( string06.rstrip() ))"
   ]
  },
  {
   "cell_type": "code",
   "execution_count": null,
   "metadata": {},
   "outputs": [],
   "source": [
    "# 去除字串兩側空格\n",
    "'''\n",
    "用法\n",
    "string.strip()\n",
    "說明\n",
    "去除字串s左、右兩邊的空格\n",
    "'''\n",
    "string07= \"        ___ccc___         \"\n",
    "print(\"原先的字串: {}\".format(string07))\n",
    "print(\"去除左邊空格後: {}\".format( string07.strip() ))"
   ]
  }
 ],
 "metadata": {
  "kernelspec": {
   "display_name": "Python 3",
   "language": "python",
   "name": "python3"
  },
  "language_info": {
   "codemirror_mode": {
    "name": "ipython",
    "version": 3
   },
   "file_extension": ".py",
   "mimetype": "text/x-python",
   "name": "python",
   "nbconvert_exporter": "python",
   "pygments_lexer": "ipython3",
   "version": "3.8.8"
  }
 },
 "nbformat": 4,
 "nbformat_minor": 4
}
