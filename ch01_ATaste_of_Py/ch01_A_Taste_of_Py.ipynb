{
 "cells": [
  {
   "cell_type": "markdown",
   "id": "b9398638",
   "metadata": {},
   "source": [
    "# 1-1 只事先介紹，不用先了解程式碼"
   ]
  },
  {
   "cell_type": "code",
   "execution_count": null,
   "id": "d8c4a6a4",
   "metadata": {},
   "outputs": [],
   "source": [
    "for countdown in 5,4,3,2,1,\"hey\":   #for loop : for .... in 記得加 : ， # 是加註解\n",
    "    print(countdown)"
   ]
  },
  {
   "cell_type": "markdown",
   "id": "9cf9ddad",
   "metadata": {},
   "source": [
    "# 1-2 矩陣 : index from 0,1,2...  ex: spells[2] = Avada Kedavral"
   ]
  },
  {
   "cell_type": "code",
   "execution_count": null,
   "id": "dc55a9ed",
   "metadata": {},
   "outputs": [],
   "source": [
    "spells=[\n",
    "    \"Riddikulus!\",     \n",
    "    \"Wingardium Leviousa!\",\n",
    "    \"Avada Kedavral\",\n",
    "    \"Expecto patronum\",\n",
    "    \"Nox!\",\n",
    "    \"Lumos!\",\n",
    "]\n",
    "print(spells[2])"
   ]
  },
  {
   "cell_type": "markdown",
   "id": "3a0c0c64",
   "metadata": {},
   "source": [
    "# 1-3字典"
   ]
  },
  {
   "cell_type": "code",
   "execution_count": null,
   "id": "a063a128",
   "metadata": {},
   "outputs": [],
   "source": [
    "quetes = {\n",
    "    \"Moe\":\"A wise guy, huh\",\n",
    "    \"Larry\":\"Ow!\",\n",
    "    \"Curly\":\"Nyuk nyuk\",\n",
    "}\n",
    "stooge=\"Curly\"\n",
    "print(stooge,\"says:\",quetes[stooge])"
   ]
  },
  {
   "cell_type": "markdown",
   "id": "7191a12f",
   "metadata": {},
   "source": [
    "# 1-4 jSON 轉換資料型態(找URL 網站)  # python 有多Models 可以用，每個models 有不同的功能，需要 import 進程式使用"
   ]
  },
  {
   "cell_type": "code",
   "execution_count": null,
   "id": "411362c6",
   "metadata": {},
   "outputs": [],
   "source": [
    "import webbrowser\n",
    "import json\n",
    "from urllib.request import urlopen\n",
    "\n",
    "print(\"Let's find and old website\")\n",
    "site = input(\"Type a website URL:\")      # 需鍵盤輸入URL 網頁\n",
    "era = input(\"Type a year,month,and day,like 20150613:\")\n",
    "url = \"http://archive.org/wayback/available?url=%s&timestamp=%s\" % (site, era)\n",
    "\n",
    "response = urlopen(url)\n",
    "contents= response.read()\n",
    "text = contents.decode(\"utf-8\")\n",
    "data = json.loads(text)\n",
    "\n",
    "try:\n",
    "   old_site=data[\"archived_snapshots\"][\"closest\"][\"url\"]\n",
    "   print(\"Fount this copy:\", old_site)\n",
    "   print(\"It should appear in your brower now.\")\n",
    "   webbrowser.open(old_site)\n",
    "except:\n",
    "   print(\"Sory, no luck finding\",site)"
   ]
  },
  {
   "cell_type": "markdown",
   "id": "1c9d26fa",
   "metadata": {},
   "source": [
    "# 1-5 archive2"
   ]
  },
  {
   "cell_type": "code",
   "execution_count": 2,
   "id": "a77ef830",
   "metadata": {},
   "outputs": [
    {
     "name": "stdout",
     "output_type": "stream",
     "text": [
      "Let's find an old website\n",
      "Type a website URL:google.com\n",
      "Type a year,month,and day,like 20150613:20210723\n",
      "Fount this copy: http://web.archive.org/web/20210723235938/https://www.google.com/\n",
      "It should appear in your brower now.\n"
     ]
    }
   ],
   "source": [
    "import webbrowser\n",
    "import requests\n",
    "\n",
    "print(\"Let's find an old website\")\n",
    "site = input(\"Type a website URL:\")      # 需鍵盤輸入URL 網頁\n",
    "era = input(\"Type a year,month,and day,like 20150613:\")\n",
    "url = \"http://archive.org/wayback/available?url=%s&timestamp=%s\" % (site, era)\n",
    "\n",
    "response = requests.get(url)\n",
    "data = response.json()\n",
    "\n",
    "try:\n",
    "   old_site=data[\"archived_snapshots\"][\"closest\"][\"url\"]\n",
    "   print(\"Fount this copy:\", old_site)\n",
    "   print(\"It should appear in your brower now.\")\n",
    "   webbrowser.open(old_site)\n",
    "except:\n",
    "   print(\"Sory, no luck finding\",site)\n",
    "\n"
   ]
  },
  {
   "cell_type": "code",
   "execution_count": null,
   "id": "2da53b6c",
   "metadata": {},
   "outputs": [],
   "source": []
  }
 ],
 "metadata": {
  "kernelspec": {
   "display_name": "Python 3",
   "language": "python",
   "name": "python3"
  },
  "language_info": {
   "codemirror_mode": {
    "name": "ipython",
    "version": 3
   },
   "file_extension": ".py",
   "mimetype": "text/x-python",
   "name": "python",
   "nbconvert_exporter": "python",
   "pygments_lexer": "ipython3",
   "version": "3.8.10"
  }
 },
 "nbformat": 4,
 "nbformat_minor": 5
}
