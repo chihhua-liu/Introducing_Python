{
 "cells": [
  {
   "cell_type": "markdown",
   "metadata": {},
   "source": [
    "# Chapter 17. Data in Space: Networks\n",
    "There are many good reasons to challenge time and space:\n",
    "1. Performance : Your goal is to keep fast components busy, not waiting for slow ones.\n",
    "2. Robustness[roˋbʌstnɪs]強健 : There’s safety in numbers, so you want to duplicate tasks to work around hardware and software failures.\n",
    "3. Simplicity [sɪmˋplɪsətɪ]簡化 : It’s best practice to break complex tasks into many little ones that are easier to create, understand, and fix. \n",
    "4.Scalability可擴展性 Increase your servers to handle load, decrease them to save money.\n",
    "\n",
    "5.In this chapter, we work our way up from networking primitives to higher-level concepts"
   ]
  },
  {
   "cell_type": "markdown",
   "metadata": {},
   "source": [
    "# 1. TCP/IP\n",
    "1. UDP (User Datagram Protocol)This is used for short exchanges. A datagram is a tiny message sent in a\n",
    "single burst(單發), like a note on a postcard. (無法確認訊息到達目的)\n",
    "2. TCP (Transmission Control Protocol) This protocol is used for longer-lived connections. It sends streams of\n",
    "bytes and ensures that they arrive in order without duplication.TCP sets up a secret handshake between sender and receiver to ensure a good connection"
   ]
  },
  {
   "cell_type": "markdown",
   "metadata": {},
   "source": [
    "### Sockets (通訊端)\n",
    "1. The lowest level of network programming uses a socket\n",
    "2. In the following client and server code, address is a tuple of (address,port). The address is a string, which can be a name or an IP address. When your programs are just talking to one another on the same machine, you can use the name 'localhost' or the equivalent address string '127.0.0.1'."
   ]
  },
  {
   "cell_type": "markdown",
   "metadata": {},
   "source": [
    "### UDP\n",
    "1. in the directory of 17-1. udp_server.py and 17-2. udp_client.py : run cmd.exe\n",
    "2. first Run : python udp_server.py\n",
    "3. Second Run : python udp_client.py\n",
    "4. Ps: UDP sends data in single chunks. It does not guarantee delivery."
   ]
  },
  {
   "cell_type": "code",
   "execution_count": null,
   "metadata": {},
   "outputs": [],
   "source": [
    "# Example 17-1. udp_server.py\n",
    "from datetime import datetime\n",
    "import socket\n",
    "\n",
    "server_address = ('localhost', 6789)   # tuple\n",
    "\n",
    "max_size = 4096\n",
    "\n",
    "print('Starting the server at', datetime.now())\n",
    "print('Waiting for a client to call.')\n",
    "# AF_INET means we’ll create an IP socket.         SOCK_DGRAM means we’ll send and receive datagrams\n",
    "# in other words, we’ll use UDP.\n",
    "server = socket.socket(socket.AF_INET, socket.SOCK_DGRAM)  # 建立一個通訊端 UDP\n",
    "#  binds to it (listens to any data arriving at that IP(address and port)\n",
    "server.bind(server_address)     # Server 才需要\n",
    "# the server sits and waits for a datagram to come in (recvfrom)\n",
    "data, client = server.recvfrom(max_size)    # wait client  datagram\n",
    "print('At', datetime.now(), client, 'said', data)\n",
    "server.sendto(b'Are you talking to me?', client)\n",
    "server.close()\n"
   ]
  },
  {
   "cell_type": "code",
   "execution_count": null,
   "metadata": {},
   "outputs": [],
   "source": [
    "# Example 17-2. udp_client.py\n",
    "import socket\n",
    "from datetime import datetime\n",
    "server_address = ('localhost', 6789)\n",
    "max_size = 4096\n",
    "\n",
    "print('Starting the client at', datetime.now())\n",
    "client = socket.socket(socket.AF_INET, socket.SOCK_DGRAM)  # 建立一個通訊端 UDP\n",
    "client.sendto(b'Hey!', server_address)       # client 先send datagram\n",
    "data, server = client.recvfrom(max_size)     # 再接收\n",
    "print('At', datetime.now(), server, 'said', data)\n",
    "client.close()"
   ]
  },
  {
   "cell_type": "markdown",
   "metadata": {},
   "source": [
    "### TCP\n",
    "1. the directory of 17-3. tcp_client.py and 17-4. tcp_server.py : run cmd.exe\n",
    "2. first Run : python tcp_server.py\n",
    "3. Second Run : python tcp_client.py\n",
    "4. TCP maintains the client-server connection across multiple socket calls and remembers the client’s IP address."
   ]
  },
  {
   "cell_type": "code",
   "execution_count": null,
   "metadata": {},
   "outputs": [],
   "source": [
    "# Example 17-3. tcp_client.py\n",
    "import socket\n",
    "from datetime import datetime\n",
    "\n",
    "address = ('localhost', 6789)\n",
    "max_size = 1000\n",
    "\n",
    "print('Starting the client at', datetime.now())\n",
    "client = socket.socket(socket.AF_INET, socket.SOCK_STREAM) # SOCK_STREAM 建立一個通訊端 TCP \n",
    "client.connect(address)                                    # We also added a connect() call to set up the stream.\n",
    "client.sendall(b'Hey!')\n",
    "data = client.recv(max_size)\n",
    "print('At', datetime.now(), 'someone replied', data)\n",
    "client.close()"
   ]
  },
  {
   "cell_type": "code",
   "execution_count": null,
   "metadata": {},
   "outputs": [],
   "source": [
    "# Example 17-4. tcp_server.py\n",
    "from datetime import datetime\n",
    "import socket\n",
    "\n",
    "address = ('localhost', 6789)\n",
    "max_size = 1000\n",
    "\n",
    "print('Starting the server at', datetime.now())\n",
    "print('Waiting for a client to call.')\n",
    "server = socket.socket(socket.AF_INET, socket.SOCK_STREAM)  # SOCK_STREAM 建立一個通訊端 TCP \n",
    "server.bind(address)\n",
    "\n",
    "server.listen(5)                                    # configured to queue up to five client connections,\n",
    "client, addr = server.accept()                      # gets the first available有效的 message as it arrives.\n",
    "\n",
    "data = client.recv(max_size)                        # sets a maximum acceptable message length of1,000 bytes.\n",
    "print('At', datetime.now(), client, 'said', data)\n",
    "client.sendall(b'Are you talking to me?')\n",
    "client.close()\n",
    "server.close()\n"
   ]
  },
  {
   "cell_type": "markdown",
   "metadata": {},
   "source": [
    "### sockets really operate at a low level:\n",
    "1. UDP sends messages, but their size is limited and they’re not guaranteed[͵gærənˋti]保證 to reach their destination.\n",
    "2. TCP sends streams of bytes, not messages. You don’t know how many bytes the system will send or receive with each call.\n",
    "3. To exchange entire messages with TCP, you need some extra information to reassemble the full message from its segments: \n",
    "    a fixed message size (bytes), or the size of the full message, or some delimiting character.\n",
    "4. Because messages are bytes, not Unicode text strings, you need to use the Python bytes type.\n",
    "   For more information on that, see Chapter 12  \n",
    "#### After all of this, if you find yourself interested in socket programming,check out the Python socket programming HOWTO for more details. https://docs.python.org/3/howto/sockets.html  "
   ]
  },
  {
   "cell_type": "markdown",
   "metadata": {},
   "source": [
    "## Scapy\n",
    "1. You may want to debug a web API, or track down some security issue. The scapy library and program provide a domain-specific language to create and inspect packets in Python,\n",
    "2. pip install scapy\n",
    "3. The docs are extremely thorough. https://scapy.readthedocs.io/en/latest/"
   ]
  },
  {
   "cell_type": "markdown",
   "metadata": {},
   "source": [
    "## Netcat\n",
    "1. Another tool to test networks and ports is Netcat, often abbreviated[əˋbrivɪ͵et]縮寫 to nc.\n",
    "2. Here’s an example of an HTTP connnection to Google’s website, and requesting some basic information about its home page:\n",
    "3. https://en.wikipedia.org/wiki/Netcat"
   ]
  },
  {
   "cell_type": "code",
   "execution_count": null,
   "metadata": {},
   "outputs": [],
   "source": [
    "nc www.google.com 80\n",
    "HEAD / HTTP/1.1"
   ]
  },
  {
   "cell_type": "markdown",
   "metadata": {},
   "source": [
    "## Networking Patterns:\n",
    "You can build networking applications from some basic patterns:\n",
    "1. The most common pattern is request-reply, also known as request-response or client-server. This pattern is \n",
    "   synchronous: the client waits until the server responds. You’ve seen many examples of request-reply in this book\n",
    "   Your web browser is also a client,making an HTTP request to a web server, which returns a reply.\n",
    "2. Another common pattern is push, or fanout: you send data to any available worker in a pool of processes.\n",
    "   An example is a web server behind a load balancer.\n",
    "3. The opposite of push is pull, or fanin: you accept data from one or more sources. An example would be a logger that   \n",
    "    takes text messages from multiple processes and writes them to a single log file.\n",
    "4. One pattern is similar to radio or television broadcasting: publish-subscribe(發布/訂閱), or pub-sub. With this pattern,    a publisher sends out data.In a simple pub-sub system, all subscribers would receive a copy.More often, subscribers\n",
    "  can indicate that they’re interested only in certain types of data (often called a topic), and the publisher will\n",
    "  send just those. So, unlike the push pattern, more than one subscriber might receive a given piece of data. If there’s no\n",
    "  subscriber for a topic, the data are ignored."
   ]
  },
  {
   "cell_type": "markdown",
   "metadata": {},
   "source": [
    "# The Request-Reply Pattern"
   ]
  },
  {
   "cell_type": "markdown",
   "metadata": {},
   "source": [
    "## ZeroMQ\n",
    "1. ZeroMQ is a library, not a server.\n",
    "2. ZeroMQ sockets do the things that you sort of expected plain sockets to do:\n",
    "   (1). Exchange entire messages\n",
    "   (2). Retry connections\n",
    "   (3). Buffer data to preserve them when the timing between senders and receivers doesn’t line up\n",
    "3. The online guide is well written and witty: https://zguide.zeromq.org/   \n",
    "4. The Python examples are also viewable : https://github.com/booksbyus/zguide/tree/master/examples/Python"
   ]
  },
  {
   "cell_type": "markdown",
   "metadata": {},
   "source": [
    "1. REQ (synchronous request)\n",
    "2. REP (synchronous reply)\n",
    "3. DEALER (asynchronous request)\n",
    "4. ROUTER (asynchronous reply)\n",
    "5. PUB (publish)\n",
    "6. SUB (subscribe)\n",
    "7. PUSH (fanout)\n",
    "8. PULL (fanin)\n",
    "\n",
    "1.pip install pyzmq"
   ]
  },
  {
   "cell_type": "code",
   "execution_count": null,
   "metadata": {},
   "outputs": [],
   "source": [
    "# Example 17-5. zmq_server.py\n",
    "import zmq\n",
    "host = '127.0.0.1'\n",
    "port = 6789\n",
    "context = zmq.Context()\n",
    "server = context.socket(zmq.REP)   # e REP (for Reply) \n",
    "server.bind(\"tcp://%s:%s\" % (host, port))\n",
    "\n",
    "while True:\n",
    "    # Wait for next request from client\n",
    "    request_bytes = server.recv()\n",
    "    request_str = request_bytes.decode('utf-8')\n",
    "    print(\"That voice in my head says: %s\" % request_str)\n",
    "    reply_str = \"Stop saying: %s\" % request_str\n",
    "    reply_bytes = bytes(reply_str, 'utf-8')\n",
    "    server.send(reply_bytes)\n"
   ]
  },
  {
   "cell_type": "code",
   "execution_count": null,
   "metadata": {},
   "outputs": [],
   "source": [
    "#Example 17-6. zmq_client.py\n",
    "import zmq\n",
    "host = '127.0.0.1'\n",
    "port = 6789\n",
    "context = zmq.Context()\n",
    "client = context.socket(zmq.REQ)    #  Its type is REQ (for REQuest), 請求\n",
    "client.connect(\"tcp://%s:%s\" % (host, port))\n",
    "for num in range(1, 6):\n",
    "    request_str = \"message #%s\" % num\n",
    "    request_bytes = request_str.encode('utf-8')\n",
    "    client.send(request_bytes)\n",
    "    reply_bytes = client.recv()\n",
    "    reply_str = reply_bytes.decode('utf-8')\n",
    "    print(\"Sent %s, received %s\" % (request_str, reply_str))"
   ]
  },
  {
   "attachments": {
    "image.png": {
     "image/png": "[encoded data removed]"
    }
   },
   "cell_type": "markdown",
   "metadata": {},
   "source": [
    "0. in cmd run :  python zmq_server.py &     ,  Start the client in the same window:  python zmq_client.py\n",
    "1. tcp between processes, on one or more machines\n",
    "2. ipc between processes on one machine\n",
    "3. inproc between threads in a single process\n",
    "![image.png](attachment:image.png)"
   ]
  },
  {
   "cell_type": "markdown",
   "metadata": {},
   "source": [
    "## Other Messaging Tools\n",
    "1. ZeroMQ is certainly not the only message-passing library that Python supports.\n",
    "2 The Apache project, whose web server we saw in “Apache”, also maintains the ActiveMQ project, including several Python\n",
    "interfaces using the simple-text STOMP protocol. https://activemq.apache.org/  , http://stomp.github.io/implementations.html\n",
    "3. RabbitMQ is also popular, and it has useful online Python tutorials. https://www.rabbitmq.com/ ,\n",
    "   https://www.rabbitmq.com/tutorials/tutorial-one-python.html\n",
    "4. NATS is a fast messaging system, written in Go. https://nats.io/\n"
   ]
  },
  {
   "cell_type": "markdown",
   "metadata": {},
   "source": [
    "# The Publish-Subscribe Pattern \n",
    "### redis\n",
    "1. Publish-subscribe is not a queue but a broadcast.\n",
    "2. start the subscriber first:in CMD Rnn:       python redis_sub.py\n",
    "3. Next, start the publisher. It will send 10 messages and then quit:      python redis_pub.py"
   ]
  },
  {
   "cell_type": "code",
   "execution_count": null,
   "metadata": {},
   "outputs": [],
   "source": [
    "# Example 17-7. redis_pub.py   (發布者:publisher)\n",
    "import redis\n",
    "import random\n",
    "conn = redis.Redis()\n",
    "cats = ['siamese', 'persian', 'maine coon', 'norwegian forest']\n",
    "hats = ['stovepipe', 'bowler', 'tam-o-shanter', 'fedora']\n",
    "for msg in range(10):\n",
    "    cat = random.choice(cats)\n",
    "    hat = random.choice(hats)\n",
    "    print('Publish: %s wears a %s' % (cat, hat))\n",
    "    conn.publish(cat, hat)"
   ]
  },
  {
   "cell_type": "code",
   "execution_count": null,
   "metadata": {},
   "outputs": [],
   "source": [
    "# Example 17-8. redis_sub.py  (訂閱者: subscriber[səbˋskraɪbɚ])\n",
    "import redis\n",
    "conn = redis.Redis()\n",
    "topics = ['maine coon', 'persian']\n",
    "sub = conn.pubsub()\n",
    "sub.subscribe(topics)\n",
    "for msg in sub.listen():\n",
    "    if msg['type'] == 'message':\n",
    "        cat = msg['channel']\n",
    "        hat = msg['data']\n",
    "        print('Subscribe: %s wears a %s' % (cat, hat)"
   ]
  },
  {
   "cell_type": "markdown",
   "metadata": {},
   "source": [
    "### ZeroMQ\n",
    "1. ZeroMQ has no central server, so each publisher writes to all subscribers.\n",
    "2. Notice that we call send_multipart() in the publisher and recv_multipart() in the subscriber. This makes it possible for us to send multipart messages and use the first part as the topic.\n",
    "3. run in CMD : first : python zmq_sub.py ,  next: python zmq_pub.py"
   ]
  },
  {
   "cell_type": "code",
   "execution_count": null,
   "metadata": {},
   "outputs": [],
   "source": [
    "# Example 17-9. zmq_pub.py    publisher \n",
    "import zmq\n",
    "import random\n",
    "import time\n",
    "host = '*'\n",
    "port = 6789\n",
    "ctx = zmq.Context()\n",
    "pub = ctx.socket(zmq.PUB)\n",
    "pub.bind('tcp://%s:%s' % (host, port))\n",
    "cats = ['siamese', 'persian', 'maine coon', 'norwegian forest']\n",
    "hats = ['stovepipe', 'bowler', 'tam-o-shanter', 'fedora']\n",
    "time.sleep(1)\n",
    "for msg in range(10):\n",
    "    cat = random.choice(cats)\n",
    "    cat_bytes = cat.encode('utf-8')\n",
    "    hat = random.choice(hats)\n",
    "    hat_bytes = hat.encode('utf-8')\n",
    "    print('Publish: %s wears a %s' % (cat, hat))\n",
    "    pub.send_multipart([cat_bytes, hat_bytes])\n"
   ]
  },
  {
   "cell_type": "code",
   "execution_count": null,
   "metadata": {},
   "outputs": [],
   "source": [
    "Example 17-10. zmq_sub.py\n",
    "import zmq\n",
    "host = '127.0.0.1'\n",
    "port = 6789\n",
    "ctx = zmq.Context()\n",
    "sub = ctx.socket(zmq.SUB)\n",
    "sub.connect('tcp://%s:%s' % (host, port))\n",
    "topics = ['maine coon', 'persian']\n",
    "for topic in topics:\n",
    "    sub.setsockopt(zmq.SUBSCRIBE, topic.encode('utf-8'))\n",
    "while True:\n",
    "    cat_bytes, hat_bytes = sub.recv_multipart()\n",
    "    cat = cat_bytes.decode('utf-8')\n",
    "    hat = hat_bytes.decode('utf-8')\n",
    "    print('Subscribe: %s wears a %s' % (cat, hat))"
   ]
  },
  {
   "cell_type": "markdown",
   "metadata": {},
   "source": [
    "### Other Pub-Sub Tools\n",
    "1. RabbitMQ is a well-known messaging broker, and pika is aPython API for it. \n",
    "See the pika documentation(https://www.rabbitmq.com/tutorials/tutorial-three-python.html) and \n",
    "a pub-sub tutorial(https://www.rabbitmq.com/tutorials/tutorial-three-python.html).\n",
    "2. Go to the PyPi(https://pypi.org/) search window and type pubsub to find Python packages like pypubsub.\n",
    "   (https://sourceforge.net/projects/pubsub/)\n",
    "3. PubSubHubbub(https://github.com/pubsubhubbub/) enabl es subscribers to register callbacks with publishers.\n",
    "4. NATS(https://nats.io/) is a fast, open source messaging system that supports pub-sub, request-reply, and queuing."
   ]
  },
  {
   "cell_type": "markdown",
   "metadata": {},
   "source": [
    "# Internet Services\n",
    "1. Python has an extensive networking toolset,The official, comprehensive documentation is available online.\n",
    "   https://docs.python.org/3/library/internet.html "
   ]
  },
  {
   "cell_type": "markdown",
   "metadata": {},
   "source": [
    "### Domain Name System\n",
    "1.Computers have numeric IP addresses such as 85.2.101.94, but we remember names better than numbers. \n",
    "The Domain Name System (DNS) is a critical[ˋkrɪtɪk!] 關鍵性的 internet service that converts IP addresses to and\n",
    "from names via a distributed database."
   ]
  },
  {
   "cell_type": "code",
   "execution_count": 3,
   "metadata": {},
   "outputs": [
    {
     "data": {
      "text/plain": [
       "('crappytaxidermy.com', ['www.crappytaxidermy.com'], ['66.6.44.4'])"
      ]
     },
     "execution_count": 3,
     "metadata": {},
     "output_type": "execute_result"
    }
   ],
   "source": [
    "import socket\n",
    "# gethostbyname() returns the IP address for a domain name\n",
    "socket.gethostbyname('www.crappytaxidermy.com')\n",
    "# answer: '66.6.44.4'\n",
    "\n",
    "#  gethostbyname_ex() returns the name, a list of alternative[ɔlˋtɝnətɪv]替代的 names, and a list of addresses\n",
    "socket.gethostbyname_ex('www.crappytaxidermy.com')\n"
   ]
  },
  {
   "cell_type": "code",
   "execution_count": 4,
   "metadata": {},
   "outputs": [
    {
     "data": {
      "text/plain": [
       "[(<AddressFamily.AF_INET: 2>, 0, 0, '', ('66.6.44.4', 80))]"
      ]
     },
     "execution_count": 4,
     "metadata": {},
     "output_type": "execute_result"
    }
   ],
   "source": [
    "# The getaddrinfo() method looks up the IP address, but it also returns \n",
    "# enough information to create a socket to connect to it\n",
    "socket.getaddrinfo('www.crappytaxidermy.com', 80)"
   ]
  },
  {
   "cell_type": "code",
   "execution_count": 5,
   "metadata": {},
   "outputs": [
    {
     "data": {
      "text/plain": [
       "[(<AddressFamily.AF_INET: 2>,\n",
       "  <SocketKind.SOCK_STREAM: 1>,\n",
       "  0,\n",
       "  '',\n",
       "  ('66.6.44.4', 80))]"
      ]
     },
     "execution_count": 5,
     "metadata": {},
     "output_type": "execute_result"
    }
   ],
   "source": [
    "socket.getaddrinfo('www.crappytaxidermy.com', 80, socket.AF_INET,socket.SOCK_STREAM)"
   ]
  },
  {
   "cell_type": "code",
   "execution_count": 6,
   "metadata": {},
   "outputs": [
    {
     "data": {
      "text/plain": [
       "80"
      ]
     },
     "execution_count": 6,
     "metadata": {},
     "output_type": "execute_result"
    }
   ],
   "source": [
    "# These functions convert between service names and port numbers\n",
    "import socket\n",
    "socket.getservbyname('http')"
   ]
  },
  {
   "cell_type": "code",
   "execution_count": 7,
   "metadata": {},
   "outputs": [
    {
     "data": {
      "text/plain": [
       "'http'"
      ]
     },
     "execution_count": 7,
     "metadata": {},
     "output_type": "execute_result"
    }
   ],
   "source": [
    "socket.getservbyport(80)"
   ]
  },
  {
   "cell_type": "markdown",
   "metadata": {},
   "source": [
    "### Python Email Modules\n",
    "1. smtplib for sending email messages via Simple Mail Transfer Protocol (SMTP) :https://docs.python.org/3/library/smtplib.html\n",
    "2. email for creating and parsing(解析) email messages\n",
    ":https://docs.python.org/3/library/email.html\n",
    "3. poplib for reading email via Post Office Protocol 3 (POP3)\n",
    "https://docs.python.org/3/library/poplib.html\n",
    "4. imaplib for reading email via Internet Message Access Protocol (IMAP)\n",
    "https://docs.python.org/3/library/imaplib.html\n",
    "\n",
    "5. If you want to write your own Python SMTP server, try smtpd(https://docs.python.org/3/library/smtpd.html), or the new asynchronous version aiosmtpd(https://aiosmtpd.readthedocs.io/en/latest/)"
   ]
  },
  {
   "cell_type": "markdown",
   "metadata": {},
   "source": [
    "### Other Protocols\n",
    "1. Using the standard ftplib module, you can push bytes around by using the\n",
    "File Transfer Protocol (FTP). Although it’s an old protocol, FTP still performs very well.\n",
    "https://docs.python.org/3/library/ftplib.html\n",
    "2. You’ve seen many of these modules in various places in this book, but also\n",
    "try the documentation for standard library support of internet protocols.\n",
    "https://docs.python.org/3/library/internet.html    "
   ]
  },
  {
   "cell_type": "markdown",
   "metadata": {},
   "source": [
    "# Web Services and APIs\n",
    "1. Here are some interesting service APIs:\n",
    "2. New York Times : https://developer.nytimes.com/\n",
    "3. Twitter : https://python-twitter.readthedocs.io/en/latest/\n",
    "4. Facebook : https://developers.facebook.com/tools\n",
    "5. Weather Underground : http://www.wunderground.com/weather/api\n",
    "6. Marvel Comics: http://developer.marvel.com/"
   ]
  },
  {
   "cell_type": "markdown",
   "metadata": {},
   "source": [
    "# Data Serialization \n",
    "[͵sɪrɪəlɪˋzeʃən] 序列化 \n",
    "1.The conversion between data in memory and byte sequences “on the wire” is called serialization or marshaling.\n",
    "JSON is a popular serialization format"
   ]
  },
  {
   "cell_type": "markdown",
   "metadata": {},
   "source": [
    "### Serialize with pickle\n",
    "1. Python provides the pickle module to save and restore any object in a special binary format\n",
    "2. Use dump() to pickle to a file, and load() to unpickle from one.\n",
    "#### If pickle can’t serialize your data format, a newer third-party package called dill might"
   ]
  },
  {
   "cell_type": "code",
   "execution_count": 12,
   "metadata": {},
   "outputs": [
    {
     "name": "stdout",
     "output_type": "stream",
     "text": [
      "b'\\x80\\x04\\x95*\\x00\\x00\\x00\\x00\\x00\\x00\\x00\\x8c\\x08datetime\\x94\\x8c\\x08datetime\\x94\\x93\\x94C\\n\\x07\\xe5\\t\\x06\\x06/4\\x05B(\\x94\\x85\\x94R\\x94.'\n",
      "<class 'datetime.datetime'>\n",
      "2021-09-06 06:47:52.344616\n",
      "2021-09-06 06:47:52.344616\n"
     ]
    }
   ],
   "source": [
    "import pickle\n",
    "import datetime\n",
    "now1 = datetime.datetime.utcnow()\n",
    "pickled = pickle.dumps(now1)      # 轉換成 binary format\n",
    "print(pickled)\n",
    "now2 = pickle.loads(pickled)      # 轉回 datetime\n",
    "print(type(now2))\n",
    "print(now1)   #datetime.datetime(2014, 6, 22, 23, 24, 19, 195722)\n",
    "print(now2)   #datetime.datetime(2014, 6, 22, 23, 24, 19, 195722)"
   ]
  },
  {
   "cell_type": "code",
   "execution_count": 13,
   "metadata": {},
   "outputs": [
    {
     "name": "stdout",
     "output_type": "stream",
     "text": [
      "tiny\n",
      "tiny\n",
      "b'\\x80\\x04\\x95\\x18\\x00\\x00\\x00\\x00\\x00\\x00\\x00\\x8c\\x08__main__\\x94\\x8c\\x04Tiny\\x94\\x93\\x94)\\x81\\x94.'\n",
      "<class '__main__.Tiny'>\n"
     ]
    },
    {
     "data": {
      "text/plain": [
       "'tiny'"
      ]
     },
     "execution_count": 13,
     "metadata": {},
     "output_type": "execute_result"
    }
   ],
   "source": [
    "# pickle works with your own classes and objects, too\n",
    "\n",
    "import pickle\n",
    "class Tiny():\n",
    "    def __str__(self):\n",
    "        return 'tiny'\n",
    "\n",
    "obj1 = Tiny()\n",
    "print(obj1)\n",
    "\n",
    "print(str(obj1))\n",
    "\n",
    "pickled = pickle.dumps(obj1)  # 轉換成 binary format\n",
    "print(pickled)            \n",
    "obj2 = pickle.loads(pickled)  # 轉回 class Tiny()   \n",
    "print(type(obj2))      # <__main__.Tiny object at 0x10076e550>\n",
    "str(obj2)\n"
   ]
  },
  {
   "cell_type": "markdown",
   "metadata": {},
   "source": [
    "### Other Serialization Formats\n",
    "1. These binary data interchange formats are usually more compact and faster than XML or JSON:\n",
    "2. MsgPack : http://msgpack.org/\n",
    "3. Protocol Buffers : https://code.google.com/p/protobufa\n",
    "4. Avro : http://avro.apache.org/docs/current \n",
    "5. Thrift : http://thrift.apache.org/\n",
    "6. Lima : https://lima.readthedocs.io/\n",
    "7. Serialize is a Python frontend to other formats, including JSON,YAML, pickle, and MsgPack.\n",
    "   https://pypi.org/project/Serialize\n",
    "A benchmark of various Python serialization packages. https://oreil.ly/S3ESH"
   ]
  },
  {
   "cell_type": "markdown",
   "metadata": {},
   "source": [
    "1. Some third-party packages interconvert objects and basic Python data types\n",
    "(allowing further conversion to/from formats like JSON), and provide validation of the following:\n",
    "(1) Data types\n",
    "(2) Value ranges\n",
    "(3) Required versus optional data\n",
    "2. These include:\n",
    "(1) Marshmallow : https://marshmallow.readthedocs.io/en/3.0\n",
    "(2) Pydantic—uses type hints, so requires at least Python 3.6 : https://pydantic-docs.helpmanual.io/\n",
    "(3) TypeSystem :  https://pydantic-docs.helpmanual.io/"
   ]
  },
  {
   "cell_type": "markdown",
   "metadata": {},
   "source": [
    "# Remote Procedure Calls (RPCs) \n",
    "1. Your local machine: (1) Serializes your function arguments into bytes. (2) Sends the encoded bytes to the remote machine.\n",
    "2. The remote machine : (1)Receives the encoded request bytes. (2) Deserializes the bytes back to data structures.\n",
    "(3) Finds and calls the service function with the decoded data.(4)Encodes the function results.\n",
    "(5) Sends the encoded bytes back to the calle\n",
    "3. And finally, the local machine that started it all:  Decodes the bytes to return values"
   ]
  },
  {
   "cell_type": "markdown",
   "metadata": {},
   "source": [
    "### XML RPC \n",
    "1. The standard library includes one RPC implementation that uses XML as the exchange format: xmlrpc.\n",
    "2. You define and register functions on the server, and the client calls them as though they were imported.    "
   ]
  },
  {
   "cell_type": "code",
   "execution_count": null,
   "metadata": {},
   "outputs": [],
   "source": [
    "# Example 17-11. xmlrpc_server.py \n",
    "from xmlrpc.server import SimpleXMLRPCServer\n",
    "def double(num):\n",
    "    return num * 2\n",
    "server = SimpleXMLRPCServer((\"localhost\", 6789)) # The server starts up on an address and port\n",
    "server.register_function(double, \"double\")   # register the function to make it available to clients via RPC\n",
    "server.serve_forever()  #  Finally, start serving and carry on.\n"
   ]
  },
  {
   "cell_type": "code",
   "execution_count": null,
   "metadata": {},
   "outputs": [],
   "source": [
    "# Example 17-12. xmlrpc_client.py\n",
    "import xmlrpc.client\n",
    "proxy = xmlrpc.client.ServerProxy(\"http://localhost:6789/\")\n",
    "num = 7\n",
    "result = proxy.double(num)\n",
    "print(\"Double %s is %s\" % (num, result))"
   ]
  },
  {
   "cell_type": "markdown",
   "metadata": {},
   "source": [
    "1. start the server and then run the client: (IN CMD)\n",
    "2. python xmlrpc_server.py\n",
    "3. python xmlrpc_client.py"
   ]
  },
  {
   "cell_type": "markdown",
   "metadata": {},
   "source": [
    "### JSON RPC\n",
    "1. Python JSON-RPC libraries, but the simplest one I’ve found comes in two parts: client(https://oreil.ly/8npxf) and server(https://oreil.ly/P_uDr).\n",
    "2. pip install jsonrpcserver and pip install jsonrpclient."
   ]
  },
  {
   "cell_type": "code",
   "execution_count": null,
   "metadata": {},
   "outputs": [],
   "source": [
    "# Example 17-13. jsonrpc_server.py\n",
    "from jsonrpcserver import method, serve\n",
    "\n",
    "@method\n",
    "def double(num):\n",
    "    return num * 2\n",
    "\n",
    "if __name__ == \"__main__\":\n",
    "     serve()"
   ]
  },
  {
   "cell_type": "code",
   "execution_count": null,
   "metadata": {},
   "outputs": [],
   "source": [
    "# Example 17-14. jsonrpc_client.py    1.python jsonrpc_server.py &   2.python jsonrpc_client.py \n",
    "from jsonrpcclient import request\n",
    "num = 7\n",
    "response = request(\"http://localhost:5000\", \"double\", num=num)\n",
    "print(\"Double\", num, \"is\", response.data.result)"
   ]
  },
  {
   "cell_type": "markdown",
   "metadata": {},
   "source": [
    "### MessagePack RPC\n",
    "1.The encoding library MessagePack has its own Python RPC implementation.\n",
    "https://github.com/msgpack-rpc/msgpack-rpc-python\n",
    "2. Here’s how to install it:$ pip install msgpack-rpc-python(多年以前更新，安裝後無法使用Jupyter notebook)\n",
    "3. IN cmd run  : first : python msgpack_server.py\n",
    "next:  python msgpack_client.py"
   ]
  },
  {
   "cell_type": "code",
   "execution_count": null,
   "metadata": {},
   "outputs": [],
   "source": [
    "# Example 17-15. msgpack_server.py\n",
    "from msgpackrpc import Server, Address\n",
    "class Services():\n",
    "    def double(self, num):\n",
    "    return num * 2\n",
    "server = Server(Services())\n",
    "server.listen(Address(\"localhost\", 6789))\n",
    "server.start()"
   ]
  },
  {
   "cell_type": "code",
   "execution_count": null,
   "metadata": {},
   "outputs": [],
   "source": [
    "from msgpackrpc import Client, Address\n",
    "client = Client(Address(\"localhost\", 6789))\n",
    "num = 8\n",
    "result = client.call('double', num)   # 可以直接呼叫 Server 的double 函式\n",
    "print(\"Double %s is %s\" % (num, result)"
   ]
  },
  {
   "cell_type": "markdown",
   "metadata": {},
   "source": [
    "### Zerorpc : Written by the developers of Docker\n",
    "1. http://www.zerorpc.io/\n",
    "2. pip install zerorpc\n",
    "3. zerorpc uses ZeroMQ and MsgPack to connect clients and servers. It\n",
    "magically exposes functions as RPC endpoints\n",
    "4.The site has many more examples.\n",
    ":https://github.com/0rpc/zerorpc-python\n"
   ]
  },
  {
   "cell_type": "code",
   "execution_count": null,
   "metadata": {},
   "outputs": [],
   "source": [
    "# Example 17-17. zerorpc_server.py\n",
    "import zerorpc\n",
    "class RPC():\n",
    "    def double(self, num):\n",
    "        return 2 * num\n",
    "server = zerorpc.Server(RPC())\n",
    "server.bind(\"tcp://0.0.0.0:4242\")\n",
    "server.run()"
   ]
  },
  {
   "cell_type": "code",
   "execution_count": null,
   "metadata": {},
   "outputs": [],
   "source": [
    "# Example 17-18. zerorpc_client.py\n",
    "import zerorpc\n",
    "client = zerorpc.Client()\n",
    "client.connect(\"tcp://127.0.0.1:4242\")\n",
    "num = 7\n",
    "result = client.double(num)\n",
    "print(\"Double\", num, \"is\", result)"
   ]
  },
  {
   "cell_type": "markdown",
   "metadata": {},
   "source": [
    " in CMD : \n",
    " 1. first :  python zerorpc_server.py &\n",
    " 2. Next :  python zerorpc_client.py "
   ]
  },
  {
   "cell_type": "markdown",
   "metadata": {},
   "source": [
    "### gRPC : (Remember to learn) \n",
    "1. Google created gRPC(https://grpc.io/) as a portable and fast way to define and connect services. It encodes data as protocol buffers.\n",
    "https://developers.google.com/protocol-buffers/\n",
    "2. Install the Python parts: in CMD\n",
    "3. gRPC:    python -m pip install grpcio \n",
    "4. gRPC tools: python -m pip install grpcio-tools\n",
    "5. The Python client docs(https://grpc.io/docs/languages/python/quickstart/) are very detailed, so I’m giving only a brief overview here. You may also like this separate tutorial.(https://www.semantics3.com/blog/a-simplified-guide-to-grpc-in-python-6c4e25f0c506/)"
   ]
  },
  {
   "cell_type": "markdown",
   "metadata": {},
   "source": [
    "1. To use gRPC, you write a .proto file to define a service and its rpc\n",
    "methods.\n",
    "2. An rpc method is like a function definition (describing its arguments and\n",
    "return types) and may specify one of these networking patterns:\n",
    "3. Request-response (sync or async)\n",
    "4. Request-streaming response\n",
    "5. Streaming request-response (sync or async)\n",
    "6. Streaming request-streaming response\n",
    "7. Single responses can be blocking or asynchronous. Streaming responses are\n",
    "iterated.\n",
    "8. Next, you would run the grpc_tools.protoc program to create Python\n",
    "code for the client and server. gRPC handles the serialization and network\n",
    "communication; you add your application-specific code to the client and\n",
    "server stubs.\n",
    "9. gRPC is a top-level alternative to web REST APIs. It seems to be a better\n",
    "fit than REST for inter-service communication, and REST may be preferred\n",
    "for public APIs."
   ]
  },
  {
   "cell_type": "markdown",
   "metadata": {},
   "source": [
    "### Twirp\n",
    "Twirp is similar to gRPC, but claims to be simpler. You define a .proto file\n",
    "as you would with gRPC, and twirp can generate Python code to handle the\n",
    "client and server ends.\n",
    "https://blog.twitch.tv/en/2018/01/16/twirp-a-sweet-new-rpc-framework-for-go-5f2febbf35f/"
   ]
  },
  {
   "cell_type": "markdown",
   "metadata": {},
   "source": [
    "# Remote Management Tools\n",
    "1. Salt:(https://docs.saltproject.io/en/getstarted/system/python.html)  is written in Python. It started as a way to implement remote\n",
    "execution, but grew to a full-fledged(全面性) systems management\n",
    "platform. Based on ZeroMQ rather than SSH, it can scale to\n",
    "thousands of servers.\n",
    "2. Puppet(http://puppetlabs.com/) and Chef(https://www.chef.io/products/chef-infra): are popular and closely tied to Ruby.\n",
    "3. The Ansible(https://www.ansible.com/) package:  which like Salt is written in Python, is also\n",
    "comparable. It’s free to download and use, but support and some\n",
    "add-on packages require a commercial license. It uses SSH by\n",
    "default and does not require any special software to be installed on\n",
    "the machines that it will manage."
   ]
  },
  {
   "cell_type": "markdown",
   "metadata": {},
   "source": [
    "# Big Fat Data: \n",
    "1. Developers found that it was faster to distribute and analyze data on many\n",
    "networked machines than on individual ones. They could use algorithms\n",
    "that sounded simplistic but actually worked better overall with massively\n",
    "distributed data. One of these is MapReduce, which spreads a calculation\n",
    "across many machines and then gathers the results. It’s similar to working\n",
    "with queues.\n"
   ]
  },
  {
   "cell_type": "markdown",
   "metadata": {},
   "source": [
    "### Hadoop\n",
    "1. After Google published its MapReduce results in a paper(https://static.googleusercontent.com/media/research.google.com/zh-TW//archive/mapreduce-osdi04.pdf), Yahoo followed\n",
    "with an open source Java-based package named Hadoop (named after the\n",
    "toy stuffed elephant of the lead programmer’s son).\n",
    "2. The phrase big data applies here. Often it just means “data too big to fit on my machine”: data that exceeds the disk, memory, CPU time, or all of the above. To some organizations, if big data is mentioned somewhere in a\n",
    "question, the answer is always Hadoop. Hadoop copies data among\n",
    "machines, running them through map (scatter) and reduce (gather)\n",
    "programs, and saving the results on disk at each ste\n",
    "3. This batch process can be slow. A quicker method called Hadoop streaming\n",
    "works like Unix pipes, streaming the data through programs without\n",
    "requiring disk writes at each step. You can write Hadoop streaming\n",
    "programs in any language, including Python.\n",
    "4. Many Python modules have been written for Hadoop, and some are\n",
    "discussed in the blog post “A Guide to Python Frameworks for Hadoop”.(https://www.slideshare.net/InfoQ/a-guide-to-python-frameworks-for-hadoop, https://blog.cloudera.com/)\n",
    "Spotify, known for streaming music, open sourced its Python component\n",
    "for Hadoop streaming, Luigi. (https://github.com/spotify/luigi)"
   ]
  },
  {
   "cell_type": "markdown",
   "metadata": {},
   "source": [
    "1. Spark: http://spark.apache.org/docs/latest/index.html\n",
    "A rival named Spark was designed to run 10 to 100 times faster than\n",
    "Hadoop. It can read and process any Hadoop data source and format. Spark\n",
    "includes APIs for Python and other languages. You can find the installation\n",
    "documents online.(https://spark.apache.org/docs/latest/quick-start.html)\n",
    "2. Disco :(http://discoproject.org/)\n",
    "Another alternative to Hadoop is Disco, which uses Python for MapReduce\n",
    "processing and Erlang for communication. Alas, you can’t install it with\n",
    "pip; see the documentation.(http://spark.apache.org/downloads.html)(https://disco.readthedocs.io/en/latest/start/download.html)\n",
    "3. Dask :(https://dask.org/)\n",
    "Dask is similar to Spark, although it’s written in Python and is largely used\n",
    "with scientific Python packages like NumPy, Pandas, and scikit-learn. It can\n",
    "spread tasks across thousand-machine clusters.\n",
    "To get Dask and all of its extra helpers:\n",
    "4. pip install dask[complete]\n",
    "5. See Chapter 22 for related examples of parallel programming, in which a\n",
    "large structured calculation is distributed among many machines"
   ]
  },
  {
   "cell_type": "markdown",
   "metadata": {},
   "source": [
    "# Clouds\n",
    "The eight fallacies of distributed computing, according to Peter\n",
    "Deutsch, are as follows:\n",
    "1. The network is reliable.\n",
    "2. Latency is zero.\n",
    "3. Bandwidth is infinite.\n",
    "4. The network is secure.\n",
    "5. Topology doesn’t change.\n",
    "6. There is one administrator.\n",
    "7. Transport cost is zero.\n",
    "8. The network is homogeneous.\n",
    "\n",
    "9.The big cloud vendors are:\n",
    "Amazon (AWS)\n",
    "Google\n",
    "Microsoft Azure"
   ]
  },
  {
   "cell_type": "markdown",
   "metadata": {},
   "source": [
    "### Amazon Web Services\n",
    "1. They borrowed or innovated many solutions,\n",
    "evolving into Amazon Web Services (AWS : https://aws.amazon.com/tw/), which now dominates the market. The official Python AWS library is boto3\n",
    "2. documentation : https://boto3.amazonaws.com/v1/documentation/api/latest/index.html\n",
    "4. SDK pages : https://aws.amazon.com/tw/sdk-for-python/\n",
    "3.  pip install boto3"
   ]
  },
  {
   "cell_type": "markdown",
   "metadata": {},
   "source": [
    "### Google Cloud \n",
    "Google uses Python a lot internally, and it employs some prominent Python\n",
    "developers (even Guido van Rossum himself, for some time). From its main\n",
    "and Python pages, you can find details on its many services.\n",
    "(https://cloud.google.com/python)"
   ]
  },
  {
   "cell_type": "markdown",
   "metadata": {},
   "source": [
    "### Microsoft Azure\n",
    "Microsoft caught up with Amazon and Google with its cloud offering,\n",
    "Azure(https://azure.microsoft.com/zh-tw/). See Python on Azure to learn how to develop and deploy Python (https://azure.microsoft.com/en-us/develop/python/) applications."
   ]
  },
  {
   "cell_type": "markdown",
   "metadata": {},
   "source": [
    "###  OpenStack\n",
    "OpenStack(https://www.openstack.org/) is an open source framework of Python services and REST APIs. Many of the services are similar to those in the commercial[kəˋmɝʃəl]商業的 clouds."
   ]
  },
  {
   "cell_type": "markdown",
   "metadata": {},
   "source": [
    "# Docker\n",
    "1. Docker applied the container name and\n",
    "analogy to a virtualization method using some little-known Linux features.\n",
    "Containers are much lighter than virtual machines, and a bit heavier than\n",
    "Python virtualenvs. They allow you to package an application separately\n",
    "from other applications on the same machine, sharing only the operating\n",
    "system kernel.\n",
    "To install Docker’s Python client library(https://pypi.org/project/docker/) : pip install docker"
   ]
  },
  {
   "cell_type": "markdown",
   "metadata": {},
   "source": [
    "### Kubernetes\n",
    "1. Containers caught on and spread through the computing world. Eventually[ɪˋvɛntʃʊəlɪ]最後, people needed ways to manage multiple containers and wanted to automate some of the manual steps that have been usually required in large distributed systems:\n",
    "2. Failover\n",
    "3. Load balancing\n",
    "4. Scaling up and down\n",
    "It looks like Kubernetes(https://kubernetes.io/zh/) is leading the pack in this new area of container orchestration[͵ɔrkɪsˋtreʃən]和諧的結合.\n",
    "To install the Python client library(https://github.com/kubernetes-client/python): $ pip install kubernete"
   ]
  },
  {
   "cell_type": "code",
   "execution_count": null,
   "metadata": {},
   "outputs": [],
   "source": []
  }
 ],
 "metadata": {
  "kernelspec": {
   "display_name": "Python 3 (ipykernel)",
   "language": "python",
   "name": "python3"
  },
  "language_info": {
   "codemirror_mode": {
    "name": "ipython",
    "version": 3
   },
   "file_extension": ".py",
   "mimetype": "text/x-python",
   "name": "python",
   "nbconvert_exporter": "python",
   "pygments_lexer": "ipython3",
   "version": "3.8.10"
  }
 },
 "nbformat": 4,
 "nbformat_minor": 4
}
