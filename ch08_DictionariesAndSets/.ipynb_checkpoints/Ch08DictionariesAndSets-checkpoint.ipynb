{
 "cells": [
  {
   "cell_type": "markdown",
   "metadata": {},
   "source": [
    "# Chapter 8. Dictionaries and Sets"
   ]
  },
  {
   "cell_type": "markdown",
   "metadata": {},
   "source": [
    "# Dictionaries"
   ]
  },
  {
   "cell_type": "code",
   "execution_count": null,
   "metadata": {},
   "outputs": [],
   "source": [
    "# create dict\n",
    "empty_dict = {}\n",
    "empty_dict"
   ]
  },
  {
   "cell_type": "code",
   "execution_count": null,
   "metadata": {},
   "outputs": [],
   "source": [
    "bierce = {\n",
    "    \"day\": \"A period of twenty-four hours, mostly misspent\",\n",
    "    \"positive\": \"Mistaken at the top of one's voice\",\n",
    "    \"misfortune\": \"The kind of fortune that never misses\",\n",
    "}\n",
    "bierce"
   ]
  },
  {
   "cell_type": "code",
   "execution_count": null,
   "metadata": {},
   "outputs": [],
   "source": [
    "acme_customer = {'first': 'Wile', 'middle': 'E', 'last': 'Coyote'}\n",
    "acme_customer"
   ]
  },
  {
   "cell_type": "code",
   "execution_count": 1,
   "metadata": {},
   "outputs": [
    {
     "ename": "SyntaxError",
     "evalue": "invalid syntax (Temp/ipykernel_22696/2463743491.py, line 4)",
     "output_type": "error",
     "traceback": [
      "\u001b[1;36m  File \u001b[1;32m\"C:\\Users\\USER\\AppData\\Local\\Temp/ipykernel_22696/2463743491.py\"\u001b[1;36m, line \u001b[1;32m4\u001b[0m\n\u001b[1;33m    x = dict(name=\"Elmer\", def=\"hunter\")\u001b[0m\n\u001b[1;37m                           ^\u001b[0m\n\u001b[1;31mSyntaxError\u001b[0m\u001b[1;31m:\u001b[0m invalid syntax\n"
     ]
    }
   ],
   "source": [
    "# Using dict()\n",
    "acme_customer = dict(first=\"Wile\", middle=\"E\", last=\"Coyote\")\n",
    "print(acme_customer)\n",
    "x = dict(name=\"Elmer\", def=\"hunter\")\n",
    "print(x)"
   ]
  },
  {
   "cell_type": "code",
   "execution_count": 2,
   "metadata": {},
   "outputs": [
    {
     "data": {
      "text/plain": [
       "{'a': 'b', 'c': 'd', 'e': 'f'}"
      ]
     },
     "execution_count": 2,
     "metadata": {},
     "output_type": "execute_result"
    }
   ],
   "source": [
    "lol = [ ['a', 'b'], ['c', 'd'], ['e', 'f'] ]\n",
    "dict(lol)"
   ]
  },
  {
   "cell_type": "code",
   "execution_count": 3,
   "metadata": {},
   "outputs": [
    {
     "data": {
      "text/plain": [
       "{'a': 'b', 'c': 'd', 'e': 'f'}"
      ]
     },
     "execution_count": 3,
     "metadata": {},
     "output_type": "execute_result"
    }
   ],
   "source": [
    "lot = [ ('a', 'b'), ('c', 'd'), ('e', 'f') ]\n",
    "dict(lot)"
   ]
  },
  {
   "cell_type": "code",
   "execution_count": 4,
   "metadata": {},
   "outputs": [
    {
     "data": {
      "text/plain": [
       "{'a': 'b', 'c': 'd', 'e': 'f'}"
      ]
     },
     "execution_count": 4,
     "metadata": {},
     "output_type": "execute_result"
    }
   ],
   "source": [
    "los = [ 'ab', 'cd', 'ef' ]\n",
    "dict(los)"
   ]
  },
  {
   "cell_type": "code",
   "execution_count": 5,
   "metadata": {},
   "outputs": [
    {
     "data": {
      "text/plain": [
       "{'Chapman': 'Graham',\n",
       " 'Cleese': 'John',\n",
       " 'Idle': 'Eric',\n",
       " 'Jones': 'Terry',\n",
       " 'Palin': 'Michael'}"
      ]
     },
     "execution_count": 5,
     "metadata": {},
     "output_type": "execute_result"
    }
   ],
   "source": [
    "pythons = {\n",
    "    'Chapman': 'Graham',\n",
    "    'Cleese': 'John',\n",
    "    'Idle': 'Eric',\n",
    "    'Jones': 'Terry',\n",
    "    'Palin': 'Michael',\n",
    "}\n",
    "pythons"
   ]
  },
  {
   "cell_type": "code",
   "execution_count": 6,
   "metadata": {},
   "outputs": [
    {
     "data": {
      "text/plain": [
       "{'Chapman': 'Graham',\n",
       " 'Cleese': 'John',\n",
       " 'Idle': 'Eric',\n",
       " 'Jones': 'Terry',\n",
       " 'Palin': 'Michael',\n",
       " 'Gilliam': 'Gerry'}"
      ]
     },
     "execution_count": 6,
     "metadata": {},
     "output_type": "execute_result"
    }
   ],
   "source": [
    "pythons['Gilliam'] = 'Gerry'   # add key(Gilliam) and value (Gerry)\n",
    "pythons"
   ]
  },
  {
   "cell_type": "code",
   "execution_count": 7,
   "metadata": {},
   "outputs": [
    {
     "data": {
      "text/plain": [
       "{'Chapman': 'Graham',\n",
       " 'Cleese': 'John',\n",
       " 'Idle': 'Eric',\n",
       " 'Jones': 'Terry',\n",
       " 'Palin': 'Michael',\n",
       " 'Gilliam': 'Terry'}"
      ]
     },
     "execution_count": 7,
     "metadata": {},
     "output_type": "execute_result"
    }
   ],
   "source": [
    "pythons['Gilliam'] = 'Terry'  # change Gilliam 的 value   \n",
    "pythons"
   ]
  },
  {
   "cell_type": "code",
   "execution_count": 14,
   "metadata": {},
   "outputs": [
    {
     "data": {
      "text/plain": [
       "{'Graham': 'Chapman',\n",
       " 'John': 'Cleese',\n",
       " 'Eric': 'Idle',\n",
       " 'Terry': 'Jones',\n",
       " 'Michael': 'Palin'}"
      ]
     },
     "execution_count": 14,
     "metadata": {},
     "output_type": "execute_result"
    }
   ],
   "source": [
    "some_pythons = {\n",
    "    'Graham': 'Chapman',\n",
    "    'John': 'Cleese',\n",
    "    'Eric': 'Idle',\n",
    "    'Terry': 'Gilliam',      # terry 重複\n",
    "    'Michael': 'Palin',\n",
    "    'Terry': 'Jones',        # terry 重複 : 用後面那一個\n",
    "}\n",
    "some_pythons"
   ]
  },
  {
   "cell_type": "code",
   "execution_count": 15,
   "metadata": {},
   "outputs": [
    {
     "data": {
      "text/plain": [
       "'Cleese'"
      ]
     },
     "execution_count": 15,
     "metadata": {},
     "output_type": "execute_result"
    }
   ],
   "source": [
    "some_pythons['John']"
   ]
  },
  {
   "cell_type": "code",
   "execution_count": 16,
   "metadata": {},
   "outputs": [
    {
     "data": {
      "text/plain": [
       "False"
      ]
     },
     "execution_count": 16,
     "metadata": {},
     "output_type": "execute_result"
    }
   ],
   "source": [
    "'Groucho' in some_pythons"
   ]
  },
  {
   "cell_type": "code",
   "execution_count": 17,
   "metadata": {},
   "outputs": [
    {
     "data": {
      "text/plain": [
       "'Cleese'"
      ]
     },
     "execution_count": 17,
     "metadata": {},
     "output_type": "execute_result"
    }
   ],
   "source": [
    "# get()\n",
    "some_pythons.get('John')     "
   ]
  },
  {
   "cell_type": "code",
   "execution_count": 18,
   "metadata": {},
   "outputs": [
    {
     "name": "stdout",
     "output_type": "stream",
     "text": [
      "Not a Python\n",
      "{'Graham': 'Chapman', 'John': 'Cleese', 'Eric': 'Idle', 'Terry': 'Jones', 'Michael': 'Palin'}\n"
     ]
    }
   ],
   "source": [
    "print(some_pythons.get('Groucho', 'Not a Python'))\n",
    "print(some_pythons)"
   ]
  },
  {
   "cell_type": "code",
   "execution_count": 20,
   "metadata": {},
   "outputs": [
    {
     "data": {
      "text/plain": [
       "dict_keys(['green', 'yellow', 'red'])"
      ]
     },
     "execution_count": 20,
     "metadata": {},
     "output_type": "execute_result"
    }
   ],
   "source": [
    "# keys()\n",
    "signals = {'green': 'go', 'yellow': 'go faster', 'red': 'smile for the camera'}\n",
    "signals.keys()"
   ]
  },
  {
   "cell_type": "code",
   "execution_count": 23,
   "metadata": {},
   "outputs": [
    {
     "data": {
      "text/plain": [
       "['green', 'yellow', 'red']"
      ]
     },
     "execution_count": 23,
     "metadata": {},
     "output_type": "execute_result"
    }
   ],
   "source": [
    "# list ()\n",
    "list( signals.keys() )"
   ]
  },
  {
   "cell_type": "code",
   "execution_count": 24,
   "metadata": {},
   "outputs": [
    {
     "data": {
      "text/plain": [
       "['go', 'go faster', 'smile for the camera']"
      ]
     },
     "execution_count": 24,
     "metadata": {},
     "output_type": "execute_result"
    }
   ],
   "source": [
    "# values \n",
    "list( signals.values() )"
   ]
  },
  {
   "cell_type": "code",
   "execution_count": 25,
   "metadata": {},
   "outputs": [
    {
     "data": {
      "text/plain": [
       "[('green', 'go'), ('yellow', 'go faster'), ('red', 'smile for the camera')]"
      ]
     },
     "execution_count": 25,
     "metadata": {},
     "output_type": "execute_result"
    }
   ],
   "source": [
    " list( signals.items() )"
   ]
  },
  {
   "cell_type": "code",
   "execution_count": 26,
   "metadata": {},
   "outputs": [
    {
     "name": "stdout",
     "output_type": "stream",
     "text": [
      "dict_items([('green', 'go'), ('yellow', 'go faster'), ('red', 'smile for the camera')])\n"
     ]
    }
   ],
   "source": [
    "# items()\n",
    "print(signals.items())"
   ]
  },
  {
   "cell_type": "code",
   "execution_count": 27,
   "metadata": {},
   "outputs": [
    {
     "data": {
      "text/plain": [
       "3"
      ]
     },
     "execution_count": 27,
     "metadata": {},
     "output_type": "execute_result"
    }
   ],
   "source": [
    "len(signals)    # Count your key-value pairs:"
   ]
  },
  {
   "cell_type": "code",
   "execution_count": 28,
   "metadata": {},
   "outputs": [
    {
     "data": {
      "text/plain": [
       "{'a': 'agony', 'b': 'bagels', 'c': 'candy'}"
      ]
     },
     "execution_count": 28,
     "metadata": {},
     "output_type": "execute_result"
    }
   ],
   "source": [
    "# merge dictionaries, using the ** unicorn glitter,\n",
    "first = {'a': 'agony', 'b': 'bliss'}\n",
    "second = {'b': 'bagels', 'c': 'candy'}\n",
    "{**first, **second}"
   ]
  },
  {
   "cell_type": "code",
   "execution_count": 29,
   "metadata": {},
   "outputs": [
    {
     "data": {
      "text/plain": [
       "{'a': 'agony', 'b': 'bagels', 'd': 'donuts', 'c': 'candy'}"
      ]
     },
     "execution_count": 29,
     "metadata": {},
     "output_type": "execute_result"
    }
   ],
   "source": [
    "# merge dictionaries, using the ** unicorn glitter,\n",
    "third = {'d': 'donuts'}\n",
    "{**first, **third, **second}"
   ]
  },
  {
   "cell_type": "code",
   "execution_count": 30,
   "metadata": {},
   "outputs": [
    {
     "data": {
      "text/plain": [
       "{'Chapman': 'Graham',\n",
       " 'Cleese': 'John',\n",
       " 'Gilliam': 'Terry',\n",
       " 'Idle': 'Eric',\n",
       " 'Jones': 'Terry',\n",
       " 'Palin': 'Michael'}"
      ]
     },
     "execution_count": 30,
     "metadata": {},
     "output_type": "execute_result"
    }
   ],
   "source": [
    "pythons = {\n",
    "    'Chapman': 'Graham',\n",
    "    'Cleese': 'John',\n",
    "    'Gilliam': 'Terry',\n",
    "    'Idle': 'Eric',\n",
    "     'Jones': 'Terry',\n",
    "    'Palin': 'Michael',\n",
    "}\n",
    "pythons"
   ]
  },
  {
   "cell_type": "code",
   "execution_count": 31,
   "metadata": {},
   "outputs": [
    {
     "name": "stdout",
     "output_type": "stream",
     "text": [
      "{'Chapman': 'Graham', 'Cleese': 'John', 'Gilliam': 'Terry', 'Idle': 'Eric', 'Jones': 'Terry', 'Palin': 'Michael', 'Marx': 'Groucho', 'Howard': 'Moe'}\n"
     ]
    }
   ],
   "source": [
    "# update\n",
    "others = { 'Marx': 'Groucho', 'Howard': 'Moe' }\n",
    "pythons.update(others)\n",
    "print(pythons)"
   ]
  },
  {
   "cell_type": "code",
   "execution_count": 32,
   "metadata": {},
   "outputs": [
    {
     "data": {
      "text/plain": [
       "{'a': 1, 'b': 'platypus'}"
      ]
     },
     "execution_count": 32,
     "metadata": {},
     "output_type": "execute_result"
    }
   ],
   "source": [
    "first = {'a': 1, 'b': 2}\n",
    "second = {'b': 'platypus'}\n",
    "first.update(second)\n",
    "first"
   ]
  },
  {
   "cell_type": "code",
   "execution_count": null,
   "metadata": {},
   "outputs": [],
   "source": [
    "# del\n",
    "del pythons['Marx']\n",
    "print(pythons)\n",
    "del pythons['Howard']\n",
    "pythons"
   ]
  },
  {
   "cell_type": "code",
   "execution_count": null,
   "metadata": {
    "scrolled": true
   },
   "outputs": [],
   "source": [
    "# Get an Item by Key and Delete It with pop()\n",
    "print(len(pythons))\n",
    "\n",
    "test= pythons.pop('Palin')\n",
    "print(test)\n",
    "print(len(pythons))"
   ]
  },
  {
   "cell_type": "code",
   "execution_count": null,
   "metadata": {},
   "outputs": [],
   "source": [
    " pythons.pop('First', 'Hugo')"
   ]
  },
  {
   "cell_type": "code",
   "execution_count": null,
   "metadata": {},
   "outputs": [],
   "source": [
    "#clear()\n",
    "pythons.clear()\n",
    "print(pythons)"
   ]
  },
  {
   "cell_type": "code",
   "execution_count": null,
   "metadata": {},
   "outputs": [],
   "source": [
    "pythons = {'Chapman': 'Graham', 'Cleese': 'John','Jones': 'Terry', 'Palin': 'Michael', 'Idle': 'Eric'}\n",
    "print('Chapman' in pythons)"
   ]
  },
  {
   "cell_type": "code",
   "execution_count": null,
   "metadata": {},
   "outputs": [],
   "source": [
    "'Gilliam' in pythons"
   ]
  },
  {
   "cell_type": "code",
   "execution_count": null,
   "metadata": {},
   "outputs": [],
   "source": [
    "signals = {'green': 'go',\n",
    "           'yellow': 'go faster',\n",
    "           'red': 'smile for the camera'}     # 在相關括號內不管換行\n",
    "save_signals = signals\n",
    "signals['blue'] = 'confuse everyone'         # 當signals 改變，save_signals跟著改變\n",
    "save_signals                 "
   ]
  },
  {
   "cell_type": "code",
   "execution_count": null,
   "metadata": {},
   "outputs": [],
   "source": [
    "# Copy with copy()                # used copy 讓save_signals不會因為signals 改變而改變\n",
    "signals = {'green': 'go',\n",
    "    'yellow': 'go faster',\n",
    "    'red': 'smile for the camera'}\n",
    "original_signals = signals.copy()\n",
    "signals['blue'] = 'confuse everyone'\n",
    "print('signals ={}'.format(signals))\n",
    "print(\"=============================\")\n",
    "print('original_signals ={}'.format(original_signals))"
   ]
  },
  {
   "cell_type": "code",
   "execution_count": null,
   "metadata": {},
   "outputs": [],
   "source": [
    "signals = {'green': 'go',\n",
    "    'yellow': 'go faster',\n",
    "    'red': ['stop', 'smile']}\n",
    "signals_copy = signals.copy()\n",
    "print('signals ={}'.format(signals))\n",
    "print('signals_copy ={}'.format(signals_copy))\n",
    "print(\"=============================\")\n",
    "signals['red'][1] = 'sweat'\n",
    "print('signals ={}'.format(signals))\n",
    "print('signals_copy ={}'.format(signals_copy))"
   ]
  },
  {
   "cell_type": "markdown",
   "metadata": {},
   "source": [
    "# deepcopy()   # signals_copy  完全不受signals 改變影響"
   ]
  },
  {
   "cell_type": "code",
   "execution_count": null,
   "metadata": {},
   "outputs": [],
   "source": [
    "\n",
    "import copy\n",
    "signals = {'green': 'go',\n",
    "    'yellow': 'go faster',\n",
    "    'red': ['stop', 'smile']}\n",
    "signals_copy = copy.deepcopy(signals)\n",
    "\n",
    "print('signals ={}'.format(signals))\n",
    "print('signals_copy ={}'.format(signals_copy))\n",
    "print(\"=============================\")\n",
    "signals['red'][1] = 'sweat'\n",
    "print('signals ={}'.format(signals))\n",
    "print('signals_copy ={}'.format(signals_copy))"
   ]
  },
  {
   "cell_type": "code",
   "execution_count": null,
   "metadata": {},
   "outputs": [],
   "source": [
    "# Compare Dictionaries   # (1) used == ， !=\n",
    "a = {1:1, 2:2, 3:3}\n",
    "b = {3:3, 1:1, 2:2}\n",
    "a == b"
   ]
  },
  {
   "cell_type": "code",
   "execution_count": null,
   "metadata": {},
   "outputs": [],
   "source": [
    "#(2) Iterate with for and in\n",
    "accusation = {'room': 'ballroom', 'weapon': 'lead pipe', 'person': 'Col. Mustard'}\n",
    "for card in accusation:                        # or, for card in accusation.keys():\n",
    "    print(card)"
   ]
  },
  {
   "cell_type": "code",
   "execution_count": null,
   "metadata": {},
   "outputs": [],
   "source": [
    "for value in accusation.values():\n",
    "     print(value)"
   ]
  },
  {
   "cell_type": "code",
   "execution_count": null,
   "metadata": {},
   "outputs": [],
   "source": [
    "for item in accusation.items():\n",
    "    print(item)"
   ]
  },
  {
   "cell_type": "code",
   "execution_count": null,
   "metadata": {},
   "outputs": [],
   "source": [
    "for card, contents in accusation.items():\n",
    "  print('Card', card, 'has the contents', contents)"
   ]
  },
  {
   "cell_type": "code",
   "execution_count": null,
   "metadata": {},
   "outputs": [],
   "source": [
    "# Dictionary Comprehensions\n",
    "word = 'letters'\n",
    "letter_counts = {letter: word.count(letter) for letter in word}\n",
    "letter_counts"
   ]
  },
  {
   "cell_type": "code",
   "execution_count": null,
   "metadata": {},
   "outputs": [],
   "source": [
    "word = 'letters'\n",
    "letter_counts = {letter: word.count(letter) for letter in set(word)}   # set 字母出現幾次\n",
    "letter_counts"
   ]
  },
  {
   "cell_type": "code",
   "execution_count": null,
   "metadata": {},
   "outputs": [],
   "source": [
    "vowels = 'aeiou'\n",
    "word = 'onomatopoeia'\n",
    "vowel_counts = {letter: word.count(letter) for letter in set(word) if letter in vowels}\n",
    "vowel_counts"
   ]
  },
  {
   "cell_type": "code",
   "execution_count": null,
   "metadata": {},
   "outputs": [],
   "source": [
    "dict1 = {\"香蕉\": 20, \"蘋果\": 50, \"橘子\": 30}\n",
    "print(\"香蕉 = %d 元\" % dict1[\"香蕉\"])\n",
    "key1 = list(dict1.keys())                # keys()\n",
    "print(\"{} = {} 元\".format(key1[0], dict1[key1[0]]))"
   ]
  },
  {
   "cell_type": "code",
   "execution_count": null,
   "metadata": {},
   "outputs": [],
   "source": [
    "dict1 = {\"A\": \"內向穩重\", \"B\": \"外向樂觀\", \"O\": \"堅強自信\", \"AB\": \"聰明自然\"}\n",
    "name = input(\"輸入要查詢的血型:\")\n",
    "blood = dict1.get(name)                  #get()\n",
    "if blood == None:\n",
    "     print(\"沒有「\" + name + \"」血型！\")\n",
    "else:\n",
    "     print(name + \" 血型的個性為：\" + str(dict1[name]))"
   ]
  },
  {
   "cell_type": "code",
   "execution_count": null,
   "metadata": {},
   "outputs": [],
   "source": [
    "dict1 = {\"香蕉\": 20, \"蘋果\": 50, \"橘子\": 30}\n",
    "dict1[\"蘋果\"] = 80  # modify dictionary value fo key\n",
    "print(dict1)        # {'香蕉': 20, '蘋果': 80, '橘子': 30}\n",
    "del dict1[\"蘋果\"]   # del element\n",
    "print(dict1)        # {'香蕉': 20, '橘子': 30}\n",
    "dict1.clear()       # del all element\n",
    "print(dict1)        # {}\n",
    "del dict1           # del dict1"
   ]
  },
  {
   "cell_type": "code",
   "execution_count": null,
   "metadata": {},
   "outputs": [],
   "source": [
    "## # (1) len()\n",
    "dict1 = {\"banana\": 20, \"apple\": 50, \"orange\": 30}\n",
    "dict1len = len(dict1)\n",
    "print(\"dict1 len = %d\" % dict1len)\n",
    "## # (2) copy()\n",
    "dict2 = dict1.copy()\n",
    "print(dict2)\n",
    "## # (3) in\n",
    "b = \"job\" in dict2\n",
    "c = \"apple\" in dict2\n",
    "print(\"b={},c={}\".format(b,c))\n",
    "item1=dict1.items() \n",
    "for itemx in item1 :\n",
    "     print(itemx)"
   ]
  },
  {
   "cell_type": "code",
   "execution_count": null,
   "metadata": {},
   "outputs": [],
   "source": [
    "print(f'dict1={dict1}')\n",
    "item1=dict1.items()\n",
    "for itemx in item1 :\n",
    "     print(itemx)\n",
    "for (k,v) in item1 :\n",
    "     print(type(k),k)\n",
    "     print(type(v),v)"
   ]
  },
  {
   "cell_type": "code",
   "execution_count": null,
   "metadata": {},
   "outputs": [],
   "source": [
    "# (5) key() & values()\n",
    "listkey = list(dict1.keys())\n",
    "listvalue = list(dict1.values())\n",
    "for i in listkey :\n",
    "    print(i)\n",
    "for j in listvalue :\n",
    "    print(j)"
   ]
  },
  {
   "cell_type": "code",
   "execution_count": null,
   "metadata": {},
   "outputs": [],
   "source": [
    "# (6) setfefault()\n",
    "x = dict1.setdefault(\"pineapple\",100)  # if isn't dict1 element ， add key& value and read default value =100\n",
    "y = dict1.setdefault(\"apple\",300)      # if is dict1 element, read value\n",
    "print(dict1,x,y)          # {'banana': 20, 'apple': 50, 'orange': 30, 'pineapple': 100} 100 50"
   ]
  },
  {
   "cell_type": "code",
   "execution_count": null,
   "metadata": {},
   "outputs": [],
   "source": [
    "dict1 = {\"林小明\":85, \"曾山水\":93, \"鄭美麗\":67}\n",
    "name = input(\"輸入學生姓名：\")\n",
    "if name in dict1:\n",
    "    print(name + \"的成績為 \" + str(dict1[name]))\n",
    "else:\n",
    "    score = input(\"輸入學生分數：\")\n",
    "    dict1[name] = score\n",
    "print(\"字典內容：\" + str(dict1))\n",
    "print(\"=============================\")\n",
    "dict1={\"金牌\":26, \"銀牌\":34, \"銅牌\":30}\n",
    "listkey = list(dict1.keys())\n",
    "listvalue = list(dict1.values())\n",
    "for i in range(len(listkey)):\n",
    "    print(\"得到的 %s 數目為 %d 面\" % (listkey[i], listvalue[i]))\n",
    "print(\"=============================\")\n",
    "dict1={\"金牌\":26, \"銀牌\":34, \"銅牌\":30}\n",
    "item1 = list(dict1.items())\n",
    "for name, num in item1:\n",
    "    print(\"得到的 %s 數目為 %d 面\" % (name, num))"
   ]
  },
  {
   "attachments": {
    "image.png": {
     "image/png": "[encoded data removed]"
    }
   },
   "cell_type": "markdown",
   "metadata": {},
   "source": [
    "# Sets\n",
    "![image.png](attachment:image.png)"
   ]
  },
  {
   "cell_type": "code",
   "execution_count": null,
   "metadata": {},
   "outputs": [],
   "source": [
    "# Create with set\n",
    "empty_set = set()\n",
    "print('empty_set={}'.format(empty_set))\n",
    "\n",
    "even_numbers = {0, 2, 4, 6, 8}\n",
    "print('even_numbers={}'.format(even_numbers))\n",
    "\n",
    "odd_numbers = {1, 3, 5, 7, 9}\n",
    "print('odd_numbers={}'.format(odd_numbers))\n"
   ]
  },
  {
   "cell_type": "code",
   "execution_count": null,
   "metadata": {},
   "outputs": [],
   "source": [
    "# Convert with set()\n",
    "set( 'letters' )"
   ]
  },
  {
   "cell_type": "code",
   "execution_count": null,
   "metadata": {},
   "outputs": [],
   "source": [
    "# make a set from a list:\n",
    "set1 = set( ['Dasher', 'Dancer', 'Prancer', 'Mason-Dixon'] )\n",
    "print(\"set1 = {}\".format(set1))\n",
    "\n",
    "# This time, a set from a tuple:\n",
    "set2 = set( ('Ummagumma', 'Echoes', 'Atom Heart Mother') )\n",
    "print(\"set2 = {}\".format(set2))\n",
    "\n",
    "# When you give set() a dictionary, it uses only the keys:\n",
    "set3 = set( {'apple': 'red', 'orange': 'orange', 'cherry': 'red'} )\n",
    "print(\"set3 = {}\".format(set3))"
   ]
  },
  {
   "cell_type": "code",
   "execution_count": null,
   "metadata": {},
   "outputs": [],
   "source": [
    "# Let’s count our reindeer:\n",
    "reindeer = set( ['Dasher', 'Dancer', 'Prancer', 'Mason-Dixon'] )\n",
    "reindeerlen = len(reindeer)\n",
    "print('reindeerlen = {}'.format(reindeerlen ))"
   ]
  },
  {
   "cell_type": "code",
   "execution_count": null,
   "metadata": {},
   "outputs": [],
   "source": [
    "s = set((1,2,3))\n",
    "print('s = {}'.format(s))\n",
    "\n",
    "# Add an Item with add() Throw another item into a set with the set add() method:\n",
    "s.add(4)\n",
    "print('s = {}'.format(s))\n",
    "\n",
    "# Delete an Item with remove() You can delete a value from a set by value:\n",
    "s.remove(3)\n",
    "print('s = {}'.format(s))\n",
    "\n",
    "\n",
    "# Iterate with for and in Like dictionaries, you can iterate over all items in a set:\n",
    "furniture = set(('sofa', 'ottoman', 'table'))\n",
    "for piece in furniture:\n",
    "    print(piece)"
   ]
  },
  {
   "cell_type": "code",
   "execution_count": null,
   "metadata": {},
   "outputs": [],
   "source": [
    "drinks = {\n",
    "    'martini': {'vodka', 'vermouth'},\n",
    "    'black russian': {'vodka', 'kahlua'},\n",
    "    'white russian': {'cream', 'kahlua', 'vodka'},\n",
    "    'manhattan': {'rye', 'vermouth', 'bitters'},\n",
    "    'screwdriver': {'orange juice', 'vodka'}\n",
    "}\n",
    "\n",
    "for name, contents in drinks.items():\n",
    "    if 'vodka' in contents:\n",
    "         print(name)"
   ]
  },
  {
   "cell_type": "code",
   "execution_count": null,
   "metadata": {},
   "outputs": [],
   "source": [
    "for name, contents in drinks.items():\n",
    "    if 'vodka' in contents and not ('vermouth' in contents or 'cream' in contents):\n",
    "        print(name)"
   ]
  },
  {
   "cell_type": "code",
   "execution_count": null,
   "metadata": {},
   "outputs": [],
   "source": [
    "# Combinations and Operators\n",
    "drinks = {\n",
    "    'martini': {'vodka', 'vermouth'},\n",
    "    'black russian': {'vodka', 'kahlua'},\n",
    "    'white russian': {'cream', 'kahlua', 'vodka'},\n",
    "    'manhattan': {'rye', 'vermouth', 'bitters'},\n",
    "    'screwdriver': {'orange juice', 'vodka'}\n",
    "}\n",
    "\n",
    "for name, contents in drinks.items():\n",
    "    if contents & {'vermouth', 'orange juice'}:\n",
    "       print(name)"
   ]
  },
  {
   "cell_type": "code",
   "execution_count": null,
   "metadata": {},
   "outputs": [],
   "source": [
    "for name, contents in drinks.items():\n",
    "     if 'vodka' in contents and not contents & {'vermouth', 'cream'}:\n",
    "         print(name)"
   ]
  },
  {
   "cell_type": "code",
   "execution_count": null,
   "metadata": {},
   "outputs": [],
   "source": [
    "bruss = drinks['black russian']\n",
    "wruss = drinks['white russian']\n",
    "print(bruss)\n",
    "print(wruss)\n",
    "bruss & wruss   # 交集"
   ]
  },
  {
   "cell_type": "code",
   "execution_count": null,
   "metadata": {},
   "outputs": [],
   "source": [
    "# intersection : & , intersection()\n",
    "a = {1, 2}\n",
    "b = {2, 3}\n",
    "\n",
    "c = a & b\n",
    "print('a & b ={}'.format(c))\n",
    "\n",
    "d = a.intersection(b)\n",
    "print('a.intersection(b) ={}'.format(d))"
   ]
  },
  {
   "cell_type": "code",
   "execution_count": null,
   "metadata": {},
   "outputs": [],
   "source": [
    "# union  :  | , union()\n",
    "e = a | b\n",
    "print('a | b ={}'.format(e))\n",
    "\n",
    "f = a.union(b)\n",
    "print('a.union(b) ={}'.format(f))"
   ]
  },
  {
   "cell_type": "code",
   "execution_count": null,
   "metadata": {},
   "outputs": [],
   "source": [
    "# a difference (members of the first set but not the second) is obtained by using difference() function\n",
    "a = {1, 2}\n",
    "b = {2, 3}\n",
    "\n",
    "g = a - b\n",
    "print('a - b ={}'.format(g))\n",
    "\n",
    "h = a.difference(b)\n",
    "print('a.difference(b) ={}'.format(h))\n",
    "\n",
    "print(bruss - wruss)\n",
    "wruss - bruss"
   ]
  },
  {
   "cell_type": "code",
   "execution_count": null,
   "metadata": {},
   "outputs": [],
   "source": [
    "# The exclusive or (items in one set or the other, but not both) uses ^ or symmetric_difference():\n",
    "i =  a ^ b\n",
    "print(' a ^ b ={}'.format(i))\n",
    "\n",
    "j = a.symmetric_difference(b)\n",
    "print('a.symmetric_difference(b)={}'.format(j))"
   ]
  },
  {
   "cell_type": "code",
   "execution_count": null,
   "metadata": {},
   "outputs": [],
   "source": [
    " bruss ^ wruss"
   ]
  },
  {
   "cell_type": "code",
   "execution_count": null,
   "metadata": {},
   "outputs": [],
   "source": [
    "# issubset\n",
    "print('a <= b ={}'.format(a <= b))\n",
    "\n",
    "print('a.issubset(b) ={}'.format(a.issubset(b)))\n",
    "\n",
    "print('bruss <= wruss ={}'.format(bruss <= wruss))\n",
    "\n",
    "print('a <= a ={}'.format(a <= a))"
   ]
  },
  {
   "cell_type": "code",
   "execution_count": null,
   "metadata": {},
   "outputs": [],
   "source": [
    "# issuperset\n",
    "print('a < b ={}'.format(a < b))\n",
    "\n",
    "print('a < a ={}'.format(a < a))\n",
    "\n",
    "print('bruss < wruss ={}'.format(bruss < wruss))\n",
    "\n",
    "print('a >= b ={}'.format(a >= b))\n",
    "\n",
    "print('a.issuperset(b) ={}'.format(a.issuperset(b)))\n",
    "\n",
    "print('wruss >= bruss ={}'.format(wruss >= bruss))\n",
    "\n",
    "print('a >= a ={}'.format(a >= a))\n",
    "\n",
    "print('a.issuperset(a) ={}'.format(a.issuperset(a)))\n"
   ]
  },
  {
   "cell_type": "code",
   "execution_count": null,
   "metadata": {},
   "outputs": [],
   "source": [
    "a_set = {number for number in range(1,6) if number % 3 == 1}\n",
    "a_set"
   ]
  },
  {
   "cell_type": "code",
   "execution_count": null,
   "metadata": {},
   "outputs": [],
   "source": [
    "# Create an Immutable Set with frozenset() : can not be changed\n",
    "print('frozenset([3, 2, 1]) ={}'.format(frozenset([3, 2, 1])))\n",
    "print('frozenset([1, 3, 2]) ={}'.format(frozenset([1, 3, 2])))\n",
    "\n",
    "fs.add(4)      # error :frozenset() : can not be changed"
   ]
  },
  {
   "cell_type": "code",
   "execution_count": null,
   "metadata": {},
   "outputs": [],
   "source": [
    "#　Data Structures So Far\n",
    "marx_list = ['Groucho', 'Chico', 'Harpo']\n",
    "marx_tuple = ('Groucho', 'Chico', 'Harpo')\n",
    "marx_dict = {'Groucho': 'banjo', 'Chico': 'piano', 'Harpo': 'harp'}\n",
    "marx_set = {'Groucho', 'Chico', 'Harpo'}\n",
    "\n",
    "print('marx_list[2] = {}'.format(marx_list[2]))\n",
    "      \n",
    "print('marx_tuple[2] = {}'.format(marx_tuple[2]))\n",
    "\n",
    "print('marx_dict[\"Harpo\"] = {}'.format(marx_dict['Harpo']))\n",
    "     \n",
    "print('Harpo' in marx_list)\n",
    "\n",
    "print('Harpo' in marx_tuple)\n",
    "\n",
    "print('Harpo' in marx_dict)\n",
    "\n",
    "print('Harpo' in marx_set)\n"
   ]
  },
  {
   "cell_type": "code",
   "execution_count": null,
   "metadata": {},
   "outputs": [],
   "source": [
    "# lists:\n",
    "marxes = ['Groucho', 'Chico', 'Harpo']\n",
    "pythons = ['Chapman', 'Cleese', 'Gilliam', 'Jones', 'Palin']\n",
    "stooges = ['Moe', 'Curly', 'Larry']\n",
    "\n",
    "# We can make a tuple that contains each list as an element:\n",
    "tuple_of_lists = marxes, pythons, stooges\n",
    "print('tuple_of_lists={}'.format(tuple_of_lists))\n",
    "print(\"================================= \")\n",
    "\n",
    "# And we can make a list that contains the three lists:\n",
    "list_of_lists = [marxes, pythons, stooges]\n",
    "print('list_of_lists = {}'.format(list_of_lists))\n",
    "print(\"================================= \")\n",
    "\n",
    "dict_of_lists = {'Marxes': marxes, 'Pythons': pythons, 'Stooges': stooges}\n",
    "print('dict_of_lists = {}'.format(dict_of_lists))\n",
    "print(\"================================= \")\n",
    "\n",
    "houses = {\n",
    "(44.79, -93.14, 285): 'My House',\n",
    "(38.89, -77.03, 13): 'The White House'\n",
    "}\n",
    "print('houses = {}'.format(houses))\n"
   ]
  },
  {
   "cell_type": "code",
   "execution_count": null,
   "metadata": {},
   "outputs": [],
   "source": []
  }
 ],
 "metadata": {
  "kernelspec": {
   "display_name": "Python 3 (ipykernel)",
   "language": "python",
   "name": "python3"
  },
  "language_info": {
   "codemirror_mode": {
    "name": "ipython",
    "version": 3
   },
   "file_extension": ".py",
   "mimetype": "text/x-python",
   "name": "python",
   "nbconvert_exporter": "python",
   "pygments_lexer": "ipython3",
   "version": "3.8.10"
  }
 },
 "nbformat": 4,
 "nbformat_minor": 4
}
