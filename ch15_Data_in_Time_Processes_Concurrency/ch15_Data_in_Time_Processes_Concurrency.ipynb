{
 "cells": [
  {
   "cell_type": "code",
   "execution_count": null,
   "id": "cb5e64ff",
   "metadata": {},
   "outputs": [],
   "source": [
    "# Chapter 15. Data in Time: Processes and Concurrency(並行處理)\n",
    "import os\n",
    "print(os.getpid())  #   get the process ID  of the running Python interpreter\n",
    "print(os.getcwd())  #   get the current working directory of the running Python interpreter"
   ]
  },
  {
   "cell_type": "code",
   "execution_count": null,
   "id": "82dd9917",
   "metadata": {},
   "outputs": [],
   "source": [
    "import os\n",
    "# os.getuid()\n",
    "# print(os.getgid())\n"
   ]
  },
  {
   "cell_type": "code",
   "execution_count": null,
   "id": "d33257be",
   "metadata": {},
   "outputs": [],
   "source": [
    "# Create a Process with subprocess\n",
    "import subprocess\n",
    "ret = subprocess.getoutput('date')\n",
    "print(ret)\n"
   ]
  },
  {
   "cell_type": "code",
   "execution_count": null,
   "id": "fe9589f6",
   "metadata": {},
   "outputs": [],
   "source": [
    "import subprocess\n",
    "ret = subprocess.getoutput('time')\n",
    "print(ret)"
   ]
  },
  {
   "cell_type": "code",
   "execution_count": null,
   "id": "a62d8594",
   "metadata": {},
   "outputs": [],
   "source": [
    "ret = subprocess.getoutput('date -u | wc')\n",
    "ret"
   ]
  },
  {
   "cell_type": "code",
   "execution_count": null,
   "id": "5d7b7cb2",
   "metadata": {},
   "outputs": [],
   "source": [
    "ret = subprocess.check_output(['date', '-u'])\n",
    "ret"
   ]
  },
  {
   "cell_type": "code",
   "execution_count": null,
   "id": "b62dd885",
   "metadata": {},
   "outputs": [],
   "source": [
    "ret = subprocess.getstatusoutput('date')\n",
    "ret"
   ]
  },
  {
   "cell_type": "code",
   "execution_count": null,
   "id": "3489fcdb",
   "metadata": {},
   "outputs": [],
   "source": [
    "import subprocess\n",
    "ret = subprocess.call('date')"
   ]
  },
  {
   "cell_type": "code",
   "execution_count": null,
   "id": "08a34f94",
   "metadata": {},
   "outputs": [],
   "source": [
    "ret = subprocess.call('date -u', shell=True)\n",
    "ret"
   ]
  },
  {
   "cell_type": "code",
   "execution_count": null,
   "id": "80d4540f",
   "metadata": {},
   "outputs": [],
   "source": [
    "ret = subprocess.call(['date', '-u'])"
   ]
  },
  {
   "cell_type": "markdown",
   "id": "c752e021",
   "metadata": {},
   "source": [
    "# Create a Process with multiprocessing :\n",
    "You can run a Python function as a separate process, or even create multiple independent processes\n",
    "with the multiprocessing module."
   ]
  },
  {
   "cell_type": "code",
   "execution_count": null,
   "id": "81421566",
   "metadata": {},
   "outputs": [],
   "source": [
    "##=====================#\n",
    "# Example 15-1. mp.py  # \n",
    "#======================#\n",
    "import multiprocessing\n",
    "import os\n",
    "def whoami(what):\n",
    "     print(\"Process %s says: %s\" % (os.getpid(), what)) # get process ID\n",
    "        \n",
    "\n",
    "if __name__ == \"__main__\":             # main run #必須放這段代碼，不然會Error\n",
    "    whoami(\"I'm the main program\")\n",
    "    for n in range(4):\n",
    "        p = multiprocessing.Process(target=whoami,args=(\"I'm function %s\" % n,))\n",
    "        p.start()\n",
    "    \n",
    "# Remenber run mp.py  in  CMD(Terminal the mp.py path)"
   ]
  },
  {
   "cell_type": "markdown",
   "id": "5d92a890",
   "metadata": {},
   "source": [
    "# Kill a Process with terminate()\n",
    "If you created one or more processes and want to terminate[ˋtɝmə͵net] one for some reason:use terminate()"
   ]
  },
  {
   "cell_type": "code",
   "execution_count": null,
   "id": "d1bec4e4",
   "metadata": {},
   "outputs": [],
   "source": [
    "##======================#\n",
    "# Example 15-2. mp2.py  # \n",
    "#=======================#\n",
    "import multiprocessing\n",
    "import time\n",
    "import os\n",
    "\n",
    "def whoami(name):\n",
    "    print(\"I'm %s in process %s\" % (name, os.getpid()))\n",
    "\n",
    "def loopy(name):\n",
    "    whoami(name)\n",
    "    start = 1\n",
    "    stop = 1000000\n",
    "    for num in range(start, stop):\n",
    "        print(\"\\tNumber %s of %s. Honk!\" %(num, stop))\n",
    "        time.sleep(1)\n",
    "        \n",
    "if __name__ == \"__main__\":  # main run #必須放這段代碼，不然會Error\n",
    "    whoami(\"main\")\n",
    "    p = multiprocessing.Process(target = loopy, args=(\"loopy\",))\n",
    "    p.start()\n",
    "    time.sleep(10)\n",
    "    p.terminate()\n",
    "    \n",
    "# Remenber run mp2.py  in  CMD(Terminal the mp2.py path)    "
   ]
  },
  {
   "cell_type": "markdown",
   "id": "d1ff59a9",
   "metadata": {},
   "source": [
    "# Get System Info with os"
   ]
  },
  {
   "cell_type": "code",
   "execution_count": null,
   "id": "f7ad046e",
   "metadata": {},
   "outputs": [],
   "source": [
    "# uname() 返回值\n",
    "# checktuple - 操作系統識別信息\n",
    "#  (1) sysname - 操作系統名。\n",
    "#  (2) nodename - 機器在網絡上的名稱（需要先設定）。\n",
    "#  (3) release - 操作系統發行信息。\n",
    "#  (4) version - 操作系統版本信息。\n",
    "#  (5) machine - 硬件標識符。\n",
    "\n",
    "import os\n",
    "uname1 = os.uname()\n",
    "print(uname1)"
   ]
  },
  {
   "cell_type": "code",
   "execution_count": null,
   "id": "2726bfb8",
   "metadata": {},
   "outputs": [],
   "source": [
    "from os import getloadavg\n",
    "os.getloadavg()"
   ]
  },
  {
   "cell_type": "code",
   "execution_count": null,
   "id": "814f3ea8",
   "metadata": {},
   "outputs": [],
   "source": [
    "import os\n",
    "os.cpu_count()   # CPU logical processors : 8"
   ]
  },
  {
   "cell_type": "code",
   "execution_count": null,
   "id": "ae1b7598",
   "metadata": {},
   "outputs": [],
   "source": [
    "date1 = os.system('date -u')\n",
    "print(date1)"
   ]
  },
  {
   "cell_type": "code",
   "execution_count": null,
   "id": "db9181f8",
   "metadata": {},
   "outputs": [],
   "source": [
    "import os\n",
    "os.system(\"@echo off\") #關閉所有echo\n",
    "os.system(\"cls\")\n",
    "os.system(\"echo 123123\") #echo印出\n",
    "fa = int(input(\"要幾個檔案？\"))\n",
    "for i in range(0,fa):\n",
    "    i+=1\n",
    "    os.system(\"cd.> %d.c\" %i)"
   ]
  },
  {
   "cell_type": "markdown",
   "id": "c4661428",
   "metadata": {},
   "source": [
    "# Get Process Info with psutil\n",
    "step 1 : in CMD : pip install pdutil\n",
    "Coverage(覆蓋範圍) includes the following:\n",
    "(1) System : CPU, memory, disk, network, sensors\n",
    "(2) Processes : id, parent id, CPU, memory, open files, threads \n",
    "# https://github.com/giampaolo/psutil"
   ]
  },
  {
   "cell_type": "code",
   "execution_count": null,
   "id": "2973a6bd",
   "metadata": {},
   "outputs": [],
   "source": [
    "import psutil   \n",
    "\n",
    "psutil.cpu_times(True)   # psutil.cpu_times(True) : CPU 8 個  logical processors 運作時間 "
   ]
  },
  {
   "cell_type": "code",
   "execution_count": null,
   "id": "5b5b2522",
   "metadata": {},
   "outputs": [],
   "source": [
    "import psutil\n",
    "print(psutil.cpu_percent(True))  #  how busy are they now?\n",
    "\n",
    "psutil.cpu_percent(percpu=True)"
   ]
  },
  {
   "cell_type": "markdown",
   "id": "bf1350aa",
   "metadata": {},
   "source": [
    "# Command Automation : \n",
    "A related topic, task queues, is discussed in “Queues :\n",
    "http://docs.pyinvoke.org/en/stable/\n",
    "Running local shell commands with the run() function\n",
    "Responding to string output patterns of programs\n"
   ]
  },
  {
   "cell_type": "code",
   "execution_count": null,
   "id": "177f2bd2",
   "metadata": {},
   "outputs": [],
   "source": [
    "# invoke(呼叫) : pip install invoke :  The developers split this original package into fabric2 (remote) and invoke (local).\n",
    "# ========================#\n",
    "#  Example 15-3. tasks.py #\n",
    "# ========================#\n",
    "from invoke import task\n",
    "\n",
    "@task\n",
    "def mytime(ctx):\n",
    "    import time    \n",
    "    now = time.time()\n",
    "    time_str = time.asctime(time.localtime(now))\n",
    "    print(\"Local time is\", time_str)\n",
    "# Remenber run tasks.py  in  CMD(Terminal thetasks.py path)  \n",
    "# CMD command : invoke mytime  ,  invoke -l"
   ]
  },
  {
   "cell_type": "code",
   "execution_count": null,
   "id": "d67b0b65",
   "metadata": {},
   "outputs": [],
   "source": [
    "# invoke mytime"
   ]
  },
  {
   "cell_type": "raw",
   "id": "00f258ac",
   "metadata": {},
   "source": [
    "# Running local shell commands with the run() function\n",
    "# Responding to string output patterns of programs : http://docs.pyinvoke.org/en/stable/\n",
    "# Other Command Helpers  \n",
    "  (1) click : https://click.palletsprojects.com/en/8.0.x/\n",
    "  (2) doit : https://pydoit.org/\n",
    "  (3  sh : http://amoffat.github.io/sh/\n",
    "  (4) delegator : https://github.com/amitt001/delegator.py\n",
    "  (5) pypeln : https://cgarciae.github.io/pypeln/"
   ]
  },
  {
   "cell_type": "markdown",
   "id": "8c36bea1",
   "metadata": {},
   "source": [
    "# concurrency : \n",
    "https://docs.python.org/3/library/concurrency.html\n",
    "1. In computers, if you’re waiting for something, it’s usually for one of two reasons\n",
    "(1) I/O bound\n",
    "This is by far the most common. Computer CPUs are ridiculously fast—hundreds of times faster than computer \n",
    "memory and many thousands of times faster than disks or networks.\n",
    "(2) CPU bound\n",
    "The CPU keeps busy. This happens with number crunching tasks such as scientific or graphic calculations.\n",
    "\n",
    "2. Two more terms are related to concurrency:\n",
    "(1) Synchronous : One thing follows the other, like a line of goslings behind their parents.\n",
    "(2) Asynchronous : Tasks are independent, like random geese splashing down in a pond.\n"
   ]
  },
  {
   "cell_type": "markdown",
   "id": "1621a3f3",
   "metadata": {},
   "source": [
    "# Queues\n",
    "1. A queue is like a list: things are added at one end and taken away from the\n",
    "other. The most common is referred to as FIFO (first in, first out).\n",
    "2. queues for distributed task management, also known as work queues, job queues, or task queues\n",
    "3. https://docs.python.org/3/library/multiprocessing.html"
   ]
  },
  {
   "cell_type": "code",
   "execution_count": null,
   "id": "2b13edea",
   "metadata": {},
   "outputs": [],
   "source": [
    "# ========================#\n",
    "# Example 15-4. dishes.py # \n",
    "# ========================#\n",
    "import multiprocessing as mp\n",
    "\n",
    "def washer(dishes, output):\n",
    "    for dish in dishes:\n",
    "        print('Washing', dish, 'dish')\n",
    "        output.put(dish)\n",
    "        \n",
    "def dryer(input):\n",
    "    while True:\n",
    "        dish = input.get()\n",
    "        print('Drying', dish, 'dish')\n",
    "        input.task_done()\n",
    "        \n",
    "dish_queue = mp.JoinableQueue()\n",
    "\n",
    "dryer_proc = mp.Process(target=dryer, args=(dish_queue,))\n",
    "dryer_proc.daemon = True\n",
    "dryer_proc.start()\n",
    "dishes = ['salad', 'bread', 'entree', 'dessert']\n",
    "washer(dishes, dish_queue)\n",
    "dish_queue.join()"
   ]
  },
  {
   "cell_type": "markdown",
   "id": "fe2c0adc",
   "metadata": {},
   "source": [
    "# Threads"
   ]
  },
  {
   "cell_type": "code",
   "execution_count": null,
   "id": "d0b70c49",
   "metadata": {},
   "outputs": [],
   "source": [
    "# =========================#\n",
    "# Example 15-5. thread1.py #\n",
    "# =========================#\n",
    "import threading\n",
    "\n",
    "def do_this(what):\n",
    "    whoam(what)\n",
    "\n",
    "def whoam(what):\n",
    "    print('thread %s says: %s' %(threading.current_thread(),what))\n",
    "    \n",
    "if __name__ == \"__main__\" :\n",
    "    whoam(\"I'm the main program\")\n",
    "    for n in range(4):\n",
    "        p = threading.Tread(target = do_this, args(\"I'm function %s\"% n,))\n",
    "        p,start()\n"
   ]
  },
  {
   "cell_type": "code",
   "execution_count": null,
   "id": "1832f958",
   "metadata": {},
   "outputs": [],
   "source": [
    "# ===============================#\n",
    "# Example 15-6. thread_dishes.py #\n",
    "# ===============================# \n",
    "import threading, queue\n",
    "import time\n",
    "\n",
    "def washer(dishes, dish_queue):\n",
    "    for dish in dishes:\n",
    "        print (\"Washing\", dish)\n",
    "        time.sleep(5)\n",
    "        dish_queue.put(dish)\n",
    "        \n",
    "def dryer(dish_queue):\n",
    "    while True:\n",
    "        dish = dish_queue.get()\n",
    "        print (\"Drying\", dish)\n",
    "        time.sleep(10)\n",
    "        dish_queue.task_done()\n",
    "\n",
    "dish_queue = queue.Queue()\n",
    "for n in range(2):\n",
    "    dryer_thread = threading.Thread(target=dryer, args=(dish_queue,))\n",
    "    dryer_thread.start()\n",
    "dishes = ['salad', 'bread', 'entree', 'dessert']\n",
    "washer(dishes, dish_queue)\n",
    "dish_queue.join()       \n",
    "        "
   ]
  },
  {
   "cell_type": "markdown",
   "id": "04e4eae4",
   "metadata": {},
   "source": [
    "#  Python, the recommendations are as follows:\n",
    "1. Use threads for I/O-bound problems : Thread 沒有 terminate() 無法隨便終止，少用\n",
    "2. Use processes, networking, or events (discussed in the next section) for CPU-bound problem : multiprocessing"
   ]
  },
  {
   "cell_type": "code",
   "execution_count": null,
   "id": "cfba4f79",
   "metadata": {},
   "outputs": [],
   "source": [
    "# The concurrent.futures module :   It lets you schedule an asynchronous pool of workers,\n",
    "# using threads (when I/O-bound) or processes (when CPU\u0002bound).\n",
    "# You get back a future to track their state and collect the results.\n",
    "# ===============================#\n",
    "# Example 15-7. cf.py            #\n",
    "# ===============================# \n",
    "from concurrent import futures\n",
    "import math\n",
    "import time\n",
    "import sys\n",
    "\n",
    "def calc(val):\n",
    "    time.sleep(1)\n",
    "    result = math.sqrt(float(val))\n",
    "    print(result)\n",
    "    return result\n",
    "\n",
    "def use_threads(num, values):\n",
    "    t1 = time.time()\n",
    "    with futures.ThreadPoolExecutor(num) as tex:\n",
    "        results = tex.map(calc, values)\n",
    "    t2 = time.time()\n",
    "    return t2 - t1\n",
    "\n",
    "def use_processes(num, values):\n",
    "    t1 = time.time()\n",
    "    with futures.ProcessPoolExecutor(num) as pex:\n",
    "        results = pex.map(calc, values)\n",
    "    t2 = time.time()\n",
    "    return t2 - t1\n",
    "\n",
    "def main(workers, values):\n",
    "    print(f\"Using {workers} workers for {len(values)} values\")\n",
    "    t_sec = use_threads(workers, values)\n",
    "    print(f\"Threads took {t_sec:.4f} seconds\")\n",
    "    p_sec = use_processes(workers, values)\n",
    "    print(f\"Processes took {p_sec:.4f} seconds\")\n",
    "    \n",
    "if __name__ == '__main__':\n",
    "   # workers = int(sys.argv[1])    # sys.argv[0] is 檔案名稱,sys.argv[1] 傳進去的第1個參數,sys.argv[2] 傳進去的第2個參數\n",
    "    workers = 3\n",
    "    values = list(range(1, 6)) # 1 .. 5\n",
    "    main(workers, values)\n",
    "\n",
    "# in CMD 中 :key :  exp:   cf.py 1  or cf.py 3 中  1 and 3 是 sys.argv[1]\n",
    "# if sys.argv[1] = 5 : 同時有5個 calc(val) 在執行一個  math.sqrt(float(val)) 運算"
   ]
  },
  {
   "cell_type": "code",
   "execution_count": null,
   "id": "665b9dfb",
   "metadata": {},
   "outputs": [],
   "source": [
    "#you wanted to get each result as it completed, let’s try another test (call it cf2.py)\n",
    "#in which each worker returns the value and its square root as soon as\n",
    "#it calculates it\n",
    "# ===============================#\n",
    "# Example 15-8. cf2.py           #\n",
    "# ===============================# \n",
    "from concurrent import futures\n",
    "import math\n",
    "import sys\n",
    "\n",
    "def calc(val):\n",
    "    result = math.sqrt(float(val))\n",
    "    return val, result\n",
    "\n",
    "def use_threads(num, values):\n",
    "    with futures.ThreadPoolExecutor(num) as tex:\n",
    "        tasks = [tex.submit(calc, value) for value in values]\n",
    "        for f in futures.as_completed(tasks):\n",
    "            yield f.result()\n",
    "            \n",
    "def use_processes(num, values):\n",
    "    with futures.ProcessPoolExecutor(num) as pex:\n",
    "        tasks = [pex.submit(calc, value) for value in values]\n",
    "    for f in futures.as_completed(tasks):\n",
    "        yield f.result()\n",
    "        \n",
    "def main(workers, values):\n",
    "    print(f\"Using {workers} workers for {len(values)} values\")\n",
    "    print(\"Using threads:\")\n",
    "    for val, result in use_threads(workers, values):\n",
    "        print(f'{val} {result:.4f}')\n",
    "    print(\"Using processes:\")\n",
    "    for val, result in use_processes(workers, values):\n",
    "        print(f'{val} {result:.4f}')\n",
    "\n",
    "if __name__ == '__main__':\n",
    "    workers = 3\n",
    "   # if len(sys.argv) > 1:\n",
    "   #      workers = int(sys.argv[1])\n",
    "    values = list(range(1, 6)) # 1 .. 5\n",
    "    main(workers, values)\n"
   ]
  },
  {
   "cell_type": "markdown",
   "id": "ee0b2563",
   "metadata": {},
   "source": [
    "# *  concurrent.futures * \n",
    "You can use concurrent.futures any time you want to \n",
    "launch a bunch of concurrent tasks, such as the following:\n",
    "1. Crawling URLs on the web\n",
    "2. Processing files, such as resizing images\n",
    "3. Calling service API\n",
    "4. https://docs.python.org/3/library/concurrent.futures.html"
   ]
  },
  {
   "cell_type": "markdown",
   "id": "d8f5f7cd",
   "metadata": {},
   "source": [
    "# Green Threads and gevent\n",
    "1.One alternative is event-based programming. An event-based program runs\n",
    "a central event loop, doles out any tasks, and repeats the loop.\n",
    "2.The gevent library is event-based and accomplishes a neat trick: you write\n",
    "normal imperative code, and it magically converts pieces to coroutines\n"
   ]
  },
  {
   "cell_type": "code",
   "execution_count": null,
   "id": "1229c596",
   "metadata": {},
   "outputs": [],
   "source": [
    "# pip install gevent (in CMD : path is C:\\users\\mikal )  http://www.gevent.org/\n",
    "# sample code at the gevent website\n",
    "# ===============================#\n",
    "# Example 15-9. gevent_test.py   #\n",
    "# ===============================# \n",
    "import gevent\n",
    "from gevent import socket\n",
    "\n",
    "hosts = ['www.crappytaxidermy.com', 'www.walterpottertaxidermy.com','www.google.com']\n",
    "# gevent.spawn() creates a  a green thread or a microthread\n",
    "jobs = [gevent.spawn(gevent.socket.gethostbyname, host) for host in hosts]\n",
    "# The gevent.joinall()method waits for all the spawned jobs to finish.\n",
    "gevent.joinall(jobs, timeout=5) \n",
    "for job in jobs:\n",
    "    print(job.value)"
   ]
  },
  {
   "cell_type": "code",
   "execution_count": null,
   "id": "4732e605",
   "metadata": {},
   "outputs": [],
   "source": [
    "# http://sdiehl.github.io/gevent-tutorial/\n",
    "# ================================#\n",
    "# Example 15-10. gevent_monkey.py #\n",
    "# ================================# \n",
    "import gevent\n",
    "from gevent import monkey\n",
    "monkey.patch_all()\n",
    "import socket\n",
    "\n",
    "\n",
    "hosts = ['www.crappytaxidermy.com', 'www.walterpottertaxidermy.com','www.google.com']\n",
    "jobs = [gevent.spawn(socket.gethostbyname, host) for host in hosts]\n",
    "gevent.joinall(jobs, timeout=5)\n",
    "for job in jobs:\n",
    "    print(job.value)\n"
   ]
  },
  {
   "cell_type": "markdown",
   "id": "9aeb9ff1",
   "metadata": {},
   "source": [
    "1. For more examples, see this thorough gevent tutorial. http://sdiehl.github.io/gevent-tutorial/\n",
    "2. You might also want to consider tornado or gunicorn, two other popular event-driven frameworks. They provide both the low-level event handling and a fast web server.They’re worth a look if you’d like to build a fast website without messing with a traditional web server such as Apache. \n",
    "3. tornado : https://www.tornadoweb.org/en/stable/\n",
    "4. gunicorn : https://gunicorn.org/"
   ]
  },
  {
   "cell_type": "markdown",
   "id": "79ffd70b",
   "metadata": {},
   "source": [
    "# twisted : client and server\n",
    "1. twisted : https://twistedmatrix.com/trac : \n",
    "2. twisted is a large package, with support for many internet protocols on top of TCP and UDP. \n",
    "3. twisted is an asynchronous, event-driven networking framework.\n",
    "4. This is a callback design .\n",
    "5. pip install twisted : in CMD "
   ]
  },
  {
   "cell_type": "code",
   "execution_count": null,
   "id": "012a4218",
   "metadata": {},
   "outputs": [],
   "source": [
    "# https://twistedmatrix.com/documents/current/core/examples/\n",
    "# ================================#\n",
    "# Example 15-11. knock_server.py  #\n",
    "# ================================# \n",
    "from twisted.internet import protocol, reactor\n",
    "\n",
    "class Knock(protocol.Protocol):\n",
    "    def dataReceived(self, data):\n",
    "        print('Client:', data)\n",
    "        if data.startswith(\"Knock knock\"):\n",
    "            response = \"Who's there?\"\n",
    "        else:\n",
    "            response = data + \" who?\"\n",
    "        print('Server:', response)\n",
    "        self.transport.write(response)\n",
    "    \n",
    "class KnockFactory(protocol.Factory):\n",
    "    def buildProtocol(self, addr):\n",
    "        return Knock()\n",
    "\n",
    "reactor.listenTCP(8000, KnockFactory())\n",
    "reactor.run()    "
   ]
  },
  {
   "cell_type": "code",
   "execution_count": null,
   "id": "8badb80c",
   "metadata": {},
   "outputs": [],
   "source": [
    "# ================================#\n",
    "# Example 15-12. knock_client.py  #\n",
    "# ================================# \n",
    "from twisted.internet import reactor, protocol\n",
    "\n",
    "class KnockClient(protocol.Protocol):\n",
    "    def connectionMade(self):\n",
    "        self.transport.write(\"Knock knock\")\n",
    "\n",
    "    def dataReceived(self, data):\n",
    "        if data.startswith(\"Who's there?\"):\n",
    "            response = \"Disappearing client\"\n",
    "            self.transport.write(response)\n",
    "        else:\n",
    "            self.transport.loseConnection()\n",
    "            reactor.stop()\n",
    "\n",
    "class KnockFactory(protocol.ClientFactory):\n",
    "    protocol = KnockClient\n",
    "\n",
    "def main():\n",
    "    f = KnockFactory()\n",
    "    reactor.connectTCP(\"localhost\", 8000, f)\n",
    "    reactor.run()\n",
    "    \n",
    "if __name__ == '__main__':\n",
    "    main()"
   ]
  },
  {
   "cell_type": "raw",
   "id": "dd000630",
   "metadata": {},
   "source": [
    "# asyncio Python added the asyncio library in version 3.4. It’s a way of defining\n",
    "# concurrent code using the new async and await capabilities , I’ve moved the\n",
    "discussion of asyncio and related topics to Appendix C."
   ]
  },
  {
   "cell_type": "markdown",
   "id": "58ef7a56",
   "metadata": {},
   "source": [
    "# redis"
   ]
  },
  {
   "cell_type": "code",
   "execution_count": null,
   "id": "cee47fd0",
   "metadata": {},
   "outputs": [],
   "source": [
    "# ===============================#\n",
    "# Example 15-13. redis_washer.py #\n",
    "# ===============================# \n",
    "import redis\n",
    "\n",
    "conn = redis.Redis()\n",
    "print('Washer is starting')\n",
    "\n",
    "dishes = ['salad', 'bread', 'entree', 'dessert']\n",
    "for dish in dishes:\n",
    "    msg = dish.encode('utf-8')\n",
    "    conn.rpush('dishes', msg)\n",
    "    print('Washed', dish)\n",
    "conn.rpush('dishes', 'quit')\n",
    "print('Washer is done')\n"
   ]
  },
  {
   "cell_type": "code",
   "execution_count": null,
   "id": "e1252d78",
   "metadata": {},
   "outputs": [],
   "source": [
    "# ===============================#\n",
    "# Example 15-14.  redis_dryer.py #\n",
    "# ===============================# \n",
    "import redis\n",
    "conn = redis.Redis()\n",
    "print('Dryer is starting')\n",
    "while True:\n",
    "    msg = conn.blpop('dishes')\n",
    "    if not msg:\n",
    "        break\n",
    "    val = msg[1].decode('utf-8')\n",
    "    if val == 'quit':\n",
    "        break\n",
    "    print('Dried', val)\n",
    "print('Dishes are dried')"
   ]
  },
  {
   "cell_type": "code",
   "execution_count": null,
   "id": "c2ebf691",
   "metadata": {},
   "outputs": [],
   "source": [
    "# ================================#\n",
    "# Example 15-15.  redis_dryer2.py #\n",
    "# ================================# \n",
    "import redis\n",
    "import os\n",
    "import time\n",
    "import multiprocessing\n",
    "\n",
    "def dryer():\n",
    "    conn = redis.Redis()\n",
    "    pid = os.getpid()\n",
    "    timeout = 20\n",
    "    print('Dryer process %s is starting' % pid)\n",
    "    while True:\n",
    "        msg = conn.blpop('dishes', timeout)\n",
    "        if not msg:\n",
    "            break\n",
    "        val = msg[1].decode('utf-8')\n",
    "        if val == 'quit':\n",
    "            break\n",
    "        print('%s: dried %s' % (pid, val))\n",
    "        time.sleep(0.1)\n",
    "    print('Dryer process %s is done' % pid)\n",
    "          \n",
    "\n",
    "DRYERS=3\n",
    "for num in range(DRYERS):\n",
    "    p = multiprocessing.Process(target=dryer)\n",
    "    p.start()\n",
    "      "
   ]
  },
  {
   "cell_type": "raw",
   "id": "8f9d704a",
   "metadata": {},
   "source": [
    "# Beyond Queues\n",
    "# How will you cope with it all? Common techniques include these:\n",
    "1 Fire and forget: Just pass things on and don’t worry about the consequences, even if no\n",
    "                   one is there. That’s the dishes-on-the-floor approach.\n",
    "    \n",
    "2. Request-reply : The washer receives an acknowledgment from the dryer, and the dryer\n",
    "                  from the put-away-er, for each dish in the pipeline.\n",
    "                  \n",
    "3.Back pressure or throttling: This technique directs a fast worker to take it easy if someone\n",
    "                               downstream can’t keep up.\n"
   ]
  },
  {
   "cell_type": "code",
   "execution_count": null,
   "id": "9cd0e0d4",
   "metadata": {},
   "outputs": [],
   "source": [
    "# Python-based queue packages that add this extra level of management include:\n",
    "1. celery can execute distributed tasks synchronously or asynchronously, using the methods we’ve discussed:\n",
    "multiprocessing, gevent, and others. \n",
    "2. rq is a Python library for job queues, also based on Redis\n",
    "\n",
    "Queues offers a discussion of queuing software, Python-based and otherwise."
   ]
  }
 ],
 "metadata": {
  "kernelspec": {
   "display_name": "Python 3 (ipykernel)",
   "language": "python",
   "name": "python3"
  },
  "language_info": {
   "codemirror_mode": {
    "name": "ipython",
    "version": 3
   },
   "file_extension": ".py",
   "mimetype": "text/x-python",
   "name": "python",
   "nbconvert_exporter": "python",
   "pygments_lexer": "ipython3",
   "version": "3.8.11"
  }
 },
 "nbformat": 4,
 "nbformat_minor": 5
}
