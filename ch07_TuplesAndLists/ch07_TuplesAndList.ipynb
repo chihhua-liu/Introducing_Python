{
 "cells": [
  {
   "cell_type": "markdown",
   "id": "1ee13173",
   "metadata": {},
   "source": [
    "# Chapter 7. Tuples and Lists"
   ]
  },
  {
   "cell_type": "markdown",
   "id": "36822789",
   "metadata": {},
   "source": [
    "# tuple"
   ]
  },
  {
   "cell_type": "code",
   "execution_count": 2,
   "id": "6a935055",
   "metadata": {},
   "outputs": [
    {
     "data": {
      "text/plain": [
       "()"
      ]
     },
     "execution_count": 2,
     "metadata": {},
     "output_type": "execute_result"
    }
   ],
   "source": [
    "empty_tuple = ()    \n",
    "empty_tuple"
   ]
  },
  {
   "cell_type": "code",
   "execution_count": 1,
   "id": "bb96b0ce",
   "metadata": {},
   "outputs": [
    {
     "data": {
      "text/plain": [
       "('Groucho',)"
      ]
     },
     "execution_count": 1,
     "metadata": {},
     "output_type": "execute_result"
    }
   ],
   "source": [
    "one_marx = 'Groucho',       # 沒有 ,  不是Tuple ， is str  : 記得1個值，需加 ,\n",
    "one_marx"
   ]
  },
  {
   "cell_type": "code",
   "execution_count": 5,
   "id": "7b545065",
   "metadata": {},
   "outputs": [
    {
     "data": {
      "text/plain": [
       "('Groucho',)"
      ]
     },
     "execution_count": 5,
     "metadata": {},
     "output_type": "execute_result"
    }
   ],
   "source": [
    "one_marx = ('Groucho',)    # 正規寫法\n",
    "one_marx\n"
   ]
  },
  {
   "cell_type": "code",
   "execution_count": 6,
   "id": "9527b84f",
   "metadata": {},
   "outputs": [
    {
     "data": {
      "text/plain": [
       "str"
      ]
     },
     "execution_count": 6,
     "metadata": {},
     "output_type": "execute_result"
    }
   ],
   "source": [
    "one_marx = ('Groucho')\n",
    "one_marx\n",
    "type(one_marx)"
   ]
  },
  {
   "cell_type": "code",
   "execution_count": 7,
   "id": "151ab3be",
   "metadata": {},
   "outputs": [
    {
     "data": {
      "text/plain": [
       "('Groucho', 'Chico', 'Harpo')"
      ]
     },
     "execution_count": 7,
     "metadata": {},
     "output_type": "execute_result"
    }
   ],
   "source": [
    "marx_tuple = ('Groucho', 'Chico', 'Harpo')\n",
    "marx_tuple"
   ]
  },
  {
   "cell_type": "code",
   "execution_count": 8,
   "id": "ca04751f",
   "metadata": {},
   "outputs": [
    {
     "name": "stdout",
     "output_type": "stream",
     "text": [
      "<class 'tuple'>\n",
      "<class 'str'>\n",
      "<class 'tuple'>\n",
      "a=Groucho\n",
      "b=Chico\n",
      "c=Harpo\n"
     ]
    }
   ],
   "source": [
    "one_marx = 'Groucho',\n",
    "print(type(one_marx))\n",
    "\n",
    "print(type('Groucho',))\n",
    "\n",
    "print(type(('Groucho',)))\n",
    "\n",
    "# Tuples let you assign multiple variables at once:\n",
    "marx_tuple = ('Groucho', 'Chico', 'Harpo')\n",
    "a, b, c = marx_tuple\n",
    "print(\"a={}\".format(a))\n",
    "\n",
    "print(\"b={}\".format(b))\n",
    "\n",
    "print(\"c={}\".format(c))\n"
   ]
  },
  {
   "cell_type": "code",
   "execution_count": 11,
   "id": "b81a339a",
   "metadata": {},
   "outputs": [
    {
     "name": "stdout",
     "output_type": "stream",
     "text": [
      "password =tuttifrutti\n",
      "icecream =swordfish\n"
     ]
    }
   ],
   "source": [
    "password = 'swordfish'\n",
    "icecream = 'tuttifrutti'\n",
    "password, icecream = icecream, password\n",
    "print('password ={}'.format(password))\n",
    "print('icecream ={}'.format(icecream))"
   ]
  },
  {
   "cell_type": "code",
   "execution_count": 12,
   "id": "28850f1a",
   "metadata": {},
   "outputs": [
    {
     "data": {
      "text/plain": [
       "('Groucho', 'Chico', 'Harpo')"
      ]
     },
     "execution_count": 12,
     "metadata": {},
     "output_type": "execute_result"
    }
   ],
   "source": [
    "marx_list = ['Groucho', 'Chico', 'Harpo']\n",
    "tuple(marx_list)"
   ]
  },
  {
   "cell_type": "code",
   "execution_count": 13,
   "id": "3f0bb700",
   "metadata": {},
   "outputs": [
    {
     "name": "stdout",
     "output_type": "stream",
     "text": [
      "('Groucho', 'Chico', 'Harpo')\n"
     ]
    }
   ],
   "source": [
    "tuple1=('Groucho',) + ('Chico', 'Harpo')\n",
    "print(tuple1)"
   ]
  },
  {
   "cell_type": "code",
   "execution_count": 14,
   "id": "bc7eb7de",
   "metadata": {},
   "outputs": [
    {
     "data": {
      "text/plain": [
       "('yada', 'yada', 'yada')"
      ]
     },
     "execution_count": 14,
     "metadata": {},
     "output_type": "execute_result"
    }
   ],
   "source": [
    "tuple2= ('yada',) * 3\n",
    "tuple2"
   ]
  },
  {
   "cell_type": "code",
   "execution_count": 15,
   "id": "82c449ef",
   "metadata": {},
   "outputs": [
    {
     "name": "stdout",
     "output_type": "stream",
     "text": [
      "False\n",
      "True\n",
      "True\n",
      "False\n",
      "False\n"
     ]
    }
   ],
   "source": [
    "a = (7, 2)\n",
    "b = (7, 2, 9)\n",
    "print(a == b)\n",
    "\n",
    "print(a <= b)\n",
    "\n",
    "print(a < b)\n",
    "\n",
    "print(a>=b)\n",
    "\n",
    "print(a>b)"
   ]
  },
  {
   "cell_type": "code",
   "execution_count": 16,
   "id": "b4ac94b7",
   "metadata": {},
   "outputs": [
    {
     "name": "stdout",
     "output_type": "stream",
     "text": [
      "fresh\n",
      "out\n",
      "of\n",
      "ideas\n"
     ]
    }
   ],
   "source": [
    "words = ('fresh','out', 'of', 'ideas')\n",
    "for word in words:\n",
    "    print(word)"
   ]
  },
  {
   "cell_type": "code",
   "execution_count": 18,
   "id": "8c827be4",
   "metadata": {},
   "outputs": [
    {
     "data": {
      "text/plain": [
       "('Fee', 'Fie', 'Foe', 'Flop')"
      ]
     },
     "execution_count": 18,
     "metadata": {},
     "output_type": "execute_result"
    }
   ],
   "source": [
    "t1 = ('Fee', 'Fie', 'Foe')\n",
    "t2 = ('Flop',)\n",
    "t1 + t2"
   ]
  },
  {
   "cell_type": "code",
   "execution_count": 19,
   "id": "33379be5",
   "metadata": {},
   "outputs": [
    {
     "data": {
      "text/plain": [
       "('Fee', 'Fie', 'Foe', 'Flop')"
      ]
     },
     "execution_count": 19,
     "metadata": {},
     "output_type": "execute_result"
    }
   ],
   "source": [
    "t1 = ('Fee', 'Fie', 'Foe')\n",
    "t2 = ('Flop',)\n",
    "t1 += t2      # t1 = ti+t2\n",
    "t1"
   ]
  },
  {
   "cell_type": "code",
   "execution_count": 21,
   "id": "a191b533",
   "metadata": {},
   "outputs": [
    {
     "name": "stdout",
     "output_type": "stream",
     "text": [
      "2297153836096\n",
      "2297155191648\n",
      "2297155191648\n"
     ]
    }
   ],
   "source": [
    "t1 = ('Fee', 'Fie', 'Foe')\n",
    "t2 = ('Flop',)\n",
    "print(id(t1))       # id is 記憶體位址\n",
    "\n",
    "t1 += t2\n",
    "print(id(t1))       # id is 記憶體位址\n",
    "\n",
    "# python 每個值是一個物件，每個物件有一個記憶體位置 ，因為t1 值前後不一樣，所以Id 不一樣\n",
    "t2 = t1\n",
    "print(id(t2))   # t1 & t2 值一樣，所以指向同一個記憶體位址，id 是一樣"
   ]
  },
  {
   "cell_type": "markdown",
   "id": "275b8244",
   "metadata": {},
   "source": [
    "# list"
   ]
  },
  {
   "cell_type": "code",
   "execution_count": 2,
   "id": "02f98b2a",
   "metadata": {},
   "outputs": [],
   "source": [
    "empty_list = []\n",
    "weekdays = ['Monday', 'Tuesday', 'Wednesday', 'Thursday', 'Friday']\n",
    "big_birds = ['emu', 'ostrich', 'cassowary']\n",
    "first_names = ['Graham', 'John', 'Terry', 'Terry', 'Michael']\n",
    "leap_years = [2000, 2004, 2008]\n",
    "randomness = ['Punxsatawney', {\"groundhog\": \"Phil\"}, \"Feb.2\"]"
   ]
  },
  {
   "cell_type": "code",
   "execution_count": 28,
   "id": "10c4f468",
   "metadata": {},
   "outputs": [
    {
     "data": {
      "text/plain": [
       "[]"
      ]
     },
     "execution_count": 28,
     "metadata": {},
     "output_type": "execute_result"
    }
   ],
   "source": [
    "another_empty_list = list()\n",
    "another_empty_list"
   ]
  },
  {
   "cell_type": "code",
   "execution_count": 3,
   "id": "53b2da7d",
   "metadata": {},
   "outputs": [
    {
     "data": {
      "text/plain": [
       "['c', 'a', 't']"
      ]
     },
     "execution_count": 3,
     "metadata": {},
     "output_type": "execute_result"
    }
   ],
   "source": [
    "list('cat')"
   ]
  },
  {
   "cell_type": "code",
   "execution_count": 32,
   "id": "871480b3",
   "metadata": {},
   "outputs": [
    {
     "data": {
      "text/plain": [
       "['ready', 'fire', 'aim']"
      ]
     },
     "execution_count": 32,
     "metadata": {},
     "output_type": "execute_result"
    }
   ],
   "source": [
    "a_tuple = ('ready', 'fire', 'aim')\n",
    "list(a_tuple)"
   ]
  },
  {
   "cell_type": "code",
   "execution_count": 33,
   "id": "d53ca709",
   "metadata": {},
   "outputs": [
    {
     "data": {
      "text/plain": [
       "['9', '19', '2019']"
      ]
     },
     "execution_count": 33,
     "metadata": {},
     "output_type": "execute_result"
    }
   ],
   "source": [
    "talk_like_a_pirate_day = '9/19/2019'\n",
    "talk_like_a_pirate_day.split('/')  # split() 後 result change list"
   ]
  },
  {
   "cell_type": "code",
   "execution_count": 34,
   "id": "9950b3a7",
   "metadata": {},
   "outputs": [
    {
     "data": {
      "text/plain": [
       "['a', 'b', '', 'c', 'd', '', '', 'e']"
      ]
     },
     "execution_count": 34,
     "metadata": {},
     "output_type": "execute_result"
    }
   ],
   "source": [
    "splitme = 'a/b//c/d///e'\n",
    "splitme.split('/')"
   ]
  },
  {
   "cell_type": "code",
   "execution_count": 35,
   "id": "568f9a20",
   "metadata": {},
   "outputs": [
    {
     "data": {
      "text/plain": [
       "['a/b', 'c/d', '/e']"
      ]
     },
     "execution_count": 35,
     "metadata": {},
     "output_type": "execute_result"
    }
   ],
   "source": [
    "splitme = 'a/b//c/d///e'\n",
    "splitme.split('//')"
   ]
  },
  {
   "cell_type": "code",
   "execution_count": 36,
   "id": "72aa4980",
   "metadata": {},
   "outputs": [
    {
     "name": "stdout",
     "output_type": "stream",
     "text": [
      "marxes[0]=Groucho\n",
      "marxes[1]=Chico\n",
      "marxes[2]=Harpo\n"
     ]
    }
   ],
   "source": [
    "marxes = ['Groucho', 'Chico', 'Harpo']     # list index from 0 to end-1\n",
    "print('marxes[0]={}'.format(marxes[0]))\n",
    "print('marxes[1]={}'.format(marxes[1]))\n",
    "print('marxes[2]={}'.format(marxes[2]))"
   ]
  },
  {
   "cell_type": "code",
   "execution_count": 37,
   "id": "5e1df5cb",
   "metadata": {},
   "outputs": [
    {
     "name": "stdout",
     "output_type": "stream",
     "text": [
      "marxes[-1]=Harpo\n",
      "marxes[-2]=Chico\n",
      "marxes[-3]=Groucho\n"
     ]
    }
   ],
   "source": [
    "print('marxes[-1]={}'.format(marxes[-1]))    # list index 負數從後面算最後一個 -1\n",
    "print('marxes[-2]={}'.format(marxes[-2]))\n",
    "print('marxes[-3]={}'.format(marxes[-3]))"
   ]
  },
  {
   "cell_type": "code",
   "execution_count": 4,
   "id": "f6a4379e",
   "metadata": {},
   "outputs": [
    {
     "name": "stdout",
     "output_type": "stream",
     "text": [
      "國文成績：85 分\n",
      "數學成績：79 分\n",
      "英文成績：93 分\n"
     ]
    }
   ],
   "source": [
    "score = [85, 79, 93]\n",
    "print(\"國文成績：%d 分\" % score[0])\n",
    "print(\"數學成績：%d 分\" % score[1])\n",
    "print(\"英文成績：%d 分\" % score[2])"
   ]
  },
  {
   "cell_type": "code",
   "execution_count": 11,
   "id": "3d6fdeae",
   "metadata": {},
   "outputs": [
    {
     "name": "stdout",
     "output_type": "stream",
     "text": [
      "list1 = [3, 5, 7]\n",
      "list2 = [10, 'mika', True]\n",
      "list3 = [8, 7, 6, 5, 4]\n"
     ]
    }
   ],
   "source": [
    "r1 = range(3,8,2)\n",
    "list1 = list(r1)\n",
    "print(f'list1 = {list1}')\n",
    "\n",
    "r2=(10,'mika',True)\n",
    "list2 = list(r2)\n",
    "print(f'list2 = {list2}')\n",
    "\n",
    "r3 = range(8,3,-1)\n",
    "list3 = list(r3)\n",
    "print(f'list3 = {list3}')"
   ]
  },
  {
   "cell_type": "code",
   "execution_count": 38,
   "id": "bb446921",
   "metadata": {},
   "outputs": [
    {
     "name": "stdout",
     "output_type": "stream",
     "text": [
      "['Groucho', 'Chico']\n"
     ]
    }
   ],
   "source": [
    "marxes = ['Groucho', 'Chico', 'Harpo']\n",
    "print(marxes[0:2])      # [0:2] is start 0 to end-1  : 所以只show list[0],list[1]"
   ]
  },
  {
   "cell_type": "code",
   "execution_count": 39,
   "id": "8f7aad5d",
   "metadata": {},
   "outputs": [
    {
     "data": {
      "text/plain": [
       "['Groucho', 'Harpo']"
      ]
     },
     "execution_count": 39,
     "metadata": {},
     "output_type": "execute_result"
    }
   ],
   "source": [
    " marxes[::2]      # list all ，但是間隔2 : list[0] & list[2]"
   ]
  },
  {
   "cell_type": "code",
   "execution_count": 40,
   "id": "ab9b0966",
   "metadata": {},
   "outputs": [
    {
     "data": {
      "text/plain": [
       "['Harpo', 'Groucho']"
      ]
     },
     "execution_count": 40,
     "metadata": {},
     "output_type": "execute_result"
    }
   ],
   "source": [
    "marxes[::-2]   # 反過來，但是間隔2 : list[2],list[0]"
   ]
  },
  {
   "cell_type": "code",
   "execution_count": 41,
   "id": "0dc463df",
   "metadata": {},
   "outputs": [
    {
     "data": {
      "text/plain": [
       "['Harpo', 'Chico', 'Groucho']"
      ]
     },
     "execution_count": 41,
     "metadata": {},
     "output_type": "execute_result"
    }
   ],
   "source": [
    "marxes[::-1]"
   ]
  },
  {
   "cell_type": "code",
   "execution_count": 46,
   "id": "ff305588",
   "metadata": {},
   "outputs": [
    {
     "name": "stdout",
     "output_type": "stream",
     "text": [
      "['Harpo', 'Chico', 'Groucho']\n"
     ]
    }
   ],
   "source": [
    "marxes = ['Groucho', 'Chico', 'Harpo']\n",
    "marxes.reverse()\n",
    "print(marxes)"
   ]
  },
  {
   "cell_type": "code",
   "execution_count": 47,
   "id": "918fd00f",
   "metadata": {},
   "outputs": [
    {
     "name": "stdout",
     "output_type": "stream",
     "text": [
      "marxes[4:]=[]\n",
      "marxes[-6:]=['Groucho', 'Chico', 'Harpo']\n",
      "marxes[-6:-2]=['Groucho']\n",
      "marxes[-6:-4]=[]\n"
     ]
    }
   ],
   "source": [
    "marxes = ['Groucho', 'Chico', 'Harpo']\n",
    "print(\"marxes[4:]={}\".format(marxes[4:]))\n",
    "print(\"marxes[-6:]={}\".format(marxes[-6:]))\n",
    "print(\"marxes[-6:-2]={}\".format(marxes[-6:-2]))\n",
    "print(\"marxes[-6:-4]={}\".format(marxes[-6:-4]))\n"
   ]
  },
  {
   "cell_type": "code",
   "execution_count": 48,
   "id": "dd3836c4",
   "metadata": {},
   "outputs": [
    {
     "data": {
      "text/plain": [
       "['Groucho', 'Chico', 'Harpo', 'Zeppo']"
      ]
     },
     "execution_count": 48,
     "metadata": {},
     "output_type": "execute_result"
    }
   ],
   "source": [
    "marxes = ['Groucho', 'Chico', 'Harpo']  \n",
    "marxes.append('Zeppo')    # append 加到最後\n",
    "marxes"
   ]
  },
  {
   "cell_type": "code",
   "execution_count": 50,
   "id": "c5f57bc4",
   "metadata": {},
   "outputs": [
    {
     "name": "stdout",
     "output_type": "stream",
     "text": [
      "['Groucho', 'Chico', 'Gummo', 'Harpo']\n"
     ]
    }
   ],
   "source": [
    "marxes = ['Groucho', 'Chico', 'Harpo']\n",
    "marxes.insert(2, 'Gummo')    # 在index=2 插入\n",
    "print(marxes)"
   ]
  },
  {
   "cell_type": "code",
   "execution_count": 51,
   "id": "378e6805",
   "metadata": {},
   "outputs": [
    {
     "data": {
      "text/plain": [
       "['Groucho', 'Chico', 'Gummo', 'Harpo', 'Zeppo']"
      ]
     },
     "execution_count": 51,
     "metadata": {},
     "output_type": "execute_result"
    }
   ],
   "source": [
    "['Groucho', 'Chico', 'Gummo', 'Harpo']\n",
    "marxes.insert(10, 'Zeppo')   # because  沒有index =10 ，so 插最後\n",
    "marxes             "
   ]
  },
  {
   "cell_type": "code",
   "execution_count": 52,
   "id": "041937cf",
   "metadata": {},
   "outputs": [
    {
     "data": {
      "text/plain": [
       "['blah', 'blah', 'blah']"
      ]
     },
     "execution_count": 52,
     "metadata": {},
     "output_type": "execute_result"
    }
   ],
   "source": [
    "testlist = [\"blah\"] * 3\n",
    "testlist"
   ]
  },
  {
   "cell_type": "code",
   "execution_count": 55,
   "id": "9f059429",
   "metadata": {},
   "outputs": [
    {
     "data": {
      "text/plain": [
       "['Groucho', 'Chico', 'Harpo', 'Zeppo', 'Gummo', 'Karl']"
      ]
     },
     "execution_count": 55,
     "metadata": {},
     "output_type": "execute_result"
    }
   ],
   "source": [
    "marxes = ['Groucho', 'Chico', 'Harpo', 'Zeppo']\n",
    "others = ['Gummo', 'Karl']\n",
    "marxes.extend(others)  # +在最後\n",
    "marxes"
   ]
  },
  {
   "cell_type": "code",
   "execution_count": 57,
   "id": "fc5e0740",
   "metadata": {},
   "outputs": [
    {
     "data": {
      "text/plain": [
       "['Groucho', 'Chico', 'Harpo', 'Zeppo', 'Gummo', 'Karl']"
      ]
     },
     "execution_count": 57,
     "metadata": {},
     "output_type": "execute_result"
    }
   ],
   "source": [
    "marxes = ['Groucho', 'Chico', 'Harpo', 'Zeppo']\n",
    "others = ['Gummo', 'Karl']\n",
    "marxes += others\n",
    "marxes"
   ]
  },
  {
   "cell_type": "code",
   "execution_count": 58,
   "id": "93ab7543",
   "metadata": {},
   "outputs": [
    {
     "data": {
      "text/plain": [
       "['Groucho', 'Chico', 'Harpo', 'Zeppo', ['Gummo', 'Karl']]"
      ]
     },
     "execution_count": 58,
     "metadata": {},
     "output_type": "execute_result"
    }
   ],
   "source": [
    "marxes = ['Groucho', 'Chico', 'Harpo', 'Zeppo']\n",
    "others = ['Gummo', 'Karl']\n",
    "marxes.append(others)\n",
    "marxes"
   ]
  },
  {
   "cell_type": "code",
   "execution_count": 59,
   "id": "81400ea1",
   "metadata": {},
   "outputs": [
    {
     "data": {
      "text/plain": [
       "['Groucho', 'Chico', 'Wanda']"
      ]
     },
     "execution_count": 59,
     "metadata": {},
     "output_type": "execute_result"
    }
   ],
   "source": [
    "marxes = ['Groucho', 'Chico', 'Harpo']\n",
    "marxes[2] = 'Wanda'  #change list[2] item\n",
    "marxes"
   ]
  },
  {
   "cell_type": "code",
   "execution_count": 60,
   "id": "7b194f21",
   "metadata": {},
   "outputs": [
    {
     "data": {
      "text/plain": [
       "[1, 8, 9, 4]"
      ]
     },
     "execution_count": 60,
     "metadata": {},
     "output_type": "execute_result"
    }
   ],
   "source": [
    "numbers = [1, 2, 3, 4]\n",
    "numbers[1:3] = [8, 9]\n",
    "numbers"
   ]
  },
  {
   "cell_type": "code",
   "execution_count": 61,
   "id": "ab481a70",
   "metadata": {},
   "outputs": [
    {
     "name": "stdout",
     "output_type": "stream",
     "text": [
      "numbers = [1, 7, 8, 9, 4]\n",
      "numbers = [1, 9, 4]\n",
      "numbers = [1, 98, 99, 100, 4]\n",
      "numbers = [1, 'w', 'a', 't', '?', 4]\n"
     ]
    }
   ],
   "source": [
    "numbers = [1, 2, 3, 4]\n",
    "numbers[1:3] = [7, 8, 9]\n",
    "print(\"numbers = {}\".format(numbers))\n",
    "    \n",
    "numbers[1:3] = []                       # delete list[1],list[2]\n",
    "print(\"numbers = {}\".format(numbers))\n",
    "\n",
    "numbers = [1, 2, 3, 4]\n",
    "numbers[1:3] = (98, 99, 100)\n",
    "print(\"numbers = {}\".format(numbers))\n",
    "\n",
    "numbers = [1, 2, 3, 4]\n",
    "numbers[1:3] = 'wat?'\n",
    "print(\"numbers = {}\".format(numbers))"
   ]
  },
  {
   "cell_type": "code",
   "execution_count": 62,
   "id": "c9404c44",
   "metadata": {},
   "outputs": [
    {
     "data": {
      "text/plain": [
       "['Groucho', 'Chico', 'Harpo', 'Gummo']"
      ]
     },
     "execution_count": 62,
     "metadata": {},
     "output_type": "execute_result"
    }
   ],
   "source": [
    "marxes = ['Groucho', 'Chico', 'Harpo', 'Gummo', 'Karl']\n",
    "\n",
    "del marxes[-1]\n",
    "marxes"
   ]
  },
  {
   "cell_type": "code",
   "execution_count": 63,
   "id": "a0831b30",
   "metadata": {},
   "outputs": [
    {
     "data": {
      "text/plain": [
       "['Groucho', 'Harpo', 'Gummo']"
      ]
     },
     "execution_count": 63,
     "metadata": {},
     "output_type": "execute_result"
    }
   ],
   "source": [
    "marxes = ['Groucho', 'Chico', 'Harpo', 'Gummo']\n",
    "del marxes[1]\n",
    "marxes"
   ]
  },
  {
   "cell_type": "code",
   "execution_count": 64,
   "id": "7153a8a2",
   "metadata": {},
   "outputs": [
    {
     "data": {
      "text/plain": [
       "['Chico', 'Harpo']"
      ]
     },
     "execution_count": 64,
     "metadata": {},
     "output_type": "execute_result"
    }
   ],
   "source": [
    "marxes = ['Groucho', 'Chico', 'Harpo']\n",
    "marxes.remove('Groucho')\n",
    "marxes"
   ]
  },
  {
   "cell_type": "code",
   "execution_count": 67,
   "id": "a190adae",
   "metadata": {},
   "outputs": [
    {
     "name": "stdout",
     "output_type": "stream",
     "text": [
      "marxes.pop() = Zeppo\n",
      "marxes = ['Groucho', 'Chico', 'Harpo']\n",
      "marxes.pop(1) = Chico\n"
     ]
    },
    {
     "data": {
      "text/plain": [
       "['Groucho', 'Harpo']"
      ]
     },
     "execution_count": 67,
     "metadata": {},
     "output_type": "execute_result"
    }
   ],
   "source": [
    "# pop()\n",
    "marxes = ['Groucho', 'Chico', 'Harpo', 'Zeppo']\n",
    "test = marxes.pop()                      # 從最後一個取出來，並刪除\n",
    "print(\"marxes.pop() = {}\".format(test))\n",
    "print(\"marxes = {}\".format(marxes))\n",
    "test2 = marxes.pop(1)                    # 從index[1] 取出來，並刪除\n",
    "print(\"marxes.pop(1) = {}\".format(test2))\n",
    "marxes"
   ]
  },
  {
   "cell_type": "code",
   "execution_count": 68,
   "id": "4b6b0ab9",
   "metadata": {},
   "outputs": [
    {
     "name": "stdout",
     "output_type": "stream",
     "text": [
      "['Working hard?', 'Quick question!', 'Number onepriorities!']\n"
     ]
    },
    {
     "data": {
      "text/plain": [
       "[]"
      ]
     },
     "execution_count": 68,
     "metadata": {},
     "output_type": "execute_result"
    }
   ],
   "source": [
    "# clear()\n",
    "work_quotes = ['Working hard?', 'Quick question!', 'Number onepriorities!']\n",
    "print(work_quotes)\n",
    "\n",
    "work_quotes.clear()\n",
    "work_quotes"
   ]
  },
  {
   "cell_type": "code",
   "execution_count": 69,
   "id": "8ba28aaf",
   "metadata": {},
   "outputs": [
    {
     "data": {
      "text/plain": [
       "1"
      ]
     },
     "execution_count": 69,
     "metadata": {},
     "output_type": "execute_result"
    }
   ],
   "source": [
    "marxes = ['Groucho', 'Chico', 'Harpo', 'Zeppo']\n",
    "marxes.index('Chico')"
   ]
  },
  {
   "cell_type": "code",
   "execution_count": 71,
   "id": "5fea627b",
   "metadata": {},
   "outputs": [
    {
     "data": {
      "text/plain": [
       "1"
      ]
     },
     "execution_count": 71,
     "metadata": {},
     "output_type": "execute_result"
    }
   ],
   "source": [
    "simpsons = ['Lisa', 'Bart', 'Marge', 'Homer', 'Bart']\n",
    "simpsons.index('Bart')"
   ]
  },
  {
   "cell_type": "code",
   "execution_count": 72,
   "id": "aec39c92",
   "metadata": {},
   "outputs": [
    {
     "data": {
      "text/plain": [
       "False"
      ]
     },
     "execution_count": 72,
     "metadata": {},
     "output_type": "execute_result"
    }
   ],
   "source": [
    "marxes = ['Groucho', 'Chico', 'Harpo', 'Zeppo']\n",
    "'Groucho' in marxes    # True\n",
    "'Bob' in marxes"
   ]
  },
  {
   "cell_type": "code",
   "execution_count": 73,
   "id": "53f36ede",
   "metadata": {},
   "outputs": [
    {
     "data": {
      "text/plain": [
       "True"
      ]
     },
     "execution_count": 73,
     "metadata": {},
     "output_type": "execute_result"
    }
   ],
   "source": [
    "words = ['a', 'deer', 'a' 'female', 'deer']\n",
    "'deer' in words"
   ]
  },
  {
   "cell_type": "code",
   "execution_count": 75,
   "id": "36c01d02",
   "metadata": {},
   "outputs": [
    {
     "data": {
      "text/plain": [
       "1"
      ]
     },
     "execution_count": 75,
     "metadata": {},
     "output_type": "execute_result"
    }
   ],
   "source": [
    "#count()\n",
    "marxes = ['Groucho', 'Chico', 'Harpo']\n",
    "marxes.count('Harpo')"
   ]
  },
  {
   "cell_type": "code",
   "execution_count": 76,
   "id": "b37598f8",
   "metadata": {},
   "outputs": [
    {
     "data": {
      "text/plain": [
       "3"
      ]
     },
     "execution_count": 76,
     "metadata": {},
     "output_type": "execute_result"
    }
   ],
   "source": [
    "snl_skit = ['cheeseburger', 'cheeseburger', 'cheeseburger']\n",
    "snl_skit.count('cheeseburger')"
   ]
  },
  {
   "cell_type": "code",
   "execution_count": 80,
   "id": "16817349",
   "metadata": {},
   "outputs": [
    {
     "name": "stdout",
     "output_type": "stream",
     "text": [
      "Groucho,Chico,Harpo\n"
     ]
    },
    {
     "data": {
      "text/plain": [
       "str"
      ]
     },
     "execution_count": 80,
     "metadata": {},
     "output_type": "execute_result"
    }
   ],
   "source": [
    "# Convert a List to a String with join()\n",
    "marxes = ['Groucho', 'Chico', 'Harpo']\n",
    "a = ','.join(marxes)     # join 後變成 str\n",
    "print(a)\n",
    "type(a)"
   ]
  },
  {
   "cell_type": "code",
   "execution_count": 81,
   "id": "1f6ac36c",
   "metadata": {},
   "outputs": [
    {
     "name": "stdout",
     "output_type": "stream",
     "text": [
      "Harry * Hermione * Ron\n",
      "['Harry', 'Hermione', 'Ron']\n"
     ]
    }
   ],
   "source": [
    "friends = ['Harry', 'Hermione', 'Ron']\n",
    "separator = ' * '\n",
    "joined = separator.join(friends)       # list to str\n",
    "print(joined)\n",
    "\n",
    "separated = joined.split(separator)    # str to list\n",
    "print(separated)"
   ]
  },
  {
   "cell_type": "code",
   "execution_count": 85,
   "id": "2cd3d0cf",
   "metadata": {},
   "outputs": [
    {
     "data": {
      "text/plain": [
       "['/Zas', '1AAA', 'Grcico', 'Groucho', 'Harpo']"
      ]
     },
     "execution_count": 85,
     "metadata": {},
     "output_type": "execute_result"
    }
   ],
   "source": [
    "# Reorder Items with sort() or sorted\n",
    "# sorted\n",
    "marxes = ['Groucho', 'Grcico', 'Harpo','1AAA','/Zas']\n",
    "sorted_marxes = sorted(marxes)   # 依據字母排列: 特殊文字 > 數字 > 大寫 > 小寫 : from  A to z\n",
    "sorted_marxes"
   ]
  },
  {
   "cell_type": "code",
   "execution_count": 88,
   "id": "6564ddca",
   "metadata": {},
   "outputs": [
    {
     "data": {
      "text/plain": [
       "['/Zas', '1AAA', 'Grcico', 'Groucho', 'Harpo', 'c11as']"
      ]
     },
     "execution_count": 88,
     "metadata": {},
     "output_type": "execute_result"
    }
   ],
   "source": [
    "# sort()\n",
    "marxes = ['Groucho', 'Grcico', 'Harpo','1AAA','/Zas','c11as']\n",
    "marxes.sort()\n",
    "marxes"
   ]
  },
  {
   "cell_type": "code",
   "execution_count": 89,
   "id": "04813d30",
   "metadata": {},
   "outputs": [
    {
     "data": {
      "text/plain": [
       "[1, 2, 3, 4.0]"
      ]
     },
     "execution_count": 89,
     "metadata": {},
     "output_type": "execute_result"
    }
   ],
   "source": [
    "numbers = [2, 1, 4.0, 3]\n",
    "numbers.sort()\n",
    "numbers"
   ]
  },
  {
   "cell_type": "code",
   "execution_count": 90,
   "id": "bcc8dcc3",
   "metadata": {},
   "outputs": [
    {
     "data": {
      "text/plain": [
       "[4.0, 3, 2, 1]"
      ]
     },
     "execution_count": 90,
     "metadata": {},
     "output_type": "execute_result"
    }
   ],
   "source": [
    "numbers = [2, 1, 4.0, 3]\n",
    "numbers.sort(reverse=True)\n",
    "numbers\n",
    "[4.0, 3, 2, 1]"
   ]
  },
  {
   "cell_type": "code",
   "execution_count": 91,
   "id": "eece94fd",
   "metadata": {},
   "outputs": [
    {
     "data": {
      "text/plain": [
       "3"
      ]
     },
     "execution_count": 91,
     "metadata": {},
     "output_type": "execute_result"
    }
   ],
   "source": [
    "# len()\n",
    "marxes = ['Groucho', 'Chico', 'Harpo']\n",
    "len(marxes)"
   ]
  },
  {
   "cell_type": "code",
   "execution_count": 92,
   "id": "20f18e6b",
   "metadata": {},
   "outputs": [
    {
     "name": "stdout",
     "output_type": "stream",
     "text": [
      "a=[1, 2, 3]\n",
      "a=[1, 2, 3]\n",
      " Modify a=['surprise', 2, 3]\n",
      " Modify b=['surprise', 2, 3]\n"
     ]
    }
   ],
   "source": [
    "a = [1, 2, 3]\n",
    "print(\"a={}\".format(a))\n",
    "b = a\n",
    "print(\"a={}\".format(a))\n",
    "\n",
    "a[0] = 'surprise'\n",
    "print(\" Modify a={}\".format(a))\n",
    "\n",
    "print(\" Modify b={}\".format(b))"
   ]
  },
  {
   "cell_type": "markdown",
   "id": "4a981b65",
   "metadata": {},
   "source": [
    "# Copy with copy(), list(), or a Slice"
   ]
  },
  {
   "cell_type": "code",
   "execution_count": 95,
   "id": "7229ca73",
   "metadata": {},
   "outputs": [
    {
     "name": "stdout",
     "output_type": "stream",
     "text": [
      "a = [1, 2, 3]\n",
      "b = [1, 2, 3]\n",
      "c = [1, 2, 3]\n",
      "d = [1, 2, 3]\n"
     ]
    }
   ],
   "source": [
    "a = [1, 2, 3]\n",
    "print(\"a = {}\".format(a))\n",
    "b = a.copy()\n",
    "print(\"b = {}\".format(b))\n",
    "c = list(a)\n",
    "print(\"c = {}\".format(c))\n",
    "d = a[:]\n",
    "print(\"d = {}\".format(d))"
   ]
  },
  {
   "cell_type": "code",
   "execution_count": 96,
   "id": "1adf1c5b",
   "metadata": {},
   "outputs": [
    {
     "name": "stdout",
     "output_type": "stream",
     "text": [
      "a = ['integer lists are boring', 2, 3]\n",
      "b = [1, 2, 3]\n",
      "c = [1, 2, 3]\n",
      "d = [1, 2, 3]\n"
     ]
    }
   ],
   "source": [
    "a[0] = 'integer lists are boring'\n",
    "print(\"a = {}\".format(a))\n",
    "\n",
    "print(\"b = {}\".format(b))\n",
    "print(\"c = {}\".format(c))\n",
    "print(\"d = {}\".format(d))"
   ]
  },
  {
   "cell_type": "code",
   "execution_count": 97,
   "id": "40da4200",
   "metadata": {},
   "outputs": [
    {
     "name": "stdout",
     "output_type": "stream",
     "text": [
      "a = [1, 2, [8, 9]]\n",
      "b = [1, 2, [8, 9]]\n",
      "c = [1, 2, [8, 9]]\n",
      "d = [1, 2, [8, 9]]\n",
      "a = [1, 2, [8, 10]]\n",
      "b = [1, 2, [8, 10]]\n",
      "c = [1, 2, [8, 10]]\n",
      "d = [1, 2, [8, 10]]\n"
     ]
    }
   ],
   "source": [
    "a = [1, 2, [8, 9]]\n",
    "b = a.copy()\n",
    "c = list(a)\n",
    "d = a[:]\n",
    "print(\"a = {}\".format(a))\n",
    "print(\"b = {}\".format(b))\n",
    "print(\"c = {}\".format(c))\n",
    "print(\"d = {}\".format(d))\n",
    "\n",
    "# So far, so good. Now change an element in that sublist in a:\n",
    "a[2][1] = 10\n",
    "print(\"a = {}\".format(a))\n",
    "print(\"b = {}\".format(b))\n",
    "print(\"c = {}\".format(c))\n",
    "print(\"d = {}\".format(d))"
   ]
  },
  {
   "cell_type": "code",
   "execution_count": 98,
   "id": "6e229e7d",
   "metadata": {},
   "outputs": [
    {
     "name": "stdout",
     "output_type": "stream",
     "text": [
      "a = [1, 2, [8, 9]]\n",
      "b = [1, 2, [8, 9]]\n"
     ]
    }
   ],
   "source": [
    "import copy\n",
    "a = [1, 2, [8, 9]]\n",
    "b = copy.deepcopy(a)\n",
    "print(\"a = {}\".format(a))\n",
    "print(\"b = {}\".format(b))\n"
   ]
  },
  {
   "cell_type": "code",
   "execution_count": 99,
   "id": "3a73591c",
   "metadata": {},
   "outputs": [],
   "source": [
    "a = [7, 2]\n",
    "b = [7, 2, 9]\n",
    "#a == b\n",
    "#False\n",
    "#>>> a <= b\n",
    "#True\n",
    "#>>> a < b\n",
    "#True"
   ]
  },
  {
   "cell_type": "code",
   "execution_count": 101,
   "id": "69ca627f",
   "metadata": {},
   "outputs": [
    {
     "name": "stdout",
     "output_type": "stream",
     "text": [
      "brie\n",
      "I won't eat anything that starts with 'g'\n"
     ]
    }
   ],
   "source": [
    "cheeses = ['brie', 'gjetost', 'havarti']\n",
    "for cheese in cheeses:\n",
    "    if cheese.startswith('g'):\n",
    "       print(\"I won't eat anything that starts with 'g'\")\n",
    "       break\n",
    "    else:\n",
    "        print(cheese)"
   ]
  },
  {
   "cell_type": "code",
   "execution_count": 102,
   "id": "60edd554",
   "metadata": {},
   "outputs": [
    {
     "name": "stdout",
     "output_type": "stream",
     "text": [
      "brie\n",
      "gjetost\n",
      "havarti\n",
      "Didn't find anything that started with 'x'\n"
     ]
    }
   ],
   "source": [
    "cheeses = ['brie', 'gjetost', 'havarti']\n",
    "for cheese in cheeses:\n",
    "    if cheese.startswith('x'):\n",
    "        print(\"I won't eat anything that starts with 'x'\")\n",
    "        break\n",
    "    else:\n",
    "        print(cheese)\n",
    "else:\n",
    "    print(\"Didn't find anything that started with 'x'\")"
   ]
  },
  {
   "cell_type": "code",
   "execution_count": 104,
   "id": "93a6b7d0",
   "metadata": {},
   "outputs": [
    {
     "name": "stdout",
     "output_type": "stream",
     "text": [
      "This is not much of a cheese shop, is it?\n"
     ]
    }
   ],
   "source": [
    "cheeses = []\n",
    "for cheese in cheeses:\n",
    "    print('This shop has some lovely', cheese)\n",
    "    break\n",
    "else: # no break means no cheese\n",
    "    print('This is not much of a cheese shop, is it?')"
   ]
  },
  {
   "cell_type": "code",
   "execution_count": 105,
   "id": "69dac469",
   "metadata": {},
   "outputs": [
    {
     "name": "stdout",
     "output_type": "stream",
     "text": [
      "Monday : drink coffee - eat banana - enjoy tiramisu\n",
      "Tuesday : drink tea - eat orange - enjoy ice cream\n",
      "Wednesday : drink beer - eat peach - enjoy pie\n"
     ]
    }
   ],
   "source": [
    "days = ['Monday', 'Tuesday', 'Wednesday']\n",
    "fruits = ['banana', 'orange', 'peach']\n",
    "drinks = ['coffee', 'tea', 'beer']\n",
    "desserts = ['tiramisu', 'ice cream', 'pie', 'pudding']\n",
    "for day, fruit, drink, dessert in zip(days, fruits, drinks, desserts):\n",
    "   print(day, \": drink\", drink, \"- eat\", fruit, \"- enjoy\", dessert)"
   ]
  },
  {
   "cell_type": "code",
   "execution_count": 117,
   "id": "e84bb53e",
   "metadata": {},
   "outputs": [
    {
     "name": "stdout",
     "output_type": "stream",
     "text": [
      "<zip object at 0x00000216D910A300>\n",
      "<zip object at 0x00000216D91E3580>\n",
      "listab=(1, 2, 3)\n",
      "<class 'tuple'>\n",
      "[1, 2, 3]\n",
      "listab=(4, 5, 6)\n",
      "<class 'tuple'>\n",
      "[4, 5, 6]\n"
     ]
    }
   ],
   "source": [
    "# Zip 的用法  : 主要用途，可以用來配對\n",
    "a = [1,2,3]\n",
    "b = [4,5,6]\n",
    "c = [4,5,6,7,8]\n",
    "zipped = zip(a,b)     # 打包为元组的列表\n",
    "print(zipped)\n",
    "zipped1 = zip(a,c)             \n",
    "print(zipped1)\n",
    "listabs = zip(*zipped)          # 与 zip 相反，*zipped 可理解为解压，返回二维矩阵式\n",
    "for listab in listabs:\n",
    "    print(\"listab={}\".format(listab))            # listab is tuple\n",
    "    print(type(listab))\n",
    "    listablist=list(listab)                      # change to list\n",
    "    print(listablist)"
   ]
  },
  {
   "cell_type": "code",
   "execution_count": 119,
   "id": "00324d00",
   "metadata": {},
   "outputs": [
    {
     "name": "stdout",
     "output_type": "stream",
     "text": [
      "[('Monday', 'Lundi'), ('Tuesday', 'Mardi'), ('Wednesday', 'Mercredi')]\n"
     ]
    }
   ],
   "source": [
    "english = 'Monday', 'Tuesday', 'Wednesday'\n",
    "french = 'Lundi', 'Mardi', 'Mercredi'\n",
    "# Now, use zip() to pair these tuples. The value returned by zip() is itself\n",
    "# not a tuple or list, but an iterable value that can be turned into one:\n",
    "text = list(zip(english, french))\n",
    "print(text)"
   ]
  },
  {
   "cell_type": "code",
   "execution_count": 120,
   "id": "0e668208",
   "metadata": {},
   "outputs": [
    {
     "data": {
      "text/plain": [
       "[1, 2, 3, 4, 5]"
      ]
     },
     "execution_count": 120,
     "metadata": {},
     "output_type": "execute_result"
    }
   ],
   "source": [
    "number_list = []\n",
    "number_list.append(1)\n",
    "number_list.append(2)\n",
    "number_list.append(3)\n",
    "number_list.append(4)\n",
    "number_list.append(5)\n",
    "number_list"
   ]
  },
  {
   "cell_type": "code",
   "execution_count": 123,
   "id": "752ba977",
   "metadata": {},
   "outputs": [
    {
     "data": {
      "text/plain": [
       "[1, 2, 3, 4, 5]"
      ]
     },
     "execution_count": 123,
     "metadata": {},
     "output_type": "execute_result"
    }
   ],
   "source": [
    "number_list = []\n",
    "for number in range(1, 6):\n",
    "    number_list.append(number)\n",
    "number_list"
   ]
  },
  {
   "cell_type": "code",
   "execution_count": 124,
   "id": "c09df7c3",
   "metadata": {},
   "outputs": [
    {
     "data": {
      "text/plain": [
       "[1, 2, 3, 4, 5]"
      ]
     },
     "execution_count": 124,
     "metadata": {},
     "output_type": "execute_result"
    }
   ],
   "source": [
    "number_list = list(range(1, 6))\n",
    "number_list"
   ]
  },
  {
   "cell_type": "code",
   "execution_count": 125,
   "id": "b9a49c30",
   "metadata": {},
   "outputs": [
    {
     "data": {
      "text/plain": [
       "[1, 2, 3, 4, 5]"
      ]
     },
     "execution_count": 125,
     "metadata": {},
     "output_type": "execute_result"
    }
   ],
   "source": [
    "number_list = [number for number in range(1,6)]\n",
    "number_list"
   ]
  },
  {
   "cell_type": "code",
   "execution_count": 126,
   "id": "c6ea0a42",
   "metadata": {},
   "outputs": [
    {
     "data": {
      "text/plain": [
       "[0, 1, 2, 3, 4]"
      ]
     },
     "execution_count": 126,
     "metadata": {},
     "output_type": "execute_result"
    }
   ],
   "source": [
    "number_list = [number-1 for number in range(1,6)]\n",
    "number_list"
   ]
  },
  {
   "cell_type": "code",
   "execution_count": 127,
   "id": "b3c42e18",
   "metadata": {},
   "outputs": [
    {
     "data": {
      "text/plain": [
       "[1, 3, 5]"
      ]
     },
     "execution_count": 127,
     "metadata": {},
     "output_type": "execute_result"
    }
   ],
   "source": [
    "a_list = [number for number in range(1,6) if number % 2 == 1]\n",
    "a_list"
   ]
  },
  {
   "cell_type": "code",
   "execution_count": 129,
   "id": "d5c6c7a9",
   "metadata": {},
   "outputs": [
    {
     "data": {
      "text/plain": [
       "[1, 3, 5]"
      ]
     },
     "execution_count": 129,
     "metadata": {},
     "output_type": "execute_result"
    }
   ],
   "source": [
    "a_list = []\n",
    "for number in range(1,6):\n",
    "    if number % 2 == 1:\n",
    "        a_list.append(number)\n",
    "a_list"
   ]
  },
  {
   "cell_type": "code",
   "execution_count": 130,
   "id": "adc05155",
   "metadata": {},
   "outputs": [
    {
     "name": "stdout",
     "output_type": "stream",
     "text": [
      "1 1\n",
      "1 2\n",
      "2 1\n",
      "2 2\n",
      "3 1\n",
      "3 2\n"
     ]
    }
   ],
   "source": [
    "rows = range(1,4)    \n",
    "cols = range(1,3)\n",
    "for row in rows:\n",
    "    for col in cols:\n",
    "        print(row, col)"
   ]
  },
  {
   "cell_type": "code",
   "execution_count": 131,
   "id": "ff089b27",
   "metadata": {},
   "outputs": [
    {
     "name": "stdout",
     "output_type": "stream",
     "text": [
      "(1, 1)\n",
      "(1, 2)\n",
      "(2, 1)\n",
      "(2, 2)\n",
      "(3, 1)\n",
      "(3, 2)\n"
     ]
    }
   ],
   "source": [
    "rows = range(1,4)\n",
    "cols = range(1,3)\n",
    "cells = [(row, col) for row in rows for col in cols]\n",
    "for cell in cells:\n",
    "    print(cell)"
   ]
  },
  {
   "cell_type": "code",
   "execution_count": 132,
   "id": "862de067",
   "metadata": {},
   "outputs": [
    {
     "name": "stdout",
     "output_type": "stream",
     "text": [
      "1 1\n",
      "1 2\n",
      "2 1\n",
      "2 2\n",
      "3 1\n",
      "3 2\n"
     ]
    }
   ],
   "source": [
    "for row, col in cells:\n",
    "    print(row, col)\n"
   ]
  },
  {
   "cell_type": "code",
   "execution_count": 138,
   "id": "21fe1251",
   "metadata": {},
   "outputs": [
    {
     "name": "stdout",
     "output_type": "stream",
     "text": [
      "[['hummingbird', 'finch'], ['dodo', 'passenger pigeon', 'Norwegian Blue'], 'macaw', [3, 'French hens', 2, 'turtledoves']]\n",
      "['hummingbird', 'finch']\n",
      "hummingbird\n"
     ]
    }
   ],
   "source": [
    "small_birds = ['hummingbird', 'finch']\n",
    "extinct_birds = ['dodo', 'passenger pigeon', 'Norwegian Blue']\n",
    "carol_birds = [3, 'French hens', 2, 'turtledoves']\n",
    "all_birds = [small_birds, extinct_birds, 'macaw', carol_birds]\n",
    "print(all_birds)\n",
    "print(all_birds[0])\n",
    "print(all_birds[0][0])"
   ]
  },
  {
   "cell_type": "code",
   "execution_count": 12,
   "id": "a9d7ede6",
   "metadata": {},
   "outputs": [
    {
     "name": "stdout",
     "output_type": "stream",
     "text": [
      "[1, 2, 3, 4, 5]\n",
      "0\n"
     ]
    }
   ],
   "source": [
    "number_thing = (number for number in range(1, 6))\n",
    "print(list(number_thing))\n",
    "print(sum(number_thing))"
   ]
  },
  {
   "cell_type": "code",
   "execution_count": 15,
   "id": "1f6b70af",
   "metadata": {},
   "outputs": [
    {
     "name": "stdout",
     "output_type": "stream",
     "text": [
      "list4*2 =  [1, 2, 3, 4, 1, 2, 3, 4]\n",
      "list4[1:4] =  [2, 3, 4]\n",
      "list4[1:4:2] =  [2, 4]\n"
     ]
    }
   ],
   "source": [
    "list4 = [1,2,3,4]\n",
    "x =[8,9]\n",
    "list41 = list4*2\n",
    "print(\"list4*2 = \" ,list41)  # list4*2 =  [1, 2, 3, 4, 1, 2, 3, 4]\n",
    "list42  = list4[1:4]\n",
    "print(\"list4[1:4] = \" ,list42)              # list1[1:4] =  [2, 3, 4]\n",
    "\n",
    "list43 = list4[1:4:2]\n",
    "print(\"list4[1:4:2] = \" ,list43)            # list1[1:4:2] =  [2, 4]"
   ]
  },
  {
   "cell_type": "code",
   "execution_count": 16,
   "id": "8a48f22d",
   "metadata": {},
   "outputs": [
    {
     "name": "stdout",
     "output_type": "stream",
     "text": [
      "del list1[1:4] =  [1, 5, 6]\n",
      "del list14[1:4:2] =  [1, 3, 5, 6]\n"
     ]
    }
   ],
   "source": [
    " # ----- del ---------------------\n",
    "list4 = [1,2,3,4,5,6]\n",
    "del list4[1:4]    #del\n",
    "list44=list4\n",
    "print(\"del list1[1:4] = \" ,list44) # del list1[1:4] =  [1, 5, 6]\n",
    "#\n",
    "list4 = [1,2,3,4,5,6]\n",
    "del list4[1:4:2]\n",
    "list45=list4\n",
    "print(\"del list14[1:4:2] = \" ,list45)  # del list1[1:4:2] =  [1, 3, 5, 6]"
   ]
  },
  {
   "cell_type": "code",
   "execution_count": 18,
   "id": "d80839a9",
   "metadata": {},
   "outputs": [
    {
     "name": "stdout",
     "output_type": "stream",
     "text": [
      "len(list1) =  2\n"
     ]
    }
   ],
   "source": [
    "## ----------len() --------------------\n",
    "list1 = [[\"joe\",\"1234\"],['mary',\"abcd\"],['david','5678']]\n",
    "print('len(list1) = ',len(list1[0]))           # len(list1[0]) =  2\n"
   ]
  },
  {
   "cell_type": "code",
   "execution_count": 20,
   "id": "bc87b394",
   "metadata": {},
   "outputs": [
    {
     "name": "stdout",
     "output_type": "stream",
     "text": [
      "min(list1) =  1\n",
      "max(list1) =  6\n"
     ]
    }
   ],
   "source": [
    "#---min(),max() ----------------------\n",
    "list4 = [1,2,3,4,5,6]\n",
    "print('min(list1) = ',min(list4))           # min(list1) =  1\n",
    "print('max(list1) = ',max(list4))           # max(list1) =  6"
   ]
  },
  {
   "cell_type": "code",
   "execution_count": 21,
   "id": "e6b92384",
   "metadata": {},
   "outputs": [
    {
     "name": "stdout",
     "output_type": "stream",
     "text": [
      "list4.index(3) =  2\n"
     ]
    }
   ],
   "source": [
    "# list.index() -------------------------\n",
    "list4 = [1,2,3,4,5,6]\n",
    "n=list4.index(3)      # get 3 的index\n",
    "print('list4.index(3) = ',n)  "
   ]
  },
  {
   "cell_type": "code",
   "execution_count": 22,
   "id": "e8ead48c",
   "metadata": {},
   "outputs": [
    {
     "name": "stdout",
     "output_type": "stream",
     "text": [
      "list4.count(3) =  1\n"
     ]
    }
   ],
   "source": [
    "# list.count() --\n",
    "list4 = [1,2,3,4,5,6]\n",
    "n=list4.count(3)\n",
    "print('list4.count(3) = ',n)  # list1.count(3) =  1 :count 3 有幾個"
   ]
  },
  {
   "cell_type": "code",
   "execution_count": 23,
   "id": "c76bedab",
   "metadata": {},
   "outputs": [
    {
     "name": "stdout",
     "output_type": "stream",
     "text": [
      "list4 =  [1, 2, 3, 4, 5, 6, 8]\n"
     ]
    }
   ],
   "source": [
    "# List.append() is important(一次只能加一個)\n",
    "list4 = [1,2,3,4,5,6]\n",
    "list4.append(8)   # The append() method can only add one item at a time,\n",
    "#                 # and it is added at the end of the data group\n",
    "print('list4 = ', list4)     # list1 =  [1, 2, 3, 4, 5, 6, 8]"
   ]
  },
  {
   "cell_type": "code",
   "execution_count": 24,
   "id": "e383046a",
   "metadata": {},
   "outputs": [
    {
     "name": "stdout",
     "output_type": "stream",
     "text": [
      "list4 =  [1, 2, 3, 4, 5, 6, 8, 9]\n"
     ]
    }
   ],
   "source": [
    "##--list.extend()  (一次可以加很多個item)\n",
    "list4 = [1,2,3,4,5,6]\n",
    "x=[8,9]\n",
    "list4.extend(x)   #The extend() method can add multiple data at the end of the original data at once,\n",
    "                  # but these data must be placed in a List data group or Tuple data group.\n",
    "print('list4 = ', list4) #list4 =  [1, 2, 3, 4, 5, 6, 8, 8, 9]"
   ]
  },
  {
   "cell_type": "code",
   "execution_count": 25,
   "id": "c387ad80",
   "metadata": {},
   "outputs": [
    {
     "name": "stdout",
     "output_type": "stream",
     "text": [
      "list4 =  [1, 2, 3, 8, 4, 5, 6]\n"
     ]
    }
   ],
   "source": [
    "## list.insert()------------\n",
    "list4=[1,2,3,4,5,6]\n",
    "list4.insert(3,8)      # The insert() method can insert a piece of data into the specified position,\n",
    "                         # and the original data will automatically go back.\n",
    "print('list4 = ', list4)      # list4 =  [1, 2, 3, 8, 4, 5, 6]"
   ]
  },
  {
   "cell_type": "code",
   "execution_count": 26,
   "id": "7280c112",
   "metadata": {},
   "outputs": [
    {
     "name": "stdout",
     "output_type": "stream",
     "text": [
      "list1.pop(2)=3\n",
      " pop(2)=[1, 2, 4, 5, 6]\n"
     ]
    }
   ],
   "source": [
    "#list.pop() : 取出item 並刪除--------------------------\n",
    "list1=[1,2,3,4,5,6]\n",
    "y=list1.pop(2)                              \n",
    "print(f'list1.pop(2)={y}\\n pop(2)={list1}')"
   ]
  },
  {
   "cell_type": "code",
   "execution_count": 27,
   "id": "eabf3b96",
   "metadata": {},
   "outputs": [
    {
     "name": "stdout",
     "output_type": "stream",
     "text": [
      "list1.remove(3) =  [1, 2, 4, 5, 6]\n",
      "list1.reverse() =  [6, 5, 4, 3, 2, 1]\n",
      "list1 =.sort()   [1, 2, 3, 4, 5, 6]\n"
     ]
    }
   ],
   "source": [
    "list1=[1,2,3,4,5,6]\n",
    "list1.remove(3)           # remove(index)\n",
    "print('list1.remove(3) = ', list1)    # list1 =  [1, 2, 4, 5, 6]\n",
    "# -------------------------------------------------------------------------\n",
    "list1=[1,2,3,4,5,6]\n",
    "list1.reverse()            # reverse()\n",
    "print('list1.reverse() = ', list1)  # list1 =  [6, 5, 4, 3, 2, 1]\n",
    "# ---------------------------------------------------------------------------------\n",
    "list1.sort()                        # sort()\n",
    "print('list1 =.sort()  ', list1)    # list1 =  [1, 2, 3, 4, 5, 6]"
   ]
  },
  {
   "cell_type": "code",
   "execution_count": 28,
   "id": "a4e64569",
   "metadata": {},
   "outputs": [
    {
     "name": "stdout",
     "output_type": "stream",
     "text": [
      "list1+ =  [1, 2, 3, 4, 5, 6, 'John', -10]\n"
     ]
    }
   ],
   "source": [
    "list1=[1,2,3,4,5,6]\n",
    "list1+=['John', -10]        #It's like the extend() method\n",
    "print('list1+ = ', list1)  # list1+ =  [1, 2, 3, 4, 5, 6, 'John', -10]"
   ]
  },
  {
   "cell_type": "code",
   "execution_count": 31,
   "id": "64d0d1e2",
   "metadata": {},
   "outputs": [
    {
     "name": "stdout",
     "output_type": "stream",
     "text": [
      "list1.clear() = []\n"
     ]
    }
   ],
   "source": [
    "list1=[1,2,3,4,5,6]\n",
    "list1.clear()                               # clear()\n",
    "print(f'list1.clear() = {list1}')                                # []"
   ]
  },
  {
   "cell_type": "code",
   "execution_count": 29,
   "id": "88673cff",
   "metadata": {},
   "outputs": [
    {
     "name": "stdout",
     "output_type": "stream",
     "text": [
      "請輸入學生的成績：80\n",
      "請輸入學生的成績：90\n",
      "請輸入學生的成績：100\n",
      "請輸入學生的成績：50\n",
      "請輸入學生的成績：-1\n",
      "共有 4 位學生\n",
      "本班總成績：320 分，平均成績：80.00 分\n"
     ]
    }
   ],
   "source": [
    "score = []\n",
    "total = inscore = 0\n",
    "while(inscore != -1):\n",
    "    inscore = int(input(\"請輸入學生的成績：\"))\n",
    "    score.append(inscore)\n",
    "print(\"共有 %d 位學生\" % (len(score) - 1))\n",
    "for i in range(0, len(score) - 1):\n",
    "    total += score[i]\n",
    "average = total / (len(score) - 1)\n",
    "print(\"本班總成績：%d 分，平均成績：%5.2f 分\" % (total, average))"
   ]
  },
  {
   "cell_type": "code",
   "execution_count": 32,
   "id": "1c495d94",
   "metadata": {},
   "outputs": [
    {
     "name": "stdout",
     "output_type": "stream",
     "text": [
      "purple是我喜歡的顏色\n"
     ]
    }
   ],
   "source": [
    "my_favorite_colors = ['blue', 'yellow', 'purple']\n",
    "color = 'purple'\n",
    "if color in my_favorite_colors:\n",
    "     print(color + '是我喜歡的顏色')\n",
    "else:\n",
    "     print(color + '不是我喜歡的顏色')"
   ]
  },
  {
   "cell_type": "code",
   "execution_count": 41,
   "id": "ccadff91",
   "metadata": {},
   "outputs": [
    {
     "name": "stdout",
     "output_type": "stream",
     "text": [
      "x[0]=10,x[1]=a,x[2]=b,x[0]=10,x[0]=10,x[1]=a,\n",
      "y=[10, 'a', 'b', 10, 10, 'a']\n",
      "y= [100, 'a', 'b', 10, 10, 'a']\n",
      "y.append([item]) = [[100], ['a'], ['b'], [10], [10], ['a']]\n",
      "z.append(item) = [100, 'a', 'b', 10, 10, 'a']\n"
     ]
    }
   ],
   "source": [
    "x = [10, 'a', 'b', 10, 10, 'a']\n",
    "for item in x:\n",
    "    n=x.index(item)\n",
    "    print(f'x[{n}]={item}',end=',')\n",
    "print()\n",
    "# t7-------- y的內容也會改變，因為它們是「使用」同一個資料組\n",
    "y=x          # y=[10, 'a', 'b', 10, 10, 'a']\n",
    "print(f'y={y}')\n",
    "x[0]=100     # y=[100, 'a', 'b', 10, 10, 'a']\n",
    "print('y=',y)    #The content of y will also change because they \"use\" the same data group\n",
    "# must use for look------\n",
    "y = []\n",
    "z = []\n",
    "for item in x:\n",
    "    y.append([item])     #y += [item]   # 也可以寫成y.append([item])\n",
    "    z.append(item)\n",
    "print('y.append([item]) =',y)\n",
    "print('z.append(item) =',z)"
   ]
  },
  {
   "cell_type": "code",
   "execution_count": 42,
   "id": "b226a062",
   "metadata": {},
   "outputs": [
    {
     "data": {
      "text/plain": [
       "[1, 2, 3, 4, 5]"
      ]
     },
     "execution_count": 42,
     "metadata": {},
     "output_type": "execute_result"
    }
   ],
   "source": [
    "tuple1 = (1,2,3,4,5)\n",
    "list1 = list(tuple1)\n",
    "list1"
   ]
  },
  {
   "cell_type": "code",
   "execution_count": 43,
   "id": "309b0fb0",
   "metadata": {},
   "outputs": [
    {
     "data": {
      "text/plain": [
       "(1, 2, 3, 4, 5)"
      ]
     },
     "execution_count": 43,
     "metadata": {},
     "output_type": "execute_result"
    }
   ],
   "source": [
    "tuple2 = tuple(list1)\n",
    "tuple2"
   ]
  },
  {
   "cell_type": "code",
   "execution_count": null,
   "id": "0f2232a2",
   "metadata": {},
   "outputs": [],
   "source": []
  }
 ],
 "metadata": {
  "kernelspec": {
   "display_name": "Python 3 (ipykernel)",
   "language": "python",
   "name": "python3"
  },
  "language_info": {
   "codemirror_mode": {
    "name": "ipython",
    "version": 3
   },
   "file_extension": ".py",
   "mimetype": "text/x-python",
   "name": "python",
   "nbconvert_exporter": "python",
   "pygments_lexer": "ipython3",
   "version": "3.8.12"
  }
 },
 "nbformat": 4,
 "nbformat_minor": 5
}
