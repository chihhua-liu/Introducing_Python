{
 "cells": [
  {
   "cell_type": "markdown",
   "id": "0f4b6790",
   "metadata": {},
   "source": [
    "# Chapter 6. Loop with while and for"
   ]
  },
  {
   "cell_type": "code",
   "execution_count": 1,
   "id": "7e4dc754",
   "metadata": {},
   "outputs": [
    {
     "name": "stdout",
     "output_type": "stream",
     "text": [
      "1\n",
      "2\n",
      "3\n",
      "4\n",
      "5\n"
     ]
    }
   ],
   "source": [
    "# Repeat with while\n",
    "count = 1\n",
    "while count <= 5:\n",
    "    print(count)\n",
    "    count += 1  "
   ]
  },
  {
   "cell_type": "code",
   "execution_count": 3,
   "id": "88e24df8",
   "metadata": {},
   "outputs": [
    {
     "name": "stdout",
     "output_type": "stream",
     "text": [
      "String to capitalize [type q to quit]: mika\n",
      "Mika\n",
      "String to capitalize [type q to quit]: q\n"
     ]
    }
   ],
   "source": [
    "while True:\n",
    "    stuff = input(\"String to capitalize [type q to quit]: \")\n",
    "    if stuff == \"q\":\n",
    "        break\n",
    "    print(stuff.capitalize())"
   ]
  },
  {
   "cell_type": "code",
   "execution_count": 6,
   "id": "6fbb0481",
   "metadata": {},
   "outputs": [
    {
     "name": "stdout",
     "output_type": "stream",
     "text": [
      "Integer, please [q to quit]: 5\n",
      "5 squared is 25\n",
      "Integer, please [q to quit]: 6\n",
      "Integer, please [q to quit]: 7\n",
      "7 squared is 49\n",
      "Integer, please [q to quit]: q\n"
     ]
    }
   ],
   "source": [
    "while True:\n",
    "    value = input(\"Integer, please [q to quit]: \")   # value from input is str\n",
    "    if value == 'q': # quit\n",
    "        break\n",
    "    number = int(value)\n",
    "    if number % 2 == 0: # an even number\n",
    "        continue\n",
    "    print(number, \"squared is\", number*number)"
   ]
  },
  {
   "cell_type": "code",
   "execution_count": 10,
   "id": "3d22d6be",
   "metadata": {},
   "outputs": [
    {
     "name": "stdout",
     "output_type": "stream",
     "text": [
      "[1, 3, 5]\n",
      "No even number found\n"
     ]
    }
   ],
   "source": [
    "numbers = [1, 3, 5]\n",
    "print(numbers)\n",
    "position = 0\n",
    "while position < len(numbers):\n",
    "    number = numbers[position]\n",
    "    if number % 2 == 0:\n",
    "        print('Found even number', number)\n",
    "        break\n",
    "    position += 1    \n",
    "else: # break not called\n",
    "       print('No even number found')\n",
    "    "
   ]
  },
  {
   "cell_type": "code",
   "execution_count": 11,
   "id": "8db204f2",
   "metadata": {},
   "outputs": [
    {
     "name": "stdout",
     "output_type": "stream",
     "text": [
      "t\n",
      "h\n",
      "u\n",
      "d\n"
     ]
    }
   ],
   "source": [
    "word = 'thud'\n",
    "offset = 0\n",
    "while offset < len(word):\n",
    "    print(word[offset])\n",
    "    offset += 1"
   ]
  },
  {
   "cell_type": "code",
   "execution_count": 12,
   "id": "ca754ddd",
   "metadata": {},
   "outputs": [
    {
     "name": "stdout",
     "output_type": "stream",
     "text": [
      "t\n",
      "h\n",
      "u\n",
      "d\n"
     ]
    }
   ],
   "source": [
    "# But there’s a better, more Pythonic way:\n",
    "for letter in word:\n",
    "    print(letter)"
   ]
  },
  {
   "cell_type": "code",
   "execution_count": 13,
   "id": "b4ac2857",
   "metadata": {},
   "outputs": [
    {
     "name": "stdout",
     "output_type": "stream",
     "text": [
      "t\n",
      "h\n"
     ]
    }
   ],
   "source": [
    "word = 'thud'\n",
    "for letter in word:\n",
    "    if letter == 'u':\n",
    "        break\n",
    "    print(letter)"
   ]
  },
  {
   "cell_type": "code",
   "execution_count": 14,
   "id": "2304cbe5",
   "metadata": {},
   "outputs": [
    {
     "name": "stdout",
     "output_type": "stream",
     "text": [
      "t\n",
      "h\n",
      "u\n",
      "d\n",
      "No 'x' in there.\n"
     ]
    }
   ],
   "source": [
    "for letter in word:\n",
    "    if letter == 'x':\n",
    "        print(\"Eek! An 'x'!\")\n",
    "        break\n",
    "    print(letter)\n",
    "else:\n",
    "    print(\"No 'x' in there.\")\n"
   ]
  },
  {
   "cell_type": "code",
   "execution_count": 15,
   "id": "3b702a8e",
   "metadata": {},
   "outputs": [
    {
     "name": "stdout",
     "output_type": "stream",
     "text": [
      "0\n",
      "1\n",
      "2\n"
     ]
    }
   ],
   "source": [
    "for x in range(0,3):     # range(0,3) is 0,1,2 (end-1)\n",
    "     print(x)"
   ]
  },
  {
   "cell_type": "code",
   "execution_count": 16,
   "id": "3e10eacd",
   "metadata": {},
   "outputs": [
    {
     "name": "stdout",
     "output_type": "stream",
     "text": [
      "2\n",
      "1\n",
      "0\n"
     ]
    }
   ],
   "source": [
    "for x in range(2, -1, -1):\n",
    "    print(x)"
   ]
  },
  {
   "cell_type": "code",
   "execution_count": 17,
   "id": "100d7da7",
   "metadata": {},
   "outputs": [
    {
     "data": {
      "text/plain": [
       "[2, 1, 0]"
      ]
     },
     "execution_count": 17,
     "metadata": {},
     "output_type": "execute_result"
    }
   ],
   "source": [
    "list( range(2, -1, -1) )"
   ]
  },
  {
   "cell_type": "code",
   "execution_count": 18,
   "id": "1f7b5e18",
   "metadata": {},
   "outputs": [
    {
     "data": {
      "text/plain": [
       "[0, 2, 4, 6, 8, 10]"
      ]
     },
     "execution_count": 18,
     "metadata": {},
     "output_type": "execute_result"
    }
   ],
   "source": [
    "list( range(0, 11, 2) )"
   ]
  },
  {
   "cell_type": "code",
   "execution_count": null,
   "id": "68638e0c",
   "metadata": {},
   "outputs": [],
   "source": []
  }
 ],
 "metadata": {
  "kernelspec": {
   "display_name": "Python 3",
   "language": "python",
   "name": "python3"
  },
  "language_info": {
   "codemirror_mode": {
    "name": "ipython",
    "version": 3
   },
   "file_extension": ".py",
   "mimetype": "text/x-python",
   "name": "python",
   "nbconvert_exporter": "python",
   "pygments_lexer": "ipython3",
   "version": "3.8.10"
  }
 },
 "nbformat": 4,
 "nbformat_minor": 5
}
