{
 "cells": [
  {
   "cell_type": "markdown",
   "id": "0f4b6790",
   "metadata": {},
   "source": [
    "# Chapter 6. Loop with while and for"
   ]
  },
  {
   "cell_type": "markdown",
   "id": "66b59506",
   "metadata": {},
   "source": [
    "## while"
   ]
  },
  {
   "cell_type": "code",
   "execution_count": 1,
   "id": "7e4dc754",
   "metadata": {},
   "outputs": [
    {
     "name": "stdout",
     "output_type": "stream",
     "text": [
      "1\n",
      "2\n",
      "3\n",
      "4\n",
      "5\n"
     ]
    }
   ],
   "source": [
    "# Repeat with while\n",
    "count = 1\n",
    "while count <= 5:\n",
    "    print(count)\n",
    "    count += 1  "
   ]
  },
  {
   "cell_type": "code",
   "execution_count": 3,
   "id": "88e24df8",
   "metadata": {},
   "outputs": [
    {
     "name": "stdout",
     "output_type": "stream",
     "text": [
      "String to capitalize [type q to quit]: mika\n",
      "Mika\n",
      "String to capitalize [type q to quit]: q\n"
     ]
    }
   ],
   "source": [
    "while True:\n",
    "    stuff = input(\"String to capitalize [type q to quit]: \")\n",
    "    if stuff == \"q\":\n",
    "        break\n",
    "    print(stuff.capitalize())"
   ]
  },
  {
   "cell_type": "code",
   "execution_count": 6,
   "id": "6fbb0481",
   "metadata": {},
   "outputs": [
    {
     "name": "stdout",
     "output_type": "stream",
     "text": [
      "Integer, please [q to quit]: 5\n",
      "5 squared is 25\n",
      "Integer, please [q to quit]: 6\n",
      "Integer, please [q to quit]: 7\n",
      "7 squared is 49\n",
      "Integer, please [q to quit]: q\n"
     ]
    }
   ],
   "source": [
    "while True:\n",
    "    value = input(\"Integer, please [q to quit]: \")   # value from input is str\n",
    "    if value == 'q': # quit\n",
    "        break\n",
    "    number = int(value)\n",
    "    if number % 2 == 0: # an even number\n",
    "        continue\n",
    "    print(number, \"squared is\", number*number)"
   ]
  },
  {
   "cell_type": "code",
   "execution_count": 10,
   "id": "3d22d6be",
   "metadata": {},
   "outputs": [
    {
     "name": "stdout",
     "output_type": "stream",
     "text": [
      "[1, 3, 5]\n",
      "No even number found\n"
     ]
    }
   ],
   "source": [
    "numbers = [1, 3, 5]\n",
    "print(numbers)\n",
    "position = 0\n",
    "while position < len(numbers):\n",
    "    number = numbers[position]\n",
    "    if number % 2 == 0:\n",
    "        print('Found even number', number)\n",
    "        break\n",
    "    position += 1    \n",
    "else: # break not called\n",
    "       print('No even number found')\n",
    "    "
   ]
  },
  {
   "cell_type": "code",
   "execution_count": 11,
   "id": "8db204f2",
   "metadata": {},
   "outputs": [
    {
     "name": "stdout",
     "output_type": "stream",
     "text": [
      "t\n",
      "h\n",
      "u\n",
      "d\n"
     ]
    }
   ],
   "source": [
    "word = 'thud'\n",
    "offset = 0\n",
    "while offset < len(word):\n",
    "    print(word[offset])\n",
    "    offset += 1"
   ]
  },
  {
   "cell_type": "code",
   "execution_count": 17,
   "id": "d37729f4",
   "metadata": {},
   "outputs": [
    {
     "name": "stdout",
     "output_type": "stream",
     "text": [
      "請輸入第 1 位學生的成績：80\n",
      "請輸入第 2 位學生的成績：30\n",
      "請輸入第 3 位學生的成績：100\n",
      "請輸入第 4 位學生的成績：-1\n",
      "本班總成績：210 分，平均成績：70.00 分\n"
     ]
    }
   ],
   "source": [
    "total = person = score = 0\n",
    "while(score != -1):\n",
    "    person += 1\n",
    "    total += score\n",
    "    score = int(input(\"請輸入第 %d 位學生的成績：\" % person))\n",
    "average = total / (person - 1)\n",
    "print(\"本班總成績：%d 分，平均成績：%5.2f 分\" % (total, average))"
   ]
  },
  {
   "cell_type": "markdown",
   "id": "07ad20a2",
   "metadata": {},
   "source": [
    "## for"
   ]
  },
  {
   "cell_type": "code",
   "execution_count": 12,
   "id": "ca754ddd",
   "metadata": {},
   "outputs": [
    {
     "name": "stdout",
     "output_type": "stream",
     "text": [
      "t\n",
      "h\n",
      "u\n",
      "d\n"
     ]
    }
   ],
   "source": [
    "# But there’s a better, more Pythonic way:\n",
    "for letter in word:\n",
    "    print(letter)"
   ]
  },
  {
   "cell_type": "code",
   "execution_count": 13,
   "id": "b4ac2857",
   "metadata": {},
   "outputs": [
    {
     "name": "stdout",
     "output_type": "stream",
     "text": [
      "t\n",
      "h\n"
     ]
    }
   ],
   "source": [
    "word = 'thud'\n",
    "for letter in word:\n",
    "    if letter == 'u':\n",
    "        break\n",
    "    print(letter)"
   ]
  },
  {
   "cell_type": "code",
   "execution_count": 14,
   "id": "2304cbe5",
   "metadata": {},
   "outputs": [
    {
     "name": "stdout",
     "output_type": "stream",
     "text": [
      "t\n",
      "h\n",
      "u\n",
      "d\n",
      "No 'x' in there.\n"
     ]
    }
   ],
   "source": [
    "for letter in word:\n",
    "    if letter == 'x':\n",
    "        print(\"Eek! An 'x'!\")\n",
    "        break\n",
    "    print(letter)\n",
    "else:\n",
    "    print(\"No 'x' in there.\")\n"
   ]
  },
  {
   "cell_type": "code",
   "execution_count": 15,
   "id": "3b702a8e",
   "metadata": {
    "scrolled": true
   },
   "outputs": [
    {
     "name": "stdout",
     "output_type": "stream",
     "text": [
      "0\n",
      "1\n",
      "2\n"
     ]
    }
   ],
   "source": [
    "for x in range(0,3):     # range(0,3) is 0,1,2 (end-1)\n",
    "     print(x)"
   ]
  },
  {
   "cell_type": "code",
   "execution_count": 7,
   "id": "7ddcbec6",
   "metadata": {},
   "outputs": [
    {
     "name": "stdout",
     "output_type": "stream",
     "text": [
      "1,2,3,4,5,6,7,8,9,10,11,12,13,14,15,16,17,18,19,20,21,22,23,24,25,26,27,28,29,30,"
     ]
    }
   ],
   "source": [
    "for i in range(1,31):\n",
    "    print(i,end=',')\n",
    " "
   ]
  },
  {
   "cell_type": "code",
   "execution_count": 8,
   "id": "8f3f9b8c",
   "metadata": {},
   "outputs": [
    {
     "name": "stdout",
     "output_type": "stream",
     "text": [
      "請輸入正整數：5\n",
      "1 到 5 的整數和為 15\n"
     ]
    }
   ],
   "source": [
    "sum = 0\n",
    "n = int(input(\"請輸入正整數：\"))\n",
    "for i in range(1, n+1):\n",
    "    sum += i\n",
    "print(\"1 到 %d 的整數和為 %d\" % (n, sum))"
   ]
  },
  {
   "cell_type": "code",
   "execution_count": 9,
   "id": "c457ae2e",
   "metadata": {},
   "outputs": [
    {
     "name": "stdout",
     "output_type": "stream",
     "text": [
      "1*1=1    1*2=2    1*3=3    1*4=4    1*5=5    1*6=6    1*7=7    1*8=8    1*9=9    \n",
      "2*1=2    2*2=4    2*3=6    2*4=8    2*5=10   2*6=12   2*7=14   2*8=16   2*9=18   \n",
      "3*1=3    3*2=6    3*3=9    3*4=12   3*5=15   3*6=18   3*7=21   3*8=24   3*9=27   \n",
      "4*1=4    4*2=8    4*3=12   4*4=16   4*5=20   4*6=24   4*7=28   4*8=32   4*9=36   \n",
      "5*1=5    5*2=10   5*3=15   5*4=20   5*5=25   5*6=30   5*7=35   5*8=40   5*9=45   \n",
      "6*1=6    6*2=12   6*3=18   6*4=24   6*5=30   6*6=36   6*7=42   6*8=48   6*9=54   \n",
      "7*1=7    7*2=14   7*3=21   7*4=28   7*5=35   7*6=42   7*7=49   7*8=56   7*9=63   \n",
      "8*1=8    8*2=16   8*3=24   8*4=32   8*5=40   8*6=48   8*7=56   8*8=64   8*9=72   \n",
      "9*1=9    9*2=18   9*3=27   9*4=36   9*5=45   9*6=54   9*7=63   9*8=72   9*9=81   \n"
     ]
    }
   ],
   "source": [
    "for i in range(1,10):\n",
    "    for j in range(1,10):\n",
    "        product = i * j\n",
    "        print(\"%d*%d=%-2d   \" % (i, j, product), end=\"\")\n",
    "    print()"
   ]
  },
  {
   "cell_type": "code",
   "execution_count": 16,
   "id": "3e10eacd",
   "metadata": {},
   "outputs": [
    {
     "name": "stdout",
     "output_type": "stream",
     "text": [
      "2\n",
      "1\n",
      "0\n"
     ]
    }
   ],
   "source": [
    "for x in range(2, -1, -1):\n",
    "    print(x)"
   ]
  },
  {
   "cell_type": "code",
   "execution_count": 17,
   "id": "100d7da7",
   "metadata": {},
   "outputs": [
    {
     "data": {
      "text/plain": [
       "[2, 1, 0]"
      ]
     },
     "execution_count": 17,
     "metadata": {},
     "output_type": "execute_result"
    }
   ],
   "source": [
    "list( range(2, -1, -1) )"
   ]
  },
  {
   "cell_type": "code",
   "execution_count": 18,
   "id": "1f7b5e18",
   "metadata": {},
   "outputs": [
    {
     "data": {
      "text/plain": [
       "[0, 2, 4, 6, 8, 10]"
      ]
     },
     "execution_count": 18,
     "metadata": {},
     "output_type": "execute_result"
    }
   ],
   "source": [
    "list( range(0, 11, 2) )"
   ]
  },
  {
   "cell_type": "markdown",
   "id": "f5eabb12",
   "metadata": {},
   "source": [
    "## break & continue"
   ]
  },
  {
   "cell_type": "code",
   "execution_count": 13,
   "id": "616c689f",
   "metadata": {},
   "outputs": [
    {
     "name": "stdout",
     "output_type": "stream",
     "text": [
      "1,2,3,4,5,"
     ]
    }
   ],
   "source": [
    "for i in range(1,11):\n",
    "    if(i==6):\n",
    "        break        # 跳出迴圈\n",
    "    print(i,end=',')"
   ]
  },
  {
   "cell_type": "code",
   "execution_count": 14,
   "id": "b120498b",
   "metadata": {},
   "outputs": [
    {
     "name": "stdout",
     "output_type": "stream",
     "text": [
      "1,2,3,4,5,7,8,9,10,"
     ]
    }
   ],
   "source": [
    "for i in range(1,11):\n",
    "    if(i==6):\n",
    "        continue        # continue 下面的程式碼不執行，回到for 迴圈繼續\n",
    "    print(i,end=',')"
   ]
  },
  {
   "cell_type": "code",
   "execution_count": 15,
   "id": "5dc30181",
   "metadata": {},
   "outputs": [
    {
     "name": "stdout",
     "output_type": "stream",
     "text": [
      "請輸入大樓的樓層數：6\n",
      "本大樓具有的樓層為：\n",
      "1 2 3 5 6 7 \n"
     ]
    }
   ],
   "source": [
    "n = int(input(\"請輸入大樓的樓層數：\"))\n",
    "print(\"本大樓具有的樓層為：\")\n",
    "if(n > 3):\n",
    "    n += 1\n",
    "for i in range(1, n+1):\n",
    "    if(i==4):\n",
    "        continue\n",
    "    print(i, end=\" \")\n",
    "print()"
   ]
  },
  {
   "cell_type": "markdown",
   "id": "d044d38d",
   "metadata": {},
   "source": [
    "### for... else "
   ]
  },
  {
   "cell_type": "code",
   "execution_count": 16,
   "id": "4bd51efa",
   "metadata": {},
   "outputs": [
    {
     "name": "stdout",
     "output_type": "stream",
     "text": [
      "請輸入大於 1 的整數：21\n",
      "21 不是質數！\n"
     ]
    }
   ],
   "source": [
    "n = int(input(\"請輸入大於 1 的整數：\"))\n",
    "if(n == 2):\n",
    "    print(\"2 是質數！\")\n",
    "else:\n",
    "    for i in range(2, n):\n",
    "        if(n % i == 0):\n",
    "            print(\"%d 不是質數！\" % n)\n",
    "            break\n",
    "    else:\n",
    "        print(\"%d 是質數！\" % n)"
   ]
  },
  {
   "cell_type": "code",
   "execution_count": null,
   "id": "af33fd09",
   "metadata": {},
   "outputs": [],
   "source": []
  }
 ],
 "metadata": {
  "kernelspec": {
   "display_name": "Python 3 (ipykernel)",
   "language": "python",
   "name": "python3"
  },
  "language_info": {
   "codemirror_mode": {
    "name": "ipython",
    "version": 3
   },
   "file_extension": ".py",
   "mimetype": "text/x-python",
   "name": "python",
   "nbconvert_exporter": "python",
   "pygments_lexer": "ipython3",
   "version": "3.8.10"
  }
 },
 "nbformat": 4,
 "nbformat_minor": 5
}
