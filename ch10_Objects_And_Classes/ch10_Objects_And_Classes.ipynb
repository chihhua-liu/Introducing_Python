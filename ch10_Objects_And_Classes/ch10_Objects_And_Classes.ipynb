{
 "cells": [
  {
   "cell_type": "markdown",
   "metadata": {},
   "source": [
    "# Object Oriented program : Class\n",
    "1. 建立類別: Class 類別名稱 (): , for example : class Animal():\n",
    "2. 類別有(1) 屬性(attribute): 一般的變數，(2)方法(method) : 就是Function\n",
    "3. 定義方法的第一個參數必須是 self\n",
    "4. 寫python 程式不一定會用到"
   ]
  },
  {
   "cell_type": "code",
   "execution_count": 1,
   "metadata": {},
   "outputs": [
    {
     "name": "stdout",
     "output_type": "stream",
     "text": [
      "小鳥\n",
      "很會唱歌!\n"
     ]
    }
   ],
   "source": [
    "class Animal():          #定義類別\n",
    "    name = \"小鳥\"        #定義(1)屬性\n",
    "    def sing(self):      #定義(2)方法\n",
    "        print(\"很會唱歌!\")     \n",
    "        \n",
    "bird = Animal()  #以 Animal 類別，建立一個名叫小鳥的 bird物件\n",
    "print(bird.name) #小鳥 (呼叫屬性)\n",
    "bird.sing()      #很會唱歌! (呼叫 方法)"
   ]
  },
  {
   "cell_type": "markdown",
   "metadata": {},
   "source": [
    "### 類別的建構式 \n",
    "當類別建立物件時，自動會呼叫執行 : 用來設定初值或預設值\n",
    "def __init__(self[,參數1,參數2,....]):"
   ]
  },
  {
   "cell_type": "code",
   "execution_count": 2,
   "metadata": {},
   "outputs": [
    {
     "name": "stdout",
     "output_type": "stream",
     "text": [
      "鸚鵡\n",
      "鸚鵡，很會唱歌!\n"
     ]
    }
   ],
   "source": [
    "class Animal():      #定義類別  \n",
    "    def __init__(self, name):    # 類別的建構式\n",
    "        self.name = name  #定義屬性   \n",
    "    def sing(self):       #定義方法        \n",
    "        print(self.name + \"，很會唱歌!\")     \n",
    "        \n",
    "bird = Animal(\"鸚鵡\")  #以 Animal 類別，建立一個名叫鸚鵡的 bird物件\n",
    "print(bird.name) #鸚鵡\n",
    "bird.sing()      #鸚鵡，很會唱歌!"
   ]
  },
  {
   "cell_type": "code",
   "execution_count": 3,
   "metadata": {},
   "outputs": [
    {
     "name": "stdout",
     "output_type": "stream",
     "text": [
      "鸚鵡2歲，很會唱歌!\n"
     ]
    }
   ],
   "source": [
    "class Animal():      #定義類別 : 記得類別的function 第一個參數用self \n",
    "    def __init__(self, name,age):\n",
    "        self.name = name  #定義屬性 \n",
    "        self.age = age\n",
    "    def sing(self):       #定義方法        \n",
    "        print(self.name + str(self.age) + \"歲，很會唱歌!\")  \n",
    "    def grow(self,year):  #定義方法        \n",
    "        self.age += year     \n",
    "# bird = Animal(\"鸚鵡\",1) :屬性的初始值設定        \n",
    "bird = Animal(\"鸚鵡\",1) #以 Animal 類別，建立一個名叫鸚鵡、1歲大的 bird物件\n",
    "bird.grow(1)     #長大1歲\n",
    "bird.sing()      #鸚鵡2歲，很會唱歌!"
   ]
  },
  {
   "cell_type": "markdown",
   "metadata": {},
   "source": [
    "### 類別封裝 (Python封裝(Encapsulation[ɪn͵kæpsəˋleʃən])\n",
    "1. 主要的目的在保護程式碼中重要的實作細節不被外部知道，以防止外部程式碼直接或不當的存取\n",
    "類別中的屬性(Attribute)及方法(Method)，而導致程式邏輯上的錯誤。\n",
    "\n",
    "2. 私有屬性與方法: 前面加\"__\" , for example : __name, __sing()\n",
    "   只能在Class 中使用"
   ]
  },
  {
   "cell_type": "code",
   "execution_count": 5,
   "metadata": {},
   "outputs": [
    {
     "name": "stdout",
     "output_type": "stream",
     "text": [
      "灰鸚鵡2歲，很會唱歌，也會模仿人類說話!\n",
      "灰鸚鵡2歲，很會唱歌，也會模仿人類說話!\n"
     ]
    },
    {
     "ename": "AttributeError",
     "evalue": "'Animal' object has no attribute '__sing'",
     "output_type": "error",
     "traceback": [
      "\u001b[1;31m---------------------------------------------------------------------------\u001b[0m",
      "\u001b[1;31mAttributeError\u001b[0m                            Traceback (most recent call last)",
      "\u001b[1;32m~\\AppData\\Local\\Temp/ipykernel_19940/2760819435.py\u001b[0m in \u001b[0;36m<module>\u001b[1;34m\u001b[0m\n\u001b[0;32m     14\u001b[0m \u001b[0mbird\u001b[0m\u001b[1;33m.\u001b[0m\u001b[0m__age\u001b[0m \u001b[1;33m=\u001b[0m \u001b[1;33m-\u001b[0m\u001b[1;36m1\u001b[0m  \u001b[1;31m#設定無效\u001b[0m\u001b[1;33m\u001b[0m\u001b[1;33m\u001b[0m\u001b[0m\n\u001b[0;32m     15\u001b[0m \u001b[0mbird\u001b[0m\u001b[1;33m.\u001b[0m\u001b[0mtalk\u001b[0m\u001b[1;33m(\u001b[0m\u001b[1;33m)\u001b[0m      \u001b[1;31m#灰鸚鵡2歲，很會唱歌，也會模仿人類說話!\u001b[0m\u001b[1;33m\u001b[0m\u001b[1;33m\u001b[0m\u001b[0m\n\u001b[1;32m---> 16\u001b[1;33m \u001b[0mbird\u001b[0m\u001b[1;33m.\u001b[0m\u001b[0m__sing\u001b[0m\u001b[1;33m(\u001b[0m\u001b[1;33m)\u001b[0m   \u001b[1;31m#執行出現錯誤\u001b[0m\u001b[1;33m\u001b[0m\u001b[1;33m\u001b[0m\u001b[0m\n\u001b[0m",
      "\u001b[1;31mAttributeError\u001b[0m: 'Animal' object has no attribute '__sing'"
     ]
    }
   ],
   "source": [
    "class Animal():      #定義類別  \n",
    "    def __init__(self, name,age):\n",
    "        self.__name = name  #定義私用屬性 \n",
    "        self.__age = age\n",
    "    def __sing(self):       #定義私用方法        \n",
    "        print(self.__name + str(self.__age),end= \"歲，很會唱歌，\")  \n",
    "    def talk(self):        #定義共用方法 \n",
    "        self.__sing()      #使用私用方法\n",
    "        print(\"也會模仿人類說話!\")\n",
    "        \n",
    "bird = Animal(\"灰鸚鵡\",2) #以 Animal 類別，建立一個名叫灰鸚鵡、2歲大的 bird物件\n",
    "bird.talk()       #灰鸚鵡2歲，很會唱歌，也會模仿人類說話!\n",
    "\n",
    "bird.__age = -1  #設定無效\n",
    "bird.talk()      #灰鸚鵡2歲，很會唱歌，也會模仿人類說話!\n",
    "bird.__sing()   #執行出現錯誤，私有 方法Function 不能在外部呼叫"
   ]
  },
  {
   "cell_type": "markdown",
   "metadata": {},
   "source": [
    "### 類別繼承 (Python繼承(Inheritance[ɪnˋhɛrɪtəns]))\n",
    "1. Class 是可以繼承的: 就是可以被別的類別使用(繼承)\n",
    "2. 被繼承的類別稱父類別(parent cloas) or 基底類別(base class)\n",
    "3. 繼承的類別稱子類別(child class) or 衍生類別(derived class)\n",
    "4. 程式設計時: 父類別必須放在子類別的前面    "
   ]
  },
  {
   "cell_type": "code",
   "execution_count": null,
   "metadata": {},
   "outputs": [],
   "source": [
    "class Animal():      #定義父類別  \n",
    "    def __init__(self, name):\n",
    "        self.name = name  #定義共用屬性         \n",
    "    def fly(self):        #定義共用方法 \n",
    "        print(self.name + \"很會飛!\")\n",
    "#定義子類別  Bird(Animal) : Animal是父類別，可以直接用class Animal 的方法與屬性        \n",
    "class Bird(Animal):     \n",
    "    def __init__(self, name):\n",
    "        self.name = \"粉紅色\" + name  #覆寫父類別的建構式         \n",
    "    def sing(self):       #定義子類別的方法 \n",
    "        print(self.name + \"也愛唱歌!\")        \n",
    "\n",
    "pigeon = Animal(\"小白鴿\")#以 Animal 類別，建立一個名叫小白鴿的 pigeon 物件\n",
    "pigeon.fly()  #小白鴿很會飛!\n",
    "      \n",
    "parrot = Bird(\"小鸚鵡\")  #以 Bird 類別，建立一個名叫小鸚鵡的 parrot 物件\n",
    "parrot.fly()  #粉紅色小鸚鵡很會飛!\n",
    "parrot.sing() #粉紅色小鸚鵡也愛唱歌!"
   ]
  },
  {
   "cell_type": "code",
   "execution_count": 6,
   "metadata": {},
   "outputs": [
    {
     "name": "stdout",
     "output_type": "stream",
     "text": [
      "小白鴿很會飛!\n",
      "2歲小鸚鵡很會飛!\n"
     ]
    }
   ],
   "source": [
    "# parent and child class 有相同的屬性與方法，child class 會先用自己的屬性與方法\n",
    "# 如果找不到，才用父類別的屬性與方法\n",
    "class Animal():      #定義父類別  \n",
    "    def __init__(self,name):\n",
    "        self.name = name  #定義共用屬性         \n",
    "    def fly(self):        #定義共用方法 \n",
    "        print(self.name + \"很會飛!\")\n",
    "        \n",
    "class Bird(Animal):      #定義子類別  \n",
    "    def __init__(self,name,age):\n",
    "        super().__init__(name)  #執行父類別的 __init__()方法，加super()\n",
    "        self.age = age   #定義子類別共用屬性 \n",
    "    def fly(self):       #定義子類別共用方法         \n",
    "        print(str(self.age),end=\"歲\") \n",
    "        super().fly() #執行父類別的 fly方法 加super()\n",
    "\n",
    "pigeon = Animal(\"小白鴿\") #以 Animal 類別，建立一個名叫小白鴿的 pigeon 物件\n",
    "pigeon.fly()  #小白鴿很會飛!\n",
    "      \n",
    "parrot = Bird(\"小鸚鵡\",2) #以 Bird 類別，建立一個名叫小鸚鵡、2歲大的 parrot 物件\n",
    "parrot.fly()  #2歲小鸚鵡很會飛!"
   ]
  },
  {
   "cell_type": "markdown",
   "metadata": {},
   "source": [
    "## Class polymorphism [͵pɑlɪˋmɔrfɪzm] 多型\n",
    "不同的Class 有相同的方法(Function name) 這種觀念叫多型"
   ]
  },
  {
   "cell_type": "code",
   "execution_count": 7,
   "metadata": {},
   "outputs": [
    {
     "name": "stdout",
     "output_type": "stream",
     "text": [
      "時速 20公里!\n",
      "時速 60公里!\n",
      "時速 1000公里!\n",
      "時速 5英哩!\n"
     ]
    }
   ],
   "source": [
    "class Animal():          #定義父類別         \n",
    "    def fly(self):       #定義共用方法 \n",
    "        print(\"時速 20公里!\")\n",
    "        \n",
    "class Bird(Animal):      #定義子類別  \n",
    "    def fly(self,speed): #定義共用方法         \n",
    "        print(\"時速 \" + str(speed) + \"公里!\")\n",
    "        \n",
    "class Plane():           #定義類別  \n",
    "    def fly(self):       #定義共用方法         \n",
    "        print(\"時速 1000公里!\")\n",
    "        \n",
    "def fly(speed):          #定義函式         \n",
    "    print(\"時速 \" + str(speed) + \"英哩!\")    \n",
    "        \n",
    "animal = Animal() #以 Animal 類別建立 animal 物件\n",
    "animal.fly()  #時速 20公里!\n",
    "      \n",
    "bird = Bird() #以 Bird 類別建立 bird 物件\n",
    "bird.fly(60)  #時速 60公里!\n",
    "\n",
    "plane=Plane() #以 Plane 類別建立 plane 物件\n",
    "plane.fly()   #時速 1000公里!\n",
    "\n",
    "fly(5)        #時速 5英哩!"
   ]
  },
  {
   "cell_type": "markdown",
   "metadata": {},
   "source": [
    "### 取得parent class 的私有屬性\n",
    "1. 在 parent class 中以 return 私有屬性方式傳出: \n",
    "2. for example : \n",
    "      在 def getEye(self):   \n",
    "           return self.__eye"
   ]
  },
  {
   "cell_type": "code",
   "execution_count": 9,
   "metadata": {},
   "outputs": [
    {
     "name": "stdout",
     "output_type": "stream",
     "text": [
      "小華眼睛是棕色，他的父親則是黑色\n"
     ]
    }
   ],
   "source": [
    "class Father():      #定義父類別  \n",
    "    def __init__(self,name):\n",
    "        self.name = name    \n",
    "        self.__eye=\"黑色\" #定義私用屬性\n",
    "    def getEye(self):    #定義共用方法傳回私用屬性\n",
    "        return self.__eye\n",
    "        \n",
    "class Child(Father):      #定義子類別  \n",
    "    def __init__(self,name,eye):\n",
    "        super().__init__(name)\n",
    "        self.eye=eye\n",
    "        self.fatherEye=super().getEye() #取得私用屬性\n",
    "      \n",
    "joe = Child(\"小華\",\"棕色\") #建立子類別物件 joe\n",
    "print(joe.name+\"眼睛是\"+joe.eye+\"，他的父親則是\"+joe.fatherEye)\n",
    "# 執行結果：小華眼睛是棕色，他的父親則是黑色   "
   ]
  },
  {
   "cell_type": "markdown",
   "metadata": {},
   "source": [
    "## 多重繼承 \n",
    "1. class child className (parentClass1,parentClass2,parentClass3 ) \n",
    "2. parentClass1,parentClass2,parentClass3 是由左至右開始收尋"
   ]
  },
  {
   "cell_type": "code",
   "execution_count": 10,
   "metadata": {},
   "outputs": [
    {
     "name": "stdout",
     "output_type": "stream",
     "text": [
      "明天會更好!\n"
     ]
    }
   ],
   "source": [
    "class Father():         #定義父類別         \n",
    "    def say(self):      #定義共用方法 \n",
    "        print(\"明天會更好!\")\n",
    "        \n",
    "class Mother():         #定義父類別  \n",
    "    def say(self):      #定義共用方法 \n",
    "        print(\"包容、尊重!\")\n",
    "        \n",
    "class Child(Father,Mother): #定義子類別  \n",
    "    pass\n",
    "        \n",
    "child = Child() #建立 child 物件\n",
    "child.say()     #明天會更好!     "
   ]
  },
  {
   "cell_type": "code",
   "execution_count": 11,
   "metadata": {},
   "outputs": [
    {
     "name": "stdout",
     "output_type": "stream",
     "text": [
      "矩形面積= 30\n",
      "三角形面積= 15.0\n"
     ]
    }
   ],
   "source": [
    "class Rectangle():       #定義父類別  \n",
    "    def __init__(self, width,height):\n",
    "        self.width = width    #定義共用屬性   \n",
    "        self.height = height  #定義共用屬性\n",
    "    def area(self):           #定義共用方法 \n",
    "        return self.width * self.height\n",
    "        \n",
    "class Triangle(Rectangle): #定義子類別  \n",
    "    def area2(self):       #定義子類別的共用方法 \n",
    "        return (self.width * self.height)/2\n",
    "     \n",
    "triangle = Triangle(5,6) #建立 triangle 物件\n",
    "print(\"矩形面積=\",triangle.area())    #30\n",
    "print(\"三角形面積=\",triangle.area2()) #15"
   ]
  },
  {
   "cell_type": "code",
   "execution_count": 13,
   "metadata": {},
   "outputs": [
    {
     "name": "stdout",
     "output_type": "stream",
     "text": [
      "<__main__.Cat object at 0x00000250A25E83D0>\n",
      "<__main__.Cat object at 0x00000250A2581430>\n"
     ]
    }
   ],
   "source": [
    "class Cat():\n",
    "    pass\n",
    "\n",
    "#You can also say:\n",
    "class Cat:\n",
    "    pass\n",
    "\n",
    "# You create an object from a class by calling the class name as though it were a function\n",
    "a_cat = Cat()\n",
    "print(a_cat)\n",
    "\n",
    "another_cat = Cat()\n",
    "print(another_cat)\n",
    "\n"
   ]
  },
  {
   "cell_type": "markdown",
   "metadata": {},
   "source": [
    "# Attributes"
   ]
  },
  {
   "cell_type": "code",
   "execution_count": 14,
   "metadata": {},
   "outputs": [
    {
     "name": "stdout",
     "output_type": "stream",
     "text": [
      "3\n",
      "Mr. Fuzzybuttons\n",
      "<__main__.Cat object at 0x00000250A2581430>\n"
     ]
    },
    {
     "data": {
      "text/plain": [
       "'Mr. Bigglesworth'"
      ]
     },
     "execution_count": 14,
     "metadata": {},
     "output_type": "execute_result"
    }
   ],
   "source": [
    "\n",
    "#Now assign a few attributes to our first object:\n",
    "a_cat.age = 3\n",
    "a_cat.name = \"Mr. Fuzzybuttons\"\n",
    "a_cat.nemesis = another_cat\n",
    "\n",
    "print(a_cat.age)\n",
    "print(a_cat.name)\n",
    "print(a_cat.nemesis)\n",
    "\n",
    "a_cat.nemesis.name = \"Mr. Bigglesworth\"\n",
    "a_cat.nemesis.name"
   ]
  },
  {
   "cell_type": "markdown",
   "metadata": {},
   "source": [
    "# mothods : Initialization"
   ]
  },
  {
   "cell_type": "code",
   "execution_count": 16,
   "metadata": {},
   "outputs": [
    {
     "name": "stdout",
     "output_type": "stream",
     "text": [
      "Our latest addition:  Grumpy\n"
     ]
    }
   ],
   "source": [
    "\n",
    "# class Cat:\n",
    "#    def __init__(self):  # call cat class , __init__ 一定會被執行\n",
    "#          pass           # self : 引用物件本身 \n",
    "        \n",
    "class Cat1():\n",
    "    def __init__(self, name):     \n",
    "        self.name = name      # 因為 self  是物件本身，所以可以用來建立屬性\n",
    "\n",
    "furball = Cat1('Grumpy')       # 將Cat物件指派給 furball 變數   \n",
    "print('Our latest addition: ', furball.name)"
   ]
  },
  {
   "cell_type": "markdown",
   "metadata": {},
   "source": [
    "# Inheritance"
   ]
  },
  {
   "cell_type": "code",
   "execution_count": 11,
   "metadata": {},
   "outputs": [
    {
     "name": "stdout",
     "output_type": "stream",
     "text": [
      "True\n"
     ]
    }
   ],
   "source": [
    "class Car():   # parent\n",
    "    pass\n",
    "\n",
    "class Yugo(Car):   # chlid\n",
    "    pass\n",
    "\n",
    "#You can check whether a class is derived from another class by using\n",
    "# issubclass():\n",
    "print(issubclass(Yugo, Car))\n",
    "\n",
    "# create an object from each class:\n",
    "give_me_a_car = Car()\n",
    "give_me_a_yugo = Yugo()"
   ]
  },
  {
   "cell_type": "code",
   "execution_count": 12,
   "metadata": {},
   "outputs": [
    {
     "name": "stdout",
     "output_type": "stream",
     "text": [
      "I'm a Car!\n",
      "I'm a Car!\n"
     ]
    }
   ],
   "source": [
    "class Car():\n",
    "    def exclaim(self):       # 記得加 self\n",
    "        print(\"I'm a Car!\")\n",
    "\n",
    "class Yugo(Car):\n",
    "    pass\n",
    "\n",
    "give_me_a_car = Car()\n",
    "give_me_a_yugo = Yugo()\n",
    "\n",
    "give_me_a_car.exclaim()\n",
    "give_me_a_yugo.exclaim()    # child can used "
   ]
  },
  {
   "cell_type": "markdown",
   "metadata": {},
   "source": [
    "# Override a Method"
   ]
  },
  {
   "cell_type": "code",
   "execution_count": 17,
   "metadata": {},
   "outputs": [
    {
     "name": "stdout",
     "output_type": "stream",
     "text": [
      "I'm a Car!\n",
      "I'm a Yugo! Much like a Car, but more Yugo-ish.\n"
     ]
    }
   ],
   "source": [
    "class Car():\n",
    "    def exclaim(self):\n",
    "        print(\"I'm a Car!\")\n",
    "\n",
    "class Yugo(Car):\n",
    "    def exclaim(self):                 # override a method\n",
    "        print(\"I'm a Yugo! Much like a Car, but more Yugo-ish.\")\n",
    "\n",
    "\n",
    "give_me_a_car = Car()\n",
    "give_me_a_yugo = Yugo()\n",
    "\n",
    "give_me_a_car.exclaim()\n",
    "\n",
    "give_me_a_yugo.exclaim()\n"
   ]
  },
  {
   "cell_type": "code",
   "execution_count": 18,
   "metadata": {},
   "outputs": [
    {
     "name": "stdout",
     "output_type": "stream",
     "text": [
      "Fudd\n",
      "Doctor Fudd\n",
      "Fudd, Esquire\n"
     ]
    }
   ],
   "source": [
    "class Person():\n",
    "    def __init__(self, name):\n",
    "        self.name = name\n",
    "\n",
    "class MDPerson(Person):\n",
    "    def __init__(self, name):\n",
    "        self.name = \"Doctor \" + name\n",
    "\n",
    "class JDPerson(Person):\n",
    "    def __init__(self, name):\n",
    "        self.name = name + \", Esquire\"\n",
    "\n",
    "person = Person('Fudd')\n",
    "doctor = MDPerson('Fudd')\n",
    "lawyer = JDPerson('Fudd')\n",
    "\n",
    "print(person.name)\n",
    "print(doctor.name)\n",
    "print(lawyer.name)"
   ]
  },
  {
   "cell_type": "code",
   "execution_count": 19,
   "metadata": {},
   "outputs": [
    {
     "name": "stdout",
     "output_type": "stream",
     "text": [
      "A little help here?\n"
     ]
    }
   ],
   "source": [
    "# Add a Method\n",
    "class Car():\n",
    "    def exclaim(self):\n",
    "        print(\"I'm a Car!\")\n",
    "\n",
    "class Yugo(Car):\n",
    "    def exclaim(self):\n",
    "        print(\"I'm a Yugo! Much like a Car, but more Yugo-ish.\")\n",
    "    def need_a_push(self):\n",
    "        print(\"A little help here?\")\n",
    "        \n",
    "give_me_a_car = Car()\n",
    "give_me_a_yugo = Yugo()\n",
    "\n",
    "give_me_a_yugo.need_a_push()"
   ]
  },
  {
   "cell_type": "code",
   "execution_count": 22,
   "metadata": {},
   "outputs": [
    {
     "name": "stdout",
     "output_type": "stream",
     "text": [
      "Bob Frapples\n",
      "bob@frapples.com\n"
     ]
    }
   ],
   "source": [
    "# Get Help from Your Parent with super()\n",
    "class Person():                    # parent\n",
    "    def __init__(self, name):\n",
    "        self.name = name\n",
    "\n",
    "class EmailPerson(Person):         # child\n",
    "    def __init__(self, name, email):\n",
    "        super().__init__(name)             # super() : get parent __init__\n",
    "        self.email = email\n",
    "\n",
    "bob = EmailPerson('Bob Frapples', 'bob@frapples.com')\n",
    "print(bob.name)\n",
    "print(bob.email)\n",
    "\n",
    "# The super() gets the definition of the parent class, Person.\n",
    "# The __init__() method calls the Person.__init__() method. It takes care of passing the self argument to the superclass, so you\n",
    "# just need to give it any optional arguments. In our case, the only other argument Person() accepts is name.\n",
    "# The self.email = email line is the new code that makes this emailPerson different from a Person."
   ]
  },
  {
   "cell_type": "markdown",
   "metadata": {},
   "source": [
    "# Multiple Inheritance"
   ]
  },
  {
   "cell_type": "code",
   "execution_count": 24,
   "metadata": {},
   "outputs": [
    {
     "name": "stdout",
     "output_type": "stream",
     "text": [
      "Hee-haw!\n"
     ]
    },
    {
     "data": {
      "text/plain": [
       "'Neigh!'"
      ]
     },
     "execution_count": 24,
     "metadata": {},
     "output_type": "execute_result"
    }
   ],
   "source": [
    "class Animal:\n",
    "    def says(self):\n",
    "        return 'I speak!'\n",
    "\n",
    "class Horse(Animal):     # parent is Animal\n",
    "    def says(self):\n",
    "        return 'Neigh!'\n",
    "\n",
    "class Donkey(Animal):    # parent is Animal\n",
    "    def says(self):\n",
    "       return 'Hee-haw!'\n",
    "\n",
    "class Mule(Donkey, Horse):  # parents are  Donkey, Horse\n",
    "    pass\n",
    "\n",
    "class Hinny(Horse, Donkey): # parents are  Horse, Donkey\n",
    "    pass\n",
    "\n",
    "Mule.mro()\n",
    "\n",
    "Hinny.mro()\n",
    "\n",
    "mule = Mule()\n",
    "hinny = Hinny()\n",
    "print(mule.says())         # 繼承 Donkey\n",
    "hinny.says()         # 繼承 Horse\n"
   ]
  },
  {
   "cell_type": "code",
   "execution_count": 35,
   "metadata": {},
   "outputs": [
    {
     "name": "stdout",
     "output_type": "stream",
     "text": [
      "[ '00000000000000000000',\n",
      "  '11111111111111111111',\n",
      "  '22222222222222222222',\n",
      "  '33333333333333333333',\n",
      "  '44444444444444444444',\n",
      "  '55555555555555555555',\n",
      "  '66666666666666666666',\n",
      "  '77777777777777777777',\n",
      "  '88888888888888888888',\n",
      "  '99999999999999999999']\n",
      "['00000000000000000000', '11111111111111111111', '22222222222222222222', '33333333333333333333', '44444444444444444444', '55555555555555555555', '66666666666666666666', '77777777777777777777', '88888888888888888888', '99999999999999999999']\n",
      "================================================\n",
      "[   '00000000000000000000',\n",
      "    '11111111111111111111',\n",
      "    '22222222222222222222',\n",
      "    '33333333333333333333',\n",
      "    '44444444444444444444',\n",
      "    '55555555555555555555',\n",
      "    '66666666666666666666',\n",
      "    '77777777777777777777',\n",
      "    '88888888888888888888',\n",
      "    '99999999999999999999']\n",
      "['00000000000000000000', '11111111111111111111', '22222222222222222222', '33333333333333333333', '44444444444444444444', '55555555555555555555', '66666666666666666666', '77777777777777777777', '88888888888888888888', '99999999999999999999']\n",
      "==================================================\n",
      "[   '00000000000000000000',\n",
      "    '11111111111111111111',\n",
      "    '22222222222222222222',\n",
      "    '33333333333333333333',\n",
      "    '44444444444444444444',\n",
      "    '55555555555555555555',\n",
      "    '66666666666666666666',\n",
      "    '77777777777777777777',\n",
      "    '88888888888888888888',\n",
      "    '99999999999999999999']\n",
      "['00000000000000000000', '11111111111111111111', '22222222222222222222', '33333333333333333333', '44444444444444444444', '55555555555555555555', '66666666666666666666', '77777777777777777777', '88888888888888888888', '99999999999999999999']\n",
      "==================================================\n",
      "True\n"
     ]
    }
   ],
   "source": [
    "# class pprint.PrettyPrinter（indent = 1，width = 80，depth = None，stream = None，*，compact = False ）\n",
    "\n",
    "#indent 縮進\n",
    "#width 寬度\n",
    "#depth 打印深度\n",
    "#stream 指輸出流對象，stream = None輸出流對象默認是sys.stdout\n",
    "#compact 如果compact為false（默認值），則長序列中的每個項目將在單獨的行上進行格式化。\n",
    "#        如果compact為true，則將在每個輸出行上格式化適合寬度的項目。\n",
    "\n",
    "import pprint\n",
    "L = [str(i)*20 for i in range(10)]\n",
    "pp = pprint.PrettyPrinter(indent=2)\n",
    "pp.pprint(L)\n",
    "print(L)\n",
    "\n",
    "print(\"================================================\")\n",
    "L = [str(i)*20 for i in range(10)]\n",
    "pp = pprint.pformat(L, indent=4)\n",
    "print(pp)\n",
    "print(L)\n",
    "\n",
    "print(\"==================================================\")\n",
    "L = [str(i)*20 for i in range(10)]\n",
    "pprint.pprint(L, indent=4)\n",
    "print(L)\n",
    "print(\"==================================================\")\n",
    "import pprint\n",
    "L = [str(i)*20 for i in range(10)]\n",
    "B = pprint.isreadable(L)\n",
    "print(B)"
   ]
  },
  {
   "cell_type": "code",
   "execution_count": 32,
   "metadata": {},
   "outputs": [
    {
     "name": "stdout",
     "output_type": "stream",
     "text": [
      "{'age': 'eldritch', 'feature': 'ichor', 'name': 'Nyarlathotep'}\n"
     ]
    }
   ],
   "source": [
    "# Mixins\n",
    "import pprint\n",
    "\n",
    "class PrettyMixin():\n",
    "    def dump(self):\n",
    "        pprint.pprint(vars(self))         # vars 返回对象object的属性和属性值的字典对象\n",
    "\n",
    "class Thing(PrettyMixin):\n",
    "    pass\n",
    "\n",
    "t = Thing()\n",
    "t.name = \"Nyarlathotep\"\n",
    "t.feature = \"ichor\"\n",
    "t.age = \"eldritch\"\n",
    "t.dump()"
   ]
  },
  {
   "cell_type": "code",
   "execution_count": 36,
   "metadata": {},
   "outputs": [
    {
     "name": "stdout",
     "output_type": "stream",
     "text": [
      "I'm a Car!\n",
      "==============================\n",
      "I'm a Car!\n"
     ]
    }
   ],
   "source": [
    "class Car():\n",
    "    def exclaim(self):\n",
    "        print(\"I'm a Car!\")\n",
    "        \n",
    "a_car = Car()\n",
    "a_car.exclaim()\n",
    "print(\"==============================\")\n",
    "Car.exclaim(a_car)    # for fun\n"
   ]
  },
  {
   "cell_type": "markdown",
   "metadata": {},
   "source": [
    "# Attribute Access"
   ]
  },
  {
   "cell_type": "code",
   "execution_count": 37,
   "metadata": {},
   "outputs": [
    {
     "data": {
      "text/plain": [
       "'Daphne'"
      ]
     },
     "execution_count": 37,
     "metadata": {},
     "output_type": "execute_result"
    }
   ],
   "source": [
    "class Duck:\n",
    "    def __init__(self, input_name):\n",
    "        self.name = input_name\n",
    "\n",
    "fowl = Duck('Daffy')\n",
    "fowl.name\n",
    "\n",
    "fowl.name = 'Daphne'\n",
    "fowl.name"
   ]
  },
  {
   "cell_type": "code",
   "execution_count": 39,
   "metadata": {},
   "outputs": [
    {
     "name": "stdout",
     "output_type": "stream",
     "text": [
      "inside the getter Donald\n",
      "inside the setter Donna\n",
      "inside the getter Donna\n"
     ]
    },
    {
     "data": {
      "text/plain": [
       "'Donna'"
      ]
     },
     "execution_count": 39,
     "metadata": {},
     "output_type": "execute_result"
    }
   ],
   "source": [
    "class Duck():\n",
    "    def __init__(self, input_name):\n",
    "        self.hidden_name = input_name\n",
    "    def get_name(self):\n",
    "        print('inside the getter',self.hidden_name)\n",
    "        return self.hidden_name\n",
    "    def set_name(self, input_name):\n",
    "        self.hidden_name = input_name\n",
    "        print('inside the setter',self.hidden_name)\n",
    "        \n",
    "don = Duck('Donald')\n",
    "\n",
    "don.get_name()\n",
    "\n",
    "don.set_name('Donna')\n",
    "\n",
    "don.get_name()    # return  self.hidden_name"
   ]
  },
  {
   "cell_type": "code",
   "execution_count": 51,
   "metadata": {},
   "outputs": [
    {
     "name": "stdout",
     "output_type": "stream",
     "text": [
      "4188.790204786391\n",
      "10.60784417947055\n"
     ]
    }
   ],
   "source": [
    "# property() 函数的作用是在新式类中返回属性值。\n",
    "# class property([fget[, fset[, fdel[, doc]]]])\n",
    "# fget -- 获取属性值的函数\n",
    "# fset -- 设置属性值的函数\n",
    "# fdel -- 删除属性值函数\n",
    "# doc -- 属性描述信息\n",
    "\n",
    "# example 1\n",
    "#class Ball:\n",
    "#    def __init__(self, radius):\n",
    "#        self.radius = radius\n",
    "    \n",
    "#ball = Ball(1.23)\n",
    "#print(ball.radius\n",
    "\n",
    "# example 2\n",
    "# class Ball:\n",
    "#    def __init__(self, radius):\n",
    "#        if radius <= 0:\n",
    "#            raise ValueError('必須是正數')\n",
    "#        self.__radius = radius\n",
    "    \n",
    "#    def getRadius(self):\n",
    "#        return self.__radius\n",
    "\n",
    "#    def setRadius(self, radius):\n",
    "#        if radius <= 0:\n",
    "#            raise ValueError('必須是正數')\n",
    "#        self.__radius = radius\n",
    "#        print(self.__radius)\n",
    "        \n",
    "# ball = Ball(1.23)\n",
    "# print(ball.getRadius())\n",
    "# ball.setRadius(2.23)\n",
    "\n",
    "# example 3\n",
    "# class Ball:\n",
    "#    def __init__(self, radius):\n",
    "##        if radius <= 0:\n",
    "#            raise ValueError('必須是正數')\n",
    "#        self.__radius = radius\n",
    "    \n",
    "#    def getRadius(self):\n",
    "#        return self.__radius\n",
    "        \n",
    "#    def setRadius(self, radius):\n",
    "#        self.__radius = radius\n",
    "        \n",
    "#    def delRadius(self):\n",
    "#        del self.__radius\n",
    "        \n",
    "#    radius = property(getRadius, setRadius, delRadius, 'radius 特性說明')\n",
    "    \n",
    "# ball = Ball(1.23)\n",
    "# print(ball.radius)\n",
    "# ball.radius = 2.32\n",
    "\n",
    "# example 4\n",
    "import math\n",
    "class Ball:\n",
    "    def __init__(self, radius):\n",
    "        if radius <= 0:\n",
    "            raise ValueError('必須是正數')\n",
    "        self.__radius = radius\n",
    "    \n",
    "    @property\n",
    "    def radius(self):\n",
    "        return self.__radius\n",
    "    \n",
    "    @property\n",
    "    def volumn(self):\n",
    "        return 4.0 / 3.0 * math.pi * self.__radius ** 3\n",
    "    \n",
    "    @volumn.setter\n",
    "    def volumn(self, volumn):\n",
    "        if volumn <= 0:\n",
    "            raise ValueError('必須是正數')\n",
    "        self.__radius = ((3.0 * volumn) / (4.0 * math.pi)) ** (1.0 / 3.0)\n",
    "        \n",
    "ball = Ball(10.0)\n",
    "print(ball.volumn)\n",
    "ball.volumn = 5000\n",
    "print(ball.radius)\n",
    "\n",
    "        "
   ]
  },
  {
   "cell_type": "code",
   "execution_count": 54,
   "metadata": {},
   "outputs": [
    {
     "name": "stdout",
     "output_type": "stream",
     "text": [
      "inside the getter\n",
      "inside the setter\n",
      "inside the getter\n",
      "inside the getter\n",
      "inside the setter\n",
      "inside the getter\n",
      "inside the getter\n",
      "inside the setter\n",
      "inside the getter\n"
     ]
    },
    {
     "data": {
      "text/plain": [
       "'Donald'"
      ]
     },
     "execution_count": 54,
     "metadata": {},
     "output_type": "execute_result"
    }
   ],
   "source": [
    "class Duck():\n",
    "    def __init__(self, input_name):\n",
    "        self.hidden_name = input_name\n",
    "    def get_name(self):\n",
    "        print('inside the getter')\n",
    "        return self.hidden_name\n",
    "    def set_name(self, input_name):\n",
    "        print('inside the setter')\n",
    "        self.hidden_name = input_name\n",
    "    name = property(get_name, set_name)\n",
    "    \n",
    "\n",
    "don = Duck('Donald')\n",
    "don.get_name()\n",
    "\n",
    "\n",
    "don.set_name('Donna')\n",
    "\n",
    "don.get_name()\n",
    "\n",
    "don = Duck('Donald')\n",
    "don.name             # get_name()\n",
    "\n",
    "don.name = 'Donna'   # set_name()\n",
    "don.name\n",
    "\n",
    "\n",
    "class Duck():\n",
    "    def __init__(self, input_name):\n",
    "        self.hidden_name = input_name\n",
    "    @property\n",
    "    def name(self):\n",
    "        print('inside the getter')\n",
    "        return self.hidden_name\n",
    "    @name.setter\n",
    "    def name(self, input_name):\n",
    "        print('inside the setter')\n",
    "        self.hidden_name = input_name\n",
    "\n",
    "fowl = Duck('Howard')\n",
    "fowl.name\n",
    "\n",
    "fowl.name = 'Donald'\n",
    "\n",
    "fowl.name\n"
   ]
  },
  {
   "cell_type": "code",
   "execution_count": 57,
   "metadata": {},
   "outputs": [
    {
     "name": "stdout",
     "output_type": "stream",
     "text": [
      "5\n"
     ]
    },
    {
     "data": {
      "text/plain": [
       "14"
      ]
     },
     "execution_count": 57,
     "metadata": {},
     "output_type": "execute_result"
    }
   ],
   "source": [
    "class Circle():\n",
    "    def __init__(self, radius):\n",
    "        self.radius = radius\n",
    "    @property\n",
    "    def diameter(self):\n",
    "        return 2 * self.radius\n",
    "\n",
    "c = Circle(5)\n",
    "print(c.radius)\n",
    "\n",
    "c.diameter\n",
    "\n",
    "c.radius = 7\n",
    "c.diameter\n",
    "\n",
    "#c.diameter = 20"
   ]
  },
  {
   "cell_type": "code",
   "execution_count": 60,
   "metadata": {},
   "outputs": [
    {
     "name": "stdout",
     "output_type": "stream",
     "text": [
      "inside the getter\n",
      "inside the setter\n",
      "inside the getter\n"
     ]
    },
    {
     "data": {
      "text/plain": [
       "'Donald'"
      ]
     },
     "execution_count": 60,
     "metadata": {},
     "output_type": "execute_result"
    }
   ],
   "source": [
    "class Duck():\n",
    "    def __init__(self, input_name):\n",
    "        self.__name = input_name\n",
    "    @property\n",
    "    def name(self):\n",
    "        print('inside the getter')\n",
    "        return self.__name\n",
    "    @name.setter\n",
    "    def name(self, input_name):\n",
    "        print('inside the setter')\n",
    "        self.__name = input_name\n",
    "\n",
    "fowl = Duck('Howard')\n",
    "fowl.name\n",
    "\n",
    "fowl.name = 'Donald'\n",
    "\n",
    "fowl.name\n",
    "\n",
    "fowl._Duck__name"
   ]
  },
  {
   "cell_type": "code",
   "execution_count": 63,
   "metadata": {},
   "outputs": [
    {
     "name": "stdout",
     "output_type": "stream",
     "text": [
      "Fruit.color = red\n",
      "blueberry.color = red\n",
      "blueberry.color = blue\n",
      "Fruit.color = red\n",
      "Fruit.color = orange\n",
      "blueberry.color = blue\n"
     ]
    },
    {
     "data": {
      "text/plain": [
       "'orange'"
      ]
     },
     "execution_count": 63,
     "metadata": {},
     "output_type": "execute_result"
    }
   ],
   "source": [
    "# Class and Object Attributes\n",
    "class Fruit:\n",
    "    color = 'red'\n",
    "\n",
    "blueberry = Fruit()\n",
    "print(\"Fruit.color = {}\".format(Fruit.color))                # red\n",
    "\n",
    "blueberry.color\n",
    "print(\"blueberry.color = {}\".format(blueberry.color))        # red\n",
    "\n",
    "blueberry.color = 'blue'\n",
    "print(\"blueberry.color = {}\".format(blueberry.color))        # blue\n",
    "\n",
    "Fruit.color     \n",
    "print(\"Fruit.color = {}\".format(Fruit.color))                #red\n",
    "\n",
    "# If you change the class attribute later, it won’t affect existing child objects:\n",
    "Fruit.color = 'orange'\n",
    "print(\"Fruit.color = {}\".format(Fruit.color))                #orange\n",
    "\n",
    "print(\"blueberry.color = {}\".format(blueberry.color))        # blue\n",
    "\n",
    "# But it will affect new ones:\n",
    "new_fruit = Fruit()\n",
    "new_fruit.color    # orange                                  # #orange"
   ]
  },
  {
   "cell_type": "markdown",
   "metadata": {},
   "source": [
    "# Method Types\n",
    "(1) If there’s no preceding decorator, it’s an instance method, and its first argument should be self to refer to the individual object itself.\n",
    "(2) If there’s a preceding @classmethod decorator, it’s a class method,and its first argument should be cls (or anything, just not the reserved word class), referring to the class itself.\n",
    "(3) If there’s a preceding @staticmethod decorator, it’s a static method, and its first argument isn’t an object or class."
   ]
  },
  {
   "cell_type": "code",
   "execution_count": 64,
   "metadata": {},
   "outputs": [
    {
     "name": "stdout",
     "output_type": "stream",
     "text": [
      "A has 3 little objects.\n"
     ]
    }
   ],
   "source": [
    "# class mothod \n",
    "class A():\n",
    "    count = 0\n",
    "    def __init__(self):\n",
    "        A.count += 1\n",
    "    def exclaim(self):\n",
    "        print(\"I'm an A!\")\n",
    "    @classmethod\n",
    "    def kids(cls):\n",
    "        print(\"A has\", cls.count, \"little objects.\")\n",
    "        # cls.count : Let’s define a class method for A that counts how many object instances have been made from it\n",
    "\n",
    "easy_a = A()\n",
    "breezy_a = A()\n",
    "wheezy_a = A()\n",
    "A.kids()      # A has 3 little objects.\n"
   ]
  },
  {
   "cell_type": "code",
   "execution_count": 65,
   "metadata": {},
   "outputs": [
    {
     "name": "stdout",
     "output_type": "stream",
     "text": [
      "This CoyoteWeapon has been brought to you by Acme\n"
     ]
    }
   ],
   "source": [
    "# Static Methods\n",
    "class CoyoteWeapon():\n",
    "    @staticmethod                       #function 找一個地方放置 used @staticmethod \n",
    "    def commercial():\n",
    "        print('This CoyoteWeapon has been brought to you by Acme')\n",
    "\n",
    "CoyoteWeapon.commercial()              # 可以直接呼叫\n",
    "# Notice that we didn’t need to create an object from class CoyoteWeapon to access this method. Very class-y."
   ]
  },
  {
   "cell_type": "code",
   "execution_count": 66,
   "metadata": {},
   "outputs": [
    {
     "name": "stdout",
     "output_type": "stream",
     "text": [
      "Elmer Fudd says: I'm hunting wabbits.\n",
      "Bugs Bunny says: What's up, doc?\n",
      "Daffy Duck says: It's rabbit season!\n"
     ]
    }
   ],
   "source": [
    "# Duck Typing\n",
    "class Quote():\n",
    "    def __init__(self, person, words):\n",
    "        self.person = person\n",
    "        self.words = words\n",
    "    def who(self):\n",
    "        return self.person\n",
    "    def says(self):\n",
    "        return self.words + '.'\n",
    "\n",
    "class QuestionQuote(Quote):       # inherit Quote\n",
    "    def says(self):\n",
    "        return self.words + '?'\n",
    "\n",
    "class ExclamationQuote(Quote):    # inherit Quote\n",
    "    def says(self):\n",
    "        return self.words + '!'\n",
    "\n",
    "# =====================================================\n",
    "hunter = Quote('Elmer Fudd', \"I'm hunting wabbits\")\n",
    "print(hunter.who(), 'says:', hunter.says())\n",
    "\n",
    "\n",
    "hunted1 = QuestionQuote('Bugs Bunny', \"What's up, doc\")\n",
    "print(hunted1.who(), 'says:', hunted1.says())          #who 用 Quote  ，says() 用自己的\n",
    "\n",
    "\n",
    "hunted2 = ExclamationQuote('Daffy Duck', \"It's rabbit season\")\n",
    "print(hunted2.who(), 'says:', hunted2.says())          #who 用 Quote  ，says() 用自己的\n"
   ]
  },
  {
   "cell_type": "code",
   "execution_count": 67,
   "metadata": {},
   "outputs": [
    {
     "name": "stdout",
     "output_type": "stream",
     "text": [
      "Elmer Fudd says I'm hunting wabbits.\n",
      "Bugs Bunny says What's up, doc?\n",
      "Daffy Duck says It's rabbit season!\n",
      "Brook says Babble\n"
     ]
    }
   ],
   "source": [
    "class BabblingBrook():\n",
    "    def who(self):\n",
    "        return 'Brook'\n",
    "    def says(self):\n",
    "        return 'Babble'\n",
    "\n",
    "brook = BabblingBrook()\n",
    "\n",
    "def who_says(obj):               # input object : maybe : hunter,hunted1,hunted2,brook\n",
    "    print(obj.who(), 'says', obj.says())\n",
    "\n",
    "who_says(hunter)   # hunter.who() ,  hunter.says()\n",
    "\n",
    "who_says(hunted1)  # hunted1.who() ,  hunted1.says()\n",
    "\n",
    "who_says(hunted2)  # hunted2.who() ,  hunted2.says()\n",
    "\n",
    "\n",
    "who_says(brook)    # brook.who() ,  brook.says()  \n",
    "    \n"
   ]
  },
  {
   "attachments": {
    "image-2.png": {
     "image/png": "[encoded data removed]"
    },
    "image-3.png": {
     "image/png": "[encoded data removed]"
    },
    "image.png": {
     "image/png": "[encoded data removed]"
    }
   },
   "cell_type": "markdown",
   "metadata": {},
   "source": [
    "# Magic Methods\n",
    "![image.png](attachment:image.png)  ![image-2.png](attachment:image-2.png) ![image-3.png](attachment:image-3.png)"
   ]
  },
  {
   "cell_type": "code",
   "execution_count": 69,
   "metadata": {},
   "outputs": [
    {
     "name": "stdout",
     "output_type": "stream",
     "text": [
      "True\n",
      "False\n"
     ]
    }
   ],
   "source": [
    "class Word():\n",
    "    def __init__(self, text):\n",
    "        self.text = text\n",
    "    def equals(self, word2):\n",
    "        return self.text.lower() == word2.text.lower()    #first : self.text     other: word2.text  \n",
    "\n",
    "first = Word('ha')\n",
    "second = Word('HA')\n",
    "third = Word('eh')\n",
    "\n",
    "print(first.equals(second))\n",
    "\n",
    "print(first.equals(third))"
   ]
  },
  {
   "cell_type": "code",
   "execution_count": 71,
   "metadata": {},
   "outputs": [
    {
     "name": "stdout",
     "output_type": "stream",
     "text": [
      "True\n"
     ]
    },
    {
     "data": {
      "text/plain": [
       "False"
      ]
     },
     "execution_count": 71,
     "metadata": {},
     "output_type": "execute_result"
    }
   ],
   "source": [
    "class Word():\n",
    "    def __init__(self, text):\n",
    "        self.text = text\n",
    "    def __eq__(self, word2):\n",
    "        return self.text.lower() == word2.text.lower()\n",
    "\n",
    "first = Word('ha')\n",
    "second = Word('HA')\n",
    "third = Word('eh')\n",
    "\n",
    "print(first == second)\n",
    "first == third"
   ]
  },
  {
   "cell_type": "code",
   "execution_count": 74,
   "metadata": {},
   "outputs": [
    {
     "data": {
      "text/plain": [
       "the repr"
      ]
     },
     "execution_count": 74,
     "metadata": {},
     "output_type": "execute_result"
    }
   ],
   "source": [
    "class Test():\n",
    "    def __init__(self):\n",
    "        pass\n",
    "    def __repr__(self):\n",
    "        return \"the repr\"\n",
    "    def __str__(self):\n",
    "        return \"the str\"\n",
    "\n",
    "a = Test()\n",
    "a                 # repr(a)\n",
    "# repr(a)\n",
    "# print(a)        # str(a)\n",
    "# str(a)"
   ]
  },
  {
   "cell_type": "code",
   "execution_count": 77,
   "metadata": {},
   "outputs": [
    {
     "data": {
      "text/plain": [
       "Word(\"ha\")"
      ]
     },
     "execution_count": 77,
     "metadata": {},
     "output_type": "execute_result"
    }
   ],
   "source": [
    "#Let’s add both __str__() and __repr__() methods to the Word class to make it prettier:\n",
    "class Word():\n",
    "    def __init__(self, text):\n",
    "        self.text = text\n",
    "    def __eq__(self, word2):\n",
    "        return self.text.lower() == word2.text.lower()\n",
    "    def __str__(self):\n",
    "        return self.text\n",
    "    def __repr__(self):\n",
    "        return 'Word(\"' + self.text + '\")'\n",
    "\n",
    "first = Word('ha')\n",
    "first           # uses __repr__\n",
    "\n",
    "# print(first) # uses __str__"
   ]
  },
  {
   "cell_type": "code",
   "execution_count": 78,
   "metadata": {},
   "outputs": [
    {
     "name": "stdout",
     "output_type": "stream",
     "text": [
      "This duck has a wide orange bill and a long tail\n"
     ]
    }
   ],
   "source": [
    "# Aggregation and Composition\n",
    "class Bill():\n",
    "    def __init__(self, description):\n",
    "        self.description = description\n",
    "\n",
    "class Tail():\n",
    "    def __init__(self, length):\n",
    "        self.length = length\n",
    "\n",
    "class Duck():\n",
    "    def __init__(self, bill, tail):\n",
    "        self.bill = bill\n",
    "        self.tail = tail\n",
    "    def about(self):\n",
    "        print('This duck has a', self.bill.description,'bill and a', self.tail.length, 'tail')\n",
    "\n",
    "a_tail = Tail('long')\n",
    "a_bill = Bill('wide orange')\n",
    "duck = Duck(a_bill, a_tail)\n",
    "duck.about()\n"
   ]
  },
  {
   "cell_type": "markdown",
   "metadata": {},
   "source": [
    "# When to Use Objects or Something Else\n",
    "Here are some guidelines for deciding whether to put your code and data in\n",
    "a class, module (discussion coming in Chapter 11), or something entirely different:\n",
    "(1) Objects are most useful when you need a number of individual instances that have similar behavior (methods), \n",
    "but differ in their internal states (attributes).\n",
    "\n",
    "(2) Classes support inheritance, modules don’t.\n",
    "\n",
    "(3) If you want only one of something, a module might be best. No matter how many times a Python module is \n",
    "referenced in a program, only one copy is loaded. (Java and C++ programmers: you can use a Python module as a singleton.)\n",
    "\n",
    "(4) If you have a number of variables that contain multiple values and can be passed as arguments to multiple \n",
    "functions, it might be better  to define them as classes. For example, you might use a dictionary with keys\n",
    "such as size and color to represent a color image. You could create a different dictionary for each image\n",
    "in your program,and pass them as arguments to functions such as scale() or transform(). This can get messy\n",
    "as you add keys and functions.  It’s more coherent to define an Image class with attributes size or color and methods scale() and transform(). Then, all the data and methods for a color image are defined in one place.\n",
    "\n",
    "(5) Use the simplest solution to the problem. A dictionary, list, or tuple is simpler, smaller, and\n",
    "faster than a module, which is usually simpler than a class.\n",
    "\n",
    "(6) Guido’s advice:\n",
    "Avoid overengineering datastructures. Tuples are better than\n",
    "objects (try namedtuple, too, though). Prefer simple fields over\n",
    "getter/setter functions…Built-in datatypes are your friends. Use\n",
    "more numbers, strings, tuples, lists, sets, dicts. Also check out\n",
    "the collections library, especially deque.\n",
    "—Guido van Rossum\n",
    "\n",
    "(7) A newer alternative is the dataclass, in “Dataclasses”."
   ]
  },
  {
   "cell_type": "code",
   "execution_count": 82,
   "metadata": {},
   "outputs": [
    {
     "name": "stdout",
     "output_type": "stream",
     "text": [
      "firsr duck = Duck(bill='wide orange', tail='long')\n",
      "===================================\n",
      "duck.bill=wide orange\n",
      "duck.tail=long\n",
      "===================================\n",
      "duck2 = Duck(bill='wide orange', tail='long')\n",
      "duck3 = Duck(bill='crushing', tail='magnificent')\n",
      "duck_dict = {'bill': 'wide orange', 'tail': 'long'}\n",
      "duck_dict = {'bill': 'wide orange', 'tail': 'long', 'color': 'green'}\n"
     ]
    }
   ],
   "source": [
    "# Named Tuples            firsr duck = Duck(bill='wide orange', tail='long')\n",
    "from collections import namedtuple\n",
    "\n",
    "Duck = namedtuple('Duck', 'bill,tail')   # 宣告一種名稱(Drink)且包含2個欄位(bill tail)\n",
    "duck = Duck('wide orange', 'long')\n",
    "print(\"firsr duck = {}\".format(duck))\n",
    "print(\"===================================\")\n",
    "\n",
    "print(\"duck.bill={}\".format(duck.bill))\n",
    "print(\"duck.tail={}\".format(duck.tail))\n",
    "print(\"===================================\")\n",
    "\n",
    "# You can also make a named tuple from a dictionary:\n",
    "parts = {'bill': 'wide orange', 'tail': 'long'}\n",
    "duck2 = Duck(**parts)\n",
    "print(\"duck2 = {}\".format(duck2))\n",
    "      \n",
    "duck2 = Duck(bill = 'wide orange', tail = 'long')\n",
    "duck3 = duck2._replace(tail='magnificent', bill='crushing')   // _replace\n",
    "print(\"duck3 = {}\".format(duck3))\n",
    "      \n",
    "Duck(bill='crushing', tail='magnificent')\n",
    "duck_dict = {'bill': 'wide orange', 'tail': 'long'}\n",
    "print(\"duck_dict = {}\".format(duck_dict))\n",
    "\n",
    "\n",
    "duck_dict['color'] = 'green'\n",
    "print(\"duck_dict = {}\".format(duck_dict))\n"
   ]
  },
  {
   "cell_type": "code",
   "execution_count": 84,
   "metadata": {},
   "outputs": [
    {
     "ename": "TypeError",
     "evalue": "'tuple' object does not support item assignment",
     "output_type": "error",
     "traceback": [
      "\u001b[1;31m---------------------------------------------------------------------------\u001b[0m",
      "\u001b[1;31mTypeError\u001b[0m                                 Traceback (most recent call last)",
      "\u001b[1;32m<ipython-input-84-88819bd89894>\u001b[0m in \u001b[0;36m<module>\u001b[1;34m\u001b[0m\n\u001b[0;32m      1\u001b[0m \u001b[0mdrink\u001b[0m \u001b[1;33m=\u001b[0m \u001b[1;33m(\u001b[0m\u001b[1;34m'Black Tea'\u001b[0m\u001b[1;33m,\u001b[0m \u001b[1;34m'regular'\u001b[0m\u001b[1;33m,\u001b[0m \u001b[1;34m'sugar free'\u001b[0m\u001b[1;33m)\u001b[0m  \u001b[1;31m# 我要一杯紅茶，正常冰量不加糖\u001b[0m\u001b[1;33m\u001b[0m\u001b[1;33m\u001b[0m\u001b[0m\n\u001b[0;32m      2\u001b[0m \u001b[0mdrink\u001b[0m\u001b[1;33m[\u001b[0m\u001b[1;36m0\u001b[0m\u001b[1;33m]\u001b[0m  \u001b[1;31m# 可以使用index來讀取tuple中的item\u001b[0m\u001b[1;33m\u001b[0m\u001b[1;33m\u001b[0m\u001b[0m\n\u001b[1;32m----> 3\u001b[1;33m \u001b[0mdrink\u001b[0m\u001b[1;33m[\u001b[0m\u001b[1;36m0\u001b[0m\u001b[1;33m]\u001b[0m \u001b[1;33m=\u001b[0m \u001b[1;34m'Green Tea'\u001b[0m  \u001b[1;31m# tuple為不可變動，所以無法透過assign來修改其中的值\u001b[0m\u001b[1;33m\u001b[0m\u001b[1;33m\u001b[0m\u001b[0m\n\u001b[0m\u001b[0;32m      4\u001b[0m \u001b[1;31m# TypeError: 'tuple' object does not support item assignment\u001b[0m\u001b[1;33m\u001b[0m\u001b[1;33m\u001b[0m\u001b[1;33m\u001b[0m\u001b[0m\n",
      "\u001b[1;31mTypeError\u001b[0m: 'tuple' object does not support item assignment"
     ]
    }
   ],
   "source": [
    "drink = ('Black Tea', 'regular', 'sugar free')  # 我要一杯紅茶，正常冰量不加糖\n",
    "drink[0]  # 可以使用index來讀取tuple中的item\n",
    "drink[0] = 'Green Tea'  # tuple為不可變動，所以無法透過assign來修改其中的值\n",
    "# TypeError: 'tuple' object does not support item assignment"
   ]
  },
  {
   "cell_type": "code",
   "execution_count": 86,
   "metadata": {},
   "outputs": [
    {
     "name": "stdout",
     "output_type": "stream",
     "text": [
      "Drink(product='Black Tea', ice='regular', sugar='sugar free')\n",
      "Black Tea\n"
     ]
    },
    {
     "data": {
      "text/plain": [
       "'Black Tea'"
      ]
     },
     "execution_count": 86,
     "metadata": {},
     "output_type": "execute_result"
    }
   ],
   "source": [
    "from collections import namedtuple\n",
    "\n",
    "Drink = namedtuple('Drink', 'product, ice, sugar')  # 宣告一種名稱(Drink)且包含三個欄位(product, ice, sugar)\n",
    "black_tea = Drink('Black Tea', 'regular', 'sugar free')  # 我要一杯紅茶，正常冰量不加糖\n",
    "\n",
    "print(black_tea)\n",
    "print(black_tea.product)  # 可以使用一開始定義的欄位名稱來讀取值\n",
    "\n",
    "black_tea[0]  # 當然也可以使用index來讀取值"
   ]
  },
  {
   "cell_type": "code",
   "execution_count": 83,
   "metadata": {},
   "outputs": [
    {
     "name": "stdout",
     "output_type": "stream",
     "text": [
      "itsy\n",
      "bitsy\n",
      "AnimalClass(name='yeti', habitat='Himalayas', teeth=46)\n",
      "AnimalClass(name='duck', habitat='lake', teeth=0)\n",
      "lake\n"
     ]
    },
    {
     "data": {
      "text/plain": [
       "46"
      ]
     },
     "execution_count": 83,
     "metadata": {},
     "output_type": "execute_result"
    }
   ],
   "source": [
    "# Dataclasses\n",
    "# Here’s a plain old object with a single name attribute:\n",
    "from dataclasses import dataclass\n",
    "\n",
    "class TeenyClass():\n",
    "    def __init__(self, name):\n",
    "        self.name = name\n",
    "\n",
    "teeny = TeenyClass('itsy')\n",
    "print(teeny.name)\n",
    "\n",
    "@dataclass\n",
    "class TeenyDataClass:\n",
    "    name: str\n",
    "\n",
    "teeny = TeenyDataClass('bitsy')\n",
    "print(teeny.name)\n",
    "\n",
    "\n",
    "\n",
    "@dataclass\n",
    "class AnimalClass:\n",
    "    name: str\n",
    "    habitat: str\n",
    "    teeth: int = 0\n",
    "\n",
    "snowman = AnimalClass('yeti', 'Himalayas', 46)\n",
    "duck = AnimalClass(habitat='lake', name='duck')\n",
    "print(snowman)\n",
    "print(duck)\n",
    "print(duck.habitat)\n",
    "snowman.teeth\n"
   ]
  },
  {
   "cell_type": "code",
   "execution_count": null,
   "metadata": {},
   "outputs": [],
   "source": []
  }
 ],
 "metadata": {
  "kernelspec": {
   "display_name": "Python 3 (ipykernel)",
   "language": "python",
   "name": "python3"
  },
  "language_info": {
   "codemirror_mode": {
    "name": "ipython",
    "version": 3
   },
   "file_extension": ".py",
   "mimetype": "text/x-python",
   "name": "python",
   "nbconvert_exporter": "python",
   "pygments_lexer": "ipython3",
   "version": "3.8.11"
  }
 },
 "nbformat": 4,
 "nbformat_minor": 4
}
