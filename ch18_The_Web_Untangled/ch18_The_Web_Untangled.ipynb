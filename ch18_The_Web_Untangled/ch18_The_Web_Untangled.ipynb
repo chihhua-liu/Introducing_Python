{
 "cells": [
  {
   "cell_type": "markdown",
   "id": "47aa81cc",
   "metadata": {},
   "source": [
    "# ch18_The_Web_Untangled"
   ]
  },
  {
   "cell_type": "markdown",
   "id": "64f3f7cd",
   "metadata": {},
   "source": [
    "### World Wide Web and distilled its design into three simple ideas:\n",
    "1. HTTP (Hypertext Transfer Protocol)\n",
    "A protocol for web clients and servers to interchange requests and\n",
    "responses.\n",
    "2. HTML (Hypertext Markup Language)\n",
    "A presentation format for results.\n",
    "3. URL (Uniform Resource Locator:A way to uniquely represent a server and a resource on that serve\n",
    "4. Almost every computer language has been used to write web clients and\n",
    "web servers. The dynamic languages Perl, PHP, and Ruby have been\n",
    "especially popular. In this chapter, I show why Python is a particularly good language for web work at every level:\n",
    "5. Clients:  to access remote sites\n",
    "6. Servers:  to provide data for websites and web APIs\n",
    "7. Web APIs and services:  to interchange data in other ways than\n",
    "viewable web pages\n"
   ]
  },
  {
   "cell_type": "markdown",
   "id": "ad3a3533",
   "metadata": {},
   "source": [
    "## Web Clients\n",
    "1. TCP/IP , HTTP send URL\n",
    "2. This simplifies(簡化)basic web operations but complicates[ˋkɑmplə͵ketɪd]  (複雜的)others. Here are just a few samples of the challenges:\n",
    "3. Caching: Remote content that doesn’t change should be saved by the web client and used to avoid downloading from the server again.\n",
    "4. Sessions:A shopping website should remember the contents of your shopping cart.\n",
    "5. Authentication[ɔ͵θɛntɪˋkeʃən]身分驗證: Sites that require your username and password should remember them while you’re logged in"
   ]
  },
  {
   "cell_type": "markdown",
   "id": "ada0e174",
   "metadata": {},
   "source": [
    "#### Test with telnet : \n",
    "1. in the windows 10 add telnet\n",
    "2. in CMD : telnet www.google.com 80"
   ]
  },
  {
   "cell_type": "markdown",
   "id": "9b189dc6",
   "metadata": {},
   "source": [
    "#### Test with curl (https://curl.se/)\n",
    "The curl program is probably the most popular command-line web client.\n",
    "Documentation includes the book Everything Curl(https://curl.se/book.html), in HTML, PDF, and\n",
    "ebook formats. A table compares curl with similar tools(https://curl.se/docs/comparison-table.html). The download\n",
    "page includes all the major platforms, and many obscure ones(https://curl.se/download.html)."
   ]
  },
  {
   "cell_type": "markdown",
   "id": "456af26d",
   "metadata": {},
   "source": [
    "1. in the CMD :　curl http://www.example.com\n",
    "2. This uses HEAD:　in the CMD :curl --head http://www.example.com　\n",
    "3. If you’re passing arguments, you can include them in the command line or a data file. In these examples, I use the following:\n",
    "4. url for any website\n",
    "5. data.txt as a text data file with these contents: a=1&b=2\n",
    "6. data.json as a JSON data file with these contents: {\"a\":1, \"b\":2}\n",
    "7. a=1&b=2 as two data arguments\n",
    "8. Using default (form-encoded) arguments:\n",
    "$ curl -X POST -d \"a=1&b=2\" url\n",
    "$ curl -X POST -d \"@data.txt\" url\n",
    "9. For JSON-encoded arguments:\n",
    "$ curl -X POST -d \"{'a':1,'b':2}\" -H \"Content-Type: application/json\" url\n",
    ", $ curl -X POST -d \"@data.json\" url"
   ]
  },
  {
   "cell_type": "code",
   "execution_count": null,
   "id": "34d10b79",
   "metadata": {},
   "outputs": [],
   "source": [
    "#### Test with httpie\n",
    "A more Pythonic alternative to curl is httpie.\n",
    "1.  pip install httpie "
   ]
  },
  {
   "cell_type": "markdown",
   "id": "038d4656",
   "metadata": {},
   "source": [
    "$ http -f POST url a=1 b=2\n",
    "$ http POST -f url < data.txt\n",
    "The default encoding is JSON:\n",
    "$ http POST url a=1 b=2\n",
    "$ http POST url < data.json"
   ]
  },
  {
   "cell_type": "markdown",
   "id": "e5549e71",
   "metadata": {},
   "source": [
    "## Python’s Standard Web Libraries\n",
    "1. 1xx (information) : The server received the request but has some extra information for the client.\n",
    "2. 2xx (success)  : It worked; every success code other than 200 conveys extra details.\n",
    "3. 3xx (redirection) : The resource moved, so the response returns the new URL to the client.\n",
    "4. 4xx (client error) : Some problem from the client side, such as the well-known 404 (not found). 418 (I’m a teapot) was an April Fool’s joke.\n",
    "5. 5xx (server error) :500 is the generic whoops; you might see a 502 (bad gateway) if there’s some disconnect between a web server and a backend application server."
   ]
  },
  {
   "cell_type": "markdown",
   "id": "87e2fd36",
   "metadata": {},
   "source": [
    "from Chapter 11 that a package is just a directory containing module files):\n",
    "1. http manages all the client-server HTTP details:\n",
    "2. client does the client-side stuff\n",
    "3. server helps you write Python web servers\n",
    "4. cookies and cookiejar manage cookies, which save data\n",
    "between site visits\n",
    "5. urllib runs on top of http:\n",
    "6. request handles the client request\n",
    "7. response handles the server response\n",
    "8. parse cracks the parts of a URL"
   ]
  },
  {
   "cell_type": "code",
   "execution_count": null,
   "id": "25640b29",
   "metadata": {},
   "outputs": [],
   "source": [
    "import urllib.request as ur\n",
    "\n",
    "url = 'http://www.example.com/'\n",
    "conn = ur.urlopen(url)\n",
    "print(conn.status)\n",
    "\n",
    "data = conn.read()\n",
    "str_data = data.decode('utf8')\n",
    "print(str_data)\n",
    "print(\"===================================================\")\n",
    "print(str_data[:50])"
   ]
  },
  {
   "cell_type": "code",
   "execution_count": null,
   "id": "7f668c79",
   "metadata": {},
   "outputs": [],
   "source": [
    "# what HTTP headers were sent back to us?\n",
    "for key, value in conn.getheaders():\n",
    "    print(f'key = {key}, value ={value}')\n"
   ]
  },
  {
   "cell_type": "markdown",
   "id": "c691bb23",
   "metadata": {},
   "source": [
    "## Beyond the Standard Library: requests\n",
    "1. https://requests.kennethreitz.org/en/master/\n",
    "2. pip install requests"
   ]
  },
  {
   "cell_type": "code",
   "execution_count": null,
   "id": "7c81df3f",
   "metadata": {},
   "outputs": [],
   "source": [
    "import requests\n",
    "resp = requests.get('http://example.com')\n",
    "print(resp)\n",
    "print(resp.status_code)\n",
    "resp.text"
   ]
  },
  {
   "cell_type": "code",
   "execution_count": null,
   "id": "548773c2",
   "metadata": {},
   "outputs": [],
   "source": [
    "# Example 18-1. ia.py #\n",
    "# ====================#\n",
    "# To show a JSON query\n",
    "import json\n",
    "import sys\n",
    "import requests\n",
    "\n",
    "def search(title):\n",
    "    url = \"http://archive.org/advancedsearch.php\"\n",
    "    params = {\"q\": f\"title:({title})\",\n",
    "              \"output\": \"json\",\n",
    "              \"fields\": \"identifier,title\",\n",
    "              \"rows\": 50,\n",
    "              \"page\": 1,}\n",
    "    resp = requests.get(url, params = params )\n",
    "    return resp.json()\n",
    "\n",
    "if __name__ == \"__main__\":\n",
    "    title = sys.argv[1]   # run: python ia,py wendigo : sys.argv[1] = wendigo\n",
    "    data = search(title)\n",
    "    docs = data[\"response\"][\"docs\"]\n",
    "    print(f\"Found {len(docs)} items, showing first 10\")\n",
    "    print(\"identifier\\ttitle\")\n",
    "    for row in docs[:10]:\n",
    "        print(row[\"identifier\"], row[\"title\"], sep=\"\\t\")"
   ]
  },
  {
   "cell_type": "code",
   "execution_count": null,
   "id": "04d9fbff",
   "metadata": {},
   "outputs": [],
   "source": [
    "%run ia.py wendigo"
   ]
  },
  {
   "cell_type": "markdown",
   "id": "41869326",
   "metadata": {},
   "source": [
    "# Web Servers\n",
    "those that I’ve found to be relatively simple to use and suitable for real websites. I’ll also show how to run the dynamic parts of a website with Python and other parts with a traditional web serve"
   ]
  },
  {
   "cell_type": "code",
   "execution_count": null,
   "id": "609afe4f",
   "metadata": {},
   "outputs": [],
   "source": [
    "# in CMD key : python -m http.server  (The Simplest Python Web Server)\n",
    "# in web browsor type :  http://localhost:8000\n",
    "#  python -m http.server 9999"
   ]
  },
  {
   "cell_type": "markdown",
   "id": "f58d9869",
   "metadata": {},
   "source": [
    "### Web Server Gateway Interface (WSGI)\n",
    "Python web development made a leap with the definition of the Web Server\n",
    "Gateway Interface (WSGI), a universal API between Python web\n",
    "applications and web servers. All of the Python web frameworks and web\n",
    "servers in the rest of this chapter use WSGI.This is a synchronous\n",
    "connection—one step follows another."
   ]
  },
  {
   "cell_type": "markdown",
   "id": "71a933b9",
   "metadata": {},
   "source": [
    "### ASGI \n",
    "In Appendix C, you’ll see more discussion, and\n",
    "examples of new web frameworks that use ASGI."
   ]
  },
  {
   "cell_type": "markdown",
   "id": "ff0a71e9",
   "metadata": {},
   "source": [
    "### Apache\n",
    "1. The apache web server’s best WSGI module is mod_wsgi (https://code.google.com/p/modwsgi). This can run\n",
    "Python code within the Apache process or in separate processes that\n",
    "communicate with Apache.\n",
    "2. http://httpd.apache.org/"
   ]
  },
  {
   "cell_type": "code",
   "execution_count": null,
   "id": "328c5e40",
   "metadata": {},
   "outputs": [],
   "source": [
    "# Example 18-2. home.wsgi #\n",
    "#=========================#\n",
    "import bottle\n",
    "application = bottle.default_app()\n",
    "\n",
    "@bottle.route('/')\n",
    "def home():\n",
    "    return \"apache and wsgi, sitting in a tree\""
   ]
  },
  {
   "cell_type": "markdown",
   "id": "f7e68173",
   "metadata": {},
   "source": [
    "### NGINX \n",
    "The NGINX(http://nginx.org/) web server does not have an embedded Python module. Instead,\n",
    "it’s a frontend to a separate WSGI server such as uWSGI or gUnicorn.\n",
    "Together they make a very fast and configurable platform for Python web\n",
    "development."
   ]
  },
  {
   "cell_type": "markdown",
   "id": "c5741bdf",
   "metadata": {},
   "source": [
    "1. https://www.nginx.com/resources/wiki/start/topics/tutoirals/install/\n",
    "2. https://www.nginx.com/\n",
    "3. You can install nginx from its website. For examples of setting up Flask\n",
    "with NGINX and a WSGI server, see this.https://flask.palletsprojects.com/en/1.0.x/deploying/wsgi-standalone/"
   ]
  },
  {
   "cell_type": "markdown",
   "id": "c6777f69",
   "metadata": {},
   "source": [
    "## Other Python Web Servers\n",
    "Following are some of the independent Python-based WSGI servers that\n",
    "work like apache or nginx, using multiple processes and/or threads (see\n",
    "“Concurrency”) to handle simultaneous requests:\n",
    "1. uwsgi\n",
    "2. cherrypy\n",
    "3. pylons\n",
    "4. Vere are some event-based servers, which use a single process but avoid\n",
    "blocking on any single request:\n",
    "1. tornado\n",
    "2. gevent\n",
    "3. gunicorn\n",
    "4. I have more to say about events in the discussion about concurrency in\n",
    "Chapter 15"
   ]
  },
  {
   "cell_type": "markdown",
   "id": "f1824e67",
   "metadata": {},
   "source": [
    "# Web Server Frameworks\n",
    "1. Web servers handle the HTTP and WSGI details, but you use web\n",
    "frameworks to actually write the Python code that powers the site.\n",
    "2. A web framework handles, at a minimum,client requests and server responses. Most major web frameworks include these tasks:\n",
    "HTTP protocol handling , \n",
    "Authentication (authn, or who are you?) , \n",
    "Authorization (authz, or what can you do?) , \n",
    "Establish a session , \n",
    "Get parameters , \n",
    "Validate parameters (required/optional, type, range) , \n",
    "Handle HTTP verbs , \n",
    "Route (functions/classes) , \n",
    "Serve static files (HTML, JS, CSS, images) , \n",
    "Serve dynamic data (databases, services) , \n",
    "Return values and HTTP status ,\n",
    "3. Optional features include:\n",
    "Backend templates , \n",
    "Database connectivity, ORMs , \n",
    "Rate limiting , \n",
    "Asynchronous tasks ,"
   ]
  },
  {
   "cell_type": "markdown",
   "id": "97be5693",
   "metadata": {},
   "source": [
    "## Bottle\n",
    "1. Bottle consists of a single Python file, so it’s very easy to try out, and it’s\n",
    "easy to deploy later.\n",
    "2. pip install bottle"
   ]
  },
  {
   "cell_type": "code",
   "execution_count": null,
   "id": "a6b128ce",
   "metadata": {},
   "outputs": [],
   "source": [
    "# Example 18-3. bottle1.py #\n",
    "# -------------------------#\n",
    "from bottle import route, run\n",
    "\n",
    "@route('/')\n",
    "def home():\n",
    "    return \"It isn't fancy, but it's my home page\"\n",
    "run(host='localhost', port=9999)\n",
    "\n",
    "# IN CND python bottle1.py \n",
    "# You should see this on your browser when you access\n",
    "# http://localhost:9999/:"
   ]
  },
  {
   "cell_type": "code",
   "execution_count": null,
   "id": "6ec98885",
   "metadata": {},
   "outputs": [],
   "source": [
    "# Example 18-4. bottle2.py #\n",
    "# =========================#\n",
    "from bottle import route, run, static_file\n",
    "\n",
    "@route('/')\n",
    "def main():\n",
    "    return static_file('index.html', root='.')\n",
    "run(host='localhost', port=9999)\n",
    "\n",
    "# in CMD : python bottle2.py\n",
    "# in Browser : t http:/localhost:9999/,"
   ]
  },
  {
   "cell_type": "code",
   "execution_count": null,
   "id": "5473475c",
   "metadata": {},
   "outputs": [],
   "source": [
    "# Example 18-5. bottle3.py #\n",
    "#==========================#\n",
    "from bottle import route, run, static_file\n",
    "@route('/')\n",
    "def home():\n",
    "    return static_file('index.html', root='.')\n",
    "\n",
    "@route('/echo/<thing>')\n",
    "def echo(thing):\n",
    "    return \"Say hello to my little friend: %s!\" % thing\n",
    "run(host='localhost', port=9999)\n",
    "\n",
    "# python bottle3.py\n",
    "# http://localhost:9999/echo/Mothra"
   ]
  },
  {
   "cell_type": "code",
   "execution_count": null,
   "id": "181dd068",
   "metadata": {},
   "outputs": [],
   "source": [
    "# Example 18-6. bottle_test.py #\n",
    "#==============================#\n",
    "import requests\n",
    "    resp = requests.get('http://localhost:9999/echo/Mothra')\n",
    "\n",
    "if resp.status_code == 200 and \\\n",
    "resp.text == 'Say hello to my little friend: Mothra!':\n",
    "    print('It worked! That almost never happens!')\n",
    "else:\n",
    "    print('Argh, got this:', resp.text)\n",
    "    \n",
    "# python bottle_test.py"
   ]
  },
  {
   "cell_type": "markdown",
   "id": "73dbfe4c",
   "metadata": {},
   "source": [
    "## Flask\n",
    "1. It’s my personal favorite among Python web frameworks because it balances ease of use with a rich feature set.\n",
    "2. pip install flask"
   ]
  },
  {
   "cell_type": "code",
   "execution_count": null,
   "id": "70b8a1e1",
   "metadata": {},
   "outputs": [],
   "source": [
    "# Example 18-7. flask1.py #\n",
    "# ======================= #\n",
    "from flask import Flask\n",
    "# Flask’s default directory home for static files is static, and URLs\n",
    "# for files there also begin with /static. We change the folder to\n",
    "# '.' (current directory) and the URL prefix to '' (empty) to allow\n",
    "# the URL / to map to the file index.html.\n",
    "app = Flask(__name__, static_folder='.', static_url_path='')\n",
    "\n",
    "@app.route('/')\n",
    "def home():\n",
    "    return app.send_static_file('index.html')\n",
    "\n",
    "@app.route('/echo/<thing>')\n",
    "def echo(thing):\n",
    "    return \"Say hello to my little friend: %s\" % thing\n",
    "\n",
    "#  run() function, setting debug=True also activates the\n",
    "# automatic reloader\n",
    "app.run(port=9999, debug=True)"
   ]
  },
  {
   "cell_type": "code",
   "execution_count": null,
   "id": "388ec1cd",
   "metadata": {},
   "outputs": [],
   "source": [
    "#Step1 Then, run the server from a terminal or window: in CMD : \n",
    "# python flask1.py"
   ]
  },
  {
   "cell_type": "code",
   "execution_count": null,
   "id": "66043784",
   "metadata": {},
   "outputs": [],
   "source": [
    "# Step2 Test the home page by typing this URL into your browser:\n",
    "# http://localhost:9999/\n",
    "\n",
    "# Step3 Try the /echo endpoint:\n",
    "# http://localhost:9999/echo/Godzilla"
   ]
  },
  {
   "cell_type": "code",
   "execution_count": null,
   "id": "2339128e",
   "metadata": {},
   "outputs": [],
   "source": [
    "# Example 18-8. flask2.html #\n",
    "# ==========================#\n",
    "<html>\n",
    "<head>\n",
    "<title>Flask2 Example</title>\n",
    "</head>\n",
    "<body>\n",
    "Say hello to my little friend: {{ thing }}\n",
    "</body>\n",
    "</html>"
   ]
  },
  {
   "cell_type": "code",
   "execution_count": null,
   "id": "c48f65ba",
   "metadata": {},
   "outputs": [],
   "source": [
    "# Example 18-9. flask2.py #\n",
    "# ======================= #\n",
    "from flask import Flask, render_template\n",
    "app = Flask(__name__)\n",
    "\n",
    "@app.route('/')\n",
    "def home():\n",
    "    return app.send_static_file('index.html')\n",
    "\n",
    "@app.route('/echo/<thing>')\n",
    "def echo(thing):\n",
    "    return render_template('flask2.html', thing=thing)\n",
    "\n",
    "app.run(port=9999, debug=True)\n",
    "\n",
    "# in CMD : python flask2.py\n",
    "# Now, type this URL:\n",
    "# http://localhost:9999/echo/Gamera\n",
    "# You should see the following:\n",
    "# Say hello to my little friend: Gamera\n"
   ]
  },
  {
   "cell_type": "code",
   "execution_count": null,
   "id": "4107c9d7",
   "metadata": {},
   "outputs": [],
   "source": [
    "# flask3.html #\n",
    "#=============#\n",
    "<html>\n",
    "<head>\n",
    "<title>Flask3 Example</title>\n",
    "</head>\n",
    "<body>\n",
    "Say hello to my little friend: {{ thing }}.\n",
    "Alas, it just destroyed {{ place }}!\n",
    "</body>\n",
    "</html>"
   ]
  },
  {
   "cell_type": "code",
   "execution_count": null,
   "id": "8f7a01a7",
   "metadata": {},
   "outputs": [],
   "source": [
    "# Example 18-10. flask3a.py #\n",
    "# ==========================#\n",
    "from flask import Flask, render_template\n",
    "app = Flask(__name__)\n",
    "\n",
    "@app.route('/echo/<thing>/<place>')\n",
    "def echo(thing, place):\n",
    "    return render_template('flask3.html', thing=thing, place=place)\n",
    "app.run(port=9999, debug=True)\n",
    "\n",
    "# in CMD /; python flask3b.py \n",
    "# his time, use this URL:\n",
    "# The URL would look like this:\n",
    "# http://localhost:9999/echo/Rodan/McKeesport\n"
   ]
  },
  {
   "cell_type": "code",
   "execution_count": null,
   "id": "bc562f78",
   "metadata": {},
   "outputs": [],
   "source": [
    "# Example 18-11. flask3b.py #\n",
    "# ========================= #\n",
    "from flask import Flask, render_template, request\n",
    "\n",
    "app = Flask(__name__)\n",
    "\n",
    "@app.route('/echo/')\n",
    "def echo():\n",
    "    thing = request.args.get('thing')\n",
    "    place = request.args.get('place')\n",
    "    return render_template('flask3.html', thing=thing, place=place)\n",
    "app.run(port=9999, debug=True)\n",
    "\n",
    "# python flask3b.py\n",
    "# This time, use this URL:\n",
    "# http://localhost:9999/echo?thing=Gorgo&place=Wilmerding"
   ]
  },
  {
   "cell_type": "markdown",
   "id": "71372ff8",
   "metadata": {},
   "source": [
    "# Django\n",
    "Django(https://www.djangoproject.com/) is a very popular Python web framework, especially for large sites.It’s worth learning for many reasons, including frequent requests for\n",
    "django experience in Python job ads. It includes ORM code (we talked\n",
    "about ORMs in “The Object-Relational Mapper (ORM)”) to create\n",
    "automatic web pages for the typical database CRUD functions (create,\n",
    "replace, update, delete) that we looked at in Chapter 16. It a"
   ]
  },
  {
   "cell_type": "markdown",
   "id": "cc561d11",
   "metadata": {},
   "source": [
    "# Other Frameworks\n",
    "1. You can compare the frameworks by viewing this online table:\n",
    "https://wiki.python.org/moin/WebFrameworks\n",
    "2. fastapi: handles both synchronous (WSGI) and asynchronous\n",
    "(ASGI) calls, uses type hints, generates test pages, and is well\n",
    "documented. Recommended.\n",
    "3. web2py:  covers much the same ground as django, with a different\n",
    "style.\n",
    "4. pyramid: grew from the earlier pylons project, and is similar to\n",
    "django in scope.\n",
    "5. turbogears supports an ORM, many databases, and multiple\n",
    "template languages.\n",
    "6. wheezy.web is a newer framework optimized for performance. It\n",
    "was faster than the others in a recent test.\n",
    "7. molten also uses type hints, but only supports WSGI.\n",
    "8. apistar is similar to fastapi, but is more of an API validation tool\n",
    "than a web framework.masonite is a Python version of Ruby on Rails, or PHP’s Laravel."
   ]
  },
  {
   "cell_type": "markdown",
   "id": "832c1d3b",
   "metadata": {},
   "source": [
    "# Database Frameworks\n",
    "1. The web and databases are the peanut butter and jelly (哥倆好)of computing: where\n",
    "you find one, you’ll eventually find the other. In real-life Python\n",
    "applications, at some point you’ll probably need to provide a web interface\n",
    "(site and/or API) to a relational database.\n",
    "2. You could build your own with:\n",
    "2_1. A web framework like Bottle or Flask\n",
    "2_2. A database package, like db-api or SQLAlchemy\n",
    "2_3. A database driver, like pymysq"
   ]
  },
  {
   "cell_type": "markdown",
   "id": "8a44a363",
   "metadata": {},
   "source": [
    "#### Instead, you could use a web/database package like one of these:\n",
    "\n",
    "1. connexion : https://connexion.readthedocs.io/en/stable/\n",
    "2. datasette : https://docs.datasette.io/en/stable/\n",
    "3. sandman2 : https://github.com/jeffknupp/sandman2\n",
    "flask-restles : https://flask-restless.readthedocs.io/en/stable/"
   ]
  },
  {
   "cell_type": "markdown",
   "id": "b5d95e7a",
   "metadata": {},
   "source": [
    "Your database may not be a relational one. If your data schema varies\n",
    "significantly—columns that differ markedly across rows—it might be\n",
    "worthwhile to consider a schemaless database, such as one of the NoSQL\n",
    "databases discussed in Chapter 16."
   ]
  },
  {
   "cell_type": "markdown",
   "id": "c03b8a47",
   "metadata": {},
   "source": [
    "# Web Services and Automation"
   ]
  },
  {
   "cell_type": "markdown",
   "id": "fe440c3d",
   "metadata": {},
   "source": [
    "### webbrowser # \n",
    "#Let’s start begin a little surprise. Start a Python session in a terminal\n",
    "window and type the following:"
   ]
  },
  {
   "cell_type": "code",
   "execution_count": null,
   "id": "63c8eebd",
   "metadata": {},
   "outputs": [],
   "source": [
    "import antigravity"
   ]
  },
  {
   "cell_type": "code",
   "execution_count": null,
   "id": "5a3e1b50",
   "metadata": {},
   "outputs": [],
   "source": [
    "import webbrowser\n",
    "url = 'http://www.python.org/'\n",
    "webbrowser.open(url)"
   ]
  },
  {
   "cell_type": "code",
   "execution_count": null,
   "id": "0a360465",
   "metadata": {},
   "outputs": [],
   "source": [
    "webbrowser.open_new(url)"
   ]
  },
  {
   "cell_type": "code",
   "execution_count": null,
   "id": "3719fed1",
   "metadata": {},
   "outputs": [],
   "source": [
    "webbrowser.open_new_tab('http://www.python.org/')"
   ]
  },
  {
   "cell_type": "markdown",
   "id": "4403b9a0",
   "metadata": {},
   "source": [
    "### webview\n",
    "1. Rather than calling your browser as webbrowser does, webview displays\n",
    "the page in its own window, using your machine’s native GUI.\n",
    "2. For Windows: $ pip install pywebview[cef]"
   ]
  },
  {
   "cell_type": "code",
   "execution_count": null,
   "id": "7c86abca",
   "metadata": {},
   "outputs": [],
   "source": [
    "import webview\n",
    "url = input(\"URL?\")\n",
    "URL? http://time.gov\n",
    "webview.create_window(f\"webview display of {url}\", url)"
   ]
  },
  {
   "cell_type": "markdown",
   "id": "487cb453",
   "metadata": {},
   "source": [
    "## Web APIs(application programming interface ) and REST(Representational State Transfer)\n",
    "1. Often, data is available only within web pages. If you want to access it, you\n",
    "need to access the pages through a web browser and read it. If the authors\n",
    "of the website made any changes since the last time you visited, the location\n",
    "and style of the data might have changed.\n",
    "2. Instead of publishing web pages, you can provide data through a web\n",
    "application programming interface (API). Clients access your service by\n",
    "making requests to URLs and getting back responses containing status and\n",
    "data. Instead of HTML pages, the data is in formats that are easier for\n",
    "programs to consume, such as JSON or XML (refer to Chapter 16 for more\n",
    "about these formats\n",
    "3. Representational State Transferr (REST):a REST interface or a RESTful\n",
    "interface. In practice, this often only means that they have a web interface\n",
    "—definitions of URLs to access a web service.\n",
    "4. A RESTful service uses the HTTP verbs in specific ways:\n",
    "5. HEAD gets information about the resource, but not its data.\n",
    "6. GET retrieves the resource’s data from the server. This is the\n",
    "standard method used by your browser. GET should not be used to create, change, or delete data.\n",
    "7. POST creates a new resource.\n",
    "8. PUT replaces an existing resource, creating it if it doesn’t exist.\n",
    "9. PATCH partially updates a resource.\n",
    "10. DELETE deletes. Truth in advertising"
   ]
  },
  {
   "cell_type": "markdown",
   "id": "c05a44db",
   "metadata": {},
   "source": [
    "# Crawl and Scrape\n",
    "You could extract what you’re looking for manually by doing the following:\n",
    "1. Type the URL into your browser.\n",
    "2. Wait for the remote page to load\n",
    "3. Look through the displayed page for the information you want.\n",
    "4. Write it down somewhere.\n",
    "5. Possibly repeat the process for related URLs."
   ]
  },
  {
   "cell_type": "markdown",
   "id": "9fc9f568",
   "metadata": {},
   "source": [
    "## An automated web fetcher is called a crawler or spider"
   ]
  },
  {
   "cell_type": "markdown",
   "id": "2852267a",
   "metadata": {},
   "source": [
    "### Scrapy\n",
    "1.  pip install scrapy\n",
    "2. Scrapy is a framework, not just a module such as BeautifulSoup. It does\n",
    "more, but it’s more complex to set up. To learn more about Scrapy, read\n",
    "“Scrapy at a Glance(https://docs.scrapy.org/en/latest/intro/overview.html)” and the tutorial(https://docs.scrapy.org/en/latest/intro/tutorial.html)."
   ]
  },
  {
   "cell_type": "markdown",
   "id": "bdd91a7e",
   "metadata": {},
   "source": [
    "### BeautifulSoup\n",
    "1. If you already have the HTML data from a website and just want to extract\n",
    "data from it, BeautifulSoup(https://www.crummy.com/software/BeautifulSoup/)\n",
    "is a good choice. \n",
    "2. pip install beautifulsoup4"
   ]
  },
  {
   "cell_type": "code",
   "execution_count": null,
   "id": "cb7137f3",
   "metadata": {},
   "outputs": [],
   "source": [
    "# Example 18-13. links.py #\n",
    "#=========================#\n",
    "def get_links(url):\n",
    "    import requests\n",
    "    from bs4 import BeautifulSoup as soup\n",
    "    result = requests.get(url)\n",
    "    page = result.text\n",
    "    doc = soup(page)\n",
    "    links = [element.get('href') for element in doc.find_all('a')]\n",
    "    return links\n",
    "\n",
    "if __name__ == '__main__':\n",
    "    import sys\n",
    "    for url in sys.argv[1:]:\n",
    "        print('Links in', url)\n",
    "    for num, link in enumerate(get_links(url), start=1):\n",
    "        print(num, link)\n",
    "    print()\n",
    "#in CMD : python links.py http://boingboing.net "
   ]
  },
  {
   "cell_type": "markdown",
   "id": "bd5045f5",
   "metadata": {},
   "source": [
    "###  requests-html \n",
    "Kenneth Reitz, the author of the popular web client package requests, has\n",
    "written a new scraping library called requests-html (for Python 3.6 and\n",
    "newer versions).https://requests-html.kennethreitz.org/"
   ]
  },
  {
   "cell_type": "markdown",
   "id": "ea8fb8e2",
   "metadata": {},
   "source": [
    "## Let’s Watch a Movie\n",
    "1. The following program shown in Example 18-14 does the following:\n",
    "2. Prompts you for part of a movie or video title\n",
    "3. Searches for it at the Internet Archive\n",
    "4. Returns a list of identifiers, names, and descriptions\n",
    "Lists them and asks you to select one\n",
    "5. Displays that video in your web browser\n",
    "6. Save this as iamovies.py."
   ]
  },
  {
   "cell_type": "code",
   "execution_count": null,
   "id": "c7d3662a",
   "metadata": {},
   "outputs": [],
   "source": [
    "# Example 18-14. iamovies.py #\n",
    "# ===========================#\n",
    "\"\"\"Find a video at the Internet Archive\n",
    "by a partial title match and display it.\"\"\"\n",
    "import sys\n",
    "import webbrowser\n",
    "import requests\n",
    "\n",
    "# The search() function uses requests to access the URL\n",
    "def search(title):\n",
    "    \"\"\"Return a list of 3-item tuples (identifier,\n",
    "       title, description) about videos\n",
    "       whose titles partially match :title.\"\"\"\n",
    "    search_url = \"https://archive.org/advancedsearch.php\"\n",
    "    params = {\n",
    "        \"q\": \"title:({}) AND mediatype:(movies)\".format(title),\n",
    "        \"fl\": \"identifier,title,description\",\n",
    "        \"output\": \"json\",\n",
    "        \"rows\": 10,\n",
    "        \"page\": 1,\n",
    "        }\n",
    "    resp = requests.get(search_url, params=params)\n",
    "    data = resp.json()\n",
    "    docs = [(doc[\"identifier\"], doc[\"title\"], doc[\"description\"])\n",
    "            for doc in data[\"response\"][\"docs\"]]\n",
    "    return docs\n",
    "\n",
    "def choose(docs):\n",
    "    \"\"\"Print line number, title and truncated description for\n",
    "       each tuple in :docs. Get the user to pick a line\n",
    "       number. If it's valid, return the first item in the\n",
    "       chosen tuple (the \"identifier\"). Otherwise, return None.\"\"\"\n",
    "    last = len(docs) - 1\n",
    "    for num, doc in enumerate(docs):\n",
    "        print(f\"{num}: ({doc[1]}) {doc[2][:30]}...\")\n",
    "    index = input(f\"Which would you like to see (0 to {last})? \")\n",
    "    try:\n",
    "        return docs[int(index)][0]\n",
    "    except:\n",
    "        return None\n",
    "\n",
    "def display(identifier):\n",
    "    \"\"\"Display the Archive video with :identifier in the browser\"\"\"\n",
    "    details_url = \"https://archive.org/details/{}\".format(identifier)\n",
    "    print(\"Loading\", details_url)\n",
    "    webbrowser.open(details_url)\n",
    "\n",
    "def main(title):\n",
    "    \"\"\"Find any movies that match :title.\n",
    "    Get the user's choice and display it in the browser.\"\"\"\n",
    "    identifiers = search(title)\n",
    "    if identifiers:\n",
    "        identifier = choose(identifiers)\n",
    "        if identifier:\n",
    "            display(identifier)\n",
    "        else:\n",
    "            print(\"Nothing selected\")\n",
    "    else:\n",
    "        print(\"Nothing found for\", title)\n",
    "\n",
    "if __name__ == \"__main__\":\n",
    "    main(sys.argv[1])"
   ]
  },
  {
   "cell_type": "code",
   "execution_count": null,
   "id": "408e9b6c",
   "metadata": {},
   "outputs": [],
   "source": [
    "# python ia_movies.py eegah"
   ]
  }
 ],
 "metadata": {
  "kernelspec": {
   "display_name": "Python 3 (ipykernel)",
   "language": "python",
   "name": "python3"
  },
  "language_info": {
   "codemirror_mode": {
    "name": "ipython",
    "version": 3
   },
   "file_extension": ".py",
   "mimetype": "text/x-python",
   "name": "python",
   "nbconvert_exporter": "python",
   "pygments_lexer": "ipython3",
   "version": "3.8.10"
  }
 },
 "nbformat": 4,
 "nbformat_minor": 5
}
